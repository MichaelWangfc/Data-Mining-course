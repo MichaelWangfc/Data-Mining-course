{
 "cells": [
  {
   "cell_type": "markdown",
   "metadata": {
    "collapsed": true
   },
   "source": [
    "# Lab2_DataAnalysis_with_python"
   ]
  },
  {
   "cell_type": "markdown",
   "metadata": {},
   "source": [
    "# List\n",
    "  1. Numpy\n",
    "  2. Pandas \n",
    "  3. matplotlib\n"
   ]
  },
  {
   "cell_type": "markdown",
   "metadata": {},
   "source": [
    "#  Numpy"
   ]
  },
  {
   "cell_type": "markdown",
   "metadata": {},
   "source": [
    "# ndarray numpy\n",
    "#### Tasks:\n",
    "1. create one dimesion array from a list,and bind it with a variable named arr\n",
    "2. show the type of the array\n",
    "3. show the shape of the array\n",
    "4. show the data type of the array\n",
    "\n",
    "Hint: \n",
    "1. using np.array() method\n",
    "1. using ndarray.shape() method\n",
    "1. using ndarray.dtype() method"
   ]
  },
  {
   "cell_type": "code",
   "execution_count": 2,
   "metadata": {},
   "outputs": [
    {
     "data": {
      "text/plain": [
       "array([1., 2., 3., 4., 5.])"
      ]
     },
     "execution_count": 2,
     "metadata": {},
     "output_type": "execute_result"
    }
   ],
   "source": [
    "import numpy as np\n",
    "# Generate a NumPy one-dimensional array using a Python array\n",
    "arr = np.array([1,2,3,4,5],dtype= float)\n",
    "arr"
   ]
  },
  {
   "cell_type": "code",
   "execution_count": 3,
   "metadata": {},
   "outputs": [
    {
     "name": "stdout",
     "output_type": "stream",
     "text": [
      "<class 'numpy.ndarray'>\n",
      "(5,)\n",
      "float64\n"
     ]
    }
   ],
   "source": [
    "# Display the data type.\n",
    "print(type(arr))\n",
    "# Display the array shape.\n",
    "print(arr.shape)\n",
    "# Display the data type of elements.\n",
    "print(arr.dtype)"
   ]
  },
  {
   "cell_type": "markdown",
   "metadata": {},
   "source": [
    "## Two dimensions array\n",
    "Tasks:\n",
    "1. creat a two dimension array from a list of [['China','Wang',30],['USA','Michael',25]]\n",
    "2. show the type of the array\n",
    "3. show the shape of the array\n",
    "4. show the data type of the array"
   ]
  },
  {
   "cell_type": "code",
   "execution_count": 4,
   "metadata": {},
   "outputs": [
    {
     "data": {
      "text/plain": [
       "array([['China', 'Wang', '30'],\n",
       "       ['USA', 'Michael', '25']], dtype='<U7')"
      ]
     },
     "execution_count": 4,
     "metadata": {},
     "output_type": "execute_result"
    }
   ],
   "source": [
    "# Generate a NumPy two-dimensional array using a Python nested array.\n",
    "arr = np.array([['China','Wang',30],\n",
    "             ['USA','Michael',25]])\n",
    "arr"
   ]
  },
  {
   "cell_type": "code",
   "execution_count": 5,
   "metadata": {},
   "outputs": [
    {
     "name": "stdout",
     "output_type": "stream",
     "text": [
      "(2, 3)\n",
      "<U7\n"
     ]
    }
   ],
   "source": [
    "# Display the array shape and data type of dataframe\n",
    "print(arr.shape)\n",
    "print(arr.dtype)"
   ]
  },
  {
   "cell_type": "markdown",
   "metadata": {},
   "source": [
    "### Array of sequences of numbers\n",
    "Tasks:\n",
    "1. To create one dimesion array of sequences of numbers from 0 to 10(exclueed)  by step 1\n",
    "\n",
    "3. To create one dimesion array of sequences of numbers from 0 to 10(exclueed)  by step 1, then tranfrom it two dimesions array with shape =(2,5) \n",
    "2. To create one dimesion array of sequences of 11 evenly spaced numbers over 0 to 10(inclduded).\n",
    "4. To create one dimesion array of sequences of 11 numbers spaced evenly on a log scale.\n",
    "\n",
    "Hint：  \n",
    "1. To create sequences of numbers, NumPy provides a function analogous to range that returns arrays instead of lists.\n",
    "2. using array.reshape() method to transform the shape of an array"
   ]
  },
  {
   "cell_type": "code",
   "execution_count": 6,
   "metadata": {},
   "outputs": [
    {
     "data": {
      "text/plain": [
       "array([0, 1, 2, 3, 4, 5, 6, 7, 8, 9])"
      ]
     },
     "execution_count": 6,
     "metadata": {},
     "output_type": "execute_result"
    }
   ],
   "source": [
    "# Create an ordered one-dimensional array of 0 to 9.\n",
    "arr = np.arange(10)\n",
    "arr"
   ]
  },
  {
   "cell_type": "code",
   "execution_count": 7,
   "metadata": {},
   "outputs": [
    {
     "data": {
      "text/plain": [
       "array([[0, 1, 2, 3, 4],\n",
       "       [5, 6, 7, 8, 9]])"
      ]
     },
     "execution_count": 7,
     "metadata": {},
     "output_type": "execute_result"
    }
   ],
   "source": [
    "# To create one dimesion array of sequences of numbers from 0 to 10(exclueed)  by step 1, then tranfrom it two dimesions array with shape =(2,5) \n",
    "arr2 = np.arange(10).reshape((2,5))\n",
    "arr2"
   ]
  },
  {
   "cell_type": "code",
   "execution_count": 9,
   "metadata": {},
   "outputs": [
    {
     "data": {
      "text/plain": [
       "array([ 0.,  1.,  2.,  3.,  4.,  5.,  6.,  7.,  8.,  9., 10.])"
      ]
     },
     "execution_count": 9,
     "metadata": {},
     "output_type": "execute_result"
    }
   ],
   "source": [
    "# To create one dimesion array of sequences of 11 evenly spaced numbers over 0 to 10(inclduded).\n",
    "arr = np.linspace(0,10,11)\n",
    "arr"
   ]
  },
  {
   "cell_type": "code",
   "execution_count": 8,
   "metadata": {},
   "outputs": [
    {
     "data": {
      "text/plain": [
       "array([1.e+00, 1.e+01, 1.e+02, 1.e+03, 1.e+04, 1.e+05, 1.e+06, 1.e+07,\n",
       "       1.e+08, 1.e+09, 1.e+10])"
      ]
     },
     "execution_count": 8,
     "metadata": {},
     "output_type": "execute_result"
    }
   ],
   "source": [
    "#To create one dimesion array of sequences of 11 numbers spaced evenly on a log scale.\n",
    "arr = np.logspace(0,10,11)\n",
    "arr"
   ]
  },
  {
   "cell_type": "markdown",
   "metadata": {},
   "source": [
    "### Index and slice of np array\n",
    "Tasks:\n",
    "One dimesion array: arr1 = np.arange(10,dtype=int)  \n",
    "1. get the 0 position of arr1\n",
    "2. slice arr1 from 0 postion to 3nd position(excluded)\n",
    "\n",
    "two dimesion arrys:arr2 = np.arange(10).reshape((2,5))\n",
    "1. get the (0,0) position item of arr2\n",
    "1. get the item in 0 row of arr2\n",
    "2. slice arr2 from 0 column to 3nd columns(excluded)"
   ]
  },
  {
   "cell_type": "code",
   "execution_count": 10,
   "metadata": {},
   "outputs": [
    {
     "name": "stdout",
     "output_type": "stream",
     "text": [
      "0\n",
      "[0 1 2]\n"
     ]
    }
   ],
   "source": [
    "# Indexes and slices of a one-dimensional array, similar to a list.\n",
    "import numpy as np\n",
    "arr = np.arange(10,dtype=int)\n",
    "# Display the 0th element of a one-dimensional array.\n",
    "print(arr[0])\n",
    "# Display the 0th to third (excluded) elements of a one-dimensional array.\n",
    "print(arr[0:3])"
   ]
  },
  {
   "cell_type": "code",
   "execution_count": 11,
   "metadata": {},
   "outputs": [
    {
     "name": "stdout",
     "output_type": "stream",
     "text": [
      "[5 6 7 8 9]\n",
      "2\n",
      "2\n",
      "[[0 1 2]\n",
      " [5 6 7]]\n"
     ]
    }
   ],
   "source": [
    "# Indexes of a multidimensional array.\n",
    "arr = np.arange(10).reshape((2,5))\n",
    "\n",
    "# Access a row of a two-dimensional array using an index.\n",
    "print(arr[1])\n",
    "\n",
    "# Access an element of a two-dimensional array using an index.\n",
    "print(arr[0][2])\n",
    "\n",
    "# Access an element of a two-dimensional array using an index. A comma separates operations on different dimensions.\n",
    "print(arr[0, 2])\n",
    "\n",
    "# slice arr2 from 0 column to 3nd columns(excluded)\n",
    "print(arr[:,0:3])"
   ]
  },
  {
   "cell_type": "markdown",
   "metadata": {},
   "source": [
    "### Boolen index\n",
    "Tasks:  \n",
    "arr  =np.arange(10,).reshape((2,5))\n",
    "1. judge each items of arr that wheather it is biger than 2\n",
    "2. filter all items which is biger than 2 \n"
   ]
  },
  {
   "cell_type": "code",
   "execution_count": 16,
   "metadata": {},
   "outputs": [
    {
     "name": "stdout",
     "output_type": "stream",
     "text": [
      "[[False False False  True  True]\n",
      " [ True  True  True  True  True]]\n"
     ]
    }
   ],
   "source": [
    "arr  =np.arange(10,).reshape((2,5))\n",
    "# judge each items of arr that wheather it is biger than 2 Return a Boolean array\n",
    "print(arr>2)"
   ]
  },
  {
   "cell_type": "code",
   "execution_count": 12,
   "metadata": {},
   "outputs": [
    {
     "name": "stdout",
     "output_type": "stream",
     "text": [
      "[3 4 5 6 7 8 9]\n"
     ]
    }
   ],
   "source": [
    "#filter all items which is biger than 2 with  boolen index\n",
    "print(arr[arr>2])"
   ]
  },
  {
   "cell_type": "markdown",
   "metadata": {},
   "source": [
    "## ndarray ufunc (short for universal function)\n",
    "Tasks:  \n",
    "a = np.arange(10).reshape((2,5))  \n",
    "b =np.arange(0,100,10).reshape((2,5))   \n",
    "c = np.arange(10,0,-1).reshape((2,5))\n",
    "1. add a with b elementwisly, then  a new array is created and filled with the result.\n",
    "1. multiple a with b elementwisly, then  a new array is created and filled with the result.\n",
    "3. square each item in a, then  a new array is created and filled with the result.\n",
    "4. compare each item in a with c,find the maxsium, a new array is created and filled with the result.\n",
    "1. add each item in a with 10 , then a new array is created and filled with the result.\n",
    "1. multiple each item in a with 10 , then  a new array is created and filled with the result."
   ]
  },
  {
   "cell_type": "code",
   "execution_count": null,
   "metadata": {},
   "outputs": [],
   "source": []
  },
  {
   "cell_type": "code",
   "execution_count": 18,
   "metadata": {},
   "outputs": [
    {
     "data": {
      "text/plain": [
       "array([[ 0, 11, 22, 33, 44],\n",
       "       [55, 66, 77, 88, 99]])"
      ]
     },
     "execution_count": 18,
     "metadata": {},
     "output_type": "execute_result"
    }
   ],
   "source": [
    "# add a with b elementwisly, then a new array is created and filled with the result.\n",
    "a = np.arange(10).reshape((2,5))\n",
    "b =np.arange(0,100,10).reshape((2,5))\n",
    "c = np.arange(10,0,-1).reshape((2,5))\n",
    "np.add(a,b)"
   ]
  },
  {
   "cell_type": "code",
   "execution_count": 14,
   "metadata": {},
   "outputs": [
    {
     "data": {
      "text/plain": [
       "array([[ 0, 11, 22, 33, 44],\n",
       "       [55, 66, 77, 88, 99]])"
      ]
     },
     "execution_count": 14,
     "metadata": {},
     "output_type": "execute_result"
    }
   ],
   "source": [
    "# Operator overloading by \"+“\n",
    "a+b"
   ]
  },
  {
   "cell_type": "code",
   "execution_count": 15,
   "metadata": {},
   "outputs": [
    {
     "data": {
      "text/plain": [
       "array([[  0,  10,  40,  90, 160],\n",
       "       [250, 360, 490, 640, 810]])"
      ]
     },
     "execution_count": 15,
     "metadata": {},
     "output_type": "execute_result"
    }
   ],
   "source": [
    "# Multiplication operation on the two array;\n",
    "np.multiply(a,b)"
   ]
  },
  {
   "cell_type": "code",
   "execution_count": 21,
   "metadata": {},
   "outputs": [
    {
     "data": {
      "text/plain": [
       "array([[  0,  10,  40,  90, 160],\n",
       "       [250, 360, 490, 640, 810]])"
      ]
     },
     "execution_count": 21,
     "metadata": {},
     "output_type": "execute_result"
    }
   ],
   "source": [
    "# Operator overloading by \"+“\n",
    "a * b"
   ]
  },
  {
   "cell_type": "code",
   "execution_count": 17,
   "metadata": {},
   "outputs": [
    {
     "data": {
      "text/plain": [
       "array([[ 0,  1,  4,  9, 16],\n",
       "       [25, 36, 49, 64, 81]], dtype=int32)"
      ]
     },
     "execution_count": 17,
     "metadata": {},
     "output_type": "execute_result"
    }
   ],
   "source": [
    "# square each item in a, then a new array is created and filled with the result.\n",
    "np.square(a)"
   ]
  },
  {
   "cell_type": "code",
   "execution_count": 30,
   "metadata": {},
   "outputs": [
    {
     "data": {
      "text/plain": [
       "array([[ 0,  1,  4,  9, 16],\n",
       "       [25, 36, 49, 64, 81]], dtype=int32)"
      ]
     },
     "execution_count": 30,
     "metadata": {},
     "output_type": "execute_result"
    }
   ],
   "source": [
    "# Operator overloading by \"**“\n",
    "arr**2"
   ]
  },
  {
   "cell_type": "code",
   "execution_count": 19,
   "metadata": {},
   "outputs": [
    {
     "data": {
      "text/plain": [
       "array([[10,  9,  8,  7,  6],\n",
       "       [ 5,  6,  7,  8,  9]])"
      ]
     },
     "execution_count": 19,
     "metadata": {},
     "output_type": "execute_result"
    }
   ],
   "source": [
    "# compare each item in a with c,find the maxsium, a new array is created and filled with the result.\n",
    "c = np.arange(10,0,-1).reshape((2,5))\n",
    "np.maximum(a,c)"
   ]
  },
  {
   "cell_type": "code",
   "execution_count": 20,
   "metadata": {},
   "outputs": [
    {
     "name": "stdout",
     "output_type": "stream",
     "text": [
      "[[10 11 12 13 14]\n",
      " [15 16 17 18 19]]\n",
      "[[10. 20. 30.]\n",
      " [40. 50. 60.]]\n"
     ]
    }
   ],
   "source": [
    "# add each item in a with 10 , then a new array is created and filled with the result\n",
    "print(a+10)\n",
    "\n",
    "# multiple each item in a with 10 , then a new array is created and filled with the result.\n",
    "print(arr*10)\n"
   ]
  },
  {
   "cell_type": "markdown",
   "metadata": {},
   "source": [
    "### ndarry Statiscs\n",
    "Tasks:\n",
    "arr  =np.arange(10).reshape((2,5))\n",
    "1. calculate the mean across rows (axis= 0)\n",
    "1.  calculate the mean across the columns(axis=1)\n"
   ]
  },
  {
   "cell_type": "code",
   "execution_count": 23,
   "metadata": {},
   "outputs": [
    {
     "data": {
      "text/plain": [
       "array([2.5, 3.5, 4.5, 5.5, 6.5])"
      ]
     },
     "execution_count": 23,
     "metadata": {},
     "output_type": "execute_result"
    }
   ],
   "source": [
    "#create 2 two dimesions array\n",
    "arr  =np.arange(10).reshape((2,5))\n",
    "\n",
    "# calculate the mean across rows (axis= 0)\n",
    "arr.mean(axis= 0)"
   ]
  },
  {
   "cell_type": "code",
   "execution_count": 24,
   "metadata": {},
   "outputs": [
    {
     "data": {
      "text/plain": [
       "array([2., 7.])"
      ]
     },
     "execution_count": 24,
     "metadata": {},
     "output_type": "execute_result"
    }
   ],
   "source": [
    "# calculate the mean across the columns(axis=1)\n",
    "arr.mean(axis= 1)"
   ]
  },
  {
   "cell_type": "markdown",
   "metadata": {},
   "source": [
    "## Numpy.random\n",
    "Tasks:\n",
    "1. Create a random array of size  = (2,5),whose items are random integers selected from the \"discrete uniform\" distribution  0 to 100(exclusive).\n",
    "2.  Create a random array of size  = (2,5),whose items are random float selected from the normal distribution with mean 10 and standard deviation of 1.\n",
    "2.  Create a random array of size  = (2,5),whose items are random float selected from the standard normal distribution."
   ]
  },
  {
   "cell_type": "code",
   "execution_count": 32,
   "metadata": {},
   "outputs": [
    {
     "data": {
      "text/plain": [
       "array([[37, 12, 72,  9, 75],\n",
       "       [ 5, 79, 64, 16,  1]])"
      ]
     },
     "execution_count": 32,
     "metadata": {},
     "output_type": "execute_result"
    }
   ],
   "source": [
    "# Determine the seed for generating a random number by a generator.\n",
    "from numpy.random import seed\n",
    "seed(1)\n",
    "# Create a random array of size  = (2,5),whose items are random integers selected from the \"discrete uniform\" distribution  0 to 100(exclusive).\n",
    "np.random.randint(0,100,size = (2,5))"
   ]
  },
  {
   "cell_type": "code",
   "execution_count": 36,
   "metadata": {},
   "outputs": [
    {
     "data": {
      "text/plain": [
       "array([[ 9.58324215,  9.94373317,  7.8638039 , 11.64027081,  8.20656441],\n",
       "       [ 9.15825263, 10.50288142,  8.75471191,  8.94204778,  9.09099239]])"
      ]
     },
     "execution_count": 36,
     "metadata": {},
     "output_type": "execute_result"
    }
   ],
   "source": [
    "# Create a random array of size  = (2,5),whose items are random float selected from the normal distribution with mean 10 and standard deviation of 1.\n",
    "seed(2)\n",
    "np.random.normal(10,1,size = (2,5))"
   ]
  },
  {
   "cell_type": "code",
   "execution_count": 34,
   "metadata": {},
   "outputs": [
    {
     "data": {
      "text/plain": [
       "array([ 1.78862847,  0.43650985,  0.09649747, -1.8634927 , -0.2773882 ,\n",
       "       -0.35475898, -0.08274148, -0.62700068, -0.04381817, -0.47721803])"
      ]
     },
     "execution_count": 34,
     "metadata": {},
     "output_type": "execute_result"
    }
   ],
   "source": [
    "# Create a random array of size  = (2,5),whose items are random float selected from the standard normal distribution.\n",
    "seed(3)\n",
    "np.random.randn(10)"
   ]
  },
  {
   "cell_type": "markdown",
   "metadata": {},
   "source": [
    "### Matplotlib"
   ]
  },
  {
   "cell_type": "code",
   "execution_count": 37,
   "metadata": {},
   "outputs": [],
   "source": [
    "import matplotlib.pyplot as plt\n",
    "%matplotlib inline\n",
    "#sets the backend of matplotlib to the 'inline' backend:\n",
    "#With this backend, the output of plotting commands is displayed inline within frontends like the Jupyter notebook, \n",
    "# directly below the code cell that produced it. The resulting plots will then also be stored in the notebook document.\n",
    "# When using the 'inline' backend, your matplotlib graphs will be included in your notebook, next to the code."
   ]
  },
  {
   "cell_type": "markdown",
   "metadata": {},
   "source": [
    "### Task： draw a line plot\n",
    "draw a line plot with $sin(x),x\\in [0,2\\pi)$\n",
    "1. x-axis: 100 points eqally divied from 0 to $2\\pi$\n",
    "2. y-axis: y= sin(x)\n",
    "3. line color =red"
   ]
  },
  {
   "cell_type": "code",
   "execution_count": 38,
   "metadata": {},
   "outputs": [
    {
     "data": {
      "text/plain": [
       "[<matplotlib.lines.Line2D at 0x8b1fac8>]"
      ]
     },
     "execution_count": 38,
     "metadata": {},
     "output_type": "execute_result"
    },
    {
     "data": {
      "image/png": "[encoded data removed]",
      "text/plain": [
       "<Figure size 432x288 with 1 Axes>"
      ]
     },
     "metadata": {},
     "output_type": "display_data"
    }
   ],
   "source": [
    "# Generate data of x-axies\n",
    "x = np.linspace(0,2*np.pi,100)\n",
    "# Generate data of y-axies\n",
    "y = np.sin(x)\n",
    "# Use the plot function to generate figure and axes objects.\n",
    "plt.plot(x,y,c = 'r')"
   ]
  },
  {
   "cell_type": "markdown",
   "metadata": {},
   "source": [
    "### Task： draw a line plot with more requests\n",
    "draw a line plot with $sin(x),x\\in [0,2\\pi)$\n",
    "1. x-axis: 100 points eqally divied from 0 to $2\\pi$\n",
    "2. y-axis: y= sin(x)\n",
    "3. line color =red,label=$sin(x)$,linewidth=2,linestyle ='--'\n",
    "4. figsize=(8,4)\n",
    "5. set xlabel = \"Time(s)\" \n",
    "6. set ylabel = \"Volt\"\n",
    "7. set title= \"PyPlot Example\"\n",
    "8. show the y range from [-1.2,1.2]\n",
    "9. set the label of $sin(x)$ in location of 'lower right'"
   ]
  },
  {
   "cell_type": "code",
   "execution_count": 39,
   "metadata": {},
   "outputs": [
    {
     "data": {
      "image/png": "[encoded data removed]",
      "text/plain": [
       "<Figure size 576x288 with 1 Axes>"
      ]
     },
     "metadata": {},
     "output_type": "display_data"
    }
   ],
   "source": [
    "# Generate data of x-axies and y-axis\n",
    "x = np.linspace(0, 2*np.pi, 100)\n",
    "y = np.sin(x)\n",
    "\n",
    "#  Determine the width and height of the figure object.\n",
    "plt.figure(figsize=(8,4))\n",
    "\n",
    "#  Generate a new line 2D object on the graph and set the label.\n",
    "plt.plot(x,y,label=\"$sin(x)$\",color=\"r\",linewidth=2,linestyle ='--') \n",
    "\n",
    "# Set the attributes of the figure object: names of the x and y axes.\n",
    "plt.xlabel(\"Time(s)\") \n",
    "plt.ylabel(\"Volt\")\n",
    "\n",
    "# set the title of graph\n",
    "plt.title(\"PyPlot Example\")\n",
    "\n",
    "# set Y axis display range\n",
    "plt.ylim(-1.2,1.2)\n",
    "\n",
    "# Display the legend for the graph\n",
    "plt.legend(loc = 'lower right')\n",
    "\n",
    "# show the graph\n",
    "plt.show()"
   ]
  },
  {
   "cell_type": "markdown",
   "metadata": {},
   "source": [
    "### Task:Create a scatter Plot\n",
    "1. x-axis: sequence of integers from 0 to 10 (exclusive)\n",
    "2. y-axis: 10 random integers from 0 to 10(exclusive)\n",
    "2. size: each point with a size,which is  a random float point selected from the uniform distribution of [0, 1)(exclusive) and then multiply by 50\n",
    "4. title= 'scatter plot'"
   ]
  },
  {
   "cell_type": "code",
   "execution_count": 16,
   "metadata": {},
   "outputs": [
    {
     "data": {
      "image/png": "[encoded data removed]",
      "text/plain": [
       "<Figure size 432x288 with 1 Axes>"
      ]
     },
     "metadata": {},
     "output_type": "display_data"
    }
   ],
   "source": [
    "# Generate data: x-axis and y-axis coordinates of points.\n",
    "x = np.arange(10)   #\n",
    "y=  np.random.randint(0,10,size =10)\n",
    "# Randomly generate random numbers about point sizes.\n",
    "size = np.random.rand(10) * 50 \n",
    "# Generate a scatter plot chart and set the size and color of each point.\n",
    "plt.scatter(x, y, size)\n",
    "\n",
    "# set the title of axes\n",
    "plt.title('scatter plot')\n",
    "# show the graph\n",
    "plt.show()"
   ]
  },
  {
   "cell_type": "markdown",
   "metadata": {},
   "source": [
    "### Histogram\n",
    "1. points: 10000 random float points selected from the normal distribution of mean ==100,std = 10\n",
    "2. bins =50,facecolor='b', alpha=0.5\n",
    "3. draw the grid\n"
   ]
  },
  {
   "cell_type": "code",
   "execution_count": 40,
   "metadata": {},
   "outputs": [
    {
     "data": {
      "image/png": "[encoded data removed]",
      "text/plain": [
       "<Figure size 432x288 with 1 Axes>"
      ]
     },
     "metadata": {},
     "output_type": "display_data"
    }
   ],
   "source": [
    "# Set the average value and standard deviation.\n",
    "mean = 100 \n",
    "sigma = 10\n",
    "# Generate 10,000 random numbers whose average value is 100 and standard deviation is 10.\n",
    "x = mean + sigma * np.random.randn(10000) \n",
    "\n",
    "# Set the histogram format: 10,000 random numbers and 50 bins; the background color is blue; transparency is 0.5.\n",
    "n,bins,patches = plt.hist(x, bins =50,facecolor='b', alpha=0.5)\n",
    "#set the tiltle for the graph\n",
    "plt.title(\"Histogram of IQ: $\\mu=100$, $\\sigma=10$\")\n",
    "plt.xlabel(\"x-label\")\n",
    "plt.ylabel(\"y-label\")\n",
    "# Generate grid lines.\n",
    "plt.grid() \n",
    "# Set the left margin to 0.15 inches.\n",
    "plt.subplots_adjust(left=0.15) \n",
    "plt.savefig(\"Histogram_demo.png\")\n",
    "plt.show()"
   ]
  },
  {
   "cell_type": "markdown",
   "metadata": {},
   "source": [
    "## Subplots\n",
    "Subplot 1: draw a line plot with $sin(x),x\\in [0,2\\pi]$\n",
    "1. x-axis: 100 points eqally divied from 0 to $2\\pi$\n",
    "2. y-axis: y= sin(x)\n",
    "7. set title= \"Sin\",color =red\n",
    "\n",
    "Subplot 2: draw a line plot with $cos(x),x\\in [0,2\\pi]$\n",
    "1. x-axis: 100 points eqally divied from 0 to $2\\pi$\n",
    "2. y-axis: y= cos(x)\n",
    "7. set title= \"Cos\",color =blue\n",
    "\n"
   ]
  },
  {
   "cell_type": "code",
   "execution_count": 42,
   "metadata": {},
   "outputs": [
    {
     "data": {
      "image/png": "[encoded data removed]",
      "text/plain": [
       "<Figure size 576x288 with 2 Axes>"
      ]
     },
     "metadata": {},
     "output_type": "display_data"
    }
   ],
   "source": [
    "# Generate data of x-axis\n",
    "x = np.linspace(0, 2*np.pi, 100) \n",
    "# Generate data for two y-axis\n",
    "y_sin = np.sin(x)\n",
    "y_cos = np.cos(x)\n",
    "# Generate the figure object and set the width and height\n",
    "plt.figure(figsize = (8,4))  \n",
    "# Generate a subplot of 1*2, and set colors and title on the first subplot.\n",
    "plt.subplot(1,2,1) \n",
    "plt.plot(x,y_sin,'r')\n",
    "plt.title('Sine')\n",
    "#  Generate the second subplot and set its title.\n",
    "plt.subplot(1,2,2)\n",
    "plt.plot(x,y_cos)\n",
    "plt.title('Cos')\n",
    "plt.show()"
   ]
  },
  {
   "cell_type": "code",
   "execution_count": 47,
   "metadata": {},
   "outputs": [
    {
     "data": {
      "image/png": "[encoded data removed]",
      "text/plain": [
       "<Figure size 432x288 with 1 Axes>"
      ]
     },
     "metadata": {},
     "output_type": "display_data"
    }
   ],
   "source": [
    "# Set the x-coordinate on the left of the column.\n",
    "x = np.arange(1, 6)\n",
    "# Set the height of the column.\n",
    "h = np.arange(1, 6)\n",
    "# Set the width of the column to 0.5\n",
    "plt.bar(x, h, width = 0.5)\n",
    "plt.title('Bar graph')\n",
    "plt.show()"
   ]
  },
  {
   "cell_type": "markdown",
   "metadata": {},
   "source": [
    "### 3 D plot\n",
    "dray a  3 Demision surface plot from :\n",
    "$sin(\\sqrt{(x^2+y^2)}),x,y \\in [-4,4]$  \n",
    "\n",
    "HInt:\n",
    "1. from mpl_toolkits.mplot3d import Axes3D\n",
    "2. using np.meshgrid(X, Y) method,Return coordinate matrices from coordinate vectors.\n"
   ]
  },
  {
   "cell_type": "code",
   "execution_count": 23,
   "metadata": {},
   "outputs": [
    {
     "data": {
      "image/png": "[encoded data removed]",
      "text/plain": [
       "<Figure size 432x288 with 1 Axes>"
      ]
     },
     "metadata": {},
     "output_type": "display_data"
    }
   ],
   "source": [
    "# import 3d object from mpl_toolkits.mplot3d \n",
    "from mpl_toolkits.mplot3d import Axes3D\n",
    "#generate the data\n",
    "fig = plt.figure() \n",
    "ax = Axes3D(fig)# \n",
    "X = np.arange(-4, 4, 0.25) \n",
    "Y = np.arange(-4, 4, 0.25)\n",
    "\n",
    "# Generate the two-dimensional coordinates of the X and Y axes.\n",
    "X, Y = np.meshgrid(X, Y) \n",
    "R = np.sqrt(X**2 + Y**2)\n",
    "Z = np.sin(R)\n",
    "# Generate the contour graph by plot_suface() method.\n",
    "ax.plot_surface(X, Y, Z, rstride=1, cstride=1, cmap='hot')\n",
    "plt.show()"
   ]
  },
  {
   "cell_type": "markdown",
   "metadata": {},
   "source": [
    "# Pandas \n"
   ]
  },
  {
   "cell_type": "code",
   "execution_count": 1,
   "metadata": {},
   "outputs": [],
   "source": [
    "import numpy as np\n",
    "import pandas as pd\n",
    "import matplotlib.pyplot as plt\n",
    "%matplotlib inline"
   ]
  },
  {
   "cell_type": "markdown",
   "metadata": {},
   "source": [
    "### Series\n",
    "Tasks:\n",
    "1. Create Series from list of [1,2,3,4] with index of 'a','b','c','d', and bind it with variable s\n",
    "2. show the type of s\n",
    "3. show the index of s\n",
    "4. show the values of s\n",
    "5. show the data type of s\n",
    "6. filter the items which is biger than 2 in s\n",
    "7. muptiply each item with 2\n",
    "8. Create Series from dictionary {d=4,b=7,a=-5,c=3)"
   ]
  },
  {
   "cell_type": "code",
   "execution_count": 40,
   "metadata": {},
   "outputs": [
    {
     "name": "stdout",
     "output_type": "stream",
     "text": [
      "a    1\n",
      "b    2\n",
      "c    3\n",
      "d    4\n",
      "dtype: int64\n"
     ]
    }
   ],
   "source": [
    "# Create a Series from an array and specify the index of each data point.\n",
    "s = pd.Series([1,2,3,4],index= list('abcd'))\n",
    "print(s)"
   ]
  },
  {
   "cell_type": "code",
   "execution_count": 41,
   "metadata": {
    "scrolled": true
   },
   "outputs": [
    {
     "name": "stdout",
     "output_type": "stream",
     "text": [
      "<class 'pandas.core.indexes.base.Index'>\n",
      "Index(['a', 'b', 'c', 'd'], dtype='object')\n",
      "[1 2 3 4]\n",
      "int64\n"
     ]
    }
   ],
   "source": [
    "# Display the indexes\n",
    "print(type(s.index))\n",
    "print(s.index)\n",
    "\n",
    "# Display values, which are a one-dimensional NumPY array.\n",
    "print(s.values)\n",
    "\n",
    "# Display the data type of elements.\n",
    "print(s.dtype)"
   ]
  },
  {
   "cell_type": "code",
   "execution_count": 42,
   "metadata": {},
   "outputs": [
    {
     "name": "stdout",
     "output_type": "stream",
     "text": [
      "c    3\n",
      "d    4\n",
      "dtype: int64\n"
     ]
    }
   ],
   "source": [
    "# Boolean index\n",
    "print(s[s>2])"
   ]
  },
  {
   "cell_type": "code",
   "execution_count": 43,
   "metadata": {},
   "outputs": [
    {
     "name": "stdout",
     "output_type": "stream",
     "text": [
      "a    2\n",
      "b    4\n",
      "c    6\n",
      "d    8\n",
      "dtype: int64\n"
     ]
    }
   ],
   "source": [
    "# Multiply by a scalar.\n",
    "print(s*2)"
   ]
  },
  {
   "cell_type": "code",
   "execution_count": 44,
   "metadata": {},
   "outputs": [
    {
     "name": "stdout",
     "output_type": "stream",
     "text": [
      "a     2.718282\n",
      "b     7.389056\n",
      "c    20.085537\n",
      "d    54.598150\n",
      "dtype: float64\n"
     ]
    }
   ],
   "source": [
    "# Obtain exponents.\n",
    "print(np.exp(s))"
   ]
  },
  {
   "cell_type": "code",
   "execution_count": 46,
   "metadata": {},
   "outputs": [
    {
     "name": "stdout",
     "output_type": "stream",
     "text": [
      "a   -5\n",
      "b    7\n",
      "c    3\n",
      "d    4\n",
      "dtype: int64\n"
     ]
    }
   ],
   "source": [
    "# Create a Series from a dictionary. A Series can be seen as a special dictionary.\n",
    "d= dict(d=4,b=7,a=-5,c=3)\n",
    "s2= pd.Series(d)\n",
    "print(s2)"
   ]
  },
  {
   "cell_type": "code",
   "execution_count": 47,
   "metadata": {},
   "outputs": [
    {
     "name": "stdout",
     "output_type": "stream",
     "text": [
      "-5\n",
      "a   -5\n",
      "b    7\n",
      "c    3\n",
      "dtype: int64\n"
     ]
    }
   ],
   "source": [
    "#index of series\n",
    "print(s2['a'])\n",
    "\n",
    "#slice of series\n",
    "print(s2[0:3])"
   ]
  },
  {
   "cell_type": "markdown",
   "metadata": {},
   "source": [
    "## Dataframe\n",
    "Tasks:  \n",
    "1. create a dataframe from a dictionary:{'name':['Jerry','Jim','Mike'],'age':  [21,19,20]}\n",
    "2. select the column of 'name'\n",
    "3. select the 0 row of the dataframe\n",
    "4. add a new column of 'gender' with values:'M','M','M'\n",
    "5. drop the 'age' column"
   ]
  },
  {
   "cell_type": "code",
   "execution_count": 2,
   "metadata": {},
   "outputs": [
    {
     "name": "stdout",
     "output_type": "stream",
     "text": [
      "    name  age\n",
      "0  Jerry   21\n",
      "1    Jim   19\n",
      "2   Mike   20\n"
     ]
    }
   ],
   "source": [
    "# create a dataframe from a dictionary:{'name':['Jerry','Jim','Mike'],'age': [21,19,20]}\n",
    "select the column of 'name'\n",
    "data = {'name':['Jerry','Jim','Mike'],\n",
    "       'age':  [21,19,20]}\n",
    "df = pd.DataFrame(data)\n",
    "print(df)"
   ]
  },
  {
   "cell_type": "code",
   "execution_count": 49,
   "metadata": {},
   "outputs": [
    {
     "data": {
      "text/plain": [
       "0    Jerry\n",
       "1      Jim\n",
       "2     Mike\n",
       "Name: name, dtype: object"
      ]
     },
     "execution_count": 49,
     "metadata": {},
     "output_type": "execute_result"
    }
   ],
   "source": [
    "# select the column of 'name'\n",
    "df['name']"
   ]
  },
  {
   "cell_type": "code",
   "execution_count": 50,
   "metadata": {},
   "outputs": [
    {
     "data": {
      "text/plain": [
       "0    Jerry\n",
       "1      Jim\n",
       "2     Mike\n",
       "Name: name, dtype: object"
      ]
     },
     "execution_count": 50,
     "metadata": {},
     "output_type": "execute_result"
    }
   ],
   "source": [
    "df.name"
   ]
  },
  {
   "cell_type": "code",
   "execution_count": 51,
   "metadata": {},
   "outputs": [
    {
     "data": {
      "text/plain": [
       "0    Jerry\n",
       "1      Jim\n",
       "2     Mike\n",
       "Name: name, dtype: object"
      ]
     },
     "execution_count": 51,
     "metadata": {},
     "output_type": "execute_result"
    }
   ],
   "source": [
    "df.loc[:,'name']"
   ]
  },
  {
   "cell_type": "code",
   "execution_count": 52,
   "metadata": {},
   "outputs": [
    {
     "data": {
      "text/plain": [
       "0    Jerry\n",
       "1      Jim\n",
       "2     Mike\n",
       "Name: name, dtype: object"
      ]
     },
     "execution_count": 52,
     "metadata": {},
     "output_type": "execute_result"
    }
   ],
   "source": [
    "df.iloc[:,1]"
   ]
  },
  {
   "cell_type": "code",
   "execution_count": 53,
   "metadata": {},
   "outputs": [
    {
     "data": {
      "text/html": [
       "<div>\n",
       "<style scoped>\n",
       "    .dataframe tbody tr th:only-of-type {\n",
       "        vertical-align: middle;\n",
       "    }\n",
       "\n",
       "    .dataframe tbody tr th {\n",
       "        vertical-align: top;\n",
       "    }\n",
       "\n",
       "    .dataframe thead th {\n",
       "        text-align: right;\n",
       "    }\n",
       "</style>\n",
       "<table border=\"1\" class=\"dataframe\">\n",
       "  <thead>\n",
       "    <tr style=\"text-align: right;\">\n",
       "      <th></th>\n",
       "      <th>age</th>\n",
       "      <th>name</th>\n",
       "      <th>gender</th>\n",
       "    </tr>\n",
       "  </thead>\n",
       "  <tbody>\n",
       "    <tr>\n",
       "      <th>0</th>\n",
       "      <td>21</td>\n",
       "      <td>Jerry</td>\n",
       "      <td>M</td>\n",
       "    </tr>\n",
       "    <tr>\n",
       "      <th>1</th>\n",
       "      <td>19</td>\n",
       "      <td>Jim</td>\n",
       "      <td>M</td>\n",
       "    </tr>\n",
       "    <tr>\n",
       "      <th>2</th>\n",
       "      <td>20</td>\n",
       "      <td>Mike</td>\n",
       "      <td>M</td>\n",
       "    </tr>\n",
       "  </tbody>\n",
       "</table>\n",
       "</div>"
      ],
      "text/plain": [
       "   age   name gender\n",
       "0   21  Jerry      M\n",
       "1   19    Jim      M\n",
       "2   20   Mike      M"
      ]
     },
     "execution_count": 53,
     "metadata": {},
     "output_type": "execute_result"
    }
   ],
   "source": [
    "# add a new column of 'gender' with values:'M','M','M'\n",
    "df['gender']= ['M','M','M']\n",
    "df"
   ]
  },
  {
   "cell_type": "code",
   "execution_count": 54,
   "metadata": {},
   "outputs": [
    {
     "data": {
      "text/html": [
       "<div>\n",
       "<style scoped>\n",
       "    .dataframe tbody tr th:only-of-type {\n",
       "        vertical-align: middle;\n",
       "    }\n",
       "\n",
       "    .dataframe tbody tr th {\n",
       "        vertical-align: top;\n",
       "    }\n",
       "\n",
       "    .dataframe thead th {\n",
       "        text-align: right;\n",
       "    }\n",
       "</style>\n",
       "<table border=\"1\" class=\"dataframe\">\n",
       "  <thead>\n",
       "    <tr style=\"text-align: right;\">\n",
       "      <th></th>\n",
       "      <th>name</th>\n",
       "      <th>gender</th>\n",
       "    </tr>\n",
       "  </thead>\n",
       "  <tbody>\n",
       "    <tr>\n",
       "      <th>0</th>\n",
       "      <td>Jerry</td>\n",
       "      <td>M</td>\n",
       "    </tr>\n",
       "    <tr>\n",
       "      <th>1</th>\n",
       "      <td>Jim</td>\n",
       "      <td>M</td>\n",
       "    </tr>\n",
       "    <tr>\n",
       "      <th>2</th>\n",
       "      <td>Mike</td>\n",
       "      <td>M</td>\n",
       "    </tr>\n",
       "  </tbody>\n",
       "</table>\n",
       "</div>"
      ],
      "text/plain": [
       "    name gender\n",
       "0  Jerry      M\n",
       "1    Jim      M\n",
       "2   Mike      M"
      ]
     },
     "execution_count": 54,
     "metadata": {},
     "output_type": "execute_result"
    }
   ],
   "source": [
    "# rop the 'age' column\n",
    "new = df.drop('age',axis=1)\n",
    "new"
   ]
  },
  {
   "cell_type": "code",
   "execution_count": 56,
   "metadata": {},
   "outputs": [
    {
     "data": {
      "text/html": [
       "<div>\n",
       "<style scoped>\n",
       "    .dataframe tbody tr th:only-of-type {\n",
       "        vertical-align: middle;\n",
       "    }\n",
       "\n",
       "    .dataframe tbody tr th {\n",
       "        vertical-align: top;\n",
       "    }\n",
       "\n",
       "    .dataframe thead th {\n",
       "        text-align: right;\n",
       "    }\n",
       "</style>\n",
       "<table border=\"1\" class=\"dataframe\">\n",
       "  <thead>\n",
       "    <tr style=\"text-align: right;\">\n",
       "      <th></th>\n",
       "      <th>name</th>\n",
       "      <th>gender</th>\n",
       "    </tr>\n",
       "  </thead>\n",
       "  <tbody>\n",
       "    <tr>\n",
       "      <th>0</th>\n",
       "      <td>Jerry</td>\n",
       "      <td>M</td>\n",
       "    </tr>\n",
       "    <tr>\n",
       "      <th>1</th>\n",
       "      <td>Jim</td>\n",
       "      <td>M</td>\n",
       "    </tr>\n",
       "    <tr>\n",
       "      <th>2</th>\n",
       "      <td>Mike</td>\n",
       "      <td>M</td>\n",
       "    </tr>\n",
       "  </tbody>\n",
       "</table>\n",
       "</div>"
      ],
      "text/plain": [
       "    name gender\n",
       "0  Jerry      M\n",
       "1    Jim      M\n",
       "2   Mike      M"
      ]
     },
     "execution_count": 56,
     "metadata": {},
     "output_type": "execute_result"
    }
   ],
   "source": [
    "# Many functions, such as drop, change the size or shape of a Series or DataFrame. You can choose to modify objects without returning new objects by specifying inplace=True.\n",
    "df.drop('age',axis =1,inplace=True,errors='ignore')\n",
    "df"
   ]
  },
  {
   "cell_type": "markdown",
   "metadata": {},
   "source": [
    "## Dataframe\n",
    "Tasks:  \n",
    "1. create a dataframe:\n",
    "    values = np.arange(16).reshape((4, 4)),\n",
    "    index=['Ohio', 'Colorado', 'Utah', 'New York'],\n",
    "    columns=['one', 'two', 'three', 'four']\n",
    "    \n",
    "2. select the columns of 'one'and 'three'\n",
    "3. slice the dataframe from 0 row to 2nd row(exclusive)\n",
    "4. filter the rows whose item in 'Three' coloumn bigger than 5\n",
    "5. select the items in row of 'Colorado' and column = 'two', 'three'"
   ]
  },
  {
   "cell_type": "code",
   "execution_count": 61,
   "metadata": {},
   "outputs": [
    {
     "data": {
      "text/html": [
       "<div>\n",
       "<style scoped>\n",
       "    .dataframe tbody tr th:only-of-type {\n",
       "        vertical-align: middle;\n",
       "    }\n",
       "\n",
       "    .dataframe tbody tr th {\n",
       "        vertical-align: top;\n",
       "    }\n",
       "\n",
       "    .dataframe thead th {\n",
       "        text-align: right;\n",
       "    }\n",
       "</style>\n",
       "<table border=\"1\" class=\"dataframe\">\n",
       "  <thead>\n",
       "    <tr style=\"text-align: right;\">\n",
       "      <th></th>\n",
       "      <th>one</th>\n",
       "      <th>two</th>\n",
       "      <th>three</th>\n",
       "      <th>four</th>\n",
       "    </tr>\n",
       "  </thead>\n",
       "  <tbody>\n",
       "    <tr>\n",
       "      <th>Ohio</th>\n",
       "      <td>0</td>\n",
       "      <td>1</td>\n",
       "      <td>2</td>\n",
       "      <td>3</td>\n",
       "    </tr>\n",
       "    <tr>\n",
       "      <th>Colorado</th>\n",
       "      <td>4</td>\n",
       "      <td>5</td>\n",
       "      <td>6</td>\n",
       "      <td>7</td>\n",
       "    </tr>\n",
       "    <tr>\n",
       "      <th>Utah</th>\n",
       "      <td>8</td>\n",
       "      <td>9</td>\n",
       "      <td>10</td>\n",
       "      <td>11</td>\n",
       "    </tr>\n",
       "    <tr>\n",
       "      <th>New York</th>\n",
       "      <td>12</td>\n",
       "      <td>13</td>\n",
       "      <td>14</td>\n",
       "      <td>15</td>\n",
       "    </tr>\n",
       "  </tbody>\n",
       "</table>\n",
       "</div>"
      ],
      "text/plain": [
       "          one  two  three  four\n",
       "Ohio        0    1      2     3\n",
       "Colorado    4    5      6     7\n",
       "Utah        8    9     10    11\n",
       "New York   12   13     14    15"
      ]
     },
     "execution_count": 61,
     "metadata": {},
     "output_type": "execute_result"
    }
   ],
   "source": [
    "# create a dataframe: values = np.arange(16).reshape((4, 4)), index=['Ohio', 'Colorado', 'Utah', 'New York'], columns=['one', 'two', 'three', 'four']：\n",
    "data = pd.DataFrame(np.arange(16).reshape((4, 4)),\n",
    "                    index=['Ohio', 'Colorado', 'Utah', 'New York'],\n",
    "                    columns=['one', 'two', 'three', 'four'])\n",
    "data"
   ]
  },
  {
   "cell_type": "code",
   "execution_count": 63,
   "metadata": {},
   "outputs": [
    {
     "data": {
      "text/html": [
       "<div>\n",
       "<style scoped>\n",
       "    .dataframe tbody tr th:only-of-type {\n",
       "        vertical-align: middle;\n",
       "    }\n",
       "\n",
       "    .dataframe tbody tr th {\n",
       "        vertical-align: top;\n",
       "    }\n",
       "\n",
       "    .dataframe thead th {\n",
       "        text-align: right;\n",
       "    }\n",
       "</style>\n",
       "<table border=\"1\" class=\"dataframe\">\n",
       "  <thead>\n",
       "    <tr style=\"text-align: right;\">\n",
       "      <th></th>\n",
       "      <th>one</th>\n",
       "      <th>three</th>\n",
       "    </tr>\n",
       "  </thead>\n",
       "  <tbody>\n",
       "    <tr>\n",
       "      <th>Ohio</th>\n",
       "      <td>0</td>\n",
       "      <td>2</td>\n",
       "    </tr>\n",
       "    <tr>\n",
       "      <th>Colorado</th>\n",
       "      <td>4</td>\n",
       "      <td>6</td>\n",
       "    </tr>\n",
       "    <tr>\n",
       "      <th>Utah</th>\n",
       "      <td>8</td>\n",
       "      <td>10</td>\n",
       "    </tr>\n",
       "    <tr>\n",
       "      <th>New York</th>\n",
       "      <td>12</td>\n",
       "      <td>14</td>\n",
       "    </tr>\n",
       "  </tbody>\n",
       "</table>\n",
       "</div>"
      ],
      "text/plain": [
       "          one  three\n",
       "Ohio        0      2\n",
       "Colorado    4      6\n",
       "Utah        8     10\n",
       "New York   12     14"
      ]
     },
     "execution_count": 63,
     "metadata": {},
     "output_type": "execute_result"
    }
   ],
   "source": [
    "# select the columns of 'one'and 'three'\n",
    "data[['one','three']]"
   ]
  },
  {
   "cell_type": "code",
   "execution_count": 64,
   "metadata": {},
   "outputs": [
    {
     "data": {
      "text/html": [
       "<div>\n",
       "<style scoped>\n",
       "    .dataframe tbody tr th:only-of-type {\n",
       "        vertical-align: middle;\n",
       "    }\n",
       "\n",
       "    .dataframe tbody tr th {\n",
       "        vertical-align: top;\n",
       "    }\n",
       "\n",
       "    .dataframe thead th {\n",
       "        text-align: right;\n",
       "    }\n",
       "</style>\n",
       "<table border=\"1\" class=\"dataframe\">\n",
       "  <thead>\n",
       "    <tr style=\"text-align: right;\">\n",
       "      <th></th>\n",
       "      <th>one</th>\n",
       "      <th>two</th>\n",
       "      <th>three</th>\n",
       "      <th>four</th>\n",
       "    </tr>\n",
       "  </thead>\n",
       "  <tbody>\n",
       "    <tr>\n",
       "      <th>Ohio</th>\n",
       "      <td>0</td>\n",
       "      <td>1</td>\n",
       "      <td>2</td>\n",
       "      <td>3</td>\n",
       "    </tr>\n",
       "    <tr>\n",
       "      <th>Colorado</th>\n",
       "      <td>4</td>\n",
       "      <td>5</td>\n",
       "      <td>6</td>\n",
       "      <td>7</td>\n",
       "    </tr>\n",
       "  </tbody>\n",
       "</table>\n",
       "</div>"
      ],
      "text/plain": [
       "          one  two  three  four\n",
       "Ohio        0    1      2     3\n",
       "Colorado    4    5      6     7"
      ]
     },
     "execution_count": 64,
     "metadata": {},
     "output_type": "execute_result"
    }
   ],
   "source": [
    "# slice the dataframe from 0 row to 2nd row(exclusive)\n",
    "data[:2]"
   ]
  },
  {
   "cell_type": "code",
   "execution_count": 65,
   "metadata": {},
   "outputs": [
    {
     "data": {
      "text/html": [
       "<div>\n",
       "<style scoped>\n",
       "    .dataframe tbody tr th:only-of-type {\n",
       "        vertical-align: middle;\n",
       "    }\n",
       "\n",
       "    .dataframe tbody tr th {\n",
       "        vertical-align: top;\n",
       "    }\n",
       "\n",
       "    .dataframe thead th {\n",
       "        text-align: right;\n",
       "    }\n",
       "</style>\n",
       "<table border=\"1\" class=\"dataframe\">\n",
       "  <thead>\n",
       "    <tr style=\"text-align: right;\">\n",
       "      <th></th>\n",
       "      <th>one</th>\n",
       "      <th>two</th>\n",
       "      <th>three</th>\n",
       "      <th>four</th>\n",
       "    </tr>\n",
       "  </thead>\n",
       "  <tbody>\n",
       "    <tr>\n",
       "      <th>Colorado</th>\n",
       "      <td>4</td>\n",
       "      <td>5</td>\n",
       "      <td>6</td>\n",
       "      <td>7</td>\n",
       "    </tr>\n",
       "    <tr>\n",
       "      <th>Utah</th>\n",
       "      <td>8</td>\n",
       "      <td>9</td>\n",
       "      <td>10</td>\n",
       "      <td>11</td>\n",
       "    </tr>\n",
       "    <tr>\n",
       "      <th>New York</th>\n",
       "      <td>12</td>\n",
       "      <td>13</td>\n",
       "      <td>14</td>\n",
       "      <td>15</td>\n",
       "    </tr>\n",
       "  </tbody>\n",
       "</table>\n",
       "</div>"
      ],
      "text/plain": [
       "          one  two  three  four\n",
       "Colorado    4    5      6     7\n",
       "Utah        8    9     10    11\n",
       "New York   12   13     14    15"
      ]
     },
     "execution_count": 65,
     "metadata": {},
     "output_type": "execute_result"
    }
   ],
   "source": [
    "# filter the rows whose item in 'Three' coloumn bigger than 5\n",
    "data[data.three>5]"
   ]
  },
  {
   "cell_type": "code",
   "execution_count": 66,
   "metadata": {},
   "outputs": [
    {
     "data": {
      "text/plain": [
       "two      5\n",
       "three    6\n",
       "Name: Colorado, dtype: int32"
      ]
     },
     "execution_count": 66,
     "metadata": {},
     "output_type": "execute_result"
    }
   ],
   "source": [
    "# select the items in row of 'Colorado' and column = 'two', 'three'\n",
    "data.loc['Colorado', ['two', 'three']]"
   ]
  },
  {
   "cell_type": "markdown",
   "metadata": {},
   "source": [
    "## Loading data"
   ]
  },
  {
   "cell_type": "markdown",
   "metadata": {},
   "source": [
    "## Data analysis with Dataframe:\n",
    "1. read data from loandata.csv,and create a dataframe,show the first 5 rows of the data\n",
    "2. show the shape and basic information of the dataframe\n",
    "3. show the columns which has missing value\n",
    "4. count the missing values in each columns\n",
    "5. drop the rows which have any missing values\n",
    "6. fill the missing values with mean value in 'annual_inc' column\n",
    "7. fill the missing values with forward method in 'annual_inc' column\n",
    "\n",
    "Hint:  \n",
    "1. using pd.read_csv() to read a csv dataset\n",
    "2. using dataframe.info() method to get the basic inforamtion\n",
    "3. using dataframe.isnull() method to judge whether the cell has missing value or not,then using dataframe.any() method\n",
    "4. using dropna() to drop columns with missing values\n",
    "5. using fillna() to fill in cells with missing values \n"
   ]
  },
  {
   "cell_type": "code",
   "execution_count": 49,
   "metadata": {},
   "outputs": [
    {
     "data": {
      "text/html": [
       "<div>\n",
       "<style scoped>\n",
       "    .dataframe tbody tr th:only-of-type {\n",
       "        vertical-align: middle;\n",
       "    }\n",
       "\n",
       "    .dataframe tbody tr th {\n",
       "        vertical-align: top;\n",
       "    }\n",
       "\n",
       "    .dataframe thead th {\n",
       "        text-align: right;\n",
       "    }\n",
       "</style>\n",
       "<table border=\"1\" class=\"dataframe\">\n",
       "  <thead>\n",
       "    <tr style=\"text-align: right;\">\n",
       "      <th></th>\n",
       "      <th>loan_amnt</th>\n",
       "      <th>grade</th>\n",
       "      <th>sub_grade</th>\n",
       "      <th>emp_length</th>\n",
       "      <th>home_ownership</th>\n",
       "      <th>annual_inc</th>\n",
       "      <th>issue_d</th>\n",
       "      <th>loan_status</th>\n",
       "      <th>open_acc</th>\n",
       "      <th>total_pymnt</th>\n",
       "      <th>total_rec_int</th>\n",
       "    </tr>\n",
       "  </thead>\n",
       "  <tbody>\n",
       "    <tr>\n",
       "      <th>0</th>\n",
       "      <td>5000.0</td>\n",
       "      <td>B</td>\n",
       "      <td>B2</td>\n",
       "      <td>10+ years</td>\n",
       "      <td>RENT</td>\n",
       "      <td>24000.0</td>\n",
       "      <td>2017/12/11</td>\n",
       "      <td>Fully Paid</td>\n",
       "      <td>3</td>\n",
       "      <td>5863.155187</td>\n",
       "      <td>863.16</td>\n",
       "    </tr>\n",
       "    <tr>\n",
       "      <th>1</th>\n",
       "      <td>2500.0</td>\n",
       "      <td>C</td>\n",
       "      <td>C4</td>\n",
       "      <td>&lt; 1 year</td>\n",
       "      <td>RENT</td>\n",
       "      <td>30000.0</td>\n",
       "      <td>2017/12/11</td>\n",
       "      <td>Charged Off</td>\n",
       "      <td>3</td>\n",
       "      <td>1014.530000</td>\n",
       "      <td>435.17</td>\n",
       "    </tr>\n",
       "    <tr>\n",
       "      <th>2</th>\n",
       "      <td>12500.0</td>\n",
       "      <td>D</td>\n",
       "      <td>D4</td>\n",
       "      <td>10+ years</td>\n",
       "      <td>RENT</td>\n",
       "      <td>74400.0</td>\n",
       "      <td>2017/11/11</td>\n",
       "      <td>Fully Paid</td>\n",
       "      <td>8</td>\n",
       "      <td>14722.411910</td>\n",
       "      <td>2222.41</td>\n",
       "    </tr>\n",
       "    <tr>\n",
       "      <th>3</th>\n",
       "      <td>14000.0</td>\n",
       "      <td>A</td>\n",
       "      <td>A4</td>\n",
       "      <td>10+ years</td>\n",
       "      <td>RENT</td>\n",
       "      <td>72000.0</td>\n",
       "      <td>2017/11/11</td>\n",
       "      <td>fully Paid</td>\n",
       "      <td>6</td>\n",
       "      <td>15099.982530</td>\n",
       "      <td>1099.98</td>\n",
       "    </tr>\n",
       "    <tr>\n",
       "      <th>4</th>\n",
       "      <td>35000.0</td>\n",
       "      <td>F</td>\n",
       "      <td>F5</td>\n",
       "      <td>4 years</td>\n",
       "      <td>MORTGAGE</td>\n",
       "      <td>100000.0</td>\n",
       "      <td>2017/10/11</td>\n",
       "      <td>Fully Paid</td>\n",
       "      <td>9</td>\n",
       "      <td>48743.119270</td>\n",
       "      <td>13743.12</td>\n",
       "    </tr>\n",
       "  </tbody>\n",
       "</table>\n",
       "</div>"
      ],
      "text/plain": [
       "   loan_amnt grade sub_grade emp_length home_ownership  annual_inc  \\\n",
       "0     5000.0     B        B2  10+ years           RENT     24000.0   \n",
       "1     2500.0     C        C4   < 1 year           RENT     30000.0   \n",
       "2    12500.0     D        D4  10+ years           RENT     74400.0   \n",
       "3    14000.0     A        A4  10+ years           RENT     72000.0   \n",
       "4    35000.0     F        F5    4 years       MORTGAGE    100000.0   \n",
       "\n",
       "      issue_d  loan_status  open_acc   total_pymnt  total_rec_int  \n",
       "0  2017/12/11   Fully Paid         3   5863.155187         863.16  \n",
       "1  2017/12/11  Charged Off         3   1014.530000         435.17  \n",
       "2  2017/11/11   Fully Paid         8  14722.411910        2222.41  \n",
       "3  2017/11/11   fully Paid         6  15099.982530        1099.98  \n",
       "4  2017/10/11   Fully Paid         9  48743.119270       13743.12  "
      ]
     },
     "execution_count": 49,
     "metadata": {},
     "output_type": "execute_result"
    }
   ],
   "source": [
    "# using pd.read_csv() to read a csv dataset\n",
    "import pandas as pd\n",
    "loan_data = pd.read_csv('datasets/loandata.csv')\n",
    "loan_data.head()"
   ]
  },
  {
   "cell_type": "code",
   "execution_count": 6,
   "metadata": {},
   "outputs": [
    {
     "name": "stdout",
     "output_type": "stream",
     "text": [
      "(68, 11)\n",
      "<class 'pandas.core.frame.DataFrame'>\n",
      "RangeIndex: 68 entries, 0 to 67\n",
      "Data columns (total 11 columns):\n",
      "loan_amnt         66 non-null float64\n",
      "grade             68 non-null object\n",
      "sub_grade         68 non-null object\n",
      "emp_length        67 non-null object\n",
      "home_ownership    68 non-null object\n",
      "annual_inc        65 non-null float64\n",
      "issue_d           68 non-null object\n",
      "loan_status       68 non-null object\n",
      "open_acc          68 non-null int64\n",
      "total_pymnt       68 non-null float64\n",
      "total_rec_int     68 non-null float64\n",
      "dtypes: float64(4), int64(1), object(6)\n",
      "memory usage: 5.9+ KB\n"
     ]
    }
   ],
   "source": [
    "# Display the shape of a DataFrame.\n",
    "print(loan_data.shape)\n",
    "\n",
    "# Collects info on data types and missing values in a DataFrame.\n",
    "loan_data.info()"
   ]
  },
  {
   "cell_type": "code",
   "execution_count": 50,
   "metadata": {},
   "outputs": [
    {
     "data": {
      "text/html": [
       "<div>\n",
       "<style scoped>\n",
       "    .dataframe tbody tr th:only-of-type {\n",
       "        vertical-align: middle;\n",
       "    }\n",
       "\n",
       "    .dataframe tbody tr th {\n",
       "        vertical-align: top;\n",
       "    }\n",
       "\n",
       "    .dataframe thead th {\n",
       "        text-align: right;\n",
       "    }\n",
       "</style>\n",
       "<table border=\"1\" class=\"dataframe\">\n",
       "  <thead>\n",
       "    <tr style=\"text-align: right;\">\n",
       "      <th></th>\n",
       "      <th>loan_amnt</th>\n",
       "      <th>annual_inc</th>\n",
       "      <th>open_acc</th>\n",
       "      <th>total_pymnt</th>\n",
       "      <th>total_rec_int</th>\n",
       "    </tr>\n",
       "  </thead>\n",
       "  <tbody>\n",
       "    <tr>\n",
       "      <th>count</th>\n",
       "      <td>66.000000</td>\n",
       "      <td>65.000000</td>\n",
       "      <td>68.000000</td>\n",
       "      <td>68.000000</td>\n",
       "      <td>68.000000</td>\n",
       "    </tr>\n",
       "    <tr>\n",
       "      <th>mean</th>\n",
       "      <td>19913.257576</td>\n",
       "      <td>73199.676923</td>\n",
       "      <td>9.264706</td>\n",
       "      <td>14637.408621</td>\n",
       "      <td>2965.349559</td>\n",
       "    </tr>\n",
       "    <tr>\n",
       "      <th>std</th>\n",
       "      <td>60650.680480</td>\n",
       "      <td>65755.454700</td>\n",
       "      <td>3.815200</td>\n",
       "      <td>11882.493935</td>\n",
       "      <td>3569.197500</td>\n",
       "    </tr>\n",
       "    <tr>\n",
       "      <th>min</th>\n",
       "      <td>1800.000000</td>\n",
       "      <td>16000.000000</td>\n",
       "      <td>2.000000</td>\n",
       "      <td>1014.530000</td>\n",
       "      <td>203.350000</td>\n",
       "    </tr>\n",
       "    <tr>\n",
       "      <th>25%</th>\n",
       "      <td>6000.000000</td>\n",
       "      <td>45600.000000</td>\n",
       "      <td>7.000000</td>\n",
       "      <td>6543.590000</td>\n",
       "      <td>988.145000</td>\n",
       "    </tr>\n",
       "    <tr>\n",
       "      <th>50%</th>\n",
       "      <td>11000.000000</td>\n",
       "      <td>63000.000000</td>\n",
       "      <td>9.000000</td>\n",
       "      <td>10819.285650</td>\n",
       "      <td>1612.175000</td>\n",
       "    </tr>\n",
       "    <tr>\n",
       "      <th>75%</th>\n",
       "      <td>17600.000000</td>\n",
       "      <td>82000.000000</td>\n",
       "      <td>11.250000</td>\n",
       "      <td>19901.630490</td>\n",
       "      <td>3046.635000</td>\n",
       "    </tr>\n",
       "    <tr>\n",
       "      <th>max</th>\n",
       "      <td>500000.000000</td>\n",
       "      <td>550000.000000</td>\n",
       "      <td>19.000000</td>\n",
       "      <td>48845.292210</td>\n",
       "      <td>14124.860000</td>\n",
       "    </tr>\n",
       "  </tbody>\n",
       "</table>\n",
       "</div>"
      ],
      "text/plain": [
       "           loan_amnt     annual_inc   open_acc   total_pymnt  total_rec_int\n",
       "count      66.000000      65.000000  68.000000     68.000000      68.000000\n",
       "mean    19913.257576   73199.676923   9.264706  14637.408621    2965.349559\n",
       "std     60650.680480   65755.454700   3.815200  11882.493935    3569.197500\n",
       "min      1800.000000   16000.000000   2.000000   1014.530000     203.350000\n",
       "25%      6000.000000   45600.000000   7.000000   6543.590000     988.145000\n",
       "50%     11000.000000   63000.000000   9.000000  10819.285650    1612.175000\n",
       "75%     17600.000000   82000.000000  11.250000  19901.630490    3046.635000\n",
       "max    500000.000000  550000.000000  19.000000  48845.292210   14124.860000"
      ]
     },
     "execution_count": 50,
     "metadata": {},
     "output_type": "execute_result"
    }
   ],
   "source": [
    "# Obtain statistics of columns of the numeric type\n",
    "loan_data.describe()"
   ]
  },
  {
   "cell_type": "markdown",
   "metadata": {},
   "source": [
    "## Handling Missing Data\n"
   ]
  },
  {
   "cell_type": "code",
   "execution_count": 70,
   "metadata": {
    "scrolled": true
   },
   "outputs": [
    {
     "data": {
      "text/plain": [
       "loan_amnt          True\n",
       "grade             False\n",
       "sub_grade         False\n",
       "emp_length         True\n",
       "home_ownership    False\n",
       "annual_inc         True\n",
       "issue_d           False\n",
       "loan_status       False\n",
       "open_acc          False\n",
       "total_pymnt       False\n",
       "total_rec_int     False\n",
       "dtype: bool"
      ]
     },
     "execution_count": 70,
     "metadata": {},
     "output_type": "execute_result"
    }
   ],
   "source": [
    "# Check for any missing values in each column :\n",
    "loan_data.isnull().any()"
   ]
  },
  {
   "cell_type": "code",
   "execution_count": 71,
   "metadata": {
    "scrolled": true
   },
   "outputs": [
    {
     "data": {
      "text/plain": [
       "loan_amnt         2\n",
       "grade             0\n",
       "sub_grade         0\n",
       "emp_length        1\n",
       "home_ownership    0\n",
       "annual_inc        3\n",
       "issue_d           0\n",
       "loan_status       0\n",
       "open_acc          0\n",
       "total_pymnt       0\n",
       "total_rec_int     0\n",
       "dtype: int64"
      ]
     },
     "execution_count": 71,
     "metadata": {},
     "output_type": "execute_result"
    }
   ],
   "source": [
    "# count the missing values in each columns\n",
    "loan_data.isnull().sum(axis =0)"
   ]
  },
  {
   "cell_type": "code",
   "execution_count": 72,
   "metadata": {},
   "outputs": [
    {
     "data": {
      "text/html": [
       "<div>\n",
       "<style scoped>\n",
       "    .dataframe tbody tr th:only-of-type {\n",
       "        vertical-align: middle;\n",
       "    }\n",
       "\n",
       "    .dataframe tbody tr th {\n",
       "        vertical-align: top;\n",
       "    }\n",
       "\n",
       "    .dataframe thead th {\n",
       "        text-align: right;\n",
       "    }\n",
       "</style>\n",
       "<table border=\"1\" class=\"dataframe\">\n",
       "  <thead>\n",
       "    <tr style=\"text-align: right;\">\n",
       "      <th></th>\n",
       "      <th>loan_amnt</th>\n",
       "      <th>grade</th>\n",
       "      <th>sub_grade</th>\n",
       "      <th>emp_length</th>\n",
       "      <th>home_ownership</th>\n",
       "      <th>annual_inc</th>\n",
       "      <th>issue_d</th>\n",
       "      <th>loan_status</th>\n",
       "      <th>open_acc</th>\n",
       "      <th>total_pymnt</th>\n",
       "      <th>total_rec_int</th>\n",
       "    </tr>\n",
       "  </thead>\n",
       "  <tbody>\n",
       "    <tr>\n",
       "      <th>5</th>\n",
       "      <td>16000.0</td>\n",
       "      <td>C</td>\n",
       "      <td>C2</td>\n",
       "      <td>10+ years</td>\n",
       "      <td>OWN</td>\n",
       "      <td>NaN</td>\n",
       "      <td>2017/10/11</td>\n",
       "      <td>Charged Off</td>\n",
       "      <td>13</td>\n",
       "      <td>9202.000000</td>\n",
       "      <td>3800.05</td>\n",
       "    </tr>\n",
       "    <tr>\n",
       "      <th>29</th>\n",
       "      <td>NaN</td>\n",
       "      <td>A</td>\n",
       "      <td>A4</td>\n",
       "      <td>10+ years</td>\n",
       "      <td>RENT</td>\n",
       "      <td>58000.0</td>\n",
       "      <td>2017/1/11</td>\n",
       "      <td>Fully Paid</td>\n",
       "      <td>12</td>\n",
       "      <td>10994.614810</td>\n",
       "      <td>994.61</td>\n",
       "    </tr>\n",
       "    <tr>\n",
       "      <th>36</th>\n",
       "      <td>10000.0</td>\n",
       "      <td>C</td>\n",
       "      <td>C2</td>\n",
       "      <td>2 years</td>\n",
       "      <td>MORTGAGE</td>\n",
       "      <td>NaN</td>\n",
       "      <td>2017/9/10</td>\n",
       "      <td>Fully Paid</td>\n",
       "      <td>10</td>\n",
       "      <td>13181.651550</td>\n",
       "      <td>3181.65</td>\n",
       "    </tr>\n",
       "    <tr>\n",
       "      <th>45</th>\n",
       "      <td>NaN</td>\n",
       "      <td>B</td>\n",
       "      <td>B5</td>\n",
       "      <td>8 years</td>\n",
       "      <td>MORTGAGE</td>\n",
       "      <td>62400.0</td>\n",
       "      <td>2017/8/10</td>\n",
       "      <td>Charged Off</td>\n",
       "      <td>8</td>\n",
       "      <td>5207.370000</td>\n",
       "      <td>1520.88</td>\n",
       "    </tr>\n",
       "    <tr>\n",
       "      <th>46</th>\n",
       "      <td>2000.0</td>\n",
       "      <td>A</td>\n",
       "      <td>A1</td>\n",
       "      <td>NaN</td>\n",
       "      <td>OWN</td>\n",
       "      <td>16000.0</td>\n",
       "      <td>2017/7/10</td>\n",
       "      <td>Fully Paid</td>\n",
       "      <td>9</td>\n",
       "      <td>2203.348430</td>\n",
       "      <td>203.35</td>\n",
       "    </tr>\n",
       "    <tr>\n",
       "      <th>60</th>\n",
       "      <td>4000.0</td>\n",
       "      <td>B</td>\n",
       "      <td>B2</td>\n",
       "      <td>2 years</td>\n",
       "      <td>RENT</td>\n",
       "      <td>NaN</td>\n",
       "      <td>2017/5/10</td>\n",
       "      <td>Fully Paid</td>\n",
       "      <td>3</td>\n",
       "      <td>4318.218537</td>\n",
       "      <td>318.22</td>\n",
       "    </tr>\n",
       "  </tbody>\n",
       "</table>\n",
       "</div>"
      ],
      "text/plain": [
       "    loan_amnt grade sub_grade emp_length home_ownership  annual_inc  \\\n",
       "5     16000.0     C        C2  10+ years            OWN         NaN   \n",
       "29        NaN     A        A4  10+ years           RENT     58000.0   \n",
       "36    10000.0     C        C2    2 years       MORTGAGE         NaN   \n",
       "45        NaN     B        B5    8 years       MORTGAGE     62400.0   \n",
       "46     2000.0     A        A1        NaN            OWN     16000.0   \n",
       "60     4000.0     B        B2    2 years           RENT         NaN   \n",
       "\n",
       "       issue_d  loan_status  open_acc   total_pymnt  total_rec_int  \n",
       "5   2017/10/11  Charged Off        13   9202.000000        3800.05  \n",
       "29   2017/1/11   Fully Paid        12  10994.614810         994.61  \n",
       "36   2017/9/10   Fully Paid        10  13181.651550        3181.65  \n",
       "45   2017/8/10  Charged Off         8   5207.370000        1520.88  \n",
       "46   2017/7/10   Fully Paid         9   2203.348430         203.35  \n",
       "60   2017/5/10   Fully Paid         3   4318.218537         318.22  "
      ]
     },
     "execution_count": 72,
     "metadata": {},
     "output_type": "execute_result"
    }
   ],
   "source": [
    "# Filter all rows that contain null values.\n",
    "loan_data[loan_data.isnull().values==True]"
   ]
  },
  {
   "cell_type": "code",
   "execution_count": 73,
   "metadata": {},
   "outputs": [
    {
     "name": "stdout",
     "output_type": "stream",
     "text": [
      "(68, 11)\n",
      "(62, 11)\n"
     ]
    }
   ],
   "source": [
    "# Delete rows that contain any null values.\n",
    "new_df = loan_data.dropna(how = 'any',axis =0)\n",
    "print(loan_data.shape)\n",
    "print(new_df.shape)"
   ]
  },
  {
   "cell_type": "markdown",
   "metadata": {},
   "source": [
    "### Imputer missing values by fillna()\n"
   ]
  },
  {
   "cell_type": "code",
   "execution_count": 51,
   "metadata": {},
   "outputs": [
    {
     "data": {
      "text/plain": [
       "0     24000.0\n",
       "1     30000.0\n",
       "2     74400.0\n",
       "3     72000.0\n",
       "4    100000.0\n",
       "Name: annual_inc, dtype: float64"
      ]
     },
     "execution_count": 51,
     "metadata": {},
     "output_type": "execute_result"
    }
   ],
   "source": [
    "# fill the missing values with mean value in 'annual_inc' column\n",
    "loan_data.annual_inc.fillna(value = loan_data.annual_inc.mean(axis=0))\n",
    "loan_data.annual_inc[0:5]"
   ]
  },
  {
   "cell_type": "code",
   "execution_count": 77,
   "metadata": {},
   "outputs": [
    {
     "data": {
      "text/plain": [
       "0     24000.0\n",
       "1     30000.0\n",
       "2     74400.0\n",
       "3     72000.0\n",
       "4    100000.0\n",
       "Name: annual_inc, dtype: float64"
      ]
     },
     "execution_count": 77,
     "metadata": {},
     "output_type": "execute_result"
    }
   ],
   "source": [
    "# Fill values forward.\n",
    "loan_data.annual_inc.fillna(method='ffill')[0:5]"
   ]
  },
  {
   "cell_type": "markdown",
   "metadata": {},
   "source": [
    "## Aggregating and Grouping Data\n",
    "Tasks:\n",
    "1. group the loan_data by 'grade',calculate the means for each group\n",
    "\n",
    "Hints:  \n",
    "1. using dataframe.groupby() method to split the dataframe into different groups,then using group.agg() method to calculate the mean for each row.\n"
   ]
  },
  {
   "cell_type": "code",
   "execution_count": 7,
   "metadata": {},
   "outputs": [
    {
     "data": {
      "text/html": [
       "<div>\n",
       "<style scoped>\n",
       "    .dataframe tbody tr th:only-of-type {\n",
       "        vertical-align: middle;\n",
       "    }\n",
       "\n",
       "    .dataframe tbody tr th {\n",
       "        vertical-align: top;\n",
       "    }\n",
       "\n",
       "    .dataframe thead th {\n",
       "        text-align: right;\n",
       "    }\n",
       "</style>\n",
       "<table border=\"1\" class=\"dataframe\">\n",
       "  <thead>\n",
       "    <tr style=\"text-align: right;\">\n",
       "      <th></th>\n",
       "      <th>loan_amnt</th>\n",
       "    </tr>\n",
       "    <tr>\n",
       "      <th>grade</th>\n",
       "      <th></th>\n",
       "    </tr>\n",
       "  </thead>\n",
       "  <tbody>\n",
       "    <tr>\n",
       "      <th>A</th>\n",
       "      <td>9218.750000</td>\n",
       "    </tr>\n",
       "    <tr>\n",
       "      <th>B</th>\n",
       "      <td>10120.588235</td>\n",
       "    </tr>\n",
       "    <tr>\n",
       "      <th>C</th>\n",
       "      <td>10692.857143</td>\n",
       "    </tr>\n",
       "    <tr>\n",
       "      <th>D</th>\n",
       "      <td>12518.181818</td>\n",
       "    </tr>\n",
       "    <tr>\n",
       "      <th>E</th>\n",
       "      <td>109166.666667</td>\n",
       "    </tr>\n",
       "    <tr>\n",
       "      <th>F</th>\n",
       "      <td>26162.500000</td>\n",
       "    </tr>\n",
       "  </tbody>\n",
       "</table>\n",
       "</div>"
      ],
      "text/plain": [
       "           loan_amnt\n",
       "grade               \n",
       "A        9218.750000\n",
       "B       10120.588235\n",
       "C       10692.857143\n",
       "D       12518.181818\n",
       "E      109166.666667\n",
       "F       26162.500000"
      ]
     },
     "execution_count": 7,
     "metadata": {},
     "output_type": "execute_result"
    }
   ],
   "source": [
    "# grouping the loan data by 'grade',then apply a aggregation function of mean on each group\n",
    "loan_data.groupby('grade').agg({'loan_amnt':'mean'})"
   ]
  },
  {
   "cell_type": "markdown",
   "metadata": {},
   "source": [
    "### Plot with Pandas\n",
    "Tasks:  \n",
    "draw the histogram of data from the column loan_amnt\n",
    "\n",
    "Hint:\n",
    "1. using Series.plot.hist() method to draw a histogram from a column"
   ]
  },
  {
   "cell_type": "code",
   "execution_count": 52,
   "metadata": {},
   "outputs": [
    {
     "data": {
      "image/png": "[encoded data removed]",
      "text/plain": [
       "<Figure size 432x288 with 1 Axes>"
      ]
     },
     "metadata": {},
     "output_type": "display_data"
    }
   ],
   "source": [
    "#Using the plot.hist() method to plot a histogram of the values from loan_amnt feature\n",
    "amount = loan_data.loan_amnt\n",
    "amount.plot.hist(bins =100)\n",
    "plt.title('The distributino of loan_amount')\n",
    "plt.show()"
   ]
  }
 ],
 "metadata": {
  "kernelspec": {
   "display_name": "Python 3",
   "language": "python",
   "name": "python3"
  },
  "language_info": {
   "codemirror_mode": {
    "name": "ipython",
    "version": 3
   },
   "file_extension": ".py",
   "mimetype": "text/x-python",
   "name": "python",
   "nbconvert_exporter": "python",
   "pygments_lexer": "ipython3",
   "version": "3.6.4"
  }
 },
 "nbformat": 4,
 "nbformat_minor": 2
}
