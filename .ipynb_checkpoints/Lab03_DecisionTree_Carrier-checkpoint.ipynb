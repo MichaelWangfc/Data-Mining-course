{
 "cells": [
  {
   "cell_type": "markdown",
   "metadata": {},
   "source": [
    "# Modeling:\n",
    "We want to use the decision tree algorithm on the carrier's historical data of users last year, such as t, users' serves information, calling duration, called duration … etc., to predict whether the user will be a potential contract user or not."
   ]
  },
  {
   "cell_type": "markdown",
   "metadata": {},
   "source": [
    "### Data Description:\n",
    "- Data Set Characteristics: Multivariate\n",
    "- Number of Instances:10000\n",
    "- Area: Telecom\n",
    "- Attribute Characteristics:Categorical, Integer\n",
    "- Number of Attributes:13\n",
    "- Date Created:2018-06-30\n",
    "- Missing Values? No"
   ]
  },
  {
   "cell_type": "markdown",
   "metadata": {},
   "source": [
    "### Data Description:\n",
    "column name       | Description   |Unit| Type  | Valuse\n",
    "--------------|---------|--------|-----\n",
    "USER_ID     |a identifier for users | | int   |\n",
    "SERVICE_KIND  |the service for telecom user| | string | 2G\\3G\\4G\n",
    "CALL_DURATION|the average duration of user who call others|minitue| double\n",
    "CALLED_DURATION|the average duration of user who is called by others|minitue|double\n",
    "IN_PACKAGE_FLUX|the average used flux of user in the their flux package |MB| double\n",
    "OUT_PACKAGE_FLUX|the average used flux of user out of the their flux package |MB| double\n",
    "MONTHLY_ONLINE_DURATION|the average online duration for user monthly last year|Hour| double\n",
    "NET_DURATION |the number of days of user who is online last year |Hour|long\n",
    "LAST_RECHARGE_VALUE| the last recharge value of last year|Yuan | double\n",
    "TOTAL_RECHARGE_VALUE|the total recharge value of user last year|Yuan|double\n",
    "TOTAL_RECHARGE_COUNT|the total counts of user last year|| int\n",
    "BALANCED| the balanced of user|Yuan|double\n",
    "CONTRACTUSER_FLAG|whether the user is a contracter user|  | int| 0/1"
   ]
  },
  {
   "cell_type": "markdown",
   "metadata": {},
   "source": [
    "# Reading data\n",
    "Tasks:\n",
    "1. import the comomon python module:\n",
    "1. Read training data from the local computer.\n",
    "    file name：carrier_contractuser.csv  \n",
    "    encoding：utf8  \n",
    "    sep： |  \n",
    "\n",
    "3. show the first 5 rows of the data\n",
    " \n",
    "Hint:using pd.read_csv() to read csv data into a DataFrame object"
   ]
  },
  {
   "cell_type": "code",
   "execution_count": 1,
   "metadata": {},
   "outputs": [],
   "source": [
    "# import the comomon python module:\n",
    "# numpy: The fundamental package for scientific computing with Python，usually be called as np for short\n",
    "# pandas: An open source,  easy-to-use data structures and data analysis tools for the Python, usually be called as pd for short\n",
    "# matplotlib.pyplot : a Python 2D plotting library,usually be be called as plt for short\n",
    "# %matplotlib inline：IPython Magic Functions\n",
    "\n",
    "#约4 lines code:\n",
    "import numpy as np\n",
    "import pandas as pd\n",
    "import matplotlib.pyplot as plt\n",
    "%matplotlib inline\n"
   ]
  },
  {
   "cell_type": "code",
   "execution_count": 2,
   "metadata": {},
   "outputs": [
    {
     "data": {
      "text/html": [
       "<div>\n",
       "<style scoped>\n",
       "    .dataframe tbody tr th:only-of-type {\n",
       "        vertical-align: middle;\n",
       "    }\n",
       "\n",
       "    .dataframe tbody tr th {\n",
       "        vertical-align: top;\n",
       "    }\n",
       "\n",
       "    .dataframe thead th {\n",
       "        text-align: right;\n",
       "    }\n",
       "</style>\n",
       "<table border=\"1\" class=\"dataframe\">\n",
       "  <thead>\n",
       "    <tr style=\"text-align: right;\">\n",
       "      <th></th>\n",
       "      <th>USER_ID</th>\n",
       "      <th>SERVICE_KIND</th>\n",
       "      <th>CALL_DURATION</th>\n",
       "      <th>CALLED_DURATION</th>\n",
       "      <th>IN_PACKAGE_FLUX</th>\n",
       "      <th>OUT_PACKAGE_FLUX</th>\n",
       "      <th>MONTHLY_ONLINE_DURATION</th>\n",
       "      <th>NET_DURATION</th>\n",
       "      <th>LAST_RECHARGE_VALUE</th>\n",
       "      <th>TOTAL_RECHARGE_VALUE</th>\n",
       "      <th>TOTAL_RECHARGE_COUNT</th>\n",
       "      <th>BALANCED</th>\n",
       "      <th>CONTRACTUSER_FLAG</th>\n",
       "    </tr>\n",
       "  </thead>\n",
       "  <tbody>\n",
       "    <tr>\n",
       "      <th>0</th>\n",
       "      <td>66069</td>\n",
       "      <td>3G</td>\n",
       "      <td>70.0</td>\n",
       "      <td>97.0</td>\n",
       "      <td>395.0</td>\n",
       "      <td>13.0</td>\n",
       "      <td>64.0</td>\n",
       "      <td>168.0</td>\n",
       "      <td>59.0</td>\n",
       "      <td>465.0</td>\n",
       "      <td>7.0</td>\n",
       "      <td>36.0</td>\n",
       "      <td>0</td>\n",
       "    </tr>\n",
       "    <tr>\n",
       "      <th>1</th>\n",
       "      <td>64410</td>\n",
       "      <td>3G</td>\n",
       "      <td>94.0</td>\n",
       "      <td>79.0</td>\n",
       "      <td>366.0</td>\n",
       "      <td>35.0</td>\n",
       "      <td>59.0</td>\n",
       "      <td>182.0</td>\n",
       "      <td>70.0</td>\n",
       "      <td>542.0</td>\n",
       "      <td>13.0</td>\n",
       "      <td>66.0</td>\n",
       "      <td>0</td>\n",
       "    </tr>\n",
       "    <tr>\n",
       "      <th>2</th>\n",
       "      <td>60110</td>\n",
       "      <td>3G</td>\n",
       "      <td>92.0</td>\n",
       "      <td>99.0</td>\n",
       "      <td>390.0</td>\n",
       "      <td>44.0</td>\n",
       "      <td>134.0</td>\n",
       "      <td>219.0</td>\n",
       "      <td>8.0</td>\n",
       "      <td>548.0</td>\n",
       "      <td>8.0</td>\n",
       "      <td>110.0</td>\n",
       "      <td>1</td>\n",
       "    </tr>\n",
       "    <tr>\n",
       "      <th>3</th>\n",
       "      <td>69600</td>\n",
       "      <td>4G</td>\n",
       "      <td>131.0</td>\n",
       "      <td>87.0</td>\n",
       "      <td>391.0</td>\n",
       "      <td>0.0</td>\n",
       "      <td>128.0</td>\n",
       "      <td>180.0</td>\n",
       "      <td>63.0</td>\n",
       "      <td>498.0</td>\n",
       "      <td>4.0</td>\n",
       "      <td>30.0</td>\n",
       "      <td>1</td>\n",
       "    </tr>\n",
       "    <tr>\n",
       "      <th>4</th>\n",
       "      <td>64683</td>\n",
       "      <td>4G</td>\n",
       "      <td>74.0</td>\n",
       "      <td>104.0</td>\n",
       "      <td>397.0</td>\n",
       "      <td>35.0</td>\n",
       "      <td>112.0</td>\n",
       "      <td>258.0</td>\n",
       "      <td>68.0</td>\n",
       "      <td>614.0</td>\n",
       "      <td>15.0</td>\n",
       "      <td>18.0</td>\n",
       "      <td>1</td>\n",
       "    </tr>\n",
       "  </tbody>\n",
       "</table>\n",
       "</div>"
      ],
      "text/plain": [
       "   USER_ID SERVICE_KIND  CALL_DURATION  CALLED_DURATION  IN_PACKAGE_FLUX  \\\n",
       "0    66069           3G           70.0             97.0            395.0   \n",
       "1    64410           3G           94.0             79.0            366.0   \n",
       "2    60110           3G           92.0             99.0            390.0   \n",
       "3    69600           4G          131.0             87.0            391.0   \n",
       "4    64683           4G           74.0            104.0            397.0   \n",
       "\n",
       "   OUT_PACKAGE_FLUX  MONTHLY_ONLINE_DURATION  NET_DURATION  \\\n",
       "0              13.0                     64.0         168.0   \n",
       "1              35.0                     59.0         182.0   \n",
       "2              44.0                    134.0         219.0   \n",
       "3               0.0                    128.0         180.0   \n",
       "4              35.0                    112.0         258.0   \n",
       "\n",
       "   LAST_RECHARGE_VALUE  TOTAL_RECHARGE_VALUE  TOTAL_RECHARGE_COUNT  BALANCED  \\\n",
       "0                 59.0                 465.0                   7.0      36.0   \n",
       "1                 70.0                 542.0                  13.0      66.0   \n",
       "2                  8.0                 548.0                   8.0     110.0   \n",
       "3                 63.0                 498.0                   4.0      30.0   \n",
       "4                 68.0                 614.0                  15.0      18.0   \n",
       "\n",
       "   CONTRACTUSER_FLAG  \n",
       "0                  0  \n",
       "1                  0  \n",
       "2                  1  \n",
       "3                  1  \n",
       "4                  1  "
      ]
     },
     "execution_count": 2,
     "metadata": {},
     "output_type": "execute_result"
    }
   ],
   "source": [
    "# Read training data from the local computer and show the first 5 rows of data.\n",
    "data= pd.read_csv(r'datasets/carrier_contractuser.csv',encoding ='utf8',sep ='|')\n",
    "data.head()"
   ]
  },
  {
   "cell_type": "markdown",
   "metadata": {},
   "source": [
    "# Data exploring\n",
    "Tasks:  \n",
    "1. Display the data size and data basic information.\n",
    "2. Compare the calling duration distribution of different users by parallel hisgrams.\n",
    "3. Compare the called duration distribution of different usersby parallel hisgrams .\n",
    "4. Compare the service types of different users by side-by-side bar graph.\n",
    "\n",
    "Hint: \n",
    "1. using dataframe.shape atrribute to show the size of data\n",
    "1. using dataframe.info() method to show the information"
   ]
  },
  {
   "cell_type": "code",
   "execution_count": 3,
   "metadata": {},
   "outputs": [
    {
     "name": "stdout",
     "output_type": "stream",
     "text": [
      "The size of the data is: (10000, 13)\n",
      "<class 'pandas.core.frame.DataFrame'>\n",
      "RangeIndex: 10000 entries, 0 to 9999\n",
      "Data columns (total 13 columns):\n",
      "USER_ID                    10000 non-null int64\n",
      "SERVICE_KIND               10000 non-null object\n",
      "CALL_DURATION              10000 non-null float64\n",
      "CALLED_DURATION            10000 non-null float64\n",
      "IN_PACKAGE_FLUX            10000 non-null float64\n",
      "OUT_PACKAGE_FLUX           10000 non-null float64\n",
      "MONTHLY_ONLINE_DURATION    10000 non-null float64\n",
      "NET_DURATION               10000 non-null float64\n",
      "LAST_RECHARGE_VALUE        10000 non-null float64\n",
      "TOTAL_RECHARGE_VALUE       10000 non-null float64\n",
      "TOTAL_RECHARGE_COUNT       10000 non-null float64\n",
      "BALANCED                   10000 non-null float64\n",
      "CONTRACTUSER_FLAG          10000 non-null int64\n",
      "dtypes: float64(10), int64(2), object(1)\n",
      "memory usage: 1015.7+ KB\n"
     ]
    }
   ],
   "source": [
    "# Display the data size and data basic information.\n",
    "# About 2 line code:\n",
    "print('The size of the data is:',data.shape)\n",
    "\n",
    "data.info()"
   ]
  },
  {
   "cell_type": "markdown",
   "metadata": {},
   "source": [
    "### Compare the calling duration distribution of different users by parallel hisgrams."
   ]
  },
  {
   "cell_type": "code",
   "execution_count": 4,
   "metadata": {},
   "outputs": [
    {
     "data": {
      "text/plain": [
       "<matplotlib.legend.Legend at 0x956f198>"
      ]
     },
     "execution_count": 4,
     "metadata": {},
     "output_type": "execute_result"
    },
    {
     "data": {
      "image/png": "[encoded data removed]",
      "text/plain": [
       "<Figure size 432x288 with 1 Axes>"
      ]
     },
     "metadata": {},
     "output_type": "display_data"
    }
   ],
   "source": [
    "# set the boolen indexing for contrachter user\n",
    "# Hint: data[column_name] == value\n",
    "cond = data['CONTRACTUSER_FLAG']==1\n",
    "\n",
    "# Plot the historgram about the column of CALL_DURATION from contrachter user\n",
    "# Hint：dataframe.hist() method to plot a histgram\n",
    "data[cond]['CALL_DURATION'].hist(alpha =0.5,label='CONTRACT_USER')\n",
    "\n",
    "\n",
    "# Plot the historgram about the column of  CALL_DURATION from none contrachter user\n",
    "data[~cond]['CALL_DURATION'].hist(color='r',alpha = 0.5,\n",
    "                            label='NONE_CONTRACT_USER')\n",
    "\n",
    "# show the labels for the plots\n",
    "# Hint: plt.legend() method to show the labels\n",
    "plt.legend()"
   ]
  },
  {
   "cell_type": "markdown",
   "metadata": {},
   "source": [
    "### Compare the called duration distribution of different users by parallel hisgrams."
   ]
  },
  {
   "cell_type": "code",
   "execution_count": 5,
   "metadata": {},
   "outputs": [
    {
     "data": {
      "text/plain": [
       "<matplotlib.legend.Legend at 0x916fa90>"
      ]
     },
     "execution_count": 5,
     "metadata": {},
     "output_type": "execute_result"
    },
    {
     "data": {
      "image/png": "[encoded data removed]",
      "text/plain": [
       "<Figure size 432x288 with 1 Axes>"
      ]
     },
     "metadata": {},
     "output_type": "display_data"
    }
   ],
   "source": [
    "# set the boolen indexing for contrachter user\n",
    "# Hint: data[column_name] == value\n",
    "cond = data['CONTRACTUSER_FLAG']==1\n",
    "\n",
    "# Plot the historgram about the column of CALLED_DURATION from contrachter user\n",
    "# Hint：dataframe.hist() method to plot a histgram\n",
    "data[cond]['CALLED_DURATION'].hist(alpha =0.5,label='CONTRACT_USER')\n",
    "\n",
    "# Plot the historgram about the column of  CALLED_DURATION from none contrachter user\n",
    "data[~cond]['CALLED_DURATION'].hist(color='r',alpha = 0.5,\n",
    "                            label='NONE_CONTRACT_USER')\n",
    "\n",
    "# show the labels for the plots\n",
    "# Hint: plt.legend() method to show the labels\n",
    "plt.legend()"
   ]
  },
  {
   "cell_type": "markdown",
   "metadata": {},
   "source": [
    "### Compare the service types of different users by side-by-side bar graph."
   ]
  },
  {
   "cell_type": "code",
   "execution_count": 6,
   "metadata": {},
   "outputs": [
    {
     "data": {
      "text/plain": [
       "<matplotlib.axes._subplots.AxesSubplot at 0x965ee48>"
      ]
     },
     "execution_count": 6,
     "metadata": {},
     "output_type": "execute_result"
    },
    {
     "data": {
      "image/png": "[encoded data removed]",
      "text/plain": [
       "<Figure size 432x288 with 1 Axes>"
      ]
     },
     "metadata": {},
     "output_type": "display_data"
    }
   ],
   "source": [
    "# Group the data by CONTRACTUSER_FLAG and SERVICE_KIND and then plot a side-by-side bar graph.\n",
    "# Hint: \n",
    "#using dataframe.groupby() mehod to group the data\n",
    "#using unstack() method \n",
    "#using dataframe.plot(kind='bar') method to plot a bar graph\n",
    "\n",
    "grouped =data.groupby(['CONTRACTUSER_FLAG','SERVICE_KIND'])['USER_ID'].count().unstack()\n",
    "\n",
    "grouped.plot(kind= 'bar',alpha =1.0,rot = 0)"
   ]
  },
  {
   "cell_type": "markdown",
   "metadata": {},
   "source": [
    "### Display the sample balance  for different labels\n",
    "Hint: using dataframe.value_counts() method"
   ]
  },
  {
   "cell_type": "code",
   "execution_count": 7,
   "metadata": {},
   "outputs": [
    {
     "data": {
      "text/plain": [
       "1    5003\n",
       "0    4997\n",
       "Name: CONTRACTUSER_FLAG, dtype: int64"
      ]
     },
     "execution_count": 7,
     "metadata": {},
     "output_type": "execute_result"
    }
   ],
   "source": [
    "data['CONTRACTUSER_FLAG'].value_counts()"
   ]
  },
  {
   "cell_type": "markdown",
   "metadata": {},
   "source": [
    "### Relationship between calling duration (minutes) & in-package data usage and contract user potential"
   ]
  },
  {
   "cell_type": "code",
   "execution_count": 8,
   "metadata": {},
   "outputs": [
    {
     "data": {
      "text/plain": [
       "<matplotlib.collections.PathCollection at 0xa73bbe0>"
      ]
     },
     "execution_count": 8,
     "metadata": {},
     "output_type": "execute_result"
    },
    {
     "data": {
      "image/png": "[encoded data removed]",
      "text/plain": [
       "<Figure size 432x288 with 1 Axes>"
      ]
     },
     "metadata": {},
     "output_type": "display_data"
    }
   ],
   "source": [
    "y = data.loc[:,'CONTRACTUSER_FLAG']\n",
    "plt.scatter(data.loc[:,'CALL_DURATION'],data.loc[:,'IN_PACKAGE_FLUX'],c=y,alpha=0.5)"
   ]
  },
  {
   "cell_type": "markdown",
   "metadata": {},
   "source": [
    "#  Feature engineering(Data Preprocessing)\n",
    "Tasks:\n",
    "1. Split the feature data sets and label data set and show the size of the features and label data.\n",
    "2. One-hot-encoding for categorical feature of SERVICE_KIND\n",
    "\n",
    "Hint:\n",
    "1. usiing dataframe.iloc[] mehtod or .loc[] metho to select columns from dataframe "
   ]
  },
  {
   "cell_type": "markdown",
   "metadata": {},
   "source": [
    "### Split the feature data sets and label data set."
   ]
  },
  {
   "cell_type": "code",
   "execution_count": 9,
   "metadata": {},
   "outputs": [
    {
     "name": "stdout",
     "output_type": "stream",
     "text": [
      "The shape of X is (10000, 11)\n",
      "The shape of y is (10000,)\n"
     ]
    }
   ],
   "source": [
    "X = data.loc[:,'SERVICE_KIND':'BALANCED']\n",
    "y= data.loc[:,'CONTRACTUSER_FLAG']\n",
    "print('The shape of X is {0}'.format(X.shape))\n",
    "print('The shape of y is {0}'.format(y.shape))"
   ]
  },
  {
   "cell_type": "markdown",
   "metadata": {},
   "source": [
    "### One-hot-encoding for categorical feature of SERVICE_KIND\n",
    "1. Encode labels with value between 0 and n_classes-1 \n",
    "2. OneHotEncoder() for differnet values"
   ]
  },
  {
   "cell_type": "code",
   "execution_count": 10,
   "metadata": {
    "scrolled": true
   },
   "outputs": [
    {
     "name": "stdout",
     "output_type": "stream",
     "text": [
      "['2G' '3G' '4G']\n",
      "['3G', '3G', '3G', '4G', '4G']\n",
      "[1 1 1 2 2]\n"
     ]
    }
   ],
   "source": [
    "# Encode labels with value between 0 and n_classes-1 \n",
    "# impoort LabelEncoder() method from sklearn.preprocessing\n",
    "# impoort OneHotEncoder() method from sklearn.preprocessing\n",
    "from sklearn.preprocessing import LabelEncoder\n",
    "from sklearn.preprocessing import OneHotEncoder\n",
    "\n",
    "# create a instance of LabelEncoder\n",
    "labelEncoder = LabelEncoder()\n",
    "\n",
    "# train the labelEncoder on the whole data set\n",
    "labelEncoder.fit(X.SERVICE_KIND)\n",
    "\n",
    "# print the classes from  the valuse in SERVICE_KIND feature\n",
    "print(labelEncoder.classes_)\n",
    "\n",
    "#transfom the SERVICE_KIND feature into intergers\n",
    "SERVICE_LABELCODER= labelEncoder.transform(X.SERVICE_KIND)\n",
    "\n",
    "#show the first 5 item from SERVICE_KIND and SERVICE_LABELCODER\n",
    "print(X.SERVICE_KIND[0:5].tolist())\n",
    "\n",
    "print(SERVICE_LABELCODER[0:5])"
   ]
  },
  {
   "cell_type": "code",
   "execution_count": 11,
   "metadata": {},
   "outputs": [
    {
     "name": "stdout",
     "output_type": "stream",
     "text": [
      "[0 1 2]\n",
      "[[0. 1. 0.]\n",
      " [0. 1. 0.]\n",
      " [0. 1. 0.]\n",
      " [0. 0. 1.]\n",
      " [0. 0. 1.]]\n"
     ]
    }
   ],
   "source": [
    "# Using OncHotEncoder to convert categorical features into the 0/1 encoding type.\n",
    "#Create a instance of OncHotEncoder\n",
    "enc = OneHotEncoder()\n",
    "\n",
    "# Hint: OneHotEncoder.fit() method need the input array be 2 dimesions, \n",
    "# so we can use ndarray.reshape((-1,1)) method to transofrom a 1 dimesion array of size= (n,) \n",
    "# to 2 dimesions array of size = (n,1)\n",
    "SERVICE_ENC = enc.fit(SERVICE_LABELCODER.reshape((-1,1)))\n",
    "\n",
    "# transform the SERVICE_LABELCODER into he 0/1 encoding type.\n",
    "SERVICE_ENC = enc.transform(SERVICE_LABELCODER.reshape((-1,1)))\n",
    "\n",
    "#print the features from SERVICE_LABELCODER\n",
    "print(enc.active_features_)\n",
    "\n",
    "#print the one-hot-encodeded values of the first 5 one-hot-encodeded items of the SERVIEC_KING column\n",
    "#Hint: use to array() method to transform a sparse matrix into a dense matrix\n",
    "print(SERVICE_ENC.toarray()[0:5])"
   ]
  },
  {
   "cell_type": "code",
   "execution_count": 12,
   "metadata": {},
   "outputs": [
    {
     "data": {
      "text/html": [
       "<div>\n",
       "<style scoped>\n",
       "    .dataframe tbody tr th:only-of-type {\n",
       "        vertical-align: middle;\n",
       "    }\n",
       "\n",
       "    .dataframe tbody tr th {\n",
       "        vertical-align: top;\n",
       "    }\n",
       "\n",
       "    .dataframe thead th {\n",
       "        text-align: right;\n",
       "    }\n",
       "</style>\n",
       "<table border=\"1\" class=\"dataframe\">\n",
       "  <thead>\n",
       "    <tr style=\"text-align: right;\">\n",
       "      <th></th>\n",
       "      <th>2G</th>\n",
       "      <th>3G</th>\n",
       "      <th>4G</th>\n",
       "    </tr>\n",
       "  </thead>\n",
       "  <tbody>\n",
       "    <tr>\n",
       "      <th>0</th>\n",
       "      <td>0.0</td>\n",
       "      <td>1.0</td>\n",
       "      <td>0.0</td>\n",
       "    </tr>\n",
       "    <tr>\n",
       "      <th>1</th>\n",
       "      <td>0.0</td>\n",
       "      <td>1.0</td>\n",
       "      <td>0.0</td>\n",
       "    </tr>\n",
       "    <tr>\n",
       "      <th>2</th>\n",
       "      <td>0.0</td>\n",
       "      <td>1.0</td>\n",
       "      <td>0.0</td>\n",
       "    </tr>\n",
       "    <tr>\n",
       "      <th>3</th>\n",
       "      <td>0.0</td>\n",
       "      <td>0.0</td>\n",
       "      <td>1.0</td>\n",
       "    </tr>\n",
       "    <tr>\n",
       "      <th>4</th>\n",
       "      <td>0.0</td>\n",
       "      <td>0.0</td>\n",
       "      <td>1.0</td>\n",
       "    </tr>\n",
       "  </tbody>\n",
       "</table>\n",
       "</div>"
      ],
      "text/plain": [
       "    2G   3G   4G\n",
       "0  0.0  1.0  0.0\n",
       "1  0.0  1.0  0.0\n",
       "2  0.0  1.0  0.0\n",
       "3  0.0  0.0  1.0\n",
       "4  0.0  0.0  1.0"
      ]
     },
     "execution_count": 12,
     "metadata": {},
     "output_type": "execute_result"
    }
   ],
   "source": [
    "#create the the columns for this one-hot-encodeded array\n",
    "column_ENC = labelEncoder.classes_\n",
    "\n",
    "# create a dataframe for this one-hot-encodeded array\n",
    "SERVICE_ENC_df = pd.DataFrame(SERVICE_ENC.toarray(),columns=column_ENC)\n",
    "\n",
    "#show the first 5 rows of the dataframe\n",
    "SERVICE_ENC_df.head()"
   ]
  },
  {
   "cell_type": "code",
   "execution_count": 13,
   "metadata": {},
   "outputs": [
    {
     "data": {
      "text/html": [
       "<div>\n",
       "<style scoped>\n",
       "    .dataframe tbody tr th:only-of-type {\n",
       "        vertical-align: middle;\n",
       "    }\n",
       "\n",
       "    .dataframe tbody tr th {\n",
       "        vertical-align: top;\n",
       "    }\n",
       "\n",
       "    .dataframe thead th {\n",
       "        text-align: right;\n",
       "    }\n",
       "</style>\n",
       "<table border=\"1\" class=\"dataframe\">\n",
       "  <thead>\n",
       "    <tr style=\"text-align: right;\">\n",
       "      <th></th>\n",
       "      <th>CALL_DURATION</th>\n",
       "      <th>CALLED_DURATION</th>\n",
       "      <th>IN_PACKAGE_FLUX</th>\n",
       "      <th>OUT_PACKAGE_FLUX</th>\n",
       "      <th>MONTHLY_ONLINE_DURATION</th>\n",
       "      <th>NET_DURATION</th>\n",
       "      <th>LAST_RECHARGE_VALUE</th>\n",
       "      <th>TOTAL_RECHARGE_VALUE</th>\n",
       "      <th>TOTAL_RECHARGE_COUNT</th>\n",
       "      <th>BALANCED</th>\n",
       "      <th>2G</th>\n",
       "      <th>3G</th>\n",
       "      <th>4G</th>\n",
       "    </tr>\n",
       "  </thead>\n",
       "  <tbody>\n",
       "    <tr>\n",
       "      <th>0</th>\n",
       "      <td>70.0</td>\n",
       "      <td>97.0</td>\n",
       "      <td>395.0</td>\n",
       "      <td>13.0</td>\n",
       "      <td>64.0</td>\n",
       "      <td>168.0</td>\n",
       "      <td>59.0</td>\n",
       "      <td>465.0</td>\n",
       "      <td>7.0</td>\n",
       "      <td>36.0</td>\n",
       "      <td>0.0</td>\n",
       "      <td>1.0</td>\n",
       "      <td>0.0</td>\n",
       "    </tr>\n",
       "    <tr>\n",
       "      <th>1</th>\n",
       "      <td>94.0</td>\n",
       "      <td>79.0</td>\n",
       "      <td>366.0</td>\n",
       "      <td>35.0</td>\n",
       "      <td>59.0</td>\n",
       "      <td>182.0</td>\n",
       "      <td>70.0</td>\n",
       "      <td>542.0</td>\n",
       "      <td>13.0</td>\n",
       "      <td>66.0</td>\n",
       "      <td>0.0</td>\n",
       "      <td>1.0</td>\n",
       "      <td>0.0</td>\n",
       "    </tr>\n",
       "    <tr>\n",
       "      <th>2</th>\n",
       "      <td>92.0</td>\n",
       "      <td>99.0</td>\n",
       "      <td>390.0</td>\n",
       "      <td>44.0</td>\n",
       "      <td>134.0</td>\n",
       "      <td>219.0</td>\n",
       "      <td>8.0</td>\n",
       "      <td>548.0</td>\n",
       "      <td>8.0</td>\n",
       "      <td>110.0</td>\n",
       "      <td>0.0</td>\n",
       "      <td>1.0</td>\n",
       "      <td>0.0</td>\n",
       "    </tr>\n",
       "    <tr>\n",
       "      <th>3</th>\n",
       "      <td>131.0</td>\n",
       "      <td>87.0</td>\n",
       "      <td>391.0</td>\n",
       "      <td>0.0</td>\n",
       "      <td>128.0</td>\n",
       "      <td>180.0</td>\n",
       "      <td>63.0</td>\n",
       "      <td>498.0</td>\n",
       "      <td>4.0</td>\n",
       "      <td>30.0</td>\n",
       "      <td>0.0</td>\n",
       "      <td>0.0</td>\n",
       "      <td>1.0</td>\n",
       "    </tr>\n",
       "    <tr>\n",
       "      <th>4</th>\n",
       "      <td>74.0</td>\n",
       "      <td>104.0</td>\n",
       "      <td>397.0</td>\n",
       "      <td>35.0</td>\n",
       "      <td>112.0</td>\n",
       "      <td>258.0</td>\n",
       "      <td>68.0</td>\n",
       "      <td>614.0</td>\n",
       "      <td>15.0</td>\n",
       "      <td>18.0</td>\n",
       "      <td>0.0</td>\n",
       "      <td>0.0</td>\n",
       "      <td>1.0</td>\n",
       "    </tr>\n",
       "  </tbody>\n",
       "</table>\n",
       "</div>"
      ],
      "text/plain": [
       "   CALL_DURATION  CALLED_DURATION  IN_PACKAGE_FLUX  OUT_PACKAGE_FLUX  \\\n",
       "0           70.0             97.0            395.0              13.0   \n",
       "1           94.0             79.0            366.0              35.0   \n",
       "2           92.0             99.0            390.0              44.0   \n",
       "3          131.0             87.0            391.0               0.0   \n",
       "4           74.0            104.0            397.0              35.0   \n",
       "\n",
       "   MONTHLY_ONLINE_DURATION  NET_DURATION  LAST_RECHARGE_VALUE  \\\n",
       "0                     64.0         168.0                 59.0   \n",
       "1                     59.0         182.0                 70.0   \n",
       "2                    134.0         219.0                  8.0   \n",
       "3                    128.0         180.0                 63.0   \n",
       "4                    112.0         258.0                 68.0   \n",
       "\n",
       "   TOTAL_RECHARGE_VALUE  TOTAL_RECHARGE_COUNT  BALANCED   2G   3G   4G  \n",
       "0                 465.0                   7.0      36.0  0.0  1.0  0.0  \n",
       "1                 542.0                  13.0      66.0  0.0  1.0  0.0  \n",
       "2                 548.0                   8.0     110.0  0.0  1.0  0.0  \n",
       "3                 498.0                   4.0      30.0  0.0  0.0  1.0  \n",
       "4                 614.0                  15.0      18.0  0.0  0.0  1.0  "
      ]
     },
     "execution_count": 13,
     "metadata": {},
     "output_type": "execute_result"
    }
   ],
   "source": [
    "# Concate the new dataframe from one-hot-encodering into the original dataset and drop the SERVICE_KIND feature\n",
    "#Hint:\n",
    "# using the pd.concat() method to concate two dataframe along axis =1, then using .drop() method to drop a column.\n",
    "X_enc = pd.concat([X,SERVICE_ENC_df],axis = 1).drop('SERVICE_KIND',axis=1)\n",
    "\n",
    "# show the first 5 rows of this new dataframe\n",
    "X_enc.head()"
   ]
  },
  {
   "cell_type": "code",
   "execution_count": null,
   "metadata": {},
   "outputs": [],
   "source": []
  },
  {
   "cell_type": "markdown",
   "metadata": {},
   "source": [
    "# Trainning and evaluation a simple Decision Tree model \n",
    "Tasks:\n",
    "1. Split the dataset into two parts: trainning(0.8) and testing datasets(0.2).\n",
    "2. Trainning and evaluation a simple Decision Tree model on trainning dataset.\n",
    "3. Evaluation a simple Decision Tree model on tesing dataset\n",
    "\n",
    "Hint:  \n",
    "1. using  train_test_split() method  from sklearn.model_selection import\n",
    "2. For reproduction, using random state = 112 "
   ]
  },
  {
   "cell_type": "markdown",
   "metadata": {},
   "source": [
    "### Train-test-split:\n",
    "Split the dataset into two parts: trainning(0.8) and testing datasets(0.2).\n",
    "Hint:  \n",
    "1. using  train_test_split() method  from sklearn.model_selection import\n",
    "2. For reproduction, using random state = 112 "
   ]
  },
  {
   "cell_type": "code",
   "execution_count": 14,
   "metadata": {
    "scrolled": false
   },
   "outputs": [
    {
     "name": "stdout",
     "output_type": "stream",
     "text": [
      "(8000, 13)\n",
      "(2000, 13)\n"
     ]
    }
   ],
   "source": [
    "# import train_test_split()  method from sklearn.model_selection\n",
    "from sklearn.model_selection import train_test_split\n",
    "\n",
    "# Split the dataset into two parts: trainning(0.8) and testing datasets(0.2).\n",
    "# For reproduction, using random state = 112, \n",
    "X_train,X_test,y_train,y_test = train_test_split(X_enc,y,test_size =0.2,\n",
    "                                                 random_state=112)\n",
    "\n",
    "# Print the size of training and tesint dataset \n",
    "print(X_train.shape)\n",
    "print(X_test.shape)"
   ]
  },
  {
   "cell_type": "markdown",
   "metadata": {},
   "source": [
    "### Trainning and evaluation a simple Decision Tree model on training dataset."
   ]
  },
  {
   "cell_type": "code",
   "execution_count": 15,
   "metadata": {},
   "outputs": [],
   "source": [
    "# from sklearn.tree import DecisionTreeClassifier() method\n",
    "from sklearn.tree import DecisionTreeClassifier\n",
    "\n",
    "# create an instance of DecisionTreeClassifier \n",
    "# and For reproduction,using random state = 113 \n",
    "dt_clf =  DecisionTreeClassifier(random_state=113)\n",
    "\n",
    "# trainning the DecisionTreeClassifier on the training dataset\n",
    "dt_clf.fit(X_train,y_train)\n",
    "\n",
    "# predicting the value on the testing dataset\n",
    "y_pred = dt_clf.predict(X_test)"
   ]
  },
  {
   "cell_type": "code",
   "execution_count": 16,
   "metadata": {},
   "outputs": [
    {
     "data": {
      "text/plain": [
       "DecisionTreeClassifier(class_weight=None, criterion='gini', max_depth=None,\n",
       "            max_features=None, max_leaf_nodes=None,\n",
       "            min_impurity_decrease=0.0, min_impurity_split=None,\n",
       "            min_samples_leaf=1, min_samples_split=2,\n",
       "            min_weight_fraction_leaf=0.0, presort=False, random_state=113,\n",
       "            splitter='best')"
      ]
     },
     "execution_count": 16,
     "metadata": {},
     "output_type": "execute_result"
    }
   ],
   "source": [
    "dt_clf"
   ]
  },
  {
   "cell_type": "markdown",
   "metadata": {},
   "source": [
    "### Evaluation a simple Decision Tree model on testing dataset"
   ]
  },
  {
   "cell_type": "code",
   "execution_count": null,
   "metadata": {},
   "outputs": [
    {
     "name": "stdout",
     "output_type": "stream",
     "text": [
      "The accuracy_score of the model for testing data is: 0.96\n",
      "confusion_matrix is: \n",
      " [[1002   36]\n",
      " [  44  918]]\n"
     ]
    }
   ],
   "source": [
    "# from klearn import metrics module\n",
    "from sklearn import metrics\n",
    "\n",
    "# Calculate the accuracy_score and print it \n",
    "# Hint:metrics.accuracy_score() method\n",
    "accuracy = metrics.accuracy_score(y_test,y_pred)\n",
    "print('The accuracy_score of the model for testing data is:',accuracy)\n",
    "\n",
    "\n",
    "#  Caculate the confusion matrix and print it \n",
    "# Hint: metrics.confusion_matrix() method\n",
    "confusion_matrix= metrics.confusion_matrix(y_test,y_pred)\n",
    "print('confusion_matrix is: \\n',confusion_matrix)"
   ]
  },
  {
   "cell_type": "markdown",
   "metadata": {},
   "source": [
    "# Decision Tree Model Parameter Optimization\n",
    "Tasks:\n",
    "1. Tuning the parameters of Decision tree \n",
    "2. Re-train the model using the optimized parameters.\n"
   ]
  },
  {
   "cell_type": "markdown",
   "metadata": {},
   "source": [
    "# Tuning the parameters of Decision tree  \n",
    "Major parameters that need tuning and relevant suggestions:\n",
    "1.\tmin_samples_split: minimum number of samples required to split an internal node.\n",
    "If the volume of the sample data set is small, this limit is not required. If the sample volume is large, you are advised to increase this value.\n",
    "2.\tmin_samples_leaf: minimum number of samples required to be at a leaf node.\n",
    "If the volume of the sample data set is small, this limit is not required.\n",
    "If the sample volume is large, you are advised to increase this value. For your reference: In a past project with 100,000 samples, we set min_samples_leaf to 5.\n"
   ]
  },
  {
   "cell_type": "code",
   "execution_count": null,
   "metadata": {
    "scrolled": true
   },
   "outputs": [],
   "source": [
    "# from sklearn.model_selection import GridSearchCV() method \n",
    "from sklearn.model_selection import GridSearchCV\n",
    "\n",
    "# Create a Grid of parameters to Search\n",
    "# Hint：to create a dicionary  as dict{'min_samples_split':range,'min_samples_leaf':range}\n",
    "param_grid = {'min_samples_split':list(range(2,20,1)),\n",
    "              'min_samples_leaf':list(range(1,10,1))}\n",
    "\n",
    "# create an instance of DecisionTreeClassifier and For reproduction, using random state = 114 \n",
    "estimator = DecisionTreeClassifier(random_state=114)\n",
    "\n",
    "# Create a GridSearchCV instance\n",
    "# Hint: using GridSearchCV(estimator,param_grid,scoring='accuracy',cv=5)\n",
    "gsearch = GridSearchCV(estimator,param_grid = param_grid, scoring='accuracy',cv=5)\n",
    "\n",
    "# Train the GridSearchCV on training datasets\n",
    "gsearch.fit(X_train,y_train)"
   ]
  },
  {
   "cell_type": "code",
   "execution_count": null,
   "metadata": {},
   "outputs": [],
   "source": [
    "# Display the best_score, best_params,best_estimator from GridSearchCV \n",
    "# Hint: using GridSearchCV.best_score_,GridSearchCV.best_params_,\n",
    "# GridSearchCV.best_estimator_\n",
    "print(gsearch.best_score_)\n",
    "print(gsearch.best_params_)\n",
    "print(gsearch.best_estimator_)"
   ]
  },
  {
   "cell_type": "markdown",
   "metadata": {},
   "source": [
    "# Retrain the model with optimized  parameters on the whole trainning dataset"
   ]
  },
  {
   "cell_type": "code",
   "execution_count": null,
   "metadata": {},
   "outputs": [],
   "source": [
    "# create an instance of DecisionTreeClassifier with optimized parameters and For reproduction, \n",
    "# using random state = 115\n",
    "# Hint: Using **gsearch.best_params_ as keyword parameters\n",
    "best_clf =  DecisionTreeClassifier(**gsearch.best_params_,random_state=115)\n",
    "\n",
    "# Retrain the model with optimized parameters on the whole trainning dataset\n",
    "best_clf.fit(X_train,y_train)\n",
    "\n",
    "# predicting the value on the testing dataset\n",
    "y_pred_best = best_clf.predict(X_test)\n",
    "\n",
    "# Calculate the accuracy_score and print it \n",
    "accuracy = metrics.accuracy_score(y_test,y_pred_best)\n",
    "print('The accuracy score of the model for test data is: {0}'.format(accuracy))\n",
    "\n",
    "#  Caculate the confusion matrix and print it \n",
    "confusion_matrix = metrics.confusion_matrix(y_test,y_pred_best)\n",
    "print('The confusion matrix is:\\n ',confusion_matrix)\n",
    "\n",
    "# print the report of the model:\n",
    "#Hint: using metrics.classification_report() method\n",
    "from sklearn.metrics import classification_report\n",
    "print(classification_report(y_test,y_pred_best))"
   ]
  },
  {
   "cell_type": "markdown",
   "metadata": {},
   "source": [
    "# Decision Tree Visualization\n",
    "Hint: Install graphviz from https://graphviz.gitlab.io/download/ first"
   ]
  },
  {
   "cell_type": "code",
   "execution_count": null,
   "metadata": {
    "scrolled": false
   },
   "outputs": [],
   "source": [
    "# import the pacakge for visualize the Decision tree model\n",
    "from sklearn.tree import export_graphviz\n",
    "import graphviz\n",
    "import pydotplus \n",
    "from IPython.display import Image\n",
    "# set the enviroment variable for graphviz\n",
    "import os\n",
    "os.environ[\"PATH\"] += os.pathsep + \\\n",
    "'c:/Program Files (x86)/Graphviz2.38/bin/'\n",
    "\n",
    "# set the feature names \n",
    "feature_names=X_enc.columns.tolist()\n",
    "\n",
    "# set the label names\n",
    "class_names=['No_ContractUser','ContractUser']\n",
    "\n",
    "# save the modle into dot file\n",
    "dot_data = export_graphviz(best_clf, out_file=None, \n",
    "                         feature_names=feature_names,  \n",
    "                         class_names=class_names,  \n",
    "                         filled=True, rounded=True,  \n",
    "                         special_characters=True)\n",
    "\n",
    "# method 1: save to pdf file\n",
    "graph = pydotplus.graph_from_dot_data(dot_data) \n",
    "graph.write_pdf(\"carrier_decision_tree.pdf\") \n",
    "\n",
    "# method 2: save to a image\n",
    "image = graph.create_png()\n",
    "with open('carrier_decision_tree.png','wb') as png:\n",
    "    png.write(image)\n",
    "\n",
    "# Display the image in Jupyter notebook\n",
    "Image(image)"
   ]
  },
  {
   "cell_type": "markdown",
   "metadata": {},
   "source": [
    "# Saving the trained model\n",
    "Tasks: \n",
    "1. saving the trained model into pkl file\n",
    "2. predicting the values by the loaded model and compare it with the origianl one"
   ]
  },
  {
   "cell_type": "code",
   "execution_count": null,
   "metadata": {},
   "outputs": [],
   "source": [
    "# from sklearn.externals  import.joblib\n",
    "from sklearn.externals import joblib #pip install joblib\n",
    "\n",
    "# saving the trained model into pkl file\n",
    "joblib.dump(best_clf, 'DT_carrier.pkl')  #保存为pkl文件"
   ]
  },
  {
   "cell_type": "code",
   "execution_count": null,
   "metadata": {},
   "outputs": [],
   "source": [
    "# load the trained model from pkl file\n",
    "best_clf_02 = joblib.load('DT_carrier.pkl') \n",
    "\n",
    "# predicting the values by the loaded model and compare it with the origianl one\n",
    "y_pred_best_02=best_clf.predict(X_test)\n",
    "\n",
    "print('The number of different prediction between the original model and the loaded model is:',np.sum(np.abs(y_pred_best-y_pred_best_02)))"
   ]
  }
 ],
 "metadata": {
  "kernelspec": {
   "display_name": "Python 3",
   "language": "python",
   "name": "python3"
  },
  "language_info": {
   "codemirror_mode": {
    "name": "ipython",
    "version": 3
   },
   "file_extension": ".py",
   "mimetype": "text/x-python",
   "name": "python",
   "nbconvert_exporter": "python",
   "pygments_lexer": "ipython3",
   "version": "3.6.4"
  }
 },
 "nbformat": 4,
 "nbformat_minor": 2
}
