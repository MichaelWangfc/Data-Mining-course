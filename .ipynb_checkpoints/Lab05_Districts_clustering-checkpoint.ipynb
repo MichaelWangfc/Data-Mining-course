{
 "cells": [
  {
   "cell_type": "code",
   "execution_count": null,
   "metadata": {},
   "outputs": [],
   "source": []
  },
  {
   "cell_type": "code",
   "execution_count": null,
   "metadata": {},
   "outputs": [],
   "source": []
  },
  {
   "cell_type": "markdown",
   "metadata": {},
   "source": [
    "## Load the data\n",
    "Tasks:  \n",
    "1. read the data from 'datasets/districts_info.csv'\n",
    "2. show the first 5 rows of the data"
   ]
  },
  {
   "cell_type": "code",
   "execution_count": 1,
   "metadata": {},
   "outputs": [],
   "source": [
    "import numpy as np\n",
    "import pandas as pd\n",
    "import matplotlib.pyplot as plt\n",
    "%matplotlib inline"
   ]
  },
  {
   "cell_type": "code",
   "execution_count": 2,
   "metadata": {},
   "outputs": [
    {
     "name": "stdout",
     "output_type": "stream",
     "text": [
      "['开始时间', '周期 (分钟)', '网元名称', '小区', '空口上行业务字节数 （8.1）(兆字节) (兆字节)', '空口下行业务字节数 （8.1）(兆字节) (兆字节)', 'RRC连接建立成功率（中移动） (%)', 'E-RAB建立成功率（8.1） (%)', '无线接通率 （8.1） (%)', 'RRC-eNB内切换成功率-KPI (%)', 'RRC-eNB间切换成功率-KPI (%)', 'RRC-切换成功率-KPI (%)', '无线掉线率（小区级） (%)', 'CSFB成功率 (%)', '上行PRB平均利用率 (中移动) (%)', '下行PRB平均利用率（中移动） (%)', '小区内的最大用户数 (无)', '系统上行每PRB子载波平均干扰噪声-KPI (毫瓦分贝)']\n"
     ]
    },
    {
     "data": {
      "text/html": [
       "<div>\n",
       "<style scoped>\n",
       "    .dataframe tbody tr th:only-of-type {\n",
       "        vertical-align: middle;\n",
       "    }\n",
       "\n",
       "    .dataframe tbody tr th {\n",
       "        vertical-align: top;\n",
       "    }\n",
       "\n",
       "    .dataframe thead th {\n",
       "        text-align: right;\n",
       "    }\n",
       "</style>\n",
       "<table border=\"1\" class=\"dataframe\">\n",
       "  <thead>\n",
       "    <tr style=\"text-align: right;\">\n",
       "      <th></th>\n",
       "      <th>开始时间</th>\n",
       "      <th>周期 (分钟)</th>\n",
       "      <th>网元名称</th>\n",
       "      <th>小区</th>\n",
       "      <th>空口上行业务字节数 （8.1）(兆字节) (兆字节)</th>\n",
       "      <th>空口下行业务字节数 （8.1）(兆字节) (兆字节)</th>\n",
       "      <th>RRC连接建立成功率（中移动） (%)</th>\n",
       "      <th>E-RAB建立成功率（8.1） (%)</th>\n",
       "      <th>无线接通率 （8.1） (%)</th>\n",
       "      <th>RRC-eNB内切换成功率-KPI (%)</th>\n",
       "      <th>RRC-eNB间切换成功率-KPI (%)</th>\n",
       "      <th>RRC-切换成功率-KPI (%)</th>\n",
       "      <th>无线掉线率（小区级） (%)</th>\n",
       "      <th>CSFB成功率 (%)</th>\n",
       "      <th>上行PRB平均利用率 (中移动) (%)</th>\n",
       "      <th>下行PRB平均利用率（中移动） (%)</th>\n",
       "      <th>小区内的最大用户数 (无)</th>\n",
       "      <th>系统上行每PRB子载波平均干扰噪声-KPI (毫瓦分贝)</th>\n",
       "    </tr>\n",
       "  </thead>\n",
       "  <tbody>\n",
       "    <tr>\n",
       "      <th>0</th>\n",
       "      <td>11/23/2017 09:00:00</td>\n",
       "      <td>15</td>\n",
       "      <td>官渡区乌西供电所-LHHQ</td>\n",
       "      <td>eNodeB名称=官渡区乌西供电所-LHHQ, 本地小区标识=6, 小区名称=官渡区乌西供电...</td>\n",
       "      <td>23.341</td>\n",
       "      <td>43.276</td>\n",
       "      <td>99.673</td>\n",
       "      <td>100.0</td>\n",
       "      <td>99.673</td>\n",
       "      <td>89.583</td>\n",
       "      <td>100</td>\n",
       "      <td>92.248</td>\n",
       "      <td>0.342</td>\n",
       "      <td>100</td>\n",
       "      <td>NIL</td>\n",
       "      <td>5.64</td>\n",
       "      <td>13</td>\n",
       "      <td>-119</td>\n",
       "    </tr>\n",
       "  </tbody>\n",
       "</table>\n",
       "</div>"
      ],
      "text/plain": [
       "                  开始时间  周期 (分钟)           网元名称  \\\n",
       "0  11/23/2017 09:00:00       15  官渡区乌西供电所-LHHQ   \n",
       "\n",
       "                                                  小区  \\\n",
       "0  eNodeB名称=官渡区乌西供电所-LHHQ, 本地小区标识=6, 小区名称=官渡区乌西供电...   \n",
       "\n",
       "   空口上行业务字节数 （8.1）(兆字节) (兆字节)  空口下行业务字节数 （8.1）(兆字节) (兆字节)  \\\n",
       "0                      23.341                      43.276   \n",
       "\n",
       "   RRC连接建立成功率（中移动） (%)  E-RAB建立成功率（8.1） (%)  无线接通率 （8.1） (%)  \\\n",
       "0               99.673                100.0           99.673   \n",
       "\n",
       "  RRC-eNB内切换成功率-KPI (%) RRC-eNB间切换成功率-KPI (%) RRC-切换成功率-KPI (%)  \\\n",
       "0                89.583                   100            92.248   \n",
       "\n",
       "   无线掉线率（小区级） (%) CSFB成功率 (%) 上行PRB平均利用率 (中移动) (%)  下行PRB平均利用率（中移动） (%)  \\\n",
       "0           0.342         100                  NIL                 5.64   \n",
       "\n",
       "   小区内的最大用户数 (无)  系统上行每PRB子载波平均干扰噪声-KPI (毫瓦分贝)  \n",
       "0             13                          -119  "
      ]
     },
     "execution_count": 2,
     "metadata": {},
     "output_type": "execute_result"
    }
   ],
   "source": [
    "df = pd.read_csv('datasets/KPI.csv',sep = ',',encoding='utf8')\n",
    "print(df.columns.tolist())\n",
    "df.head(1)"
   ]
  },
  {
   "cell_type": "code",
   "execution_count": 3,
   "metadata": {},
   "outputs": [],
   "source": [
    "import random\n",
    "from random import seed\n",
    "seed(111)\n",
    "df['CELL'] =random.sample(range(1000,10000), len(df))\n",
    "\n",
    "num_letter_dict = {index:letter for index,letter in enumerate(list('ABCDEFGHIG'))}\n",
    "\n",
    "num_letter_dict.get(1)\n",
    "def func(number):\n",
    "    s = ''\n",
    "    for x in str(number):\n",
    "        s= s+ num_letter_dict.get(int(x))\n",
    "    return s\n",
    "  \n",
    "df['ENODEB']= df.CELL.map(func)\n",
    "df.head(3)"
   ]
  },
  {
   "cell_type": "code",
   "execution_count": 4,
   "metadata": {},
   "outputs": [
    {
     "data": {
      "text/html": [
       "<div>\n",
       "<style scoped>\n",
       "    .dataframe tbody tr th:only-of-type {\n",
       "        vertical-align: middle;\n",
       "    }\n",
       "\n",
       "    .dataframe tbody tr th {\n",
       "        vertical-align: top;\n",
       "    }\n",
       "\n",
       "    .dataframe thead th {\n",
       "        text-align: right;\n",
       "    }\n",
       "</style>\n",
       "<table border=\"1\" class=\"dataframe\">\n",
       "  <thead>\n",
       "    <tr style=\"text-align: right;\">\n",
       "      <th></th>\n",
       "      <th>eNodeB</th>\n",
       "      <th>CELL</th>\n",
       "      <th>THROUGHPUT_UPLOAD</th>\n",
       "      <th>THROUGHPUT_DOWNLOAD</th>\n",
       "      <th>MAXIMUS_USER_NUMBER</th>\n",
       "      <th>NOISE_AVG</th>\n",
       "    </tr>\n",
       "  </thead>\n",
       "  <tbody>\n",
       "    <tr>\n",
       "      <th>0</th>\n",
       "      <td>IDEG</td>\n",
       "      <td>8346</td>\n",
       "      <td>23.341</td>\n",
       "      <td>43.276</td>\n",
       "      <td>13</td>\n",
       "      <td>-119</td>\n",
       "    </tr>\n",
       "    <tr>\n",
       "      <th>1</th>\n",
       "      <td>EFGE</td>\n",
       "      <td>4594</td>\n",
       "      <td>9.435</td>\n",
       "      <td>69.750</td>\n",
       "      <td>27</td>\n",
       "      <td>-119</td>\n",
       "    </tr>\n",
       "    <tr>\n",
       "      <th>2</th>\n",
       "      <td>FDIH</td>\n",
       "      <td>5387</td>\n",
       "      <td>11.973</td>\n",
       "      <td>180.969</td>\n",
       "      <td>30</td>\n",
       "      <td>-119</td>\n",
       "    </tr>\n",
       "    <tr>\n",
       "      <th>3</th>\n",
       "      <td>GHAF</td>\n",
       "      <td>9705</td>\n",
       "      <td>68.619</td>\n",
       "      <td>655.644</td>\n",
       "      <td>184</td>\n",
       "      <td>-112</td>\n",
       "    </tr>\n",
       "    <tr>\n",
       "      <th>4</th>\n",
       "      <td>IDAD</td>\n",
       "      <td>8303</td>\n",
       "      <td>33.052</td>\n",
       "      <td>346.267</td>\n",
       "      <td>114</td>\n",
       "      <td>-112</td>\n",
       "    </tr>\n",
       "  </tbody>\n",
       "</table>\n",
       "</div>"
      ],
      "text/plain": [
       "  eNodeB  CELL  THROUGHPUT_UPLOAD  THROUGHPUT_DOWNLOAD  MAXIMUS_USER_NUMBER  \\\n",
       "0   IDEG  8346             23.341               43.276                   13   \n",
       "1   EFGE  4594              9.435               69.750                   27   \n",
       "2   FDIH  5387             11.973              180.969                   30   \n",
       "3   GHAF  9705             68.619              655.644                  184   \n",
       "4   IDAD  8303             33.052              346.267                  114   \n",
       "\n",
       "   NOISE_AVG  \n",
       "0       -119  \n",
       "1       -119  \n",
       "2       -119  \n",
       "3       -112  \n",
       "4       -112  "
      ]
     },
     "execution_count": 4,
     "metadata": {},
     "output_type": "execute_result"
    }
   ],
   "source": [
    "df_filter = df[['eNodeB','CELL','空口上行业务字节数 （8.1）(兆字节) (兆字节)', '空口下行业务字节数 （8.1）(兆字节) (兆字节)',\n",
    "    '小区内的最大用户数 (无)','系统上行每PRB子载波平均干扰噪声-KPI (毫瓦分贝)']].copy()\n",
    "columns = ['eNodeB','CELL','THROUGHPUT_UPLOAD','THROUGHPUT_DOWNLOAD','MAXIMUS_USER_NUMBER','NOISE_AVG']\n",
    "df_filter.columns = columns\n",
    "df_filter.head()"
   ]
  },
  {
   "cell_type": "code",
   "execution_count": 5,
   "metadata": {},
   "outputs": [
    {
     "data": {
      "text/html": [
       "<div>\n",
       "<style scoped>\n",
       "    .dataframe tbody tr th:only-of-type {\n",
       "        vertical-align: middle;\n",
       "    }\n",
       "\n",
       "    .dataframe tbody tr th {\n",
       "        vertical-align: top;\n",
       "    }\n",
       "\n",
       "    .dataframe thead th {\n",
       "        text-align: right;\n",
       "    }\n",
       "</style>\n",
       "<table border=\"1\" class=\"dataframe\">\n",
       "  <thead>\n",
       "    <tr style=\"text-align: right;\">\n",
       "      <th></th>\n",
       "      <th>eNodeB</th>\n",
       "      <th>CELL</th>\n",
       "      <th>MAXIMUS_USER_NUMBER</th>\n",
       "      <th>NOISE_AVG</th>\n",
       "      <th>THROUGHPUT_TOT</th>\n",
       "    </tr>\n",
       "  </thead>\n",
       "  <tbody>\n",
       "    <tr>\n",
       "      <th>0</th>\n",
       "      <td>IDEG</td>\n",
       "      <td>8346</td>\n",
       "      <td>13</td>\n",
       "      <td>-119</td>\n",
       "      <td>66.617</td>\n",
       "    </tr>\n",
       "    <tr>\n",
       "      <th>1</th>\n",
       "      <td>EFGE</td>\n",
       "      <td>4594</td>\n",
       "      <td>27</td>\n",
       "      <td>-119</td>\n",
       "      <td>79.185</td>\n",
       "    </tr>\n",
       "    <tr>\n",
       "      <th>2</th>\n",
       "      <td>FDIH</td>\n",
       "      <td>5387</td>\n",
       "      <td>30</td>\n",
       "      <td>-119</td>\n",
       "      <td>192.942</td>\n",
       "    </tr>\n",
       "    <tr>\n",
       "      <th>3</th>\n",
       "      <td>GHAF</td>\n",
       "      <td>9705</td>\n",
       "      <td>184</td>\n",
       "      <td>-112</td>\n",
       "      <td>724.263</td>\n",
       "    </tr>\n",
       "    <tr>\n",
       "      <th>4</th>\n",
       "      <td>IDAD</td>\n",
       "      <td>8303</td>\n",
       "      <td>114</td>\n",
       "      <td>-112</td>\n",
       "      <td>379.319</td>\n",
       "    </tr>\n",
       "  </tbody>\n",
       "</table>\n",
       "</div>"
      ],
      "text/plain": [
       "  eNodeB  CELL  MAXIMUS_USER_NUMBER  NOISE_AVG  THROUGHPUT_TOT\n",
       "0   IDEG  8346                   13       -119          66.617\n",
       "1   EFGE  4594                   27       -119          79.185\n",
       "2   FDIH  5387                   30       -119         192.942\n",
       "3   GHAF  9705                  184       -112         724.263\n",
       "4   IDAD  8303                  114       -112         379.319"
      ]
     },
     "execution_count": 5,
     "metadata": {},
     "output_type": "execute_result"
    }
   ],
   "source": [
    "# Throughput_tot = \n",
    "df_filter.loc[:,'THROUGHPUT_TOT'] = (df_filter.THROUGHPUT_UPLOAD+ df_filter.THROUGHPUT_DOWNLOAD)\n",
    "df_new = df_filter.drop(columns=['THROUGHPUT_UPLOAD','THROUGHPUT_DOWNLOAD']).copy()\n",
    "df_new.head()"
   ]
  },
  {
   "cell_type": "markdown",
   "metadata": {},
   "source": [
    "## Exploring the data \n",
    "Tasks:\n",
    "1. show the columns of the data\n",
    "2. show the size of the data\n",
    "3. calculate the basic statistics of the data\n",
    "4. count the missing values in the dataset\n",
    "5. calculate the mean of throut_tot and noise_avg for each station\n",
    "6. plot the data "
   ]
  },
  {
   "cell_type": "code",
   "execution_count": 6,
   "metadata": {},
   "outputs": [
    {
     "name": "stdout",
     "output_type": "stream",
     "text": [
      "Index(['开始时间', '周期 (分钟)', '网元名称', '小区', '空口上行业务字节数 （8.1）(兆字节) (兆字节)',\n",
      "       '空口下行业务字节数 （8.1）(兆字节) (兆字节)', 'RRC连接建立成功率（中移动） (%)',\n",
      "       'E-RAB建立成功率（8.1） (%)', '无线接通率 （8.1） (%)', 'RRC-eNB内切换成功率-KPI (%)',\n",
      "       'RRC-eNB间切换成功率-KPI (%)', 'RRC-切换成功率-KPI (%)', '无线掉线率（小区级） (%)',\n",
      "       'CSFB成功率 (%)', '上行PRB平均利用率 (中移动) (%)', '下行PRB平均利用率（中移动） (%)',\n",
      "       '小区内的最大用户数 (无)', '系统上行每PRB子载波平均干扰噪声-KPI (毫瓦分贝)', 'CELL', 'eNodeB'],\n",
      "      dtype='object')\n",
      "(864, 20)\n"
     ]
    },
    {
     "data": {
      "text/html": [
       "<div>\n",
       "<style scoped>\n",
       "    .dataframe tbody tr th:only-of-type {\n",
       "        vertical-align: middle;\n",
       "    }\n",
       "\n",
       "    .dataframe tbody tr th {\n",
       "        vertical-align: top;\n",
       "    }\n",
       "\n",
       "    .dataframe thead th {\n",
       "        text-align: right;\n",
       "    }\n",
       "</style>\n",
       "<table border=\"1\" class=\"dataframe\">\n",
       "  <thead>\n",
       "    <tr style=\"text-align: right;\">\n",
       "      <th></th>\n",
       "      <th>周期 (分钟)</th>\n",
       "      <th>空口上行业务字节数 （8.1）(兆字节) (兆字节)</th>\n",
       "      <th>空口下行业务字节数 （8.1）(兆字节) (兆字节)</th>\n",
       "      <th>RRC连接建立成功率（中移动） (%)</th>\n",
       "      <th>E-RAB建立成功率（8.1） (%)</th>\n",
       "      <th>无线接通率 （8.1） (%)</th>\n",
       "      <th>无线掉线率（小区级） (%)</th>\n",
       "      <th>下行PRB平均利用率（中移动） (%)</th>\n",
       "      <th>小区内的最大用户数 (无)</th>\n",
       "      <th>系统上行每PRB子载波平均干扰噪声-KPI (毫瓦分贝)</th>\n",
       "      <th>CELL</th>\n",
       "    </tr>\n",
       "  </thead>\n",
       "  <tbody>\n",
       "    <tr>\n",
       "      <th>count</th>\n",
       "      <td>864.0</td>\n",
       "      <td>864.000000</td>\n",
       "      <td>864.000000</td>\n",
       "      <td>864.000000</td>\n",
       "      <td>864.000000</td>\n",
       "      <td>864.000000</td>\n",
       "      <td>864.000000</td>\n",
       "      <td>864.000000</td>\n",
       "      <td>864.000000</td>\n",
       "      <td>864.000000</td>\n",
       "      <td>864.000000</td>\n",
       "    </tr>\n",
       "    <tr>\n",
       "      <th>mean</th>\n",
       "      <td>15.0</td>\n",
       "      <td>34.569287</td>\n",
       "      <td>368.227076</td>\n",
       "      <td>99.881072</td>\n",
       "      <td>99.978699</td>\n",
       "      <td>99.859940</td>\n",
       "      <td>0.111292</td>\n",
       "      <td>25.797708</td>\n",
       "      <td>65.637731</td>\n",
       "      <td>-116.039352</td>\n",
       "      <td>5463.309028</td>\n",
       "    </tr>\n",
       "    <tr>\n",
       "      <th>std</th>\n",
       "      <td>0.0</td>\n",
       "      <td>32.317398</td>\n",
       "      <td>291.770876</td>\n",
       "      <td>0.270438</td>\n",
       "      <td>0.107920</td>\n",
       "      <td>0.337732</td>\n",
       "      <td>0.230544</td>\n",
       "      <td>22.059426</td>\n",
       "      <td>66.387217</td>\n",
       "      <td>3.314469</td>\n",
       "      <td>2558.923035</td>\n",
       "    </tr>\n",
       "    <tr>\n",
       "      <th>min</th>\n",
       "      <td>15.0</td>\n",
       "      <td>0.210000</td>\n",
       "      <td>0.185000</td>\n",
       "      <td>95.745000</td>\n",
       "      <td>98.201000</td>\n",
       "      <td>94.022000</td>\n",
       "      <td>0.000000</td>\n",
       "      <td>2.272000</td>\n",
       "      <td>7.000000</td>\n",
       "      <td>-120.000000</td>\n",
       "      <td>1009.000000</td>\n",
       "    </tr>\n",
       "    <tr>\n",
       "      <th>25%</th>\n",
       "      <td>15.0</td>\n",
       "      <td>9.040500</td>\n",
       "      <td>125.205250</td>\n",
       "      <td>99.835000</td>\n",
       "      <td>100.000000</td>\n",
       "      <td>99.825750</td>\n",
       "      <td>0.000000</td>\n",
       "      <td>8.412000</td>\n",
       "      <td>22.000000</td>\n",
       "      <td>-119.000000</td>\n",
       "      <td>3324.000000</td>\n",
       "    </tr>\n",
       "    <tr>\n",
       "      <th>50%</th>\n",
       "      <td>15.0</td>\n",
       "      <td>24.208000</td>\n",
       "      <td>309.358500</td>\n",
       "      <td>100.000000</td>\n",
       "      <td>100.000000</td>\n",
       "      <td>99.960000</td>\n",
       "      <td>0.000000</td>\n",
       "      <td>15.799000</td>\n",
       "      <td>40.000000</td>\n",
       "      <td>-117.500000</td>\n",
       "      <td>5381.000000</td>\n",
       "    </tr>\n",
       "    <tr>\n",
       "      <th>75%</th>\n",
       "      <td>15.0</td>\n",
       "      <td>50.489750</td>\n",
       "      <td>556.802750</td>\n",
       "      <td>100.000000</td>\n",
       "      <td>100.000000</td>\n",
       "      <td>100.000000</td>\n",
       "      <td>0.163000</td>\n",
       "      <td>40.952000</td>\n",
       "      <td>81.000000</td>\n",
       "      <td>-112.000000</td>\n",
       "      <td>7673.750000</td>\n",
       "    </tr>\n",
       "    <tr>\n",
       "      <th>max</th>\n",
       "      <td>15.0</td>\n",
       "      <td>177.250000</td>\n",
       "      <td>1828.730000</td>\n",
       "      <td>100.041000</td>\n",
       "      <td>100.000000</td>\n",
       "      <td>100.041000</td>\n",
       "      <td>2.690000</td>\n",
       "      <td>78.398000</td>\n",
       "      <td>407.000000</td>\n",
       "      <td>-110.000000</td>\n",
       "      <td>9974.000000</td>\n",
       "    </tr>\n",
       "  </tbody>\n",
       "</table>\n",
       "</div>"
      ],
      "text/plain": [
       "       周期 (分钟)  空口上行业务字节数 （8.1）(兆字节) (兆字节)  空口下行业务字节数 （8.1）(兆字节) (兆字节)  \\\n",
       "count    864.0                  864.000000                  864.000000   \n",
       "mean      15.0                   34.569287                  368.227076   \n",
       "std        0.0                   32.317398                  291.770876   \n",
       "min       15.0                    0.210000                    0.185000   \n",
       "25%       15.0                    9.040500                  125.205250   \n",
       "50%       15.0                   24.208000                  309.358500   \n",
       "75%       15.0                   50.489750                  556.802750   \n",
       "max       15.0                  177.250000                 1828.730000   \n",
       "\n",
       "       RRC连接建立成功率（中移动） (%)  E-RAB建立成功率（8.1） (%)  无线接通率 （8.1） (%)  \\\n",
       "count           864.000000           864.000000       864.000000   \n",
       "mean             99.881072            99.978699        99.859940   \n",
       "std               0.270438             0.107920         0.337732   \n",
       "min              95.745000            98.201000        94.022000   \n",
       "25%              99.835000           100.000000        99.825750   \n",
       "50%             100.000000           100.000000        99.960000   \n",
       "75%             100.000000           100.000000       100.000000   \n",
       "max             100.041000           100.000000       100.041000   \n",
       "\n",
       "       无线掉线率（小区级） (%)  下行PRB平均利用率（中移动） (%)  小区内的最大用户数 (无)  \\\n",
       "count      864.000000           864.000000     864.000000   \n",
       "mean         0.111292            25.797708      65.637731   \n",
       "std          0.230544            22.059426      66.387217   \n",
       "min          0.000000             2.272000       7.000000   \n",
       "25%          0.000000             8.412000      22.000000   \n",
       "50%          0.000000            15.799000      40.000000   \n",
       "75%          0.163000            40.952000      81.000000   \n",
       "max          2.690000            78.398000     407.000000   \n",
       "\n",
       "       系统上行每PRB子载波平均干扰噪声-KPI (毫瓦分贝)         CELL  \n",
       "count                    864.000000   864.000000  \n",
       "mean                    -116.039352  5463.309028  \n",
       "std                        3.314469  2558.923035  \n",
       "min                     -120.000000  1009.000000  \n",
       "25%                     -119.000000  3324.000000  \n",
       "50%                     -117.500000  5381.000000  \n",
       "75%                     -112.000000  7673.750000  \n",
       "max                     -110.000000  9974.000000  "
      ]
     },
     "execution_count": 6,
     "metadata": {},
     "output_type": "execute_result"
    }
   ],
   "source": [
    "# show the columns of the data\n",
    "print(df.columns)\n",
    "\n",
    "# show the size of the data\n",
    "print(df.shape)\n",
    "\n",
    "# calculate the basic statistics of the data\n",
    "df.describe()"
   ]
  },
  {
   "cell_type": "code",
   "execution_count": 7,
   "metadata": {},
   "outputs": [
    {
     "data": {
      "text/plain": [
       "开始时间                            0\n",
       "周期 (分钟)                         0\n",
       "网元名称                            0\n",
       "小区                              0\n",
       "空口上行业务字节数 （8.1）(兆字节) (兆字节)      0\n",
       "空口下行业务字节数 （8.1）(兆字节) (兆字节)      0\n",
       "RRC连接建立成功率（中移动） (%)             0\n",
       "E-RAB建立成功率（8.1） (%)             0\n",
       "无线接通率 （8.1） (%)                 0\n",
       "RRC-eNB内切换成功率-KPI (%)           0\n",
       "RRC-eNB间切换成功率-KPI (%)           0\n",
       "RRC-切换成功率-KPI (%)               0\n",
       "无线掉线率（小区级） (%)                  0\n",
       "CSFB成功率 (%)                     0\n",
       "上行PRB平均利用率 (中移动) (%)            0\n",
       "下行PRB平均利用率（中移动） (%)             0\n",
       "小区内的最大用户数 (无)                   0\n",
       "系统上行每PRB子载波平均干扰噪声-KPI (毫瓦分贝)    0\n",
       "CELL                            0\n",
       "eNodeB                          0\n",
       "dtype: int64"
      ]
     },
     "execution_count": 7,
     "metadata": {},
     "output_type": "execute_result"
    }
   ],
   "source": [
    "# count the missing values in the dataset\n",
    "df.isnull().sum()"
   ]
  },
  {
   "cell_type": "code",
   "execution_count": 8,
   "metadata": {},
   "outputs": [
    {
     "ename": "KeyError",
     "evalue": "'station'",
     "output_type": "error",
     "traceback": [
      "\u001b[1;31m---------------------------------------------------------------------------\u001b[0m",
      "\u001b[1;31mKeyError\u001b[0m                                  Traceback (most recent call last)",
      "\u001b[1;32m<ipython-input-8-e52ead4bc367>\u001b[0m in \u001b[0;36m<module>\u001b[1;34m()\u001b[0m\n\u001b[0;32m      1\u001b[0m \u001b[1;31m# calculate the mean of throut_tot and noise_avg for each station\u001b[0m\u001b[1;33m\u001b[0m\u001b[1;33m\u001b[0m\u001b[0m\n\u001b[1;32m----> 2\u001b[1;33m \u001b[0mdf_mean\u001b[0m\u001b[1;33m=\u001b[0m\u001b[0mdf\u001b[0m\u001b[1;33m.\u001b[0m\u001b[0mgroupby\u001b[0m\u001b[1;33m(\u001b[0m\u001b[0mby\u001b[0m\u001b[1;33m=\u001b[0m\u001b[1;33m[\u001b[0m\u001b[1;34m'station'\u001b[0m\u001b[1;33m]\u001b[0m\u001b[1;33m)\u001b[0m\u001b[1;33m.\u001b[0m\u001b[0magg\u001b[0m\u001b[1;33m(\u001b[0m\u001b[1;33m{\u001b[0m\u001b[1;34m'throut_tot'\u001b[0m\u001b[1;33m:\u001b[0m\u001b[1;34m'mean'\u001b[0m\u001b[1;33m,\u001b[0m\u001b[1;34m'noise_avg'\u001b[0m\u001b[1;33m:\u001b[0m\u001b[1;34m'mean'\u001b[0m\u001b[1;33m}\u001b[0m\u001b[1;33m)\u001b[0m\u001b[1;33m.\u001b[0m\u001b[0mreset_index\u001b[0m\u001b[1;33m(\u001b[0m\u001b[1;33m)\u001b[0m\u001b[1;33m\u001b[0m\u001b[0m\n\u001b[0m\u001b[0;32m      3\u001b[0m \u001b[0mdf_mean\u001b[0m\u001b[1;33m.\u001b[0m\u001b[0mhead\u001b[0m\u001b[1;33m(\u001b[0m\u001b[1;33m)\u001b[0m\u001b[1;33m\u001b[0m\u001b[0m\n",
      "\u001b[1;32mC:\\ProgramData\\Anaconda3\\lib\\site-packages\\pandas\\core\\generic.py\u001b[0m in \u001b[0;36mgroupby\u001b[1;34m(self, by, axis, level, as_index, sort, group_keys, squeeze, observed, **kwargs)\u001b[0m\n\u001b[0;32m   6663\u001b[0m         return groupby(self, by=by, axis=axis, level=level, as_index=as_index,\n\u001b[0;32m   6664\u001b[0m                        \u001b[0msort\u001b[0m\u001b[1;33m=\u001b[0m\u001b[0msort\u001b[0m\u001b[1;33m,\u001b[0m \u001b[0mgroup_keys\u001b[0m\u001b[1;33m=\u001b[0m\u001b[0mgroup_keys\u001b[0m\u001b[1;33m,\u001b[0m \u001b[0msqueeze\u001b[0m\u001b[1;33m=\u001b[0m\u001b[0msqueeze\u001b[0m\u001b[1;33m,\u001b[0m\u001b[1;33m\u001b[0m\u001b[0m\n\u001b[1;32m-> 6665\u001b[1;33m                        observed=observed, **kwargs)\n\u001b[0m\u001b[0;32m   6666\u001b[0m \u001b[1;33m\u001b[0m\u001b[0m\n\u001b[0;32m   6667\u001b[0m     def asfreq(self, freq, method=None, how=None, normalize=False,\n",
      "\u001b[1;32mC:\\ProgramData\\Anaconda3\\lib\\site-packages\\pandas\\core\\groupby\\groupby.py\u001b[0m in \u001b[0;36mgroupby\u001b[1;34m(obj, by, **kwds)\u001b[0m\n\u001b[0;32m   2150\u001b[0m         \u001b[1;32mraise\u001b[0m \u001b[0mTypeError\u001b[0m\u001b[1;33m(\u001b[0m\u001b[1;34m'invalid type: %s'\u001b[0m \u001b[1;33m%\u001b[0m \u001b[0mtype\u001b[0m\u001b[1;33m(\u001b[0m\u001b[0mobj\u001b[0m\u001b[1;33m)\u001b[0m\u001b[1;33m)\u001b[0m\u001b[1;33m\u001b[0m\u001b[0m\n\u001b[0;32m   2151\u001b[0m \u001b[1;33m\u001b[0m\u001b[0m\n\u001b[1;32m-> 2152\u001b[1;33m     \u001b[1;32mreturn\u001b[0m \u001b[0mklass\u001b[0m\u001b[1;33m(\u001b[0m\u001b[0mobj\u001b[0m\u001b[1;33m,\u001b[0m \u001b[0mby\u001b[0m\u001b[1;33m,\u001b[0m \u001b[1;33m**\u001b[0m\u001b[0mkwds\u001b[0m\u001b[1;33m)\u001b[0m\u001b[1;33m\u001b[0m\u001b[0m\n\u001b[0m\u001b[0;32m   2153\u001b[0m \u001b[1;33m\u001b[0m\u001b[0m\n\u001b[0;32m   2154\u001b[0m \u001b[1;33m\u001b[0m\u001b[0m\n",
      "\u001b[1;32mC:\\ProgramData\\Anaconda3\\lib\\site-packages\\pandas\\core\\groupby\\groupby.py\u001b[0m in \u001b[0;36m__init__\u001b[1;34m(self, obj, keys, axis, level, grouper, exclusions, selection, as_index, sort, group_keys, squeeze, observed, **kwargs)\u001b[0m\n\u001b[0;32m    597\u001b[0m                                                     \u001b[0msort\u001b[0m\u001b[1;33m=\u001b[0m\u001b[0msort\u001b[0m\u001b[1;33m,\u001b[0m\u001b[1;33m\u001b[0m\u001b[0m\n\u001b[0;32m    598\u001b[0m                                                     \u001b[0mobserved\u001b[0m\u001b[1;33m=\u001b[0m\u001b[0mobserved\u001b[0m\u001b[1;33m,\u001b[0m\u001b[1;33m\u001b[0m\u001b[0m\n\u001b[1;32m--> 599\u001b[1;33m                                                     mutated=self.mutated)\n\u001b[0m\u001b[0;32m    600\u001b[0m \u001b[1;33m\u001b[0m\u001b[0m\n\u001b[0;32m    601\u001b[0m         \u001b[0mself\u001b[0m\u001b[1;33m.\u001b[0m\u001b[0mobj\u001b[0m \u001b[1;33m=\u001b[0m \u001b[0mobj\u001b[0m\u001b[1;33m\u001b[0m\u001b[0m\n",
      "\u001b[1;32mC:\\ProgramData\\Anaconda3\\lib\\site-packages\\pandas\\core\\groupby\\groupby.py\u001b[0m in \u001b[0;36m_get_grouper\u001b[1;34m(obj, key, axis, level, sort, observed, mutated, validate)\u001b[0m\n\u001b[0;32m   3289\u001b[0m                 \u001b[0min_axis\u001b[0m\u001b[1;33m,\u001b[0m \u001b[0mname\u001b[0m\u001b[1;33m,\u001b[0m \u001b[0mlevel\u001b[0m\u001b[1;33m,\u001b[0m \u001b[0mgpr\u001b[0m \u001b[1;33m=\u001b[0m \u001b[1;32mFalse\u001b[0m\u001b[1;33m,\u001b[0m \u001b[1;32mNone\u001b[0m\u001b[1;33m,\u001b[0m \u001b[0mgpr\u001b[0m\u001b[1;33m,\u001b[0m \u001b[1;32mNone\u001b[0m\u001b[1;33m\u001b[0m\u001b[0m\n\u001b[0;32m   3290\u001b[0m             \u001b[1;32melse\u001b[0m\u001b[1;33m:\u001b[0m\u001b[1;33m\u001b[0m\u001b[0m\n\u001b[1;32m-> 3291\u001b[1;33m                 \u001b[1;32mraise\u001b[0m \u001b[0mKeyError\u001b[0m\u001b[1;33m(\u001b[0m\u001b[0mgpr\u001b[0m\u001b[1;33m)\u001b[0m\u001b[1;33m\u001b[0m\u001b[0m\n\u001b[0m\u001b[0;32m   3292\u001b[0m         \u001b[1;32melif\u001b[0m \u001b[0misinstance\u001b[0m\u001b[1;33m(\u001b[0m\u001b[0mgpr\u001b[0m\u001b[1;33m,\u001b[0m \u001b[0mGrouper\u001b[0m\u001b[1;33m)\u001b[0m \u001b[1;32mand\u001b[0m \u001b[0mgpr\u001b[0m\u001b[1;33m.\u001b[0m\u001b[0mkey\u001b[0m \u001b[1;32mis\u001b[0m \u001b[1;32mnot\u001b[0m \u001b[1;32mNone\u001b[0m\u001b[1;33m:\u001b[0m\u001b[1;33m\u001b[0m\u001b[0m\n\u001b[0;32m   3293\u001b[0m             \u001b[1;31m# Add key to exclusions\u001b[0m\u001b[1;33m\u001b[0m\u001b[1;33m\u001b[0m\u001b[0m\n",
      "\u001b[1;31mKeyError\u001b[0m: 'station'"
     ]
    }
   ],
   "source": [
    "# calculate the mean of throut_tot and noise_avg for each station\n",
    "df_mean=df.groupby(by=['station']).agg({'throut_tot':'mean','noise_avg':'mean'}).reset_index()\n",
    "df_mean.head()"
   ]
  },
  {
   "cell_type": "code",
   "execution_count": 10,
   "metadata": {},
   "outputs": [
    {
     "data": {
      "image/png": "[encoded data removed]",
      "text/plain": [
       "<Figure size 432x288 with 1 Axes>"
      ]
     },
     "metadata": {},
     "output_type": "display_data"
    }
   ],
   "source": [
    "#生成三维图形，每个样本点的坐标分别是三个主成分的值\n",
    "from mpl_toolkits.mplot3d import Axes3D\n",
    "fig = plt.figure()\n",
    "ax = plt.subplot(111,projection = '3d')\n",
    "ax.scatter(df_filter.THROUGHPUT_TOT.values,df_filter.MAXIMUS_USER_NUMBER.values,\n",
    "                        df_filter.NOISE_AVG.values)\n",
    "ax.set_xlabel('THROUGHPUT_TOT')\n",
    "ax.set_ylabel('MAXIMUS_USER_NUMBER')\n",
    "ax.set_zlabel('NOISE_AVG')\n",
    "plt.show()"
   ]
  },
  {
   "cell_type": "markdown",
   "metadata": {},
   "source": [
    "## Data Preprocessing "
   ]
  },
  {
   "cell_type": "markdown",
   "metadata": {},
   "source": [
    "### Outlier ditection"
   ]
  },
  {
   "cell_type": "code",
   "execution_count": 53,
   "metadata": {},
   "outputs": [
    {
     "name": "stdout",
     "output_type": "stream",
     "text": [
      "[46, 52, 70]\n"
     ]
    }
   ],
   "source": [
    "#删除异常值所在的行\n",
    "indexs= list(df_mean[df_mean['noise_avg'].isin([0])].index)\n",
    "print(indexs)\n",
    "\n",
    "df_mean_NoOutliers = df_mean.drop(indexs)\n"
   ]
  },
  {
   "cell_type": "code",
   "execution_count": null,
   "metadata": {},
   "outputs": [],
   "source": []
  },
  {
   "cell_type": "markdown",
   "metadata": {},
   "source": [
    "### Standarization "
   ]
  },
  {
   "cell_type": "code",
   "execution_count": 65,
   "metadata": {},
   "outputs": [
    {
     "data": {
      "text/html": [
       "<div>\n",
       "<style scoped>\n",
       "    .dataframe tbody tr th:only-of-type {\n",
       "        vertical-align: middle;\n",
       "    }\n",
       "\n",
       "    .dataframe tbody tr th {\n",
       "        vertical-align: top;\n",
       "    }\n",
       "\n",
       "    .dataframe thead th {\n",
       "        text-align: right;\n",
       "    }\n",
       "</style>\n",
       "<table border=\"1\" class=\"dataframe\">\n",
       "  <thead>\n",
       "    <tr style=\"text-align: right;\">\n",
       "      <th></th>\n",
       "      <th>station</th>\n",
       "      <th>throut_tot</th>\n",
       "      <th>noise_avg</th>\n",
       "    </tr>\n",
       "  </thead>\n",
       "  <tbody>\n",
       "    <tr>\n",
       "      <th>0</th>\n",
       "      <td>L57169</td>\n",
       "      <td>6.437147</td>\n",
       "      <td>-110.919803</td>\n",
       "    </tr>\n",
       "    <tr>\n",
       "      <th>1</th>\n",
       "      <td>L57251</td>\n",
       "      <td>2.275780</td>\n",
       "      <td>-113.328477</td>\n",
       "    </tr>\n",
       "    <tr>\n",
       "      <th>2</th>\n",
       "      <td>L57252</td>\n",
       "      <td>3.766103</td>\n",
       "      <td>-113.486807</td>\n",
       "    </tr>\n",
       "    <tr>\n",
       "      <th>3</th>\n",
       "      <td>L57253</td>\n",
       "      <td>6.564697</td>\n",
       "      <td>-113.609737</td>\n",
       "    </tr>\n",
       "    <tr>\n",
       "      <th>4</th>\n",
       "      <td>L57257</td>\n",
       "      <td>3.948630</td>\n",
       "      <td>-112.007310</td>\n",
       "    </tr>\n",
       "  </tbody>\n",
       "</table>\n",
       "</div>"
      ],
      "text/plain": [
       "  station  throut_tot   noise_avg\n",
       "0  L57169    6.437147 -110.919803\n",
       "1  L57251    2.275780 -113.328477\n",
       "2  L57252    3.766103 -113.486807\n",
       "3  L57253    6.564697 -113.609737\n",
       "4  L57257    3.948630 -112.007310"
      ]
     },
     "execution_count": 65,
     "metadata": {},
     "output_type": "execute_result"
    }
   ],
   "source": [
    "df_mean_NoOutliers.head()"
   ]
  },
  {
   "cell_type": "code",
   "execution_count": 92,
   "metadata": {},
   "outputs": [
    {
     "data": {
      "text/plain": [
       "array([1., 1.])"
      ]
     },
     "execution_count": 92,
     "metadata": {},
     "output_type": "execute_result"
    }
   ],
   "source": [
    "from sklearn.preprocessing import StandardScaler\n",
    "z_std = StandardScaler()\n",
    "mean_std = z_std.fit_transform(df_mean_NoOutliers[['throut_tot','noise_avg']].values)\n",
    "\n",
    "\n",
    "np.mean(mean_std,axis=0)\n",
    "np.std(mean_std,axis=0)\n"
   ]
  },
  {
   "cell_type": "code",
   "execution_count": 93,
   "metadata": {},
   "outputs": [
    {
     "data": {
      "text/html": [
       "<div>\n",
       "<style scoped>\n",
       "    .dataframe tbody tr th:only-of-type {\n",
       "        vertical-align: middle;\n",
       "    }\n",
       "\n",
       "    .dataframe tbody tr th {\n",
       "        vertical-align: top;\n",
       "    }\n",
       "\n",
       "    .dataframe thead th {\n",
       "        text-align: right;\n",
       "    }\n",
       "</style>\n",
       "<table border=\"1\" class=\"dataframe\">\n",
       "  <thead>\n",
       "    <tr style=\"text-align: right;\">\n",
       "      <th></th>\n",
       "      <th>station</th>\n",
       "      <th>throut_tot</th>\n",
       "      <th>noise_avg</th>\n",
       "    </tr>\n",
       "  </thead>\n",
       "  <tbody>\n",
       "    <tr>\n",
       "      <th>0</th>\n",
       "      <td>L57169</td>\n",
       "      <td>0.948834</td>\n",
       "      <td>0.71257</td>\n",
       "    </tr>\n",
       "    <tr>\n",
       "      <th>1</th>\n",
       "      <td>L57251</td>\n",
       "      <td>-0.277235</td>\n",
       "      <td>0.308304</td>\n",
       "    </tr>\n",
       "    <tr>\n",
       "      <th>2</th>\n",
       "      <td>L57252</td>\n",
       "      <td>0.161861</td>\n",
       "      <td>0.28173</td>\n",
       "    </tr>\n",
       "    <tr>\n",
       "      <th>3</th>\n",
       "      <td>L57253</td>\n",
       "      <td>0.986414</td>\n",
       "      <td>0.261098</td>\n",
       "    </tr>\n",
       "    <tr>\n",
       "      <th>4</th>\n",
       "      <td>L57257</td>\n",
       "      <td>0.215639</td>\n",
       "      <td>0.530045</td>\n",
       "    </tr>\n",
       "  </tbody>\n",
       "</table>\n",
       "</div>"
      ],
      "text/plain": [
       "  station throut_tot noise_avg\n",
       "0  L57169   0.948834   0.71257\n",
       "1  L57251  -0.277235  0.308304\n",
       "2  L57252   0.161861   0.28173\n",
       "3  L57253   0.986414  0.261098\n",
       "4  L57257   0.215639  0.530045"
      ]
     },
     "execution_count": 93,
     "metadata": {},
     "output_type": "execute_result"
    }
   ],
   "source": [
    "std_values = np.concatenate((df_mean_NoOutliers.station.values.reshape((-1,1)),mean_std),axis =1)\n",
    "\n",
    "df_mean_std = pd.DataFrame(std_values,columns = df_mean_NoOutliers.columns)\n",
    "df_mean_std.head()"
   ]
  },
  {
   "cell_type": "code",
   "execution_count": 94,
   "metadata": {},
   "outputs": [
    {
     "name": "stdout",
     "output_type": "stream",
     "text": [
      "throut_tot   -1.068934e-16\n",
      "throut_tot   -1.068934e-16\n",
      "dtype: float64\n",
      "throut_tot    1.004158\n",
      "throut_tot    1.004158\n",
      "dtype: float64\n"
     ]
    }
   ],
   "source": [
    "print(df_mean_std[['throut_tot','throut_tot']].mean())\n",
    "print(df_mean_std[['throut_tot','throut_tot']].std())"
   ]
  },
  {
   "cell_type": "code",
   "execution_count": 99,
   "metadata": {},
   "outputs": [
    {
     "data": {
      "text/plain": [
       "Text(0,0.5,'noise_avg')"
      ]
     },
     "execution_count": 99,
     "metadata": {},
     "output_type": "execute_result"
    },
    {
     "data": {
      "image/png": "[encoded data removed]",
      "text/plain": [
       "<Figure size 432x288 with 1 Axes>"
      ]
     },
     "metadata": {},
     "output_type": "display_data"
    }
   ],
   "source": [
    "clustering_names = [ 'KMeans', \n",
    "    'SpectralClustering', 'Ward',\n",
    "    'DBSCAN', 'Birch','affinity_propagation','average_linkage']\n",
    "\n",
    "throut_tot=df_mean_std[\"throut_tot\"]\n",
    "noise_avg=df_mean_std[\"noise_avg\"]\n",
    "plt.title(u'Standizd Sample without outliers')\n",
    "plt.scatter(df_mean_std[\"throut_tot\"],df_mean_std[\"noise_avg\"] )\n",
    "plt.xlabel('throut_tot')\n",
    "plt.ylabel('noise_avg')"
   ]
  },
  {
   "cell_type": "code",
   "execution_count": 36,
   "metadata": {},
   "outputs": [],
   "source": [
    "from sklearn import cluster,metrics"
   ]
  },
  {
   "cell_type": "code",
   "execution_count": 40,
   "metadata": {},
   "outputs": [
    {
     "name": "stdout",
     "output_type": "stream",
     "text": [
      "calinski_harabaz_score with k=10 is 2482.714754680619\n"
     ]
    },
    {
     "data": {
      "text/plain": [
       "Text(0.5,0,'Noise_avg')"
      ]
     },
     "execution_count": 40,
     "metadata": {},
     "output_type": "execute_result"
    },
    {
     "data": {
      "image/png": "[encoded data removed]",
      "text/plain": [
       "<Figure size 432x288 with 1 Axes>"
      ]
     },
     "metadata": {},
     "output_type": "display_data"
    }
   ],
   "source": [
    "k=10\n",
    "est = cluster.KMeans(n_clusters=k,random_state=111)\n",
    "\n",
    "#作用到降维后的数据上\n",
    "y_pred = est.fit_predict(df_filter)\n",
    "\n",
    "#评估不同k值聚类算法效果\n",
    "#提示：使用metrics.calinski_harabaz_score\n",
    "score = metrics.calinski_harabaz_score(df_filter,y_pred)\n",
    "\n",
    "print('calinski_harabaz_score with k={0} is {1}'.format(k,score))\n",
    "#生成三维图形，每个样本点的坐标分别是三个主成分的值  \n",
    "\n",
    "fig = plt.figure()\n",
    "ax = plt.subplot(111,projection = '3d')\n",
    "ax.scatter(df_filter.Throughput_tot.values,df_filter.Maximus_user_number.values,\n",
    "                        df_filter.Noise_avg.values,c=y_pred)\n",
    "ax.set_xlabel('Throughput_tot')\n",
    "ax.set_ylabel('Maximus_user_number')\n",
    "ax.set_zlabel('Noise_avg')"
   ]
  },
  {
   "cell_type": "code",
   "execution_count": 13,
   "metadata": {},
   "outputs": [
    {
     "name": "stderr",
     "output_type": "stream",
     "text": [
      "C:\\ProgramData\\Anaconda3\\lib\\site-packages\\matplotlib\\cbook\\deprecation.py:107: MatplotlibDeprecationWarning: Adding an axes using the same arguments as a previous axes currently reuses the earlier instance.  In a future version, a new instance will always be created and returned.  Meanwhile, this warning can be suppressed, and the future behavior ensured, by passing a unique label to each axes instance.\n",
      "  warnings.warn(message, mplDeprecation, stacklevel=1)\n"
     ]
    },
    {
     "data": {
      "image/png": "[encoded data removed]",
      "text/plain": [
       "<Figure size 432x288 with 2 Axes>"
      ]
     },
     "metadata": {},
     "output_type": "display_data"
    }
   ],
   "source": [
    "#K-means    \n",
    "colors = ['b', 'g', 'r', 'c', 'm', 'y', 'k', 'b']\n",
    "markers = ['o', 's', 'D', 'v', '^', 'p', '*', '+']\n",
    "tests=[2,3]\n",
    "ax=plt.subplot(2,2,1)\n",
    "subplot_counter=0\n",
    "for t in tests:\n",
    "    subplot_counter+=1\n",
    "    plt.subplot(2,2,subplot_counter)\n",
    "    kmeans_model=cluster.KMeans(n_clusters=t).fit(df_norm)\n",
    "    for i,l in enumerate(kmeans_model.labels_):\n",
    "        plt.plot(throut_tot[i],noise_avg[i],color=colors[l],\n",
    "             marker=markers[l],ls='None')\n",
    "        plt.xlim([0,1])\n",
    "        plt.ylim([0,1])\n",
    "        plt.title(u'K = %s, Silhouette = %.03f' % \n",
    "                  (t, metrics.silhouette_score\n",
    "                   (df_norm, kmeans_model.labels_,metric='euclidean'))\n",
    "                  )\n",
    "        ax.set_xlabel('throut_tot')\n",
    "        ax.set_ylabel('noise_avg') "
   ]
  },
  {
   "cell_type": "code",
   "execution_count": 12,
   "metadata": {},
   "outputs": [
    {
     "name": "stderr",
     "output_type": "stream",
     "text": [
      "C:\\ProgramData\\Anaconda3\\lib\\site-packages\\matplotlib\\cbook\\deprecation.py:107: MatplotlibDeprecationWarning: Adding an axes using the same arguments as a previous axes currently reuses the earlier instance.  In a future version, a new instance will always be created and returned.  Meanwhile, this warning can be suppressed, and the future behavior ensured, by passing a unique label to each axes instance.\n",
      "  warnings.warn(message, mplDeprecation, stacklevel=1)\n"
     ]
    },
    {
     "data": {
      "image/png": "[encoded data removed]",
      "text/plain": [
       "<Figure size 432x288 with 2 Axes>"
      ]
     },
     "metadata": {},
     "output_type": "display_data"
    }
   ],
   "source": [
    "#MiniBatchKMeans\n",
    "colors = ['b', 'g', 'r', 'c', 'm', 'y', 'k', 'b']\n",
    "markers = ['o', 's', 'D', 'v', '^', 'p', '*', '+']\n",
    "tests=[2,3]\n",
    "ax=plt.subplot(2,2,1)\n",
    "subplot_counter=0\n",
    "for t in tests:\n",
    "    subplot_counter+=1\n",
    "    plt.subplot(2,2,subplot_counter)\n",
    "    kmeans_model=cluster.MiniBatchKMeans(n_clusters=t).fit(df_norm)\n",
    "#     print kmeans_model.labels_:每个点对应的标签值\n",
    "    for i,l in enumerate(kmeans_model.labels_):\n",
    "        plt.plot(throut_tot[i],noise_avg[i],color=colors[l],\n",
    "             marker=markers[l],ls='None')\n",
    "        plt.xlim([0,1])\n",
    "        plt.ylim([0,1])\n",
    "        plt.title(u'K = %s, Silhouette = %.03f' % \n",
    "                  (t, metrics.silhouette_score\n",
    "                   (df_norm, kmeans_model.labels_,metric='euclidean'))\n",
    "                  )\n",
    "        ax.set_xlabel('throut_tot')\n",
    "        ax.set_ylabel('noise_avg')  "
   ]
  },
  {
   "cell_type": "code",
   "execution_count": 14,
   "metadata": {},
   "outputs": [
    {
     "name": "stderr",
     "output_type": "stream",
     "text": [
      "C:\\ProgramData\\Anaconda3\\lib\\site-packages\\matplotlib\\cbook\\deprecation.py:107: MatplotlibDeprecationWarning: Adding an axes using the same arguments as a previous axes currently reuses the earlier instance.  In a future version, a new instance will always be created and returned.  Meanwhile, this warning can be suppressed, and the future behavior ensured, by passing a unique label to each axes instance.\n",
      "  warnings.warn(message, mplDeprecation, stacklevel=1)\n",
      "C:\\ProgramData\\Anaconda3\\lib\\site-packages\\sklearn\\cluster\\birch.py:629: UserWarning: Number of subclusters found (1) by Birch is less than (2). Decrease the threshold.\n",
      "  % (len(centroids), self.n_clusters))\n",
      "C:\\ProgramData\\Anaconda3\\lib\\site-packages\\sklearn\\cluster\\birch.py:629: UserWarning: Number of subclusters found (1) by Birch is less than (3). Decrease the threshold.\n",
      "  % (len(centroids), self.n_clusters))\n"
     ]
    },
    {
     "data": {
      "image/png": "[encoded data removed]",
      "text/plain": [
       "<Figure size 432x288 with 2 Axes>"
      ]
     },
     "metadata": {},
     "output_type": "display_data"
    }
   ],
   "source": [
    "#BIRCH \n",
    "colors = ['b', 'g', 'r', 'c', 'm', 'y', 'k', 'b']\n",
    "markers = ['o', 's', 'D', 'v', '^', 'p', '*', '+']\n",
    "ax=plt.subplot(2,2,1)\n",
    "tests=[2,3]\n",
    "subplot_counter=0\n",
    "for t in tests:\n",
    "    subplot_counter+=1\n",
    "    plt.subplot(2,2,subplot_counter)\n",
    "    Birch=cluster.Birch(n_clusters=t).fit(df_norm)\n",
    "    for i,l in enumerate(Birch.labels_):\n",
    "        plt.plot(throut_tot[i],noise_avg[i],color=colors[l],\n",
    "             marker=markers[l],ls='None')\n",
    "        plt.xlim([0,1])\n",
    "        plt.ylim([0,1])\n",
    "        plt.title(u'K = %s, BIRCH' % (t))\n",
    "    ax.set_xlabel('throut_tot')\n",
    "    ax.set_ylabel('noise_avg') \n"
   ]
  },
  {
   "cell_type": "code",
   "execution_count": 15,
   "metadata": {},
   "outputs": [
    {
     "data": {
      "image/png": "[encoded data removed]",
      "text/plain": [
       "<Figure size 432x288 with 1 Axes>"
      ]
     },
     "metadata": {},
     "output_type": "display_data"
    }
   ],
   "source": [
    "name='DBSCAN'  \n",
    "ax=plt.subplot(2,2,1)\n",
    "plt.title(name, size=18)\n",
    "dbscan = cluster.DBSCAN(eps=.1).fit(df_norm)\n",
    "#     print kmeans_model.labels_:每个点对应的标签值\n",
    "for i,l in enumerate(dbscan.labels_):\n",
    "    plt.plot(throut_tot[i],noise_avg[i],color=colors[l],\n",
    "             marker=markers[l],ls='None')\n",
    "    plt.xlim([0,1])\n",
    "    plt.ylim([0,1])\n",
    "    ax.set_xlabel('throut_tot')\n",
    "    ax.set_ylabel('noise_avg') "
   ]
  },
  {
   "cell_type": "code",
   "execution_count": 16,
   "metadata": {},
   "outputs": [
    {
     "name": "stderr",
     "output_type": "stream",
     "text": [
      "C:\\ProgramData\\Anaconda3\\lib\\site-packages\\matplotlib\\cbook\\deprecation.py:107: MatplotlibDeprecationWarning: Adding an axes using the same arguments as a previous axes currently reuses the earlier instance.  In a future version, a new instance will always be created and returned.  Meanwhile, this warning can be suppressed, and the future behavior ensured, by passing a unique label to each axes instance.\n",
      "  warnings.warn(message, mplDeprecation, stacklevel=1)\n"
     ]
    },
    {
     "data": {
      "image/png": "[encoded data removed]",
      "text/plain": [
       "<Figure size 432x288 with 2 Axes>"
      ]
     },
     "metadata": {},
     "output_type": "display_data"
    }
   ],
   "source": [
    "#SpectralClustering\n",
    "ax=plt.subplot(2,2,1)\n",
    "colors = ['b', 'g', 'r', 'c', 'm', 'y', 'k', 'b']\n",
    "markers = ['o', 's', 'D', 'v', '^', 'p', '*', '+']\n",
    "tests=[2,3]\n",
    "subplot_counter=0\n",
    "for t in tests:\n",
    "    subplot_counter+=1\n",
    "    plt.subplot(2,2,subplot_counter)\n",
    "    spectral = cluster.SpectralClustering(n_clusters=t,\n",
    "                                   eigen_solver='arpack',\n",
    "                                   affinity=\"nearest_neighbors\").fit(df_norm)\n",
    "    for i,l in enumerate(spectral.labels_):\n",
    "        plt.plot(throut_tot[i],noise_avg[i],color=colors[l],\n",
    "                 marker=markers[l],ls='None')\n",
    "        plt.xlim([0,0.6])\n",
    "        plt.ylim([0,0.15])\n",
    "        plt.title(u'K = %s, SpectralClustering' % (t))\n",
    "    ax.set_xlabel('throut_tot')\n",
    "    ax.set_ylabel('noise_avg') \n",
    "    #ax.legend(spectral.labels_ ,loc='upper left'),"
   ]
  },
  {
   "cell_type": "code",
   "execution_count": 17,
   "metadata": {},
   "outputs": [
    {
     "name": "stderr",
     "output_type": "stream",
     "text": [
      "C:\\ProgramData\\Anaconda3\\lib\\site-packages\\matplotlib\\cbook\\deprecation.py:107: MatplotlibDeprecationWarning: Adding an axes using the same arguments as a previous axes currently reuses the earlier instance.  In a future version, a new instance will always be created and returned.  Meanwhile, this warning can be suppressed, and the future behavior ensured, by passing a unique label to each axes instance.\n",
      "  warnings.warn(message, mplDeprecation, stacklevel=1)\n"
     ]
    },
    {
     "data": {
      "image/png": "[encoded data removed]",
      "text/plain": [
       "<Figure size 432x288 with 2 Axes>"
      ]
     },
     "metadata": {},
     "output_type": "display_data"
    }
   ],
   "source": [
    "#ward\n",
    "# connectivity matrix for structured Ward\n",
    "from sklearn.neighbors import kneighbors_graph\n",
    "connectivity = kneighbors_graph(df_norm, n_neighbors=10, include_self=False)\n",
    "# make connectivity symmetric\n",
    "connectivity = 0.5 * (connectivity + connectivity.T)\n",
    "ax=plt.subplot(2,2,1)\n",
    "colors = ['b', 'g', 'r', 'c', 'm', 'y', 'k', 'b']\n",
    "markers = ['o', 's', 'D', 'v', '^', 'p', '*', '+']\n",
    "tests=[2,4]\n",
    "subplot_counter=0\n",
    "for t in tests:\n",
    "    subplot_counter+=1\n",
    "    plt.subplot(2,2,subplot_counter)\n",
    "    ward = cluster.AgglomerativeClustering(n_clusters=t, linkage='ward',\n",
    "                                           connectivity=connectivity).fit(df_norm)\n",
    "    for i,l in enumerate(ward.labels_):\n",
    "        plt.plot(throut_tot[i],noise_avg[i],color=colors[l],\n",
    "                 marker=markers[l],ls='None')\n",
    "        plt.xlim([0,1])\n",
    "        plt.ylim([0,1])\n",
    "        plt.title(u'K = %s, ward' % (t))\n",
    "    ax.set_xlabel('throut_tot')\n",
    "    ax.set_ylabel('noise_avg') "
   ]
  },
  {
   "cell_type": "code",
   "execution_count": 18,
   "metadata": {},
   "outputs": [
    {
     "name": "stderr",
     "output_type": "stream",
     "text": [
      "C:\\ProgramData\\Anaconda3\\lib\\site-packages\\ipykernel_launcher.py:7: SettingWithCopyWarning: \n",
      "A value is trying to be set on a copy of a slice from a DataFrame\n",
      "\n",
      "See the caveats in the documentation: http://pandas.pydata.org/pandas-docs/stable/indexing.html#indexing-view-versus-copy\n",
      "  import sys\n",
      "C:\\ProgramData\\Anaconda3\\lib\\site-packages\\ipykernel_launcher.py:8: SettingWithCopyWarning: \n",
      "A value is trying to be set on a copy of a slice from a DataFrame\n",
      "\n",
      "See the caveats in the documentation: http://pandas.pydata.org/pandas-docs/stable/indexing.html#indexing-view-versus-copy\n",
      "  \n",
      "C:\\ProgramData\\Anaconda3\\lib\\site-packages\\ipykernel_launcher.py:9: SettingWithCopyWarning: \n",
      "A value is trying to be set on a copy of a slice from a DataFrame\n",
      "\n",
      "See the caveats in the documentation: http://pandas.pydata.org/pandas-docs/stable/indexing.html#indexing-view-versus-copy\n",
      "  if __name__ == '__main__':\n"
     ]
    }
   ],
   "source": [
    "ax.legend(set(spectral.labels_),loc='upper left'),\n",
    "\n",
    "df_mean[\"cluster\"]=spectral.labels_\n",
    "df_mean[\"lable\"]=\"特征\"\n",
    "\n",
    "#对两个分类按图示效果打标签\n",
    "df_mean[\"lable\"][df_mean[\"cluster\"].isin([0])]=\"高话务量小区\"\n",
    "df_mean[\"lable\"][df_mean[\"cluster\"].isin([1])]=\"普通话务量小区\"\n",
    "df_mean[\"lable\"][df_mean[\"cluster\"].isin([2])]=\"低话务量小区\"\n",
    "\n",
    "df_mean.to_csv('cluster_rst.txt', sep='\\t')\n",
    "  \n",
    " #rst = pd.concat([df_mean_2,spectral.labels_], axis=1)\n",
    "# estimate bandwidth for mean shift\n",
    "#bandwidth = cluster.estimate_bandwidth(df_norm, quantile=0.3)\n",
    "\n",
    "    # connectivity matrix for structured Ward"
   ]
  }
 ],
 "metadata": {
  "kernelspec": {
   "display_name": "Python 3",
   "language": "python",
   "name": "python3"
  },
  "language_info": {
   "codemirror_mode": {
    "name": "ipython",
    "version": 3
   },
   "file_extension": ".py",
   "mimetype": "text/x-python",
   "name": "python",
   "nbconvert_exporter": "python",
   "pygments_lexer": "ipython3",
   "version": "3.6.4"
  }
 },
 "nbformat": 4,
 "nbformat_minor": 2
}
