{
 "cells": [
  {
   "cell_type": "markdown",
   "metadata": {
    "collapsed": true
   },
   "source": [
    "# 第一章：Python 基础\n",
    "- **Author**: wangfeicheng\n",
    "- **Mail**:wang_feicheng@163.com or wangfeichengzjhw@huawei.com"
   ]
  },
  {
   "cell_type": "markdown",
   "metadata": {},
   "source": [
    "# 目录\n",
    "  1. Numpy使用\n",
    "  2. Scipy库使用\n",
    "  2. Pandas使用\n",
    "  3. matplotlib使用\n"
   ]
  },
  {
   "cell_type": "markdown",
   "metadata": {},
   "source": [
    "#  Numpy\n",
    "- numpy数据类型: ndarray（多维数组对象）\n",
    "  - 一维数组\n",
    "  - 二维数组（多维数组）\n",
    "    - 创建\n",
    "    - 索引和切片\n",
    "    - 条件索引\n",
    "  - 特殊数组\n",
    "    - 有序数组\n",
    "    - 零数组\n",
    "    - 1数组\n",
    "    - 单位矩阵\n",
    "    - 空数组\n",
    "    \n",
    "  - 常用属性\n",
    "    - shape\n",
    "    - size\n",
    "    - dtype\n",
    "   - 常用方法\n",
    "    - reshape()\n",
    "    - astype()\n",
    "   \n",
    "   - 数组和标量的运算\n",
    "   \n",
    "    \n",
    "    \n",
    "- 线性代数\n",
    " - 转置 transpose()\n",
    "\n",
    "- 统计方法\n",
    " \n",
    "- 随机数产生\n"
   ]
  },
  {
   "cell_type": "markdown",
   "metadata": {},
   "source": [
    "# ndarray numpy数组对象的创建\n",
    "### 一维数组"
   ]
  },
  {
   "cell_type": "code",
   "execution_count": 1,
   "metadata": {},
   "outputs": [
    {
     "name": "stdout",
     "output_type": "stream",
     "text": [
      "[1. 2. 3. 4. 5.]\n"
     ]
    },
    {
     "data": {
      "text/plain": [
       "array([1., 2., 3., 4., 5.])"
      ]
     },
     "execution_count": 1,
     "metadata": {},
     "output_type": "execute_result"
    }
   ],
   "source": [
    "import numpy as np\n",
    "# 使用Pyhon数组生成NumPy一维数组\n",
    "arr = np.array([1,2,3,4,5],dtype= float)\n",
    "print(arr)\n",
    "arr"
   ]
  },
  {
   "cell_type": "code",
   "execution_count": 40,
   "metadata": {},
   "outputs": [
    {
     "name": "stdout",
     "output_type": "stream",
     "text": [
      "<class 'numpy.ndarray'>\n",
      "(5,)\n",
      "float64\n"
     ]
    }
   ],
   "source": [
    "# 显示数据类型\n",
    "print(type(arr))\n",
    "# 显示数组形状\n",
    "print(arr.shape)\n",
    "# 显示元素数据类型\n",
    "print(arr.dtype)"
   ]
  },
  {
   "cell_type": "markdown",
   "metadata": {},
   "source": [
    "## 二维数据（多维数组）"
   ]
  },
  {
   "cell_type": "code",
   "execution_count": 41,
   "metadata": {},
   "outputs": [
    {
     "data": {
      "text/plain": [
       "array([['China', 'Wang', '30'],\n",
       "       ['USA', 'Michael', '25']], dtype='<U7')"
      ]
     },
     "execution_count": 41,
     "metadata": {},
     "output_type": "execute_result"
    }
   ],
   "source": [
    "#使用Python嵌套数组生成NumPy二维数组\n",
    "arr = np.array([['China','Wang',30],\n",
    "             ['USA','Michael',25]])\n",
    "arr"
   ]
  },
  {
   "cell_type": "code",
   "execution_count": 42,
   "metadata": {},
   "outputs": [
    {
     "name": "stdout",
     "output_type": "stream",
     "text": [
      "(2, 3)\n",
      "<U7\n"
     ]
    }
   ],
   "source": [
    "print(arr.shape)\n",
    "print(arr.dtype)"
   ]
  },
  {
   "cell_type": "markdown",
   "metadata": {},
   "source": [
    "### 创建特殊数组"
   ]
  },
  {
   "cell_type": "code",
   "execution_count": 43,
   "metadata": {},
   "outputs": [
    {
     "data": {
      "text/plain": [
       "array([0, 1, 2, 3, 4, 5, 6, 7, 8, 9])"
      ]
     },
     "execution_count": 43,
     "metadata": {},
     "output_type": "execute_result"
    }
   ],
   "source": [
    "#创建从0到9的有序的一维数组\n",
    "arr = np.arange(10)\n",
    "arr"
   ]
  },
  {
   "cell_type": "code",
   "execution_count": 44,
   "metadata": {},
   "outputs": [
    {
     "data": {
      "text/plain": [
       "array([[0, 1, 2, 3, 4],\n",
       "       [5, 6, 7, 8, 9]])"
      ]
     },
     "execution_count": 44,
     "metadata": {},
     "output_type": "execute_result"
    }
   ],
   "source": [
    "#使用reshape函数，生成2*5的多维数组\n",
    "arr2 = np.arange(10).reshape((2,5))\n",
    "arr2"
   ]
  },
  {
   "cell_type": "code",
   "execution_count": 45,
   "metadata": {},
   "outputs": [
    {
     "data": {
      "text/plain": [
       "array([[0., 0., 0., 0., 0.],\n",
       "       [0., 0., 0., 0., 0.]])"
      ]
     },
     "execution_count": 45,
     "metadata": {},
     "output_type": "execute_result"
    }
   ],
   "source": [
    "#生成包含2*5的所有元素为0的二维数\n",
    "zeros = np.zeros((2,5))\n",
    "zeros"
   ]
  },
  {
   "cell_type": "code",
   "execution_count": 46,
   "metadata": {},
   "outputs": [
    {
     "data": {
      "text/plain": [
       "array([[1., 1., 1., 1., 1.],\n",
       "       [1., 1., 1., 1., 1.]])"
      ]
     },
     "execution_count": 46,
     "metadata": {},
     "output_type": "execute_result"
    }
   ],
   "source": [
    "#生成包含2*5的所有元素为1的二维数\n",
    "ones = np.ones((2,5))\n",
    "ones"
   ]
  },
  {
   "cell_type": "code",
   "execution_count": 47,
   "metadata": {},
   "outputs": [
    {
     "data": {
      "text/plain": [
       "array([[1., 0., 0., 0., 0.],\n",
       "       [0., 1., 0., 0., 0.],\n",
       "       [0., 0., 1., 0., 0.],\n",
       "       [0., 0., 0., 1., 0.],\n",
       "       [0., 0., 0., 0., 1.]])"
      ]
     },
     "execution_count": 47,
     "metadata": {},
     "output_type": "execute_result"
    }
   ],
   "source": [
    "#生成5*5的对角元素为1的二维数\n",
    "identity = np.eye(5)\n",
    "identity"
   ]
  },
  {
   "cell_type": "code",
   "execution_count": 48,
   "metadata": {},
   "outputs": [
    {
     "data": {
      "text/plain": [
       "array([[[1.0609979e-313, 1.0609979e-313, 1.0609979e-313, 1.0609979e-313,\n",
       "         1.0609979e-313],\n",
       "        [1.0609979e-313, 1.0609979e-313, 1.0609979e-313, 1.0609979e-313,\n",
       "         1.0609979e-313],\n",
       "        [1.0609979e-313, 1.0609979e-313, 1.0609979e-313, 1.0609979e-313,\n",
       "         1.0609979e-313]],\n",
       "\n",
       "       [[1.0609979e-313, 1.0609979e-313, 1.0609979e-313, 1.0609979e-313,\n",
       "         1.0609979e-313],\n",
       "        [1.0609979e-313, 1.0609979e-313, 1.0609979e-313, 1.0609979e-313,\n",
       "         1.0609979e-313],\n",
       "        [1.0609979e-313, 1.0609979e-313, 1.0609979e-313, 1.0609979e-313,\n",
       "         1.0609979e-313]]])"
      ]
     },
     "execution_count": 48,
     "metadata": {},
     "output_type": "execute_result"
    }
   ],
   "source": [
    "#生成2*3*5的对角元素为1的3维数\n",
    "empty = np.empty((2,3,5))\n",
    "empty"
   ]
  },
  {
   "cell_type": "markdown",
   "metadata": {},
   "source": [
    "### 数组的索引与切片"
   ]
  },
  {
   "cell_type": "code",
   "execution_count": 49,
   "metadata": {},
   "outputs": [
    {
     "name": "stdout",
     "output_type": "stream",
     "text": [
      "0\n",
      "[0 1 2]\n"
     ]
    }
   ],
   "source": [
    "#一维数组的索引、切片,同list类似\n",
    "arr = np.arange(10,dtype=int)\n",
    "#显示一维数组的第0个元素\n",
    "print(arr[0])\n",
    "#显示一维数组的第0到第3个（不包括）元素：\n",
    "print(arr[0:3])"
   ]
  },
  {
   "cell_type": "code",
   "execution_count": 3,
   "metadata": {},
   "outputs": [
    {
     "name": "stdout",
     "output_type": "stream",
     "text": [
      "2\n",
      "2\n"
     ]
    }
   ],
   "source": [
    "#多维数组的索引\n",
    "arr = np.arange(10).reshape((2,5))\n",
    "\n",
    "#通过索引访问二维数组某个元素:\n",
    "print(arr[(0, 2)])\n",
    "\n",
    "#一个逗号就是一个维度的操作\n",
    "print(arr[0, 2])# 普通Python数组不能用。"
   ]
  },
  {
   "cell_type": "code",
   "execution_count": 4,
   "metadata": {},
   "outputs": [
    {
     "name": "stdout",
     "output_type": "stream",
     "text": [
      "[5 6 7 8 9]\n",
      "2\n"
     ]
    }
   ],
   "source": [
    "#通过索引访问二维数组某一行\n",
    "print(arr[1])\n",
    "\n",
    "#通过索引访问二维数组某个元素\n",
    "print(arr[0][2])"
   ]
  },
  {
   "cell_type": "code",
   "execution_count": 51,
   "metadata": {},
   "outputs": [
    {
     "name": "stdout",
     "output_type": "stream",
     "text": [
      "(2, 2, 3)\n",
      "[[1 2 3]\n",
      " [4 5 6]]\n",
      "[1 2 3]\n"
     ]
    }
   ],
   "source": [
    "# 对更高维数组的访问和操作\n",
    "arr = np.array([[[1, 2, 3], [4, 5, 6]], [[7, 8, 9], [10, 11, 12]]])\n",
    "#显示三维数组的形状\n",
    "print(arr.shape)\n",
    "\n",
    "# 结果是个2*3的2维数组\n",
    "print(arr[0]) \n",
    "\n",
    "# 结果是形状为（3,）的1维数组\n",
    "print(arr[0, 0])"
   ]
  },
  {
   "cell_type": "code",
   "execution_count": 52,
   "metadata": {},
   "outputs": [
    {
     "name": "stdout",
     "output_type": "stream",
     "text": [
      "[[[ 1  1  1]\n",
      "  [ 1  1  1]]\n",
      "\n",
      " [[ 7  8  9]\n",
      "  [10 11 12]]]\n",
      "[[[ 1  2  3]\n",
      "  [ 4  5  6]]\n",
      "\n",
      " [[ 7  8  9]\n",
      "  [10 11 12]]]\n"
     ]
    }
   ],
   "source": [
    "# 复制arr[0]的值\n",
    "old_values = arr[0].copy() \n",
    "\n",
    "# 把arr[0]所有的元素都设置为同一个值\n",
    "arr[0] = 1 \n",
    "#显示改变之后的数组\n",
    "print(arr)\n",
    "\n",
    "# 把原来的数组写回去\n",
    "arr[0] = old_values\n",
    "print(arr)"
   ]
  },
  {
   "cell_type": "code",
   "execution_count": 5,
   "metadata": {},
   "outputs": [
    {
     "name": "stdout",
     "output_type": "stream",
     "text": [
      "[[1 2 3]\n",
      " [4 5 6]]\n",
      "[[2 3]\n",
      " [5 6]]\n",
      "[[1]\n",
      " [4]\n",
      " [7]]\n",
      "[[1 0 0]\n",
      " [4 0 0]\n",
      " [7 8 9]]\n"
     ]
    }
   ],
   "source": [
    "#使用切片访问和操作数组'\n",
    "arr = np.array([[1, 2, 3], [4, 5, 6], [7, 8, 9]])\n",
    "# 打印第1、2行\n",
    "print(arr[:2])\n",
    "# 打印第1、2行，第2、3列\n",
    "print(arr[:2, 1:])\n",
    "# 打印第一列的所有元素\n",
    "print(arr[:, :1])\n",
    "# 第1、2行，第2、3列的元素设置为0\n",
    "arr[:2, 1:] = 0 \n",
    "print(arr)"
   ]
  },
  {
   "cell_type": "code",
   "execution_count": 7,
   "metadata": {},
   "outputs": [
    {
     "data": {
      "text/plain": [
       "array([1, 4, 7])"
      ]
     },
     "execution_count": 7,
     "metadata": {},
     "output_type": "execute_result"
    }
   ],
   "source": [
    "arr[:,0]"
   ]
  },
  {
   "cell_type": "markdown",
   "metadata": {},
   "source": [
    "### 条件(布尔型)索引"
   ]
  },
  {
   "cell_type": "code",
   "execution_count": 54,
   "metadata": {},
   "outputs": [
    {
     "name": "stdout",
     "output_type": "stream",
     "text": [
      "[[False False False  True  True]\n",
      " [ True  True  True  True  True]]\n"
     ]
    }
   ],
   "source": [
    "arr  =np.arange(10,).reshape((2,5))\n",
    "# 返回布尔数组\n",
    "print(arr>2)"
   ]
  },
  {
   "cell_type": "code",
   "execution_count": 55,
   "metadata": {},
   "outputs": [
    {
     "name": "stdout",
     "output_type": "stream",
     "text": [
      "[[3 4]\n",
      " [8 9]]\n"
     ]
    }
   ],
   "source": [
    "#输出布尔值为Ture的所有列\n",
    "bool_c = np.arange(5)\n",
    "print(arr[:,bool_c>2])"
   ]
  },
  {
   "cell_type": "code",
   "execution_count": 56,
   "metadata": {},
   "outputs": [
    {
     "name": "stdout",
     "output_type": "stream",
     "text": [
      "[[5 6 7 8 9]]\n"
     ]
    }
   ],
   "source": [
    "#输出布尔值为Ture的所有行\n",
    "bool_r = np.arange(2)\n",
    "print(arr[bool_r>0,:])"
   ]
  },
  {
   "cell_type": "code",
   "execution_count": 57,
   "metadata": {},
   "outputs": [
    {
     "name": "stdout",
     "output_type": "stream",
     "text": [
      "[3 4 5 6 7 8 9]\n"
     ]
    }
   ],
   "source": [
    "#输出布尔值为Ture的所有元素，形成一个新的一维数组\n",
    "print(arr[arr>2])"
   ]
  },
  {
   "cell_type": "markdown",
   "metadata": {},
   "source": [
    "### 花式索引\n",
    "- 花式索引（Fancy indexing）是一个NumPy术语，它指的是利用整数数组进\n",
    "行索引。\n",
    "- 一次传入多个索引数组会有一点特别。它返回的是一个一维数组，其中的元素\n",
    "对应各个索引元组。"
   ]
  },
  {
   "cell_type": "code",
   "execution_count": 58,
   "metadata": {},
   "outputs": [
    {
     "name": "stdout",
     "output_type": "stream",
     "text": [
      "[[40 41 42 43 44 45 46 47 48 49]\n",
      " [30 31 32 33 34 35 36 37 38 39]\n",
      " [ 0  1  2  3  4  5  6  7  8  9]\n",
      " [60 61 62 63 64 65 66 67 68 69]]\n"
     ]
    }
   ],
   "source": [
    "arr =np.arange(100).reshape((10,10))\n",
    "# 打印arr[4]、arr[3]、arr[0]和arr[6]。\n",
    "print(arr[[4, 3, 0, 6]])"
   ]
  },
  {
   "cell_type": "code",
   "execution_count": 59,
   "metadata": {},
   "outputs": [
    {
     "name": "stdout",
     "output_type": "stream",
     "text": [
      "[[70 71 72 73 74 75 76 77 78 79]\n",
      " [50 51 52 53 54 55 56 57 58 59]\n",
      " [30 31 32 33 34 35 36 37 38 39]]\n"
     ]
    }
   ],
   "source": [
    "# 打印arr[-3]、arr[-5]和arr[-7]行\n",
    "print(arr[[-3, -5, -7]]) "
   ]
  },
  {
   "cell_type": "code",
   "execution_count": 60,
   "metadata": {},
   "outputs": [
    {
     "name": "stdout",
     "output_type": "stream",
     "text": [
      "[10 53 71 22]\n"
     ]
    }
   ],
   "source": [
    "# 打印arr[1, 0]、arr[5, 3]，arr[7, 1]和arr[2, 2]\n",
    "print(arr[[1, 5, 7, 2], [0, 3, 1, 2]]) "
   ]
  },
  {
   "cell_type": "code",
   "execution_count": 61,
   "metadata": {},
   "outputs": [
    {
     "name": "stdout",
     "output_type": "stream",
     "text": [
      "[[10 13 11 12]\n",
      " [50 53 51 52]\n",
      " [70 73 71 72]\n",
      " [20 23 21 22]]\n"
     ]
    }
   ],
   "source": [
    "# 1572行的0312列\n",
    "print(arr[[1, 5, 7, 2]][:, [0, 3, 1, 2]])"
   ]
  },
  {
   "cell_type": "code",
   "execution_count": 62,
   "metadata": {},
   "outputs": [
    {
     "name": "stdout",
     "output_type": "stream",
     "text": [
      "[[10 13 11 12]\n",
      " [50 53 51 52]\n",
      " [70 73 71 72]\n",
      " [20 23 21 22]]\n"
     ]
    }
   ],
   "source": [
    "# 可读性更好的写法\n",
    "print(arr[np.ix_([1, 5, 7, 2], [0, 3, 1, 2])])\n"
   ]
  },
  {
   "cell_type": "markdown",
   "metadata": {},
   "source": [
    "## 数组和标量的运算"
   ]
  },
  {
   "cell_type": "code",
   "execution_count": 63,
   "metadata": {},
   "outputs": [
    {
     "name": "stdout",
     "output_type": "stream",
     "text": [
      "[[ 1.  4.  9.]\n",
      " [16. 25. 36.]]\n",
      "[[0. 0. 0.]\n",
      " [0. 0. 0.]]\n"
     ]
    }
   ],
   "source": [
    "# 数组乘法／减法，对应元素相乘／相减。\n",
    "arr = np.array([[1.0, 2.0, 3.0], [4., 5., 6.]])\n",
    "print(arr * arr)\n",
    "print(arr - arr)"
   ]
  },
  {
   "cell_type": "code",
   "execution_count": 64,
   "metadata": {},
   "outputs": [
    {
     "name": "stdout",
     "output_type": "stream",
     "text": [
      "[[11. 12. 13.]\n",
      " [14. 15. 16.]]\n",
      "[[10. 20. 30.]\n",
      " [40. 50. 60.]]\n",
      "[[1.         0.5        0.33333333]\n",
      " [0.25       0.2        0.16666667]]\n",
      "[[ 1.  4.  9.]\n",
      " [16. 25. 36.]]\n"
     ]
    }
   ],
   "source": [
    "# 标量操作作用在数组的每个元素上\n",
    "arr = np.array([[1.0, 2.0, 3.0], [4., 5., 6.]])\n",
    "# 数组的每个元素上加10\n",
    "print(arr+10)\n",
    "\n",
    "# 数组的每个元素上乘以10\n",
    "print(arr*10)\n",
    "\n",
    "# 数组的每个元素上的倒数\n",
    "print(1 / arr)\n",
    "\n",
    "# 数组的每个元素上平方\n",
    "print(arr**2)"
   ]
  },
  {
   "cell_type": "markdown",
   "metadata": {
    "collapsed": true
   },
   "source": [
    "## ndarray数组的数据类型使用和转换"
   ]
  },
  {
   "cell_type": "code",
   "execution_count": 65,
   "metadata": {},
   "outputs": [
    {
     "name": "stdout",
     "output_type": "stream",
     "text": [
      "float64\n",
      "int32\n"
     ]
    }
   ],
   "source": [
    "#生成数组时指定数据类型'\n",
    "arr = np.array([1, 2, 3], dtype = np.float64)\n",
    "print(arr.dtype)\n",
    "arr = np.array([1, 2, 3], dtype = np.int32)\n",
    "print(arr.dtype)"
   ]
  },
  {
   "cell_type": "code",
   "execution_count": 66,
   "metadata": {},
   "outputs": [
    {
     "name": "stdout",
     "output_type": "stream",
     "text": [
      "int32\n",
      "float64\n"
     ]
    }
   ],
   "source": [
    "#使用astype复制数组并转换数据类型\n",
    "int_arr = np.array([1, 2, 3, 4, 5])\n",
    "float_arr = int_arr.astype(np.float)\n",
    "print(int_arr.dtype)\n",
    "print(float_arr.dtype)"
   ]
  },
  {
   "cell_type": "code",
   "execution_count": 67,
   "metadata": {},
   "outputs": [
    {
     "name": "stdout",
     "output_type": "stream",
     "text": [
      "[ 3 -1 -2  0 12 10]\n"
     ]
    }
   ],
   "source": [
    "#使用astype将float转换为int时小数部分被舍弃'\n",
    "float_arr = np.array([3.7, -1.2, -2.6, 0.5, 12.9, 10.1])\n",
    "int_arr = float_arr.astype(dtype = np.int)\n",
    "print(int_arr)"
   ]
  },
  {
   "cell_type": "code",
   "execution_count": 68,
   "metadata": {},
   "outputs": [
    {
     "name": "stdout",
     "output_type": "stream",
     "text": [
      "[ 1.25 -9.6  42.  ]\n"
     ]
    }
   ],
   "source": [
    "#使用astype把字符串转换为数组，如果失败抛出异常。'\n",
    "str_arr = np.array(['1.25', '-9.6', '42'], dtype = np.string_)\n",
    "float_arr = str_arr.astype(dtype = np.float)\n",
    "print(float_arr)"
   ]
  },
  {
   "cell_type": "code",
   "execution_count": 69,
   "metadata": {},
   "outputs": [
    {
     "name": "stdout",
     "output_type": "stream",
     "text": [
      "[0. 1. 2. 3. 4. 5. 6. 7. 8. 9.]\n",
      "0 1\n"
     ]
    }
   ],
   "source": [
    "#astype使用其它数组的数据类型作为参数'\n",
    "int_arr = np.arange(10)\n",
    "float_arr = np.array([.23, 0.270, .357, 0.44, 0.5], dtype = np.float64)\n",
    "print(int_arr.astype(float_arr.dtype))\n",
    "#astype做了复制，数组本身不变。\n",
    "print(int_arr[0], int_arr[1]) "
   ]
  },
  {
   "cell_type": "markdown",
   "metadata": {},
   "source": [
    "## NumPy的ndarray 数组转置和轴对换\n",
    "- 一维／二维数组转置\n",
    "- 高维数组轴对换"
   ]
  },
  {
   "cell_type": "code",
   "execution_count": 70,
   "metadata": {},
   "outputs": [
    {
     "name": "stdout",
     "output_type": "stream",
     "text": [
      "[[0 5]\n",
      " [1 6]\n",
      " [2 7]\n",
      " [3 8]\n",
      " [4 9]]\n"
     ]
    }
   ],
   "source": [
    "arr = np.arange(10).reshape((2, 5))\n",
    "# 把矩阵 A 的行换成同序数的列得到的矩阵,叫做 A 的转置矩阵\n",
    "print(arr.T) "
   ]
  },
  {
   "cell_type": "markdown",
   "metadata": {},
   "source": [
    "## ndarray 快速的元素级数组函数"
   ]
  },
  {
   "cell_type": "code",
   "execution_count": 71,
   "metadata": {},
   "outputs": [
    {
     "data": {
      "text/plain": [
       "array([[ 0,  1,  4,  9, 16],\n",
       "       [25, 36, 49, 64, 81]], dtype=int32)"
      ]
     },
     "execution_count": 71,
     "metadata": {},
     "output_type": "execute_result"
    }
   ],
   "source": [
    "# 求平方\n",
    "arr = np.arange(10).reshape((2,5))\n",
    "np.square(arr)"
   ]
  },
  {
   "cell_type": "code",
   "execution_count": 72,
   "metadata": {},
   "outputs": [
    {
     "data": {
      "text/plain": [
       "array([[10,  9,  8,  7,  6],\n",
       "       [ 5,  6,  7,  8,  9]])"
      ]
     },
     "execution_count": 72,
     "metadata": {},
     "output_type": "execute_result"
    }
   ],
   "source": [
    "# '数组比较'\n",
    "a = np.arange(10).reshape((2,5))\n",
    "b = np.arange(10,0,-1).reshape((2,5))\n",
    "np.maximum(a,b)"
   ]
  },
  {
   "cell_type": "code",
   "execution_count": 9,
   "metadata": {},
   "outputs": [
    {
     "data": {
      "text/plain": [
       "array([[ 0, 11, 22, 33, 44],\n",
       "       [55, 66, 77, 88, 99]])"
      ]
     },
     "execution_count": 9,
     "metadata": {},
     "output_type": "execute_result"
    }
   ],
   "source": [
    "a = np.arange(10).reshape((2,5))\n",
    "b =np.arange(0,100,10).reshape((2,5))\n",
    "np.add(a,b)\n",
    "\n",
    "a+b"
   ]
  },
  {
   "cell_type": "markdown",
   "metadata": {},
   "source": [
    "### ndarry的基本统计方法 "
   ]
  },
  {
   "cell_type": "code",
   "execution_count": 73,
   "metadata": {},
   "outputs": [
    {
     "name": "stdout",
     "output_type": "stream",
     "text": [
      "[[0 1 2 3 4]\n",
      " [5 6 7 8 9]]\n"
     ]
    },
    {
     "data": {
      "text/plain": [
       "array([2., 7.])"
      ]
     },
     "execution_count": 73,
     "metadata": {},
     "output_type": "execute_result"
    }
   ],
   "source": [
    "arr  =np.arange(10).reshape((2,5))\n",
    "print(arr)\n",
    "# 沿着列axis=1（即对每一行）的元素求平均\n",
    "arr.mean(axis= 1)"
   ]
  },
  {
   "cell_type": "code",
   "execution_count": 74,
   "metadata": {},
   "outputs": [
    {
     "data": {
      "text/plain": [
       "array([2.5, 3.5, 4.5, 5.5, 6.5])"
      ]
     },
     "execution_count": 74,
     "metadata": {},
     "output_type": "execute_result"
    }
   ],
   "source": [
    "# 沿着行axis=0（对每一列）元素求平均\n",
    "arr.mean(axis= 0)"
   ]
  },
  {
   "cell_type": "code",
   "execution_count": 75,
   "metadata": {},
   "outputs": [
    {
     "data": {
      "text/plain": [
       "array([[ 0,  1,  3,  6, 10],\n",
       "       [ 5, 11, 18, 26, 35]], dtype=int32)"
      ]
     },
     "execution_count": 75,
     "metadata": {},
     "output_type": "execute_result"
    }
   ],
   "source": [
    "#沿着列进行累加\n",
    "arr.cumsum(axis = 1)"
   ]
  },
  {
   "cell_type": "markdown",
   "metadata": {},
   "source": [
    "## 随机数的生成"
   ]
  },
  {
   "cell_type": "code",
   "execution_count": 76,
   "metadata": {},
   "outputs": [
    {
     "data": {
      "text/plain": [
       "array([[79,  9, 88, 12, 98],\n",
       "       [24,  6, 72, 28, 28]])"
      ]
     },
     "execution_count": 76,
     "metadata": {},
     "output_type": "execute_result"
    }
   ],
   "source": [
    "# 从给定的上下限范围内随机选取整数\n",
    "np.random.randint(0,100,size = (2,5))"
   ]
  },
  {
   "cell_type": "code",
   "execution_count": 77,
   "metadata": {},
   "outputs": [
    {
     "data": {
      "text/plain": [
       "array([[11.03549993,  9.73570872,  8.84961811, 12.29489519,  9.92102275],\n",
       "       [11.29624959, 11.20681684, 10.416688  , 10.38950633,  9.94222553]])"
      ]
     },
     "execution_count": 77,
     "metadata": {},
     "output_type": "execute_result"
    }
   ],
   "source": [
    "# 产生正态（高斯）分布的样本值\n",
    "np.random.normal(10,1,size = (2,5))"
   ]
  },
  {
   "cell_type": "code",
   "execution_count": 78,
   "metadata": {},
   "outputs": [
    {
     "data": {
      "text/plain": [
       "array([ 0.22950951, -0.28598883,  0.93983865,  0.43295923, -0.51787214,\n",
       "        1.24559961, -0.70783435, -0.5700732 ,  1.70747048, -0.12371031])"
      ]
     },
     "execution_count": 78,
     "metadata": {},
     "output_type": "execute_result"
    }
   ],
   "source": [
    "# 产生一维的标准正态分布的样本值\n",
    "np.random.randn(10)"
   ]
  },
  {
   "cell_type": "markdown",
   "metadata": {},
   "source": [
    "# matplotlib "
   ]
  },
  {
   "cell_type": "markdown",
   "metadata": {},
   "source": [
    "## 引入模块"
   ]
  },
  {
   "cell_type": "code",
   "execution_count": 11,
   "metadata": {},
   "outputs": [],
   "source": [
    "import numpy as np\n",
    "#载入matplotlib的绘图模块pyplot，并且重命名为plt\n",
    "import matplotlib.pyplot as plt\n",
    "\n",
    "#这将打开内联绘图，绘图图形将显示在笔记本中。 这对交互性有很重要的影响。 对于内联绘图，在单元格下方的单元格中输出绘图的命令不会影响绘图。 \n",
    "%matplotlib inline"
   ]
  },
  {
   "cell_type": "markdown",
   "metadata": {},
   "source": [
    "###  使用默认配置的plot简单绘图"
   ]
  },
  {
   "cell_type": "code",
   "execution_count": 16,
   "metadata": {},
   "outputs": [
    {
     "data": {
      "image/png": "[encoded data removed]",
      "text/plain": [
       "<Figure size 432x288 with 1 Axes>"
      ]
     },
     "metadata": {},
     "output_type": "display_data"
    }
   ],
   "source": [
    "#生成数据\n",
    "x = np.arange(0,4*np.pi,0.1)\n",
    "y = np.sin(x)\n",
    "#直接使用plot函数产生figure对象和axes对象\n",
    "plt.plot(x,y,'ro')\n",
    "ax = plt.gca()"
   ]
  },
  {
   "cell_type": "markdown",
   "metadata": {},
   "source": [
    "## 自定义绘图"
   ]
  },
  {
   "cell_type": "code",
   "execution_count": 81,
   "metadata": {},
   "outputs": [
    {
     "data": {
      "image/png": "[encoded data removed]",
      "text/plain": [
       "<matplotlib.figure.Figure at 0x135713c8>"
      ]
     },
     "metadata": {},
     "output_type": "display_data"
    }
   ],
   "source": [
    "# 生成数据\n",
    "x = np.linspace(0, 10, 1000)\n",
    "y = np.sin(x)\n",
    "z = np.cos(x**2)\n",
    "\n",
    "#确定figure对象的宽度和高度\n",
    "plt.figure(figsize=(8,4))\n",
    "\n",
    "#绘制子图，并设置对应line2D对象的标签，颜色和线条宽度\n",
    "plt.plot(x,y,label=\"$sin(x)$\",color=\"red\",linewidth=2) \n",
    "\n",
    "#在当前子图上，生成新的line2D对象，并设置标签\n",
    "plt.plot(x,z,\"b--\",label=\"$cos(x^2)$\") \n",
    "\n",
    "#绘制Axes对象的属性：x，y轴标题名称\n",
    "plt.xlabel(\"Time(s)\") \n",
    "plt.ylabel(\"Volt\")\n",
    "#子图的标题\n",
    "plt.title(\"PyPlot Example\")\n",
    "#Y轴的显示范围\n",
    "plt.ylim(-1.2,1.2)\n",
    "#显示图示，即图中表示每条曲线的标签(label)和样式的矩形区域\n",
    "plt.legend()\n",
    "plt.show()"
   ]
  },
  {
   "cell_type": "markdown",
   "metadata": {},
   "source": [
    "### 2. subplot 子图绘制"
   ]
  },
  {
   "cell_type": "code",
   "execution_count": 82,
   "metadata": {},
   "outputs": [
    {
     "data": {
      "text/plain": [
       "<matplotlib.text.Text at 0x139c6978>"
      ]
     },
     "execution_count": 82,
     "metadata": {},
     "output_type": "execute_result"
    },
    {
     "data": {
      "image/png": "[encoded data removed]",
      "text/plain": [
       "<matplotlib.figure.Figure at 0x139034a8>"
      ]
     },
     "metadata": {},
     "output_type": "display_data"
    }
   ],
   "source": [
    "#生成数据\n",
    "y_sin = np.sin(x)\n",
    "y_cos = np.cos(x)\n",
    "\n",
    "#生成Figure对象，并设置宽度和高度\n",
    "plt.figure(figsize = (8,4))\n",
    "\n",
    "#创建1*2的子图，并在第一个子图上设置颜色和标题\n",
    "plt.subplot(1,2,1)\n",
    "plt.plot(x,y_sin,'r')\n",
    "plt.title('Sine')\n",
    "\n",
    "#生成第二个子图，并设置标题\n",
    "plt.subplot(1,2,2)\n",
    "plt.plot(x,y_cos)\n",
    "plt.title('Cos')"
   ]
  },
  {
   "cell_type": "code",
   "execution_count": null,
   "metadata": {},
   "outputs": [],
   "source": []
  },
  {
   "cell_type": "markdown",
   "metadata": {},
   "source": [
    "# Pandas\n",
    "- Series  \n",
    "    + 创建\n",
    "    \n",
    "\n",
    "\n",
    "- dataframe  \n",
    " + 创建\n",
    " + 描述\n",
    " + 索引\n",
    " + 选取\n",
    " + 筛选\n",
    " + 排序\n",
    " + 采用\n",
    " + 作图\n",
    " \n",
    " \n"
   ]
  },
  {
   "cell_type": "markdown",
   "metadata": {},
   "source": [
    "## 步骤1：创建Series和datafram"
   ]
  },
  {
   "cell_type": "code",
   "execution_count": 19,
   "metadata": {},
   "outputs": [],
   "source": [
    "import numpy as np\n",
    "import pandas as pd\n"
   ]
  },
  {
   "cell_type": "markdown",
   "metadata": {},
   "source": [
    "### 通过python数组创建Series"
   ]
  },
  {
   "cell_type": "code",
   "execution_count": 84,
   "metadata": {},
   "outputs": [
    {
     "name": "stdout",
     "output_type": "stream",
     "text": [
      "a    1\n",
      "b    2\n",
      "c    3\n",
      "d    4\n",
      "dtype: int64\n"
     ]
    }
   ],
   "source": [
    "#从数组中创建Series，并指定各个数据点进行标记的索引\n",
    "s = pd.Series([1,2,3,4],index= list('abcd'))\n",
    "print(s)"
   ]
  },
  {
   "cell_type": "code",
   "execution_count": 85,
   "metadata": {
    "scrolled": true
   },
   "outputs": [
    {
     "name": "stdout",
     "output_type": "stream",
     "text": [
      "<class 'pandas.core.indexes.base.Index'>\n",
      "Index(['a', 'b', 'c', 'd'], dtype='object')\n",
      "[1 2 3 4]\n",
      "int64\n"
     ]
    }
   ],
   "source": [
    "#显示索引,其为index对象\n",
    "print(type(s.index))\n",
    "print(s.index)\n",
    "\n",
    "#显示values，其为一维numpy数组\n",
    "print(s.values)\n",
    "\n",
    "#显示其元素的数据类型\n",
    "print(s.dtype)"
   ]
  },
  {
   "cell_type": "code",
   "execution_count": 86,
   "metadata": {},
   "outputs": [
    {
     "name": "stdout",
     "output_type": "stream",
     "text": [
      "c    3\n",
      "d    4\n",
      "dtype: int64\n"
     ]
    }
   ],
   "source": [
    "# 使用NumPy函数或类似NumPy的运算（如根据布尔型数组进行过滤、标量乘法、应用数学函数等）都会保留索引值的链接：\n",
    "#条件索引\n",
    "print(s[s>2])"
   ]
  },
  {
   "cell_type": "code",
   "execution_count": 87,
   "metadata": {},
   "outputs": [
    {
     "name": "stdout",
     "output_type": "stream",
     "text": [
      "a    2\n",
      "b    4\n",
      "c    6\n",
      "d    8\n",
      "dtype: int64\n"
     ]
    }
   ],
   "source": [
    "#乘以标量\n",
    "print(s*2)"
   ]
  },
  {
   "cell_type": "code",
   "execution_count": 88,
   "metadata": {},
   "outputs": [
    {
     "name": "stdout",
     "output_type": "stream",
     "text": [
      "a     2.718282\n",
      "b     7.389056\n",
      "c    20.085537\n",
      "d    54.598150\n",
      "dtype: float64\n"
     ]
    }
   ],
   "source": [
    "#幂运算\n",
    "print(np.exp(s))"
   ]
  },
  {
   "cell_type": "code",
   "execution_count": 89,
   "metadata": {
    "collapsed": true,
    "scrolled": true
   },
   "outputs": [],
   "source": [
    "# ###  修改索引 \n",
    "# s.index = list('mnop')\n",
    "# print(s)"
   ]
  },
  {
   "cell_type": "markdown",
   "metadata": {
    "collapsed": true
   },
   "source": [
    "### 由字典创建series "
   ]
  },
  {
   "cell_type": "code",
   "execution_count": 90,
   "metadata": {},
   "outputs": [
    {
     "name": "stdout",
     "output_type": "stream",
     "text": [
      "a   -5\n",
      "b    7\n",
      "c    3\n",
      "d    4\n",
      "dtype: int64\n"
     ]
    }
   ],
   "source": [
    "#从一个字典创建series，因此可以将series是为一个特殊的字典\n",
    "d= dict(d=4,b=7,a=-5,c=3)\n",
    "s2= pd.Series(d)\n",
    "print(s2)"
   ]
  },
  {
   "cell_type": "code",
   "execution_count": 91,
   "metadata": {},
   "outputs": [
    {
     "name": "stdout",
     "output_type": "stream",
     "text": [
      "-5\n",
      "a   -5\n",
      "b    7\n",
      "c    3\n",
      "dtype: int64\n"
     ]
    }
   ],
   "source": [
    "#index of series\n",
    "print(s2['a'])\n",
    "\n",
    "#slice of series\n",
    "print(s2[0:3])"
   ]
  },
  {
   "cell_type": "markdown",
   "metadata": {},
   "source": [
    "### 通过字典创建dataframe"
   ]
  },
  {
   "cell_type": "code",
   "execution_count": 92,
   "metadata": {},
   "outputs": [
    {
     "name": "stdout",
     "output_type": "stream",
     "text": [
      "   age   name\n",
      "0   21  Jerry\n",
      "1   19    Jim\n",
      "2   20   Mike\n"
     ]
    }
   ],
   "source": [
    "data = {'name':['Jerry','Jim','Mike'],\n",
    "       'age':  [21,19,20]}\n",
    "df = pd.DataFrame(data)\n",
    "print(df)"
   ]
  },
  {
   "cell_type": "markdown",
   "metadata": {},
   "source": [
    "###  通过类似字典标记的方式或属性的方式，获取dataframe中某一列为series"
   ]
  },
  {
   "cell_type": "code",
   "execution_count": 93,
   "metadata": {},
   "outputs": [
    {
     "data": {
      "text/plain": [
       "0    Jerry\n",
       "1      Jim\n",
       "2     Mike\n",
       "Name: name, dtype: object"
      ]
     },
     "execution_count": 93,
     "metadata": {},
     "output_type": "execute_result"
    }
   ],
   "source": [
    "df['name']"
   ]
  },
  {
   "cell_type": "code",
   "execution_count": 94,
   "metadata": {},
   "outputs": [
    {
     "data": {
      "text/plain": [
       "0    Jerry\n",
       "1      Jim\n",
       "2     Mike\n",
       "Name: name, dtype: object"
      ]
     },
     "execution_count": 94,
     "metadata": {},
     "output_type": "execute_result"
    }
   ],
   "source": [
    "df.name"
   ]
  },
  {
   "cell_type": "code",
   "execution_count": 95,
   "metadata": {},
   "outputs": [
    {
     "data": {
      "text/plain": [
       "0    Jerry\n",
       "1      Jim\n",
       "2     Mike\n",
       "Name: name, dtype: object"
      ]
     },
     "execution_count": 95,
     "metadata": {},
     "output_type": "execute_result"
    }
   ],
   "source": [
    "df.loc[:,'name']"
   ]
  },
  {
   "cell_type": "code",
   "execution_count": 96,
   "metadata": {},
   "outputs": [
    {
     "data": {
      "text/plain": [
       "0    Jerry\n",
       "1      Jim\n",
       "2     Mike\n",
       "Name: name, dtype: object"
      ]
     },
     "execution_count": 96,
     "metadata": {},
     "output_type": "execute_result"
    }
   ],
   "source": [
    "df.iloc[:,1]"
   ]
  },
  {
   "cell_type": "markdown",
   "metadata": {},
   "source": [
    "### 增加某一列"
   ]
  },
  {
   "cell_type": "code",
   "execution_count": 97,
   "metadata": {},
   "outputs": [
    {
     "data": {
      "text/html": [
       "<div>\n",
       "<style>\n",
       "    .dataframe thead tr:only-child th {\n",
       "        text-align: right;\n",
       "    }\n",
       "\n",
       "    .dataframe thead th {\n",
       "        text-align: left;\n",
       "    }\n",
       "\n",
       "    .dataframe tbody tr th {\n",
       "        vertical-align: top;\n",
       "    }\n",
       "</style>\n",
       "<table border=\"1\" class=\"dataframe\">\n",
       "  <thead>\n",
       "    <tr style=\"text-align: right;\">\n",
       "      <th></th>\n",
       "      <th>age</th>\n",
       "      <th>name</th>\n",
       "      <th>gender</th>\n",
       "    </tr>\n",
       "  </thead>\n",
       "  <tbody>\n",
       "    <tr>\n",
       "      <th>0</th>\n",
       "      <td>21</td>\n",
       "      <td>Jerry</td>\n",
       "      <td>M</td>\n",
       "    </tr>\n",
       "    <tr>\n",
       "      <th>1</th>\n",
       "      <td>19</td>\n",
       "      <td>Jim</td>\n",
       "      <td>M</td>\n",
       "    </tr>\n",
       "    <tr>\n",
       "      <th>2</th>\n",
       "      <td>20</td>\n",
       "      <td>Mike</td>\n",
       "      <td>M</td>\n",
       "    </tr>\n",
       "  </tbody>\n",
       "</table>\n",
       "</div>"
      ],
      "text/plain": [
       "   age   name gender\n",
       "0   21  Jerry      M\n",
       "1   19    Jim      M\n",
       "2   20   Mike      M"
      ]
     },
     "execution_count": 97,
     "metadata": {},
     "output_type": "execute_result"
    }
   ],
   "source": [
    "df['gender']= ['M','M','M']\n",
    "df"
   ]
  },
  {
   "cell_type": "markdown",
   "metadata": {},
   "source": [
    "### 删除某一列"
   ]
  },
  {
   "cell_type": "code",
   "execution_count": 98,
   "metadata": {},
   "outputs": [
    {
     "data": {
      "text/html": [
       "<div>\n",
       "<style>\n",
       "    .dataframe thead tr:only-child th {\n",
       "        text-align: right;\n",
       "    }\n",
       "\n",
       "    .dataframe thead th {\n",
       "        text-align: left;\n",
       "    }\n",
       "\n",
       "    .dataframe tbody tr th {\n",
       "        vertical-align: top;\n",
       "    }\n",
       "</style>\n",
       "<table border=\"1\" class=\"dataframe\">\n",
       "  <thead>\n",
       "    <tr style=\"text-align: right;\">\n",
       "      <th></th>\n",
       "      <th>name</th>\n",
       "      <th>gender</th>\n",
       "    </tr>\n",
       "  </thead>\n",
       "  <tbody>\n",
       "    <tr>\n",
       "      <th>0</th>\n",
       "      <td>Jerry</td>\n",
       "      <td>M</td>\n",
       "    </tr>\n",
       "    <tr>\n",
       "      <th>1</th>\n",
       "      <td>Jim</td>\n",
       "      <td>M</td>\n",
       "    </tr>\n",
       "    <tr>\n",
       "      <th>2</th>\n",
       "      <td>Mike</td>\n",
       "      <td>M</td>\n",
       "    </tr>\n",
       "  </tbody>\n",
       "</table>\n",
       "</div>"
      ],
      "text/plain": [
       "    name gender\n",
       "0  Jerry      M\n",
       "1    Jim      M\n",
       "2   Mike      M"
      ]
     },
     "execution_count": 98,
     "metadata": {},
     "output_type": "execute_result"
    }
   ],
   "source": [
    "new = df.drop('age',axis=1)\n",
    "new"
   ]
  },
  {
   "cell_type": "code",
   "execution_count": 99,
   "metadata": {},
   "outputs": [
    {
     "data": {
      "text/html": [
       "<div>\n",
       "<style>\n",
       "    .dataframe thead tr:only-child th {\n",
       "        text-align: right;\n",
       "    }\n",
       "\n",
       "    .dataframe thead th {\n",
       "        text-align: left;\n",
       "    }\n",
       "\n",
       "    .dataframe tbody tr th {\n",
       "        vertical-align: top;\n",
       "    }\n",
       "</style>\n",
       "<table border=\"1\" class=\"dataframe\">\n",
       "  <thead>\n",
       "    <tr style=\"text-align: right;\">\n",
       "      <th></th>\n",
       "      <th>age</th>\n",
       "      <th>name</th>\n",
       "      <th>gender</th>\n",
       "    </tr>\n",
       "  </thead>\n",
       "  <tbody>\n",
       "    <tr>\n",
       "      <th>0</th>\n",
       "      <td>21</td>\n",
       "      <td>Jerry</td>\n",
       "      <td>M</td>\n",
       "    </tr>\n",
       "    <tr>\n",
       "      <th>1</th>\n",
       "      <td>19</td>\n",
       "      <td>Jim</td>\n",
       "      <td>M</td>\n",
       "    </tr>\n",
       "    <tr>\n",
       "      <th>2</th>\n",
       "      <td>20</td>\n",
       "      <td>Mike</td>\n",
       "      <td>M</td>\n",
       "    </tr>\n",
       "  </tbody>\n",
       "</table>\n",
       "</div>"
      ],
      "text/plain": [
       "   age   name gender\n",
       "0   21  Jerry      M\n",
       "1   19    Jim      M\n",
       "2   20   Mike      M"
      ]
     },
     "execution_count": 99,
     "metadata": {},
     "output_type": "execute_result"
    }
   ],
   "source": [
    "#许多函数，如drop，会修改Series或DataFrame的大小或形状，可以就地修改对象，不会返回新的对象：\n",
    "df"
   ]
  },
  {
   "cell_type": "code",
   "execution_count": 100,
   "metadata": {},
   "outputs": [
    {
     "data": {
      "text/html": [
       "<div>\n",
       "<style>\n",
       "    .dataframe thead tr:only-child th {\n",
       "        text-align: right;\n",
       "    }\n",
       "\n",
       "    .dataframe thead th {\n",
       "        text-align: left;\n",
       "    }\n",
       "\n",
       "    .dataframe tbody tr th {\n",
       "        vertical-align: top;\n",
       "    }\n",
       "</style>\n",
       "<table border=\"1\" class=\"dataframe\">\n",
       "  <thead>\n",
       "    <tr style=\"text-align: right;\">\n",
       "      <th></th>\n",
       "      <th>name</th>\n",
       "      <th>gender</th>\n",
       "    </tr>\n",
       "  </thead>\n",
       "  <tbody>\n",
       "    <tr>\n",
       "      <th>0</th>\n",
       "      <td>Jerry</td>\n",
       "      <td>M</td>\n",
       "    </tr>\n",
       "    <tr>\n",
       "      <th>1</th>\n",
       "      <td>Jim</td>\n",
       "      <td>M</td>\n",
       "    </tr>\n",
       "    <tr>\n",
       "      <th>2</th>\n",
       "      <td>Mike</td>\n",
       "      <td>M</td>\n",
       "    </tr>\n",
       "  </tbody>\n",
       "</table>\n",
       "</div>"
      ],
      "text/plain": [
       "    name gender\n",
       "0  Jerry      M\n",
       "1    Jim      M\n",
       "2   Mike      M"
      ]
     },
     "execution_count": 100,
     "metadata": {},
     "output_type": "execute_result"
    }
   ],
   "source": [
    "df.drop('age',axis =1,inplace=True,errors='ignore')\n",
    "df"
   ]
  },
  {
   "cell_type": "markdown",
   "metadata": {},
   "source": [
    "## 索引、选取、过滤"
   ]
  },
  {
   "cell_type": "code",
   "execution_count": 20,
   "metadata": {},
   "outputs": [
    {
     "name": "stdout",
     "output_type": "stream",
     "text": [
      "a    0.0\n",
      "b    1.0\n",
      "c    2.0\n",
      "d    3.0\n",
      "dtype: float64\n"
     ]
    }
   ],
   "source": [
    "obj = pd.Series(np.arange(4.), index=['a', 'b', 'c', 'd'])\n",
    "print(obj)"
   ]
  },
  {
   "cell_type": "code",
   "execution_count": 21,
   "metadata": {},
   "outputs": [
    {
     "name": "stdout",
     "output_type": "stream",
     "text": [
      "0.0\n",
      "0.0\n"
     ]
    }
   ],
   "source": [
    "print(obj['a'])\n",
    "print(obj[0])"
   ]
  },
  {
   "cell_type": "code",
   "execution_count": 103,
   "metadata": {},
   "outputs": [
    {
     "name": "stdout",
     "output_type": "stream",
     "text": [
      "a    0.0\n",
      "c    2.0\n",
      "dtype: float64\n",
      "a    0.0\n",
      "c    2.0\n",
      "dtype: float64\n"
     ]
    }
   ],
   "source": [
    "print(obj[[0,2]])\n",
    "print(obj[['a','c']])"
   ]
  },
  {
   "cell_type": "code",
   "execution_count": 104,
   "metadata": {},
   "outputs": [
    {
     "name": "stdout",
     "output_type": "stream",
     "text": [
      "a    0.0\n",
      "b    1.0\n",
      "c    2.0\n",
      "d    3.0\n",
      "dtype: float64\n",
      "a    0.0\n",
      "b    1.0\n",
      "c    2.0\n",
      "dtype: float64\n"
     ]
    }
   ],
   "source": [
    "#利用标签的切片运算与普通的Python切片运算不同，其末端是包含的：\n",
    "print(obj['a':'d'])\n",
    "print(obj[0:3])"
   ]
  },
  {
   "cell_type": "code",
   "execution_count": 22,
   "metadata": {},
   "outputs": [
    {
     "data": {
      "text/html": [
       "<div>\n",
       "<style scoped>\n",
       "    .dataframe tbody tr th:only-of-type {\n",
       "        vertical-align: middle;\n",
       "    }\n",
       "\n",
       "    .dataframe tbody tr th {\n",
       "        vertical-align: top;\n",
       "    }\n",
       "\n",
       "    .dataframe thead th {\n",
       "        text-align: right;\n",
       "    }\n",
       "</style>\n",
       "<table border=\"1\" class=\"dataframe\">\n",
       "  <thead>\n",
       "    <tr style=\"text-align: right;\">\n",
       "      <th></th>\n",
       "      <th>one</th>\n",
       "      <th>two</th>\n",
       "      <th>three</th>\n",
       "      <th>four</th>\n",
       "    </tr>\n",
       "  </thead>\n",
       "  <tbody>\n",
       "    <tr>\n",
       "      <th>Ohio</th>\n",
       "      <td>0</td>\n",
       "      <td>1</td>\n",
       "      <td>2</td>\n",
       "      <td>3</td>\n",
       "    </tr>\n",
       "    <tr>\n",
       "      <th>Colorado</th>\n",
       "      <td>4</td>\n",
       "      <td>5</td>\n",
       "      <td>6</td>\n",
       "      <td>7</td>\n",
       "    </tr>\n",
       "    <tr>\n",
       "      <th>Utah</th>\n",
       "      <td>8</td>\n",
       "      <td>9</td>\n",
       "      <td>10</td>\n",
       "      <td>11</td>\n",
       "    </tr>\n",
       "    <tr>\n",
       "      <th>New York</th>\n",
       "      <td>12</td>\n",
       "      <td>13</td>\n",
       "      <td>14</td>\n",
       "      <td>15</td>\n",
       "    </tr>\n",
       "  </tbody>\n",
       "</table>\n",
       "</div>"
      ],
      "text/plain": [
       "          one  two  three  four\n",
       "Ohio        0    1      2     3\n",
       "Colorado    4    5      6     7\n",
       "Utah        8    9     10    11\n",
       "New York   12   13     14    15"
      ]
     },
     "execution_count": 22,
     "metadata": {},
     "output_type": "execute_result"
    }
   ],
   "source": [
    "# 用一个值或序列对DataFrame进行索引其实就是获取一个或多个列：\n",
    "data = pd.DataFrame(np.arange(16).reshape((4, 4)),\n",
    "                    index=['Ohio', 'Colorado', 'Utah', 'New York'],\n",
    "                    columns=['one', 'two', 'three', 'four'])\n",
    "data"
   ]
  },
  {
   "cell_type": "code",
   "execution_count": 106,
   "metadata": {},
   "outputs": [
    {
     "data": {
      "text/plain": [
       "Ohio         0\n",
       "Colorado     4\n",
       "Utah         8\n",
       "New York    12\n",
       "Name: one, dtype: int32"
      ]
     },
     "execution_count": 106,
     "metadata": {},
     "output_type": "execute_result"
    }
   ],
   "source": [
    "data['one']"
   ]
  },
  {
   "cell_type": "code",
   "execution_count": 107,
   "metadata": {},
   "outputs": [
    {
     "data": {
      "text/html": [
       "<div>\n",
       "<style>\n",
       "    .dataframe thead tr:only-child th {\n",
       "        text-align: right;\n",
       "    }\n",
       "\n",
       "    .dataframe thead th {\n",
       "        text-align: left;\n",
       "    }\n",
       "\n",
       "    .dataframe tbody tr th {\n",
       "        vertical-align: top;\n",
       "    }\n",
       "</style>\n",
       "<table border=\"1\" class=\"dataframe\">\n",
       "  <thead>\n",
       "    <tr style=\"text-align: right;\">\n",
       "      <th></th>\n",
       "      <th>one</th>\n",
       "      <th>three</th>\n",
       "    </tr>\n",
       "  </thead>\n",
       "  <tbody>\n",
       "    <tr>\n",
       "      <th>Ohio</th>\n",
       "      <td>0</td>\n",
       "      <td>2</td>\n",
       "    </tr>\n",
       "    <tr>\n",
       "      <th>Colorado</th>\n",
       "      <td>4</td>\n",
       "      <td>6</td>\n",
       "    </tr>\n",
       "    <tr>\n",
       "      <th>Utah</th>\n",
       "      <td>8</td>\n",
       "      <td>10</td>\n",
       "    </tr>\n",
       "    <tr>\n",
       "      <th>New York</th>\n",
       "      <td>12</td>\n",
       "      <td>14</td>\n",
       "    </tr>\n",
       "  </tbody>\n",
       "</table>\n",
       "</div>"
      ],
      "text/plain": [
       "          one  three\n",
       "Ohio        0      2\n",
       "Colorado    4      6\n",
       "Utah        8     10\n",
       "New York   12     14"
      ]
     },
     "execution_count": 107,
     "metadata": {},
     "output_type": "execute_result"
    }
   ],
   "source": [
    "data[['one','three']]"
   ]
  },
  {
   "cell_type": "code",
   "execution_count": 108,
   "metadata": {},
   "outputs": [
    {
     "data": {
      "text/html": [
       "<div>\n",
       "<style>\n",
       "    .dataframe thead tr:only-child th {\n",
       "        text-align: right;\n",
       "    }\n",
       "\n",
       "    .dataframe thead th {\n",
       "        text-align: left;\n",
       "    }\n",
       "\n",
       "    .dataframe tbody tr th {\n",
       "        vertical-align: top;\n",
       "    }\n",
       "</style>\n",
       "<table border=\"1\" class=\"dataframe\">\n",
       "  <thead>\n",
       "    <tr style=\"text-align: right;\">\n",
       "      <th></th>\n",
       "      <th>one</th>\n",
       "      <th>two</th>\n",
       "      <th>three</th>\n",
       "      <th>four</th>\n",
       "    </tr>\n",
       "  </thead>\n",
       "  <tbody>\n",
       "    <tr>\n",
       "      <th>Ohio</th>\n",
       "      <td>0</td>\n",
       "      <td>1</td>\n",
       "      <td>2</td>\n",
       "      <td>3</td>\n",
       "    </tr>\n",
       "    <tr>\n",
       "      <th>Colorado</th>\n",
       "      <td>4</td>\n",
       "      <td>5</td>\n",
       "      <td>6</td>\n",
       "      <td>7</td>\n",
       "    </tr>\n",
       "  </tbody>\n",
       "</table>\n",
       "</div>"
      ],
      "text/plain": [
       "          one  two  three  four\n",
       "Ohio        0    1      2     3\n",
       "Colorado    4    5      6     7"
      ]
     },
     "execution_count": 108,
     "metadata": {},
     "output_type": "execute_result"
    }
   ],
   "source": [
    "# 通过切片选取某些行的数据：\n",
    "data[:2]"
   ]
  },
  {
   "cell_type": "code",
   "execution_count": 28,
   "metadata": {},
   "outputs": [
    {
     "data": {
      "text/plain": [
       "two      5\n",
       "three    6\n",
       "Name: Colorado, dtype: int32"
      ]
     },
     "execution_count": 28,
     "metadata": {},
     "output_type": "execute_result"
    }
   ],
   "source": [
    "# 用loc进行选取\n",
    "data.loc['Colorado', ['two', 'three']]"
   ]
  },
  {
   "cell_type": "code",
   "execution_count": 111,
   "metadata": {},
   "outputs": [
    {
     "data": {
      "text/plain": [
       "four    11\n",
       "one      8\n",
       "two      9\n",
       "Name: Utah, dtype: int32"
      ]
     },
     "execution_count": 111,
     "metadata": {},
     "output_type": "execute_result"
    }
   ],
   "source": [
    "# 用iloc进行选取\n",
    "data.iloc[2, [3, 0, 1]]"
   ]
  },
  {
   "cell_type": "code",
   "execution_count": 30,
   "metadata": {},
   "outputs": [
    {
     "data": {
      "text/html": [
       "<div>\n",
       "<style scoped>\n",
       "    .dataframe tbody tr th:only-of-type {\n",
       "        vertical-align: middle;\n",
       "    }\n",
       "\n",
       "    .dataframe tbody tr th {\n",
       "        vertical-align: top;\n",
       "    }\n",
       "\n",
       "    .dataframe thead th {\n",
       "        text-align: right;\n",
       "    }\n",
       "</style>\n",
       "<table border=\"1\" class=\"dataframe\">\n",
       "  <thead>\n",
       "    <tr style=\"text-align: right;\">\n",
       "      <th></th>\n",
       "      <th>one</th>\n",
       "      <th>two</th>\n",
       "      <th>three</th>\n",
       "      <th>four</th>\n",
       "    </tr>\n",
       "  </thead>\n",
       "  <tbody>\n",
       "    <tr>\n",
       "      <th>Colorado</th>\n",
       "      <td>4</td>\n",
       "      <td>5</td>\n",
       "      <td>6</td>\n",
       "      <td>7</td>\n",
       "    </tr>\n",
       "    <tr>\n",
       "      <th>Utah</th>\n",
       "      <td>8</td>\n",
       "      <td>9</td>\n",
       "      <td>10</td>\n",
       "      <td>11</td>\n",
       "    </tr>\n",
       "    <tr>\n",
       "      <th>New York</th>\n",
       "      <td>12</td>\n",
       "      <td>13</td>\n",
       "      <td>14</td>\n",
       "      <td>15</td>\n",
       "    </tr>\n",
       "  </tbody>\n",
       "</table>\n",
       "</div>"
      ],
      "text/plain": [
       "          one  two  three  four\n",
       "Colorado    4    5      6     7\n",
       "Utah        8    9     10    11\n",
       "New York   12   13     14    15"
      ]
     },
     "execution_count": 30,
     "metadata": {},
     "output_type": "execute_result"
    }
   ],
   "source": [
    "# 通过布尔型数组选取某些行的数据：\n",
    "data[data.three>5]"
   ]
  },
  {
   "cell_type": "markdown",
   "metadata": {},
   "source": [
    "## 数据读取:"
   ]
  },
  {
   "cell_type": "code",
   "execution_count": 31,
   "metadata": {},
   "outputs": [
    {
     "data": {
      "text/html": [
       "<div>\n",
       "<style scoped>\n",
       "    .dataframe tbody tr th:only-of-type {\n",
       "        vertical-align: middle;\n",
       "    }\n",
       "\n",
       "    .dataframe tbody tr th {\n",
       "        vertical-align: top;\n",
       "    }\n",
       "\n",
       "    .dataframe thead th {\n",
       "        text-align: right;\n",
       "    }\n",
       "</style>\n",
       "<table border=\"1\" class=\"dataframe\">\n",
       "  <thead>\n",
       "    <tr style=\"text-align: right;\">\n",
       "      <th></th>\n",
       "      <th>loan_amnt</th>\n",
       "      <th>grade</th>\n",
       "      <th>sub_grade</th>\n",
       "      <th>emp_length</th>\n",
       "      <th>home_ownership</th>\n",
       "      <th>annual_inc</th>\n",
       "      <th>issue_d</th>\n",
       "      <th>loan_status</th>\n",
       "      <th>open_acc</th>\n",
       "      <th>total_pymnt</th>\n",
       "      <th>total_rec_int</th>\n",
       "    </tr>\n",
       "  </thead>\n",
       "  <tbody>\n",
       "    <tr>\n",
       "      <th>0</th>\n",
       "      <td>5000.0</td>\n",
       "      <td>B</td>\n",
       "      <td>B2</td>\n",
       "      <td>10+ years</td>\n",
       "      <td>RENT</td>\n",
       "      <td>24000.0</td>\n",
       "      <td>2017/12/11</td>\n",
       "      <td>Fully Paid</td>\n",
       "      <td>3</td>\n",
       "      <td>5863.155187</td>\n",
       "      <td>863.16</td>\n",
       "    </tr>\n",
       "    <tr>\n",
       "      <th>1</th>\n",
       "      <td>2500.0</td>\n",
       "      <td>C</td>\n",
       "      <td>C4</td>\n",
       "      <td>&lt; 1 year</td>\n",
       "      <td>RENT</td>\n",
       "      <td>30000.0</td>\n",
       "      <td>2017/12/11</td>\n",
       "      <td>Charged Off</td>\n",
       "      <td>3</td>\n",
       "      <td>1014.530000</td>\n",
       "      <td>435.17</td>\n",
       "    </tr>\n",
       "    <tr>\n",
       "      <th>2</th>\n",
       "      <td>12500.0</td>\n",
       "      <td>D</td>\n",
       "      <td>D4</td>\n",
       "      <td>10+ years</td>\n",
       "      <td>RENT</td>\n",
       "      <td>74400.0</td>\n",
       "      <td>2017/11/11</td>\n",
       "      <td>Fully Paid</td>\n",
       "      <td>8</td>\n",
       "      <td>14722.411910</td>\n",
       "      <td>2222.41</td>\n",
       "    </tr>\n",
       "    <tr>\n",
       "      <th>3</th>\n",
       "      <td>14000.0</td>\n",
       "      <td>A</td>\n",
       "      <td>A4</td>\n",
       "      <td>10+ years</td>\n",
       "      <td>RENT</td>\n",
       "      <td>72000.0</td>\n",
       "      <td>2017/11/11</td>\n",
       "      <td>fully Paid</td>\n",
       "      <td>6</td>\n",
       "      <td>15099.982530</td>\n",
       "      <td>1099.98</td>\n",
       "    </tr>\n",
       "    <tr>\n",
       "      <th>4</th>\n",
       "      <td>35000.0</td>\n",
       "      <td>F</td>\n",
       "      <td>F5</td>\n",
       "      <td>4 years</td>\n",
       "      <td>MORTGAGE</td>\n",
       "      <td>100000.0</td>\n",
       "      <td>2017/10/11</td>\n",
       "      <td>Fully Paid</td>\n",
       "      <td>9</td>\n",
       "      <td>48743.119270</td>\n",
       "      <td>13743.12</td>\n",
       "    </tr>\n",
       "  </tbody>\n",
       "</table>\n",
       "</div>"
      ],
      "text/plain": [
       "   loan_amnt grade sub_grade emp_length home_ownership  annual_inc  \\\n",
       "0     5000.0     B        B2  10+ years           RENT     24000.0   \n",
       "1     2500.0     C        C4   < 1 year           RENT     30000.0   \n",
       "2    12500.0     D        D4  10+ years           RENT     74400.0   \n",
       "3    14000.0     A        A4  10+ years           RENT     72000.0   \n",
       "4    35000.0     F        F5    4 years       MORTGAGE    100000.0   \n",
       "\n",
       "      issue_d  loan_status  open_acc   total_pymnt  total_rec_int  \n",
       "0  2017/12/11   Fully Paid         3   5863.155187         863.16  \n",
       "1  2017/12/11  Charged Off         3   1014.530000         435.17  \n",
       "2  2017/11/11   Fully Paid         8  14722.411910        2222.41  \n",
       "3  2017/11/11   fully Paid         6  15099.982530        1099.98  \n",
       "4  2017/10/11   Fully Paid         9  48743.119270       13743.12  "
      ]
     },
     "execution_count": 31,
     "metadata": {},
     "output_type": "execute_result"
    }
   ],
   "source": [
    "# 从csv文件中读取数据\n",
    "loan_data = pd.read_csv('loandata.csv')\n",
    "loan_data.head()"
   ]
  },
  {
   "cell_type": "code",
   "execution_count": 113,
   "metadata": {},
   "outputs": [
    {
     "name": "stdout",
     "output_type": "stream",
     "text": [
      "(68, 11)\n",
      "<class 'pandas.core.frame.DataFrame'>\n",
      "RangeIndex: 68 entries, 0 to 67\n",
      "Data columns (total 11 columns):\n",
      "loan_amnt         66 non-null float64\n",
      "grade             68 non-null object\n",
      "sub_grade         68 non-null object\n",
      "emp_length        68 non-null object\n",
      "home_ownership    68 non-null object\n",
      "annual_inc        65 non-null float64\n",
      "issue_d           68 non-null object\n",
      "loan_status       68 non-null object\n",
      "open_acc          68 non-null int64\n",
      "total_pymnt       68 non-null float64\n",
      "total_rec_int     68 non-null float64\n",
      "dtypes: float64(4), int64(1), object(6)\n",
      "memory usage: 5.9+ KB\n"
     ]
    }
   ],
   "source": [
    "#显示dataframe的形状\n",
    "print(loan_data.shape)\n",
    "\n",
    "#统计dataframe的数据类型和缺失值等信息\n",
    "loan_data.info()"
   ]
  },
  {
   "cell_type": "code",
   "execution_count": 32,
   "metadata": {},
   "outputs": [
    {
     "data": {
      "text/plain": [
       "loan_amnt         66\n",
       "grade             68\n",
       "sub_grade         68\n",
       "emp_length        67\n",
       "home_ownership    68\n",
       "annual_inc        65\n",
       "issue_d           68\n",
       "loan_status       68\n",
       "open_acc          68\n",
       "total_pymnt       68\n",
       "total_rec_int     68\n",
       "dtype: int64"
      ]
     },
     "execution_count": 32,
     "metadata": {},
     "output_type": "execute_result"
    }
   ],
   "source": [
    "loan_data.count()"
   ]
  },
  {
   "cell_type": "code",
   "execution_count": 114,
   "metadata": {},
   "outputs": [
    {
     "data": {
      "text/html": [
       "<div>\n",
       "<style>\n",
       "    .dataframe thead tr:only-child th {\n",
       "        text-align: right;\n",
       "    }\n",
       "\n",
       "    .dataframe thead th {\n",
       "        text-align: left;\n",
       "    }\n",
       "\n",
       "    .dataframe tbody tr th {\n",
       "        vertical-align: top;\n",
       "    }\n",
       "</style>\n",
       "<table border=\"1\" class=\"dataframe\">\n",
       "  <thead>\n",
       "    <tr style=\"text-align: right;\">\n",
       "      <th></th>\n",
       "      <th>loan_amnt</th>\n",
       "      <th>annual_inc</th>\n",
       "      <th>open_acc</th>\n",
       "      <th>total_pymnt</th>\n",
       "      <th>total_rec_int</th>\n",
       "    </tr>\n",
       "  </thead>\n",
       "  <tbody>\n",
       "    <tr>\n",
       "      <th>count</th>\n",
       "      <td>66.000000</td>\n",
       "      <td>65.000000</td>\n",
       "      <td>68.000000</td>\n",
       "      <td>68.000000</td>\n",
       "      <td>68.000000</td>\n",
       "    </tr>\n",
       "    <tr>\n",
       "      <th>mean</th>\n",
       "      <td>19913.257576</td>\n",
       "      <td>73199.676923</td>\n",
       "      <td>9.264706</td>\n",
       "      <td>14637.408621</td>\n",
       "      <td>2965.349559</td>\n",
       "    </tr>\n",
       "    <tr>\n",
       "      <th>std</th>\n",
       "      <td>60650.680480</td>\n",
       "      <td>65755.454700</td>\n",
       "      <td>3.815200</td>\n",
       "      <td>11882.493935</td>\n",
       "      <td>3569.197500</td>\n",
       "    </tr>\n",
       "    <tr>\n",
       "      <th>min</th>\n",
       "      <td>1800.000000</td>\n",
       "      <td>16000.000000</td>\n",
       "      <td>2.000000</td>\n",
       "      <td>1014.530000</td>\n",
       "      <td>203.350000</td>\n",
       "    </tr>\n",
       "    <tr>\n",
       "      <th>25%</th>\n",
       "      <td>6000.000000</td>\n",
       "      <td>45600.000000</td>\n",
       "      <td>7.000000</td>\n",
       "      <td>6543.590000</td>\n",
       "      <td>988.145000</td>\n",
       "    </tr>\n",
       "    <tr>\n",
       "      <th>50%</th>\n",
       "      <td>11000.000000</td>\n",
       "      <td>63000.000000</td>\n",
       "      <td>9.000000</td>\n",
       "      <td>10819.285650</td>\n",
       "      <td>1612.175000</td>\n",
       "    </tr>\n",
       "    <tr>\n",
       "      <th>75%</th>\n",
       "      <td>17600.000000</td>\n",
       "      <td>82000.000000</td>\n",
       "      <td>11.250000</td>\n",
       "      <td>19901.630490</td>\n",
       "      <td>3046.635000</td>\n",
       "    </tr>\n",
       "    <tr>\n",
       "      <th>max</th>\n",
       "      <td>500000.000000</td>\n",
       "      <td>550000.000000</td>\n",
       "      <td>19.000000</td>\n",
       "      <td>48845.292210</td>\n",
       "      <td>14124.860000</td>\n",
       "    </tr>\n",
       "  </tbody>\n",
       "</table>\n",
       "</div>"
      ],
      "text/plain": [
       "           loan_amnt     annual_inc   open_acc   total_pymnt  total_rec_int\n",
       "count      66.000000      65.000000  68.000000     68.000000      68.000000\n",
       "mean    19913.257576   73199.676923   9.264706  14637.408621    2965.349559\n",
       "std     60650.680480   65755.454700   3.815200  11882.493935    3569.197500\n",
       "min      1800.000000   16000.000000   2.000000   1014.530000     203.350000\n",
       "25%      6000.000000   45600.000000   7.000000   6543.590000     988.145000\n",
       "50%     11000.000000   63000.000000   9.000000  10819.285650    1612.175000\n",
       "75%     17600.000000   82000.000000  11.250000  19901.630490    3046.635000\n",
       "max    500000.000000  550000.000000  19.000000  48845.292210   14124.860000"
      ]
     },
     "execution_count": 114,
     "metadata": {},
     "output_type": "execute_result"
    }
   ],
   "source": [
    "#计算数值型的列的统计情况\n",
    "loan_data.describe()"
   ]
  },
  {
   "cell_type": "code",
   "execution_count": 115,
   "metadata": {},
   "outputs": [
    {
     "data": {
      "text/html": [
       "<div>\n",
       "<style>\n",
       "    .dataframe thead tr:only-child th {\n",
       "        text-align: right;\n",
       "    }\n",
       "\n",
       "    .dataframe thead th {\n",
       "        text-align: left;\n",
       "    }\n",
       "\n",
       "    .dataframe tbody tr th {\n",
       "        vertical-align: top;\n",
       "    }\n",
       "</style>\n",
       "<table border=\"1\" class=\"dataframe\">\n",
       "  <thead>\n",
       "    <tr style=\"text-align: right;\">\n",
       "      <th></th>\n",
       "      <th>loan_amnt</th>\n",
       "      <th>grade</th>\n",
       "      <th>sub_grade</th>\n",
       "      <th>emp_length</th>\n",
       "      <th>home_ownership</th>\n",
       "      <th>annual_inc</th>\n",
       "      <th>issue_d</th>\n",
       "      <th>loan_status</th>\n",
       "      <th>open_acc</th>\n",
       "      <th>total_pymnt</th>\n",
       "      <th>total_rec_int</th>\n",
       "    </tr>\n",
       "  </thead>\n",
       "  <tbody>\n",
       "    <tr>\n",
       "      <th>23</th>\n",
       "      <td>30000.0</td>\n",
       "      <td>E</td>\n",
       "      <td>E1</td>\n",
       "      <td>1 year</td>\n",
       "      <td>MORTGAGE</td>\n",
       "      <td>100000.0</td>\n",
       "      <td>2017/4/11</td>\n",
       "      <td>Fully Paid</td>\n",
       "      <td>14</td>\n",
       "      <td>44124.85995</td>\n",
       "      <td>14124.86</td>\n",
       "    </tr>\n",
       "    <tr>\n",
       "      <th>24</th>\n",
       "      <td>35000.0</td>\n",
       "      <td>E</td>\n",
       "      <td>E1</td>\n",
       "      <td>10+ years</td>\n",
       "      <td>RENT</td>\n",
       "      <td>106000.0</td>\n",
       "      <td>2017/3/11</td>\n",
       "      <td>Fully Paid</td>\n",
       "      <td>8</td>\n",
       "      <td>48845.29221</td>\n",
       "      <td>13845.29</td>\n",
       "    </tr>\n",
       "    <tr>\n",
       "      <th>26</th>\n",
       "      <td>30000.0</td>\n",
       "      <td>E</td>\n",
       "      <td>E1</td>\n",
       "      <td>1 year</td>\n",
       "      <td>MORTGAGE</td>\n",
       "      <td>100000.0</td>\n",
       "      <td>2017/4/11</td>\n",
       "      <td>Fully Paid</td>\n",
       "      <td>14</td>\n",
       "      <td>44124.85995</td>\n",
       "      <td>14124.86</td>\n",
       "    </tr>\n",
       "    <tr>\n",
       "      <th>27</th>\n",
       "      <td>35000.0</td>\n",
       "      <td>E</td>\n",
       "      <td>E1</td>\n",
       "      <td>10+ years</td>\n",
       "      <td>RENT</td>\n",
       "      <td>106000.0</td>\n",
       "      <td>2017/3/11</td>\n",
       "      <td>Fully Paid</td>\n",
       "      <td>8</td>\n",
       "      <td>48845.29221</td>\n",
       "      <td>13845.29</td>\n",
       "    </tr>\n",
       "    <tr>\n",
       "      <th>51</th>\n",
       "      <td>25000.0</td>\n",
       "      <td>E</td>\n",
       "      <td>E1</td>\n",
       "      <td>10+ years</td>\n",
       "      <td>RENT</td>\n",
       "      <td>56000.0</td>\n",
       "      <td>2017/5/10</td>\n",
       "      <td>Fully Paid</td>\n",
       "      <td>6</td>\n",
       "      <td>19901.63049</td>\n",
       "      <td>3001.63</td>\n",
       "    </tr>\n",
       "    <tr>\n",
       "      <th>56</th>\n",
       "      <td>500000.0</td>\n",
       "      <td>E</td>\n",
       "      <td>E1</td>\n",
       "      <td>10+ years</td>\n",
       "      <td>RENT</td>\n",
       "      <td>56000.0</td>\n",
       "      <td>2017/5/10</td>\n",
       "      <td>Fully Paid</td>\n",
       "      <td>6</td>\n",
       "      <td>19901.63049</td>\n",
       "      <td>3001.63</td>\n",
       "    </tr>\n",
       "  </tbody>\n",
       "</table>\n",
       "</div>"
      ],
      "text/plain": [
       "    loan_amnt grade sub_grade emp_length home_ownership  annual_inc  \\\n",
       "23    30000.0     E        E1     1 year       MORTGAGE    100000.0   \n",
       "24    35000.0     E        E1  10+ years           RENT    106000.0   \n",
       "26    30000.0     E        E1     1 year       MORTGAGE    100000.0   \n",
       "27    35000.0     E        E1  10+ years           RENT    106000.0   \n",
       "51    25000.0     E        E1  10+ years           RENT     56000.0   \n",
       "56   500000.0     E        E1  10+ years           RENT     56000.0   \n",
       "\n",
       "      issue_d loan_status  open_acc  total_pymnt  total_rec_int  \n",
       "23  2017/4/11  Fully Paid        14  44124.85995       14124.86  \n",
       "24  2017/3/11  Fully Paid         8  48845.29221       13845.29  \n",
       "26  2017/4/11  Fully Paid        14  44124.85995       14124.86  \n",
       "27  2017/3/11  Fully Paid         8  48845.29221       13845.29  \n",
       "51  2017/5/10  Fully Paid         6  19901.63049        3001.63  \n",
       "56  2017/5/10  Fully Paid         6  19901.63049        3001.63  "
      ]
     },
     "execution_count": 115,
     "metadata": {},
     "output_type": "execute_result"
    }
   ],
   "source": [
    "# 布尔型过滤\n",
    "loan_data[loan_data['grade']=='E']"
   ]
  },
  {
   "cell_type": "code",
   "execution_count": 116,
   "metadata": {},
   "outputs": [
    {
     "data": {
      "text/html": [
       "<div>\n",
       "<style>\n",
       "    .dataframe thead tr:only-child th {\n",
       "        text-align: right;\n",
       "    }\n",
       "\n",
       "    .dataframe thead th {\n",
       "        text-align: left;\n",
       "    }\n",
       "\n",
       "    .dataframe tbody tr th {\n",
       "        vertical-align: top;\n",
       "    }\n",
       "</style>\n",
       "<table border=\"1\" class=\"dataframe\">\n",
       "  <thead>\n",
       "    <tr style=\"text-align: right;\">\n",
       "      <th></th>\n",
       "      <th>loan_amnt</th>\n",
       "      <th>annual_inc</th>\n",
       "      <th>total_pymnt</th>\n",
       "      <th>total_rec_int</th>\n",
       "    </tr>\n",
       "  </thead>\n",
       "  <tbody>\n",
       "    <tr>\n",
       "      <th>0</th>\n",
       "      <td>5000.0</td>\n",
       "      <td>24000.0</td>\n",
       "      <td>5863.155187</td>\n",
       "      <td>863.16</td>\n",
       "    </tr>\n",
       "    <tr>\n",
       "      <th>1</th>\n",
       "      <td>2500.0</td>\n",
       "      <td>30000.0</td>\n",
       "      <td>1014.530000</td>\n",
       "      <td>435.17</td>\n",
       "    </tr>\n",
       "    <tr>\n",
       "      <th>2</th>\n",
       "      <td>12500.0</td>\n",
       "      <td>74400.0</td>\n",
       "      <td>14722.411910</td>\n",
       "      <td>2222.41</td>\n",
       "    </tr>\n",
       "    <tr>\n",
       "      <th>3</th>\n",
       "      <td>14000.0</td>\n",
       "      <td>72000.0</td>\n",
       "      <td>15099.982530</td>\n",
       "      <td>1099.98</td>\n",
       "    </tr>\n",
       "    <tr>\n",
       "      <th>4</th>\n",
       "      <td>35000.0</td>\n",
       "      <td>100000.0</td>\n",
       "      <td>48743.119270</td>\n",
       "      <td>13743.12</td>\n",
       "    </tr>\n",
       "  </tbody>\n",
       "</table>\n",
       "</div>"
      ],
      "text/plain": [
       "   loan_amnt  annual_inc   total_pymnt  total_rec_int\n",
       "0     5000.0     24000.0   5863.155187         863.16\n",
       "1     2500.0     30000.0   1014.530000         435.17\n",
       "2    12500.0     74400.0  14722.411910        2222.41\n",
       "3    14000.0     72000.0  15099.982530        1099.98\n",
       "4    35000.0    100000.0  48743.119270       13743.12"
      ]
     },
     "execution_count": 116,
     "metadata": {},
     "output_type": "execute_result"
    }
   ],
   "source": [
    "# 根据列类型进行筛选\n",
    "loan_data.select_dtypes(include = ['float']).head()"
   ]
  },
  {
   "cell_type": "markdown",
   "metadata": {},
   "source": [
    "### 排序"
   ]
  },
  {
   "cell_type": "code",
   "execution_count": 117,
   "metadata": {
    "scrolled": true
   },
   "outputs": [
    {
     "data": {
      "text/html": [
       "<div>\n",
       "<style>\n",
       "    .dataframe thead tr:only-child th {\n",
       "        text-align: right;\n",
       "    }\n",
       "\n",
       "    .dataframe thead th {\n",
       "        text-align: left;\n",
       "    }\n",
       "\n",
       "    .dataframe tbody tr th {\n",
       "        vertical-align: top;\n",
       "    }\n",
       "</style>\n",
       "<table border=\"1\" class=\"dataframe\">\n",
       "  <thead>\n",
       "    <tr style=\"text-align: right;\">\n",
       "      <th></th>\n",
       "      <th>loan_amnt</th>\n",
       "      <th>grade</th>\n",
       "      <th>sub_grade</th>\n",
       "      <th>emp_length</th>\n",
       "      <th>home_ownership</th>\n",
       "      <th>annual_inc</th>\n",
       "      <th>issue_d</th>\n",
       "      <th>loan_status</th>\n",
       "      <th>open_acc</th>\n",
       "      <th>total_pymnt</th>\n",
       "      <th>total_rec_int</th>\n",
       "    </tr>\n",
       "  </thead>\n",
       "  <tbody>\n",
       "    <tr>\n",
       "      <th>19</th>\n",
       "      <td>2100.0</td>\n",
       "      <td>A</td>\n",
       "      <td>A5</td>\n",
       "      <td>1 year</td>\n",
       "      <td>MORTGAGE</td>\n",
       "      <td>72000.0</td>\n",
       "      <td>2017/4/11</td>\n",
       "      <td>Fully Paid</td>\n",
       "      <td>15</td>\n",
       "      <td>2357.178487</td>\n",
       "      <td>257.18</td>\n",
       "    </tr>\n",
       "    <tr>\n",
       "      <th>41</th>\n",
       "      <td>14000.0</td>\n",
       "      <td>A</td>\n",
       "      <td>A3</td>\n",
       "      <td>10+ years</td>\n",
       "      <td>OWN</td>\n",
       "      <td>71000.0</td>\n",
       "      <td>2017/10/10</td>\n",
       "      <td>fully Paid</td>\n",
       "      <td>8</td>\n",
       "      <td>15595.389910</td>\n",
       "      <td>1595.39</td>\n",
       "    </tr>\n",
       "    <tr>\n",
       "      <th>32</th>\n",
       "      <td>5000.0</td>\n",
       "      <td>A</td>\n",
       "      <td>A4</td>\n",
       "      <td>9 years</td>\n",
       "      <td>OWN</td>\n",
       "      <td>56400.0</td>\n",
       "      <td>2017/1/11</td>\n",
       "      <td>Charged Off</td>\n",
       "      <td>15</td>\n",
       "      <td>3927.470000</td>\n",
       "      <td>465.75</td>\n",
       "    </tr>\n",
       "    <tr>\n",
       "      <th>31</th>\n",
       "      <td>12000.0</td>\n",
       "      <td>A</td>\n",
       "      <td>A5</td>\n",
       "      <td>1 year</td>\n",
       "      <td>RENT</td>\n",
       "      <td>105000.0</td>\n",
       "      <td>2017/1/11</td>\n",
       "      <td>Fully Paid</td>\n",
       "      <td>10</td>\n",
       "      <td>13041.191490</td>\n",
       "      <td>1041.19</td>\n",
       "    </tr>\n",
       "    <tr>\n",
       "      <th>43</th>\n",
       "      <td>6600.0</td>\n",
       "      <td>A</td>\n",
       "      <td>A5</td>\n",
       "      <td>8 years</td>\n",
       "      <td>MORTGAGE</td>\n",
       "      <td>55800.0</td>\n",
       "      <td>2017/7/10</td>\n",
       "      <td>Fully Paid</td>\n",
       "      <td>8</td>\n",
       "      <td>7349.816860</td>\n",
       "      <td>749.82</td>\n",
       "    </tr>\n",
       "  </tbody>\n",
       "</table>\n",
       "</div>"
      ],
      "text/plain": [
       "    loan_amnt grade sub_grade emp_length home_ownership  annual_inc  \\\n",
       "19     2100.0     A        A5     1 year       MORTGAGE     72000.0   \n",
       "41    14000.0     A        A3  10+ years            OWN     71000.0   \n",
       "32     5000.0     A        A4    9 years            OWN     56400.0   \n",
       "31    12000.0     A        A5     1 year           RENT    105000.0   \n",
       "43     6600.0     A        A5    8 years       MORTGAGE     55800.0   \n",
       "\n",
       "       issue_d  loan_status  open_acc   total_pymnt  total_rec_int  \n",
       "19   2017/4/11   Fully Paid        15   2357.178487         257.18  \n",
       "41  2017/10/10   fully Paid         8  15595.389910        1595.39  \n",
       "32   2017/1/11  Charged Off        15   3927.470000         465.75  \n",
       "31   2017/1/11   Fully Paid        10  13041.191490        1041.19  \n",
       "43   2017/7/10   Fully Paid         8   7349.816860         749.82  "
      ]
     },
     "execution_count": 117,
     "metadata": {},
     "output_type": "execute_result"
    }
   ],
   "source": [
    "#根据grade列，升序排列\n",
    "loan_data.sort_values('grade',ascending=True).head()"
   ]
  },
  {
   "cell_type": "markdown",
   "metadata": {},
   "source": [
    "### 随机采样"
   ]
  },
  {
   "cell_type": "code",
   "execution_count": 118,
   "metadata": {},
   "outputs": [
    {
     "data": {
      "text/html": [
       "<div>\n",
       "<style>\n",
       "    .dataframe thead tr:only-child th {\n",
       "        text-align: right;\n",
       "    }\n",
       "\n",
       "    .dataframe thead th {\n",
       "        text-align: left;\n",
       "    }\n",
       "\n",
       "    .dataframe tbody tr th {\n",
       "        vertical-align: top;\n",
       "    }\n",
       "</style>\n",
       "<table border=\"1\" class=\"dataframe\">\n",
       "  <thead>\n",
       "    <tr style=\"text-align: right;\">\n",
       "      <th></th>\n",
       "      <th>loan_amnt</th>\n",
       "      <th>grade</th>\n",
       "      <th>sub_grade</th>\n",
       "      <th>emp_length</th>\n",
       "      <th>home_ownership</th>\n",
       "      <th>annual_inc</th>\n",
       "      <th>issue_d</th>\n",
       "      <th>loan_status</th>\n",
       "      <th>open_acc</th>\n",
       "      <th>total_pymnt</th>\n",
       "      <th>total_rec_int</th>\n",
       "    </tr>\n",
       "  </thead>\n",
       "  <tbody>\n",
       "    <tr>\n",
       "      <th>25</th>\n",
       "      <td>18000.0</td>\n",
       "      <td>A</td>\n",
       "      <td>A5</td>\n",
       "      <td>8 years</td>\n",
       "      <td>MORTGAGE</td>\n",
       "      <td>82000.0</td>\n",
       "      <td>2017/4/11</td>\n",
       "      <td>Fully Paid</td>\n",
       "      <td>8</td>\n",
       "      <td>20204.461240</td>\n",
       "      <td>2204.46</td>\n",
       "    </tr>\n",
       "    <tr>\n",
       "      <th>50</th>\n",
       "      <td>7000.0</td>\n",
       "      <td>B</td>\n",
       "      <td>B3</td>\n",
       "      <td>10+ years</td>\n",
       "      <td>MORTGAGE</td>\n",
       "      <td>102660.0</td>\n",
       "      <td>2017/5/10</td>\n",
       "      <td>Fully Paid</td>\n",
       "      <td>9</td>\n",
       "      <td>9052.310001</td>\n",
       "      <td>2052.31</td>\n",
       "    </tr>\n",
       "    <tr>\n",
       "      <th>34</th>\n",
       "      <td>8000.0</td>\n",
       "      <td>D</td>\n",
       "      <td>D5</td>\n",
       "      <td>&lt; 1 year</td>\n",
       "      <td>RENT</td>\n",
       "      <td>41600.0</td>\n",
       "      <td>2017/1/11</td>\n",
       "      <td>Fully Paid</td>\n",
       "      <td>6</td>\n",
       "      <td>11557.640000</td>\n",
       "      <td>3557.64</td>\n",
       "    </tr>\n",
       "  </tbody>\n",
       "</table>\n",
       "</div>"
      ],
      "text/plain": [
       "    loan_amnt grade sub_grade emp_length home_ownership  annual_inc  \\\n",
       "25    18000.0     A        A5    8 years       MORTGAGE     82000.0   \n",
       "50     7000.0     B        B3  10+ years       MORTGAGE    102660.0   \n",
       "34     8000.0     D        D5   < 1 year           RENT     41600.0   \n",
       "\n",
       "      issue_d  loan_status  open_acc   total_pymnt  total_rec_int  \n",
       "25  2017/4/11   Fully Paid         8  20204.461240        2204.46  \n",
       "50  2017/5/10   Fully Paid         9   9052.310001        2052.31  \n",
       "34  2017/1/11   Fully Paid         6  11557.640000        3557.64  "
      ]
     },
     "execution_count": 118,
     "metadata": {},
     "output_type": "execute_result"
    }
   ],
   "source": [
    "loan_data.sample(3)"
   ]
  },
  {
   "cell_type": "markdown",
   "metadata": {},
   "source": [
    "### 频次统计 value_counts"
   ]
  },
  {
   "cell_type": "code",
   "execution_count": 119,
   "metadata": {},
   "outputs": [
    {
     "data": {
      "text/plain": [
       "B    18\n",
       "A    17\n",
       "C    14\n",
       "D    11\n",
       "E     6\n",
       "F     2\n",
       "Name: grade, dtype: int64"
      ]
     },
     "execution_count": 119,
     "metadata": {},
     "output_type": "execute_result"
    }
   ],
   "source": [
    "grade_count = loan_data.grade.value_counts()\n",
    "grade_count"
   ]
  },
  {
   "cell_type": "code",
   "execution_count": 120,
   "metadata": {},
   "outputs": [
    {
     "data": {
      "text/plain": [
       "<matplotlib.axes._subplots.AxesSubplot at 0x139d04e0>"
      ]
     },
     "execution_count": 120,
     "metadata": {},
     "output_type": "execute_result"
    },
    {
     "data": {
      "image/png": "[encoded data removed]",
      "text/plain": [
       "<matplotlib.figure.Figure at 0x139d0a58>"
      ]
     },
     "metadata": {},
     "output_type": "display_data"
    }
   ],
   "source": [
    "#水平的柱状图\n",
    "grade_count = loan_data.grade.value_counts()\n",
    "grade_count.plot(kind = 'barh')"
   ]
  },
  {
   "cell_type": "markdown",
   "metadata": {},
   "source": [
    "### Step 15：特征离散化"
   ]
  },
  {
   "cell_type": "code",
   "execution_count": 121,
   "metadata": {},
   "outputs": [
    {
     "data": {
      "text/plain": [
       "<matplotlib.axes._subplots.AxesSubplot at 0x13a2af60>"
      ]
     },
     "execution_count": 121,
     "metadata": {},
     "output_type": "execute_result"
    },
    {
     "data": {
      "image/png": "[encoded data removed]",
      "text/plain": [
       "<matplotlib.figure.Figure at 0x139a6ba8>"
      ]
     },
     "metadata": {},
     "output_type": "display_data"
    }
   ],
   "source": [
    "#直方图\n",
    "amount = loan_data.loan_amnt\n",
    "amount.plot.hist(bins =100)"
   ]
  },
  {
   "cell_type": "markdown",
   "metadata": {},
   "source": [
    "### 指定区间的离散化"
   ]
  },
  {
   "cell_type": "code",
   "execution_count": 122,
   "metadata": {},
   "outputs": [
    {
     "data": {
      "text/plain": [
       "0    low\n",
       "1    low\n",
       "2    low\n",
       "3    low\n",
       "4    low\n",
       "Name: loan_amnt, dtype: category\n",
       "Categories (2, object): [high < low]"
      ]
     },
     "execution_count": 122,
     "metadata": {},
     "output_type": "execute_result"
    }
   ],
   "source": [
    "bins = [0,100000,500000]\n",
    "amount_labeled_01 = pd.cut(amount,bins,labels = ['low','high'])\n",
    "amount_labeled_01.head()"
   ]
  },
  {
   "cell_type": "markdown",
   "metadata": {},
   "source": [
    "### 分位数离散化"
   ]
  },
  {
   "cell_type": "code",
   "execution_count": 123,
   "metadata": {},
   "outputs": [
    {
     "data": {
      "text/plain": [
       "0         low\n",
       "1         low\n",
       "2    mid-high\n",
       "3    mid-high\n",
       "4        high\n",
       "Name: loan_amnt, dtype: category\n",
       "Categories (4, object): [high < low < mid-high < mid-low]"
      ]
     },
     "execution_count": 123,
     "metadata": {},
     "output_type": "execute_result"
    }
   ],
   "source": [
    "amount_labeled_02 = pd.qcut(amount,4,labels = ['low','mid-low','mid-high','high'])\n",
    "amount_labeled_02.head()"
   ]
  },
  {
   "cell_type": "markdown",
   "metadata": {},
   "source": [
    "## 缺失值的填补\n"
   ]
  },
  {
   "cell_type": "code",
   "execution_count": 124,
   "metadata": {
    "scrolled": true
   },
   "outputs": [
    {
     "name": "stdout",
     "output_type": "stream",
     "text": [
      "<class 'pandas.core.frame.DataFrame'>\n",
      "RangeIndex: 68 entries, 0 to 67\n",
      "Data columns (total 11 columns):\n",
      "loan_amnt         66 non-null float64\n",
      "grade             68 non-null object\n",
      "sub_grade         68 non-null object\n",
      "emp_length        68 non-null object\n",
      "home_ownership    68 non-null object\n",
      "annual_inc        65 non-null float64\n",
      "issue_d           68 non-null object\n",
      "loan_status       68 non-null object\n",
      "open_acc          68 non-null int64\n",
      "total_pymnt       68 non-null float64\n",
      "total_rec_int     68 non-null float64\n",
      "dtypes: float64(4), int64(1), object(6)\n",
      "memory usage: 5.9+ KB\n"
     ]
    }
   ],
   "source": [
    "loan_data.info()"
   ]
  },
  {
   "cell_type": "code",
   "execution_count": 125,
   "metadata": {
    "scrolled": true
   },
   "outputs": [
    {
     "data": {
      "text/plain": [
       "loan_amnt          True\n",
       "grade             False\n",
       "sub_grade         False\n",
       "emp_length        False\n",
       "home_ownership    False\n",
       "annual_inc         True\n",
       "issue_d           False\n",
       "loan_status       False\n",
       "open_acc          False\n",
       "total_pymnt       False\n",
       "total_rec_int     False\n",
       "dtype: bool"
      ]
     },
     "execution_count": 125,
     "metadata": {},
     "output_type": "execute_result"
    }
   ],
   "source": [
    "#判断是否存在缺失值\n",
    "loan_data.isnull().any()"
   ]
  },
  {
   "cell_type": "code",
   "execution_count": 126,
   "metadata": {
    "scrolled": true
   },
   "outputs": [
    {
     "data": {
      "text/plain": [
       "loan_amnt         2\n",
       "grade             0\n",
       "sub_grade         0\n",
       "emp_length        0\n",
       "home_ownership    0\n",
       "annual_inc        3\n",
       "issue_d           0\n",
       "loan_status       0\n",
       "open_acc          0\n",
       "total_pymnt       0\n",
       "total_rec_int     0\n",
       "dtype: int64"
      ]
     },
     "execution_count": 126,
     "metadata": {},
     "output_type": "execute_result"
    }
   ],
   "source": [
    "# 计算每列含有空值的数量\n",
    "loan_data.isnull().sum(axis =0)"
   ]
  },
  {
   "cell_type": "code",
   "execution_count": 127,
   "metadata": {},
   "outputs": [
    {
     "data": {
      "text/html": [
       "<div>\n",
       "<style>\n",
       "    .dataframe thead tr:only-child th {\n",
       "        text-align: right;\n",
       "    }\n",
       "\n",
       "    .dataframe thead th {\n",
       "        text-align: left;\n",
       "    }\n",
       "\n",
       "    .dataframe tbody tr th {\n",
       "        vertical-align: top;\n",
       "    }\n",
       "</style>\n",
       "<table border=\"1\" class=\"dataframe\">\n",
       "  <thead>\n",
       "    <tr style=\"text-align: right;\">\n",
       "      <th></th>\n",
       "      <th>loan_amnt</th>\n",
       "      <th>grade</th>\n",
       "      <th>sub_grade</th>\n",
       "      <th>emp_length</th>\n",
       "      <th>home_ownership</th>\n",
       "      <th>annual_inc</th>\n",
       "      <th>issue_d</th>\n",
       "      <th>loan_status</th>\n",
       "      <th>open_acc</th>\n",
       "      <th>total_pymnt</th>\n",
       "      <th>total_rec_int</th>\n",
       "    </tr>\n",
       "  </thead>\n",
       "  <tbody>\n",
       "    <tr>\n",
       "      <th>5</th>\n",
       "      <td>16000.0</td>\n",
       "      <td>C</td>\n",
       "      <td>C2</td>\n",
       "      <td>10+ years</td>\n",
       "      <td>OWN</td>\n",
       "      <td>NaN</td>\n",
       "      <td>2017/10/11</td>\n",
       "      <td>Charged Off</td>\n",
       "      <td>13</td>\n",
       "      <td>9202.000000</td>\n",
       "      <td>3800.05</td>\n",
       "    </tr>\n",
       "    <tr>\n",
       "      <th>29</th>\n",
       "      <td>NaN</td>\n",
       "      <td>A</td>\n",
       "      <td>A4</td>\n",
       "      <td>10+ years</td>\n",
       "      <td>RENT</td>\n",
       "      <td>58000.0</td>\n",
       "      <td>2017/1/11</td>\n",
       "      <td>Fully Paid</td>\n",
       "      <td>12</td>\n",
       "      <td>10994.614810</td>\n",
       "      <td>994.61</td>\n",
       "    </tr>\n",
       "    <tr>\n",
       "      <th>36</th>\n",
       "      <td>10000.0</td>\n",
       "      <td>C</td>\n",
       "      <td>C2</td>\n",
       "      <td>2 years</td>\n",
       "      <td>MORTGAGE</td>\n",
       "      <td>NaN</td>\n",
       "      <td>2017/9/10</td>\n",
       "      <td>Fully Paid</td>\n",
       "      <td>10</td>\n",
       "      <td>13181.651550</td>\n",
       "      <td>3181.65</td>\n",
       "    </tr>\n",
       "    <tr>\n",
       "      <th>45</th>\n",
       "      <td>NaN</td>\n",
       "      <td>B</td>\n",
       "      <td>B5</td>\n",
       "      <td>8 years</td>\n",
       "      <td>MORTGAGE</td>\n",
       "      <td>62400.0</td>\n",
       "      <td>2017/8/10</td>\n",
       "      <td>Charged Off</td>\n",
       "      <td>8</td>\n",
       "      <td>5207.370000</td>\n",
       "      <td>1520.88</td>\n",
       "    </tr>\n",
       "    <tr>\n",
       "      <th>60</th>\n",
       "      <td>4000.0</td>\n",
       "      <td>B</td>\n",
       "      <td>B2</td>\n",
       "      <td>2 years</td>\n",
       "      <td>RENT</td>\n",
       "      <td>NaN</td>\n",
       "      <td>2017/5/10</td>\n",
       "      <td>Fully Paid</td>\n",
       "      <td>3</td>\n",
       "      <td>4318.218537</td>\n",
       "      <td>318.22</td>\n",
       "    </tr>\n",
       "  </tbody>\n",
       "</table>\n",
       "</div>"
      ],
      "text/plain": [
       "    loan_amnt grade sub_grade emp_length home_ownership  annual_inc  \\\n",
       "5     16000.0     C        C2  10+ years            OWN         NaN   \n",
       "29        NaN     A        A4  10+ years           RENT     58000.0   \n",
       "36    10000.0     C        C2    2 years       MORTGAGE         NaN   \n",
       "45        NaN     B        B5    8 years       MORTGAGE     62400.0   \n",
       "60     4000.0     B        B2    2 years           RENT         NaN   \n",
       "\n",
       "       issue_d  loan_status  open_acc   total_pymnt  total_rec_int  \n",
       "5   2017/10/11  Charged Off        13   9202.000000        3800.05  \n",
       "29   2017/1/11   Fully Paid        12  10994.614810         994.61  \n",
       "36   2017/9/10   Fully Paid        10  13181.651550        3181.65  \n",
       "45   2017/8/10  Charged Off         8   5207.370000        1520.88  \n",
       "60   2017/5/10   Fully Paid         3   4318.218537         318.22  "
      ]
     },
     "execution_count": 127,
     "metadata": {},
     "output_type": "execute_result"
    }
   ],
   "source": [
    "#筛选所有含有空值的行\n",
    "loan_data[loan_data.isnull().values==True]"
   ]
  },
  {
   "cell_type": "code",
   "execution_count": 128,
   "metadata": {},
   "outputs": [
    {
     "name": "stdout",
     "output_type": "stream",
     "text": [
      "(68, 11)\n",
      "(63, 11)\n"
     ]
    }
   ],
   "source": [
    "#去除含有空值的行\n",
    "new_df = loan_data.dropna(how = 'any',axis =0)\n",
    "print(loan_data.shape)\n",
    "print(new_df.shape)"
   ]
  },
  {
   "cell_type": "markdown",
   "metadata": {},
   "source": [
    "### 填补空缺值\n",
    "- fillna()\n"
   ]
  },
  {
   "cell_type": "code",
   "execution_count": 129,
   "metadata": {},
   "outputs": [
    {
     "data": {
      "text/html": [
       "<div>\n",
       "<style>\n",
       "    .dataframe thead tr:only-child th {\n",
       "        text-align: right;\n",
       "    }\n",
       "\n",
       "    .dataframe thead th {\n",
       "        text-align: left;\n",
       "    }\n",
       "\n",
       "    .dataframe tbody tr th {\n",
       "        vertical-align: top;\n",
       "    }\n",
       "</style>\n",
       "<table border=\"1\" class=\"dataframe\">\n",
       "  <thead>\n",
       "    <tr style=\"text-align: right;\">\n",
       "      <th></th>\n",
       "      <th>loan_amnt</th>\n",
       "      <th>grade</th>\n",
       "      <th>sub_grade</th>\n",
       "      <th>emp_length</th>\n",
       "      <th>home_ownership</th>\n",
       "      <th>annual_inc</th>\n",
       "      <th>issue_d</th>\n",
       "      <th>loan_status</th>\n",
       "      <th>open_acc</th>\n",
       "      <th>total_pymnt</th>\n",
       "      <th>total_rec_int</th>\n",
       "    </tr>\n",
       "  </thead>\n",
       "  <tbody>\n",
       "    <tr>\n",
       "      <th>0</th>\n",
       "      <td>5000.0</td>\n",
       "      <td>B</td>\n",
       "      <td>B2</td>\n",
       "      <td>10+ years</td>\n",
       "      <td>RENT</td>\n",
       "      <td>24000</td>\n",
       "      <td>2017/12/11</td>\n",
       "      <td>Fully Paid</td>\n",
       "      <td>3</td>\n",
       "      <td>5863.155187</td>\n",
       "      <td>863.16</td>\n",
       "    </tr>\n",
       "    <tr>\n",
       "      <th>1</th>\n",
       "      <td>2500.0</td>\n",
       "      <td>C</td>\n",
       "      <td>C4</td>\n",
       "      <td>&lt; 1 year</td>\n",
       "      <td>RENT</td>\n",
       "      <td>30000</td>\n",
       "      <td>2017/12/11</td>\n",
       "      <td>Charged Off</td>\n",
       "      <td>3</td>\n",
       "      <td>1014.530000</td>\n",
       "      <td>435.17</td>\n",
       "    </tr>\n",
       "    <tr>\n",
       "      <th>2</th>\n",
       "      <td>12500.0</td>\n",
       "      <td>D</td>\n",
       "      <td>D4</td>\n",
       "      <td>10+ years</td>\n",
       "      <td>RENT</td>\n",
       "      <td>74400</td>\n",
       "      <td>2017/11/11</td>\n",
       "      <td>Fully Paid</td>\n",
       "      <td>8</td>\n",
       "      <td>14722.411910</td>\n",
       "      <td>2222.41</td>\n",
       "    </tr>\n",
       "    <tr>\n",
       "      <th>3</th>\n",
       "      <td>14000.0</td>\n",
       "      <td>A</td>\n",
       "      <td>A4</td>\n",
       "      <td>10+ years</td>\n",
       "      <td>RENT</td>\n",
       "      <td>72000</td>\n",
       "      <td>2017/11/11</td>\n",
       "      <td>fully Paid</td>\n",
       "      <td>6</td>\n",
       "      <td>15099.982530</td>\n",
       "      <td>1099.98</td>\n",
       "    </tr>\n",
       "    <tr>\n",
       "      <th>4</th>\n",
       "      <td>35000.0</td>\n",
       "      <td>F</td>\n",
       "      <td>F5</td>\n",
       "      <td>4 years</td>\n",
       "      <td>MORTGAGE</td>\n",
       "      <td>100000</td>\n",
       "      <td>2017/10/11</td>\n",
       "      <td>Fully Paid</td>\n",
       "      <td>9</td>\n",
       "      <td>48743.119270</td>\n",
       "      <td>13743.12</td>\n",
       "    </tr>\n",
       "    <tr>\n",
       "      <th>5</th>\n",
       "      <td>16000.0</td>\n",
       "      <td>C</td>\n",
       "      <td>C2</td>\n",
       "      <td>10+ years</td>\n",
       "      <td>OWN</td>\n",
       "      <td>缺失值</td>\n",
       "      <td>2017/10/11</td>\n",
       "      <td>Charged Off</td>\n",
       "      <td>13</td>\n",
       "      <td>9202.000000</td>\n",
       "      <td>3800.05</td>\n",
       "    </tr>\n",
       "    <tr>\n",
       "      <th>6</th>\n",
       "      <td>14125.0</td>\n",
       "      <td>B</td>\n",
       "      <td>B5</td>\n",
       "      <td>10+ years</td>\n",
       "      <td>OWN</td>\n",
       "      <td>60000</td>\n",
       "      <td>2017/10/11</td>\n",
       "      <td>Fully Paid</td>\n",
       "      <td>13</td>\n",
       "      <td>16750.738520</td>\n",
       "      <td>2625.74</td>\n",
       "    </tr>\n",
       "    <tr>\n",
       "      <th>7</th>\n",
       "      <td>5000.0</td>\n",
       "      <td>B</td>\n",
       "      <td>B2</td>\n",
       "      <td>4 years</td>\n",
       "      <td>RENT</td>\n",
       "      <td>49000</td>\n",
       "      <td>2017/9/11</td>\n",
       "      <td>Fully Paid</td>\n",
       "      <td>10</td>\n",
       "      <td>5863.155187</td>\n",
       "      <td>863.16</td>\n",
       "    </tr>\n",
       "    <tr>\n",
       "      <th>8</th>\n",
       "      <td>6000.0</td>\n",
       "      <td>A</td>\n",
       "      <td>A5</td>\n",
       "      <td>10+ years</td>\n",
       "      <td>MORTGAGE</td>\n",
       "      <td>48000</td>\n",
       "      <td>2017/9/11</td>\n",
       "      <td>Fully Paid</td>\n",
       "      <td>11</td>\n",
       "      <td>7235.598134</td>\n",
       "      <td>1235.60</td>\n",
       "    </tr>\n",
       "    <tr>\n",
       "      <th>9</th>\n",
       "      <td>12000.0</td>\n",
       "      <td>C</td>\n",
       "      <td>C3</td>\n",
       "      <td>&lt; 1 year</td>\n",
       "      <td>MORTGAGE</td>\n",
       "      <td>81996</td>\n",
       "      <td>2017/10/11</td>\n",
       "      <td>Fully Paid</td>\n",
       "      <td>11</td>\n",
       "      <td>16996.739990</td>\n",
       "      <td>4996.74</td>\n",
       "    </tr>\n",
       "  </tbody>\n",
       "</table>\n",
       "</div>"
      ],
      "text/plain": [
       "   loan_amnt grade sub_grade emp_length home_ownership annual_inc     issue_d  \\\n",
       "0     5000.0     B        B2  10+ years           RENT      24000  2017/12/11   \n",
       "1     2500.0     C        C4   < 1 year           RENT      30000  2017/12/11   \n",
       "2    12500.0     D        D4  10+ years           RENT      74400  2017/11/11   \n",
       "3    14000.0     A        A4  10+ years           RENT      72000  2017/11/11   \n",
       "4    35000.0     F        F5    4 years       MORTGAGE     100000  2017/10/11   \n",
       "5    16000.0     C        C2  10+ years            OWN        缺失值  2017/10/11   \n",
       "6    14125.0     B        B5  10+ years            OWN      60000  2017/10/11   \n",
       "7     5000.0     B        B2    4 years           RENT      49000   2017/9/11   \n",
       "8     6000.0     A        A5  10+ years       MORTGAGE      48000   2017/9/11   \n",
       "9    12000.0     C        C3   < 1 year       MORTGAGE      81996  2017/10/11   \n",
       "\n",
       "   loan_status  open_acc   total_pymnt  total_rec_int  \n",
       "0   Fully Paid         3   5863.155187         863.16  \n",
       "1  Charged Off         3   1014.530000         435.17  \n",
       "2   Fully Paid         8  14722.411910        2222.41  \n",
       "3   fully Paid         6  15099.982530        1099.98  \n",
       "4   Fully Paid         9  48743.119270       13743.12  \n",
       "5  Charged Off        13   9202.000000        3800.05  \n",
       "6   Fully Paid        13  16750.738520        2625.74  \n",
       "7   Fully Paid        10   5863.155187         863.16  \n",
       "8   Fully Paid        11   7235.598134        1235.60  \n",
       "9   Fully Paid        11  16996.739990        4996.74  "
      ]
     },
     "execution_count": 129,
     "metadata": {},
     "output_type": "execute_result"
    }
   ],
   "source": [
    "#使用指定填充\n",
    "loan_data.fillna({'loan_amount':'缺失值','annual_inc':'缺失值'}).head(10)"
   ]
  },
  {
   "cell_type": "code",
   "execution_count": 130,
   "metadata": {},
   "outputs": [
    {
     "data": {
      "text/plain": [
       "0     5000.0\n",
       "1     2500.0\n",
       "2    12500.0\n",
       "3    14000.0\n",
       "4    35000.0\n",
       "Name: loan_amnt, dtype: float64"
      ]
     },
     "execution_count": 130,
     "metadata": {},
     "output_type": "execute_result"
    }
   ],
   "source": [
    "#以其他列的差值填充\n",
    "loan_data.loan_amnt.fillna(loan_data.total_pymnt - loan_data.total_rec_int)[0:5]"
   ]
  },
  {
   "cell_type": "code",
   "execution_count": 131,
   "metadata": {},
   "outputs": [
    {
     "data": {
      "text/plain": [
       "0     24000.0\n",
       "1     30000.0\n",
       "2     74400.0\n",
       "3     72000.0\n",
       "4    100000.0\n",
       "Name: annual_inc, dtype: float64"
      ]
     },
     "execution_count": 131,
     "metadata": {},
     "output_type": "execute_result"
    }
   ],
   "source": [
    "#平均值填充：\n",
    "loan_data.annual_inc.fillna(value = loan_data.annual_inc.mean(axis=0))[0:5]"
   ]
  },
  {
   "cell_type": "code",
   "execution_count": 132,
   "metadata": {},
   "outputs": [
    {
     "data": {
      "text/plain": [
       "0     24000.0\n",
       "1     30000.0\n",
       "2     74400.0\n",
       "3     72000.0\n",
       "4    100000.0\n",
       "Name: annual_inc, dtype: float64"
      ]
     },
     "execution_count": 132,
     "metadata": {},
     "output_type": "execute_result"
    }
   ],
   "source": [
    "#向前填充\n",
    "loan_data.annual_inc.fillna(method='ffill')[0:5]"
   ]
  },
  {
   "cell_type": "markdown",
   "metadata": {},
   "source": [
    "## 合并数据集\n",
    "- Merge操作\n",
    "- concat"
   ]
  },
  {
   "cell_type": "code",
   "execution_count": 133,
   "metadata": {},
   "outputs": [
    {
     "data": {
      "text/html": [
       "<div>\n",
       "<style>\n",
       "    .dataframe thead tr:only-child th {\n",
       "        text-align: right;\n",
       "    }\n",
       "\n",
       "    .dataframe thead th {\n",
       "        text-align: left;\n",
       "    }\n",
       "\n",
       "    .dataframe tbody tr th {\n",
       "        vertical-align: top;\n",
       "    }\n",
       "</style>\n",
       "<table border=\"1\" class=\"dataframe\">\n",
       "  <thead>\n",
       "    <tr style=\"text-align: right;\">\n",
       "      <th></th>\n",
       "      <th>home_ownership</th>\n",
       "      <th>grade</th>\n",
       "    </tr>\n",
       "  </thead>\n",
       "  <tbody>\n",
       "    <tr>\n",
       "      <th>0</th>\n",
       "      <td>RENT</td>\n",
       "      <td>A</td>\n",
       "    </tr>\n",
       "    <tr>\n",
       "      <th>1</th>\n",
       "      <td>RENT</td>\n",
       "      <td>D</td>\n",
       "    </tr>\n",
       "    <tr>\n",
       "      <th>2</th>\n",
       "      <td>RENT</td>\n",
       "      <td>B</td>\n",
       "    </tr>\n",
       "    <tr>\n",
       "      <th>3</th>\n",
       "      <td>RENT</td>\n",
       "      <td>D</td>\n",
       "    </tr>\n",
       "    <tr>\n",
       "      <th>4</th>\n",
       "      <td>OWN</td>\n",
       "      <td>C</td>\n",
       "    </tr>\n",
       "  </tbody>\n",
       "</table>\n",
       "</div>"
      ],
      "text/plain": [
       "  home_ownership grade\n",
       "0           RENT     A\n",
       "1           RENT     D\n",
       "2           RENT     B\n",
       "3           RENT     D\n",
       "4            OWN     C"
      ]
     },
     "execution_count": 133,
     "metadata": {},
     "output_type": "execute_result"
    }
   ],
   "source": [
    "df1 = loan_data[['home_ownership','grade']].sample(n=5,random_state=121).reset_index(drop=True)\n",
    "df2 = loan_data[['loan_amnt','grade']].sample(n=5,random_state=122).reset_index(drop=True)\n",
    "df1"
   ]
  },
  {
   "cell_type": "code",
   "execution_count": 134,
   "metadata": {},
   "outputs": [
    {
     "data": {
      "text/html": [
       "<div>\n",
       "<style>\n",
       "    .dataframe thead tr:only-child th {\n",
       "        text-align: right;\n",
       "    }\n",
       "\n",
       "    .dataframe thead th {\n",
       "        text-align: left;\n",
       "    }\n",
       "\n",
       "    .dataframe tbody tr th {\n",
       "        vertical-align: top;\n",
       "    }\n",
       "</style>\n",
       "<table border=\"1\" class=\"dataframe\">\n",
       "  <thead>\n",
       "    <tr style=\"text-align: right;\">\n",
       "      <th></th>\n",
       "      <th>loan_amnt</th>\n",
       "      <th>grade</th>\n",
       "    </tr>\n",
       "  </thead>\n",
       "  <tbody>\n",
       "    <tr>\n",
       "      <th>0</th>\n",
       "      <td>14000.0</td>\n",
       "      <td>A</td>\n",
       "    </tr>\n",
       "    <tr>\n",
       "      <th>1</th>\n",
       "      <td>8000.0</td>\n",
       "      <td>B</td>\n",
       "    </tr>\n",
       "    <tr>\n",
       "      <th>2</th>\n",
       "      <td>35000.0</td>\n",
       "      <td>F</td>\n",
       "    </tr>\n",
       "    <tr>\n",
       "      <th>3</th>\n",
       "      <td>15000.0</td>\n",
       "      <td>A</td>\n",
       "    </tr>\n",
       "    <tr>\n",
       "      <th>4</th>\n",
       "      <td>12000.0</td>\n",
       "      <td>C</td>\n",
       "    </tr>\n",
       "  </tbody>\n",
       "</table>\n",
       "</div>"
      ],
      "text/plain": [
       "   loan_amnt grade\n",
       "0    14000.0     A\n",
       "1     8000.0     B\n",
       "2    35000.0     F\n",
       "3    15000.0     A\n",
       "4    12000.0     C"
      ]
     },
     "execution_count": 134,
     "metadata": {},
     "output_type": "execute_result"
    }
   ],
   "source": [
    "df2"
   ]
  },
  {
   "cell_type": "code",
   "execution_count": 135,
   "metadata": {},
   "outputs": [
    {
     "data": {
      "text/html": [
       "<div>\n",
       "<style>\n",
       "    .dataframe thead tr:only-child th {\n",
       "        text-align: right;\n",
       "    }\n",
       "\n",
       "    .dataframe thead th {\n",
       "        text-align: left;\n",
       "    }\n",
       "\n",
       "    .dataframe tbody tr th {\n",
       "        vertical-align: top;\n",
       "    }\n",
       "</style>\n",
       "<table border=\"1\" class=\"dataframe\">\n",
       "  <thead>\n",
       "    <tr style=\"text-align: right;\">\n",
       "      <th></th>\n",
       "      <th>home_ownership</th>\n",
       "      <th>grade</th>\n",
       "      <th>loan_amnt</th>\n",
       "    </tr>\n",
       "  </thead>\n",
       "  <tbody>\n",
       "    <tr>\n",
       "      <th>0</th>\n",
       "      <td>RENT</td>\n",
       "      <td>A</td>\n",
       "      <td>14000.0</td>\n",
       "    </tr>\n",
       "    <tr>\n",
       "      <th>1</th>\n",
       "      <td>RENT</td>\n",
       "      <td>A</td>\n",
       "      <td>15000.0</td>\n",
       "    </tr>\n",
       "    <tr>\n",
       "      <th>2</th>\n",
       "      <td>RENT</td>\n",
       "      <td>D</td>\n",
       "      <td>NaN</td>\n",
       "    </tr>\n",
       "    <tr>\n",
       "      <th>3</th>\n",
       "      <td>RENT</td>\n",
       "      <td>B</td>\n",
       "      <td>8000.0</td>\n",
       "    </tr>\n",
       "    <tr>\n",
       "      <th>4</th>\n",
       "      <td>RENT</td>\n",
       "      <td>D</td>\n",
       "      <td>NaN</td>\n",
       "    </tr>\n",
       "    <tr>\n",
       "      <th>5</th>\n",
       "      <td>OWN</td>\n",
       "      <td>C</td>\n",
       "      <td>12000.0</td>\n",
       "    </tr>\n",
       "  </tbody>\n",
       "</table>\n",
       "</div>"
      ],
      "text/plain": [
       "  home_ownership grade  loan_amnt\n",
       "0           RENT     A    14000.0\n",
       "1           RENT     A    15000.0\n",
       "2           RENT     D        NaN\n",
       "3           RENT     B     8000.0\n",
       "4           RENT     D        NaN\n",
       "5            OWN     C    12000.0"
      ]
     },
     "execution_count": 135,
     "metadata": {},
     "output_type": "execute_result"
    }
   ],
   "source": [
    "df1.merge(df2,'left')"
   ]
  },
  {
   "cell_type": "markdown",
   "metadata": {},
   "source": [
    "## 数据融合分组"
   ]
  },
  {
   "cell_type": "markdown",
   "metadata": {},
   "source": [
    "### 分组运算"
   ]
  },
  {
   "cell_type": "code",
   "execution_count": 136,
   "metadata": {},
   "outputs": [
    {
     "data": {
      "text/html": [
       "<div>\n",
       "<style>\n",
       "    .dataframe thead tr:only-child th {\n",
       "        text-align: right;\n",
       "    }\n",
       "\n",
       "    .dataframe thead th {\n",
       "        text-align: left;\n",
       "    }\n",
       "\n",
       "    .dataframe tbody tr th {\n",
       "        vertical-align: top;\n",
       "    }\n",
       "</style>\n",
       "<table border=\"1\" class=\"dataframe\">\n",
       "  <thead>\n",
       "    <tr style=\"text-align: right;\">\n",
       "      <th></th>\n",
       "      <th>key1</th>\n",
       "      <th>key2</th>\n",
       "      <th>data1</th>\n",
       "      <th>data2</th>\n",
       "    </tr>\n",
       "  </thead>\n",
       "  <tbody>\n",
       "    <tr>\n",
       "      <th>0</th>\n",
       "      <td>a</td>\n",
       "      <td>one</td>\n",
       "      <td>0</td>\n",
       "      <td>1</td>\n",
       "    </tr>\n",
       "    <tr>\n",
       "      <th>1</th>\n",
       "      <td>a</td>\n",
       "      <td>two</td>\n",
       "      <td>2</td>\n",
       "      <td>3</td>\n",
       "    </tr>\n",
       "    <tr>\n",
       "      <th>2</th>\n",
       "      <td>b</td>\n",
       "      <td>one</td>\n",
       "      <td>4</td>\n",
       "      <td>5</td>\n",
       "    </tr>\n",
       "    <tr>\n",
       "      <th>3</th>\n",
       "      <td>b</td>\n",
       "      <td>two</td>\n",
       "      <td>6</td>\n",
       "      <td>7</td>\n",
       "    </tr>\n",
       "    <tr>\n",
       "      <th>4</th>\n",
       "      <td>a</td>\n",
       "      <td>one</td>\n",
       "      <td>8</td>\n",
       "      <td>9</td>\n",
       "    </tr>\n",
       "  </tbody>\n",
       "</table>\n",
       "</div>"
      ],
      "text/plain": [
       "  key1 key2  data1  data2\n",
       "0    a  one      0      1\n",
       "1    a  two      2      3\n",
       "2    b  one      4      5\n",
       "3    b  two      6      7\n",
       "4    a  one      8      9"
      ]
     },
     "execution_count": 136,
     "metadata": {},
     "output_type": "execute_result"
    }
   ],
   "source": [
    "df1 = pd.DataFrame({'key1' : ['a', 'a', 'b', 'b', 'a'],\n",
    "                   'key2' : ['one', 'two', 'one', 'two', 'one']})                \n",
    "df2 = pd.DataFrame(np.arange(10).reshape((5,2)),columns=['data1','data2'])\n",
    "df = pd.concat([df1,df2],axis=1)\n",
    "df"
   ]
  },
  {
   "cell_type": "code",
   "execution_count": 42,
   "metadata": {},
   "outputs": [],
   "source": [
    "# 可以：先访问data1，并根据key1调用groupby，生成GroupBy对象\n",
    "df = pd.DataFrame({'key1' : ['a', 'a', 'b', 'b', 'a'],\n",
    "                   'key2' : ['one', 'two', 'one', 'two', 'one'],\n",
    "                   'data1':[0,2,4,6,8],\n",
    "                   'data2':[1,3,5,7,9]}) \n",
    "group = df['data1'].groupby(df['key1'])"
   ]
  },
  {
   "cell_type": "code",
   "execution_count": 43,
   "metadata": {},
   "outputs": [
    {
     "data": {
      "text/plain": [
       "key1\n",
       "a    10\n",
       "b    10\n",
       "Name: data1, dtype: int64"
      ]
     },
     "execution_count": 43,
     "metadata": {},
     "output_type": "execute_result"
    }
   ],
   "source": [
    "group.sum()"
   ]
  },
  {
   "cell_type": "code",
   "execution_count": 139,
   "metadata": {},
   "outputs": [
    {
     "data": {
      "text/plain": [
       "key1  key2\n",
       "a     one     4\n",
       "      two     2\n",
       "b     one     4\n",
       "      two     6\n",
       "Name: data1, dtype: int32"
      ]
     },
     "execution_count": 139,
     "metadata": {},
     "output_type": "execute_result"
    }
   ],
   "source": [
    "# 如果我们一次传入多个数组的列表，就会得到不同的结果：\n",
    "df.data1.groupby([df.key1,df.key2]).mean()"
   ]
  },
  {
   "cell_type": "code",
   "execution_count": 140,
   "metadata": {},
   "outputs": [
    {
     "data": {
      "text/html": [
       "<div>\n",
       "<style>\n",
       "    .dataframe thead tr:only-child th {\n",
       "        text-align: right;\n",
       "    }\n",
       "\n",
       "    .dataframe thead th {\n",
       "        text-align: left;\n",
       "    }\n",
       "\n",
       "    .dataframe tbody tr th {\n",
       "        vertical-align: top;\n",
       "    }\n",
       "</style>\n",
       "<table border=\"1\" class=\"dataframe\">\n",
       "  <thead>\n",
       "    <tr style=\"text-align: right;\">\n",
       "      <th></th>\n",
       "      <th>data1</th>\n",
       "    </tr>\n",
       "    <tr>\n",
       "      <th>key1</th>\n",
       "      <th></th>\n",
       "    </tr>\n",
       "  </thead>\n",
       "  <tbody>\n",
       "    <tr>\n",
       "      <th>a</th>\n",
       "      <td>3.333333</td>\n",
       "    </tr>\n",
       "    <tr>\n",
       "      <th>b</th>\n",
       "      <td>5.000000</td>\n",
       "    </tr>\n",
       "  </tbody>\n",
       "</table>\n",
       "</div>"
      ],
      "text/plain": [
       "         data1\n",
       "key1          \n",
       "a     3.333333\n",
       "b     5.000000"
      ]
     },
     "execution_count": 140,
     "metadata": {},
     "output_type": "execute_result"
    }
   ],
   "source": [
    "# 也可以：先按列名（可以是字符串、数字或其他Python对象）用作分组键，得到一个dataframe\n",
    "df.groupby('key1').agg({'data1':'mean'})"
   ]
  },
  {
   "cell_type": "code",
   "execution_count": 141,
   "metadata": {
    "scrolled": true
   },
   "outputs": [
    {
     "data": {
      "text/html": [
       "<div>\n",
       "<style>\n",
       "    .dataframe thead tr:only-child th {\n",
       "        text-align: right;\n",
       "    }\n",
       "\n",
       "    .dataframe thead th {\n",
       "        text-align: left;\n",
       "    }\n",
       "\n",
       "    .dataframe tbody tr th {\n",
       "        vertical-align: top;\n",
       "    }\n",
       "</style>\n",
       "<table border=\"1\" class=\"dataframe\">\n",
       "  <thead>\n",
       "    <tr style=\"text-align: right;\">\n",
       "      <th></th>\n",
       "      <th></th>\n",
       "      <th>data1</th>\n",
       "      <th>data2</th>\n",
       "    </tr>\n",
       "    <tr>\n",
       "      <th>key1</th>\n",
       "      <th>key2</th>\n",
       "      <th></th>\n",
       "      <th></th>\n",
       "    </tr>\n",
       "  </thead>\n",
       "  <tbody>\n",
       "    <tr>\n",
       "      <th rowspan=\"2\" valign=\"top\">a</th>\n",
       "      <th>one</th>\n",
       "      <td>4</td>\n",
       "      <td>2</td>\n",
       "    </tr>\n",
       "    <tr>\n",
       "      <th>two</th>\n",
       "      <td>2</td>\n",
       "      <td>1</td>\n",
       "    </tr>\n",
       "    <tr>\n",
       "      <th rowspan=\"2\" valign=\"top\">b</th>\n",
       "      <th>one</th>\n",
       "      <td>4</td>\n",
       "      <td>1</td>\n",
       "    </tr>\n",
       "    <tr>\n",
       "      <th>two</th>\n",
       "      <td>6</td>\n",
       "      <td>1</td>\n",
       "    </tr>\n",
       "  </tbody>\n",
       "</table>\n",
       "</div>"
      ],
      "text/plain": [
       "           data1  data2\n",
       "key1 key2              \n",
       "a    one       4      2\n",
       "     two       2      1\n",
       "b    one       4      1\n",
       "     two       6      1"
      ]
     },
     "execution_count": 141,
     "metadata": {},
     "output_type": "execute_result"
    }
   ],
   "source": [
    "# 先按多个键进行分组，并计算data1列的平均值，得到一个dataframe\n",
    "df.groupby(['key1','key2']).agg({'data1':'mean','data2':'count'})"
   ]
  },
  {
   "cell_type": "markdown",
   "metadata": {},
   "source": [
    "## 数据分析实例"
   ]
  },
  {
   "cell_type": "code",
   "execution_count": 142,
   "metadata": {
    "collapsed": true
   },
   "outputs": [],
   "source": [
    "#引入模块\n",
    "import numpy as np\n",
    "import pandas as pd\n",
    "import matplotlib.pyplot as plt\n",
    "%matplotlib inline"
   ]
  },
  {
   "cell_type": "markdown",
   "metadata": {},
   "source": [
    "### 读取数据"
   ]
  },
  {
   "cell_type": "code",
   "execution_count": 143,
   "metadata": {
    "scrolled": true
   },
   "outputs": [
    {
     "data": {
      "text/html": [
       "<div>\n",
       "<style>\n",
       "    .dataframe thead tr:only-child th {\n",
       "        text-align: right;\n",
       "    }\n",
       "\n",
       "    .dataframe thead th {\n",
       "        text-align: left;\n",
       "    }\n",
       "\n",
       "    .dataframe tbody tr th {\n",
       "        vertical-align: top;\n",
       "    }\n",
       "</style>\n",
       "<table border=\"1\" class=\"dataframe\">\n",
       "  <thead>\n",
       "    <tr style=\"text-align: right;\">\n",
       "      <th></th>\n",
       "      <th>loan_amnt</th>\n",
       "      <th>grade</th>\n",
       "      <th>sub_grade</th>\n",
       "      <th>emp_length</th>\n",
       "      <th>home_ownership</th>\n",
       "      <th>annual_inc</th>\n",
       "      <th>issue_d</th>\n",
       "      <th>loan_status</th>\n",
       "      <th>open_acc</th>\n",
       "      <th>total_pymnt</th>\n",
       "      <th>total_rec_int</th>\n",
       "    </tr>\n",
       "  </thead>\n",
       "  <tbody>\n",
       "    <tr>\n",
       "      <th>0</th>\n",
       "      <td>5000.0</td>\n",
       "      <td>B</td>\n",
       "      <td>B2</td>\n",
       "      <td>10+ years</td>\n",
       "      <td>RENT</td>\n",
       "      <td>24000.0</td>\n",
       "      <td>2017/12/11</td>\n",
       "      <td>Fully Paid</td>\n",
       "      <td>3</td>\n",
       "      <td>5863.155187</td>\n",
       "      <td>863.16</td>\n",
       "    </tr>\n",
       "    <tr>\n",
       "      <th>1</th>\n",
       "      <td>2500.0</td>\n",
       "      <td>C</td>\n",
       "      <td>C4</td>\n",
       "      <td>&lt; 1 year</td>\n",
       "      <td>RENT</td>\n",
       "      <td>30000.0</td>\n",
       "      <td>2017/12/11</td>\n",
       "      <td>Charged Off</td>\n",
       "      <td>3</td>\n",
       "      <td>1014.530000</td>\n",
       "      <td>435.17</td>\n",
       "    </tr>\n",
       "    <tr>\n",
       "      <th>2</th>\n",
       "      <td>12500.0</td>\n",
       "      <td>D</td>\n",
       "      <td>D4</td>\n",
       "      <td>10+ years</td>\n",
       "      <td>RENT</td>\n",
       "      <td>74400.0</td>\n",
       "      <td>2017/11/11</td>\n",
       "      <td>Fully Paid</td>\n",
       "      <td>8</td>\n",
       "      <td>14722.411910</td>\n",
       "      <td>2222.41</td>\n",
       "    </tr>\n",
       "    <tr>\n",
       "      <th>3</th>\n",
       "      <td>14000.0</td>\n",
       "      <td>A</td>\n",
       "      <td>A4</td>\n",
       "      <td>10+ years</td>\n",
       "      <td>RENT</td>\n",
       "      <td>72000.0</td>\n",
       "      <td>2017/11/11</td>\n",
       "      <td>fully Paid</td>\n",
       "      <td>6</td>\n",
       "      <td>15099.982530</td>\n",
       "      <td>1099.98</td>\n",
       "    </tr>\n",
       "    <tr>\n",
       "      <th>4</th>\n",
       "      <td>35000.0</td>\n",
       "      <td>F</td>\n",
       "      <td>F5</td>\n",
       "      <td>4 years</td>\n",
       "      <td>MORTGAGE</td>\n",
       "      <td>100000.0</td>\n",
       "      <td>2017/10/11</td>\n",
       "      <td>Fully Paid</td>\n",
       "      <td>9</td>\n",
       "      <td>48743.119270</td>\n",
       "      <td>13743.12</td>\n",
       "    </tr>\n",
       "  </tbody>\n",
       "</table>\n",
       "</div>"
      ],
      "text/plain": [
       "   loan_amnt grade sub_grade emp_length home_ownership  annual_inc  \\\n",
       "0     5000.0     B        B2  10+ years           RENT     24000.0   \n",
       "1     2500.0     C        C4   < 1 year           RENT     30000.0   \n",
       "2    12500.0     D        D4  10+ years           RENT     74400.0   \n",
       "3    14000.0     A        A4  10+ years           RENT     72000.0   \n",
       "4    35000.0     F        F5    4 years       MORTGAGE    100000.0   \n",
       "\n",
       "      issue_d  loan_status  open_acc   total_pymnt  total_rec_int  \n",
       "0  2017/12/11   Fully Paid         3   5863.155187         863.16  \n",
       "1  2017/12/11  Charged Off         3   1014.530000         435.17  \n",
       "2  2017/11/11   Fully Paid         8  14722.411910        2222.41  \n",
       "3  2017/11/11   fully Paid         6  15099.982530        1099.98  \n",
       "4  2017/10/11   Fully Paid         9  48743.119270       13743.12  "
      ]
     },
     "execution_count": 143,
     "metadata": {},
     "output_type": "execute_result"
    }
   ],
   "source": [
    "loan_data = pd.read_csv('loandata.csv')\n",
    "loan_data.head()"
   ]
  },
  {
   "cell_type": "markdown",
   "metadata": {},
   "source": [
    "### 描述性统计"
   ]
  },
  {
   "cell_type": "code",
   "execution_count": 144,
   "metadata": {},
   "outputs": [
    {
     "name": "stdout",
     "output_type": "stream",
     "text": [
      "(68, 11)\n",
      "<class 'pandas.core.frame.DataFrame'>\n",
      "RangeIndex: 68 entries, 0 to 67\n",
      "Data columns (total 11 columns):\n",
      "loan_amnt         66 non-null float64\n",
      "grade             68 non-null object\n",
      "sub_grade         68 non-null object\n",
      "emp_length        68 non-null object\n",
      "home_ownership    68 non-null object\n",
      "annual_inc        65 non-null float64\n",
      "issue_d           68 non-null object\n",
      "loan_status       68 non-null object\n",
      "open_acc          68 non-null int64\n",
      "total_pymnt       68 non-null float64\n",
      "total_rec_int     68 non-null float64\n",
      "dtypes: float64(4), int64(1), object(6)\n",
      "memory usage: 5.9+ KB\n"
     ]
    }
   ],
   "source": [
    "#查看数据形状和基本信息\n",
    "print(loan_data.shape)\n",
    "loan_data.info()"
   ]
  },
  {
   "cell_type": "code",
   "execution_count": 145,
   "metadata": {},
   "outputs": [
    {
     "data": {
      "text/html": [
       "<div>\n",
       "<style>\n",
       "    .dataframe thead tr:only-child th {\n",
       "        text-align: right;\n",
       "    }\n",
       "\n",
       "    .dataframe thead th {\n",
       "        text-align: left;\n",
       "    }\n",
       "\n",
       "    .dataframe tbody tr th {\n",
       "        vertical-align: top;\n",
       "    }\n",
       "</style>\n",
       "<table border=\"1\" class=\"dataframe\">\n",
       "  <thead>\n",
       "    <tr style=\"text-align: right;\">\n",
       "      <th></th>\n",
       "      <th>loan_amnt</th>\n",
       "      <th>annual_inc</th>\n",
       "      <th>open_acc</th>\n",
       "      <th>total_pymnt</th>\n",
       "      <th>total_rec_int</th>\n",
       "    </tr>\n",
       "  </thead>\n",
       "  <tbody>\n",
       "    <tr>\n",
       "      <th>count</th>\n",
       "      <td>66.000000</td>\n",
       "      <td>65.000000</td>\n",
       "      <td>68.000000</td>\n",
       "      <td>68.000000</td>\n",
       "      <td>68.000000</td>\n",
       "    </tr>\n",
       "    <tr>\n",
       "      <th>mean</th>\n",
       "      <td>19913.257576</td>\n",
       "      <td>73199.676923</td>\n",
       "      <td>9.264706</td>\n",
       "      <td>14637.408621</td>\n",
       "      <td>2965.349559</td>\n",
       "    </tr>\n",
       "    <tr>\n",
       "      <th>std</th>\n",
       "      <td>60650.680480</td>\n",
       "      <td>65755.454700</td>\n",
       "      <td>3.815200</td>\n",
       "      <td>11882.493935</td>\n",
       "      <td>3569.197500</td>\n",
       "    </tr>\n",
       "    <tr>\n",
       "      <th>min</th>\n",
       "      <td>1800.000000</td>\n",
       "      <td>16000.000000</td>\n",
       "      <td>2.000000</td>\n",
       "      <td>1014.530000</td>\n",
       "      <td>203.350000</td>\n",
       "    </tr>\n",
       "    <tr>\n",
       "      <th>25%</th>\n",
       "      <td>6000.000000</td>\n",
       "      <td>45600.000000</td>\n",
       "      <td>7.000000</td>\n",
       "      <td>6543.590000</td>\n",
       "      <td>988.145000</td>\n",
       "    </tr>\n",
       "    <tr>\n",
       "      <th>50%</th>\n",
       "      <td>11000.000000</td>\n",
       "      <td>63000.000000</td>\n",
       "      <td>9.000000</td>\n",
       "      <td>10819.285650</td>\n",
       "      <td>1612.175000</td>\n",
       "    </tr>\n",
       "    <tr>\n",
       "      <th>75%</th>\n",
       "      <td>17600.000000</td>\n",
       "      <td>82000.000000</td>\n",
       "      <td>11.250000</td>\n",
       "      <td>19901.630490</td>\n",
       "      <td>3046.635000</td>\n",
       "    </tr>\n",
       "    <tr>\n",
       "      <th>max</th>\n",
       "      <td>500000.000000</td>\n",
       "      <td>550000.000000</td>\n",
       "      <td>19.000000</td>\n",
       "      <td>48845.292210</td>\n",
       "      <td>14124.860000</td>\n",
       "    </tr>\n",
       "  </tbody>\n",
       "</table>\n",
       "</div>"
      ],
      "text/plain": [
       "           loan_amnt     annual_inc   open_acc   total_pymnt  total_rec_int\n",
       "count      66.000000      65.000000  68.000000     68.000000      68.000000\n",
       "mean    19913.257576   73199.676923   9.264706  14637.408621    2965.349559\n",
       "std     60650.680480   65755.454700   3.815200  11882.493935    3569.197500\n",
       "min      1800.000000   16000.000000   2.000000   1014.530000     203.350000\n",
       "25%      6000.000000   45600.000000   7.000000   6543.590000     988.145000\n",
       "50%     11000.000000   63000.000000   9.000000  10819.285650    1612.175000\n",
       "75%     17600.000000   82000.000000  11.250000  19901.630490    3046.635000\n",
       "max    500000.000000  550000.000000  19.000000  48845.292210   14124.860000"
      ]
     },
     "execution_count": 145,
     "metadata": {},
     "output_type": "execute_result"
    }
   ],
   "source": [
    "#计算汇总统计情况\n",
    "loan_data.describe()"
   ]
  },
  {
   "cell_type": "markdown",
   "metadata": {},
   "source": [
    "### 数据探索 "
   ]
  },
  {
   "cell_type": "code",
   "execution_count": 146,
   "metadata": {},
   "outputs": [
    {
     "name": "stdout",
     "output_type": "stream",
     "text": [
      "B    18\n",
      "A    17\n",
      "C    14\n",
      "D    11\n",
      "E     6\n",
      "F     2\n",
      "Name: grade, dtype: int64\n"
     ]
    },
    {
     "data": {
      "text/plain": [
       "<matplotlib.axes._subplots.AxesSubplot at 0x13d173c8>"
      ]
     },
     "execution_count": 146,
     "metadata": {},
     "output_type": "execute_result"
    },
    {
     "data": {
      "image/png": "[encoded data removed]",
      "text/plain": [
       "<matplotlib.figure.Figure at 0x13d18cc0>"
      ]
     },
     "metadata": {},
     "output_type": "display_data"
    }
   ],
   "source": [
    "#查看贷款等级的情况\n",
    "grade_count = loan_data.grade.value_counts()\n",
    "print(grade_count)\n",
    "grade_count.plot(kind = 'barh')"
   ]
  },
  {
   "cell_type": "code",
   "execution_count": 44,
   "metadata": {},
   "outputs": [
    {
     "data": {
      "text/plain": [
       "Text(0.5,1,'The distributino of loan_amount')"
      ]
     },
     "execution_count": 44,
     "metadata": {},
     "output_type": "execute_result"
    },
    {
     "data": {
      "image/png": "[encoded data removed]",
      "text/plain": [
       "<Figure size 432x288 with 1 Axes>"
      ]
     },
     "metadata": {},
     "output_type": "display_data"
    }
   ],
   "source": [
    "#查看贷款额度的分布情况\n",
    "amount = loan_data.loan_amnt\n",
    "amount.plot.hist(bins =100)\n",
    "plt.title('The distributino of loan_amount')"
   ]
  },
  {
   "cell_type": "code",
   "execution_count": 148,
   "metadata": {},
   "outputs": [
    {
     "name": "stdout",
     "output_type": "stream",
     "text": [
      "low       65\n",
      "high       1\n",
      "middle     0\n",
      "Name: loan_amnt, dtype: int64\n"
     ]
    },
    {
     "data": {
      "text/plain": [
       "<matplotlib.axes._subplots.AxesSubplot at 0x13feab38>"
      ]
     },
     "execution_count": 148,
     "metadata": {},
     "output_type": "execute_result"
    },
    {
     "data": {
      "image/png": "[encoded data removed]",
      "text/plain": [
       "<matplotlib.figure.Figure at 0x13fdc550>"
      ]
     },
     "metadata": {},
     "output_type": "display_data"
    }
   ],
   "source": [
    "#按照欧贷款额度离散化数据\n",
    "bins = [0,100000,300000,500000]\n",
    "amount_labeled = pd.cut(amount,bins,labels = ['low','middle','high'])\n",
    "print(amount_labeled.value_counts())\n",
    "amount_labeled.value_counts().plot(kind ='barh')"
   ]
  },
  {
   "cell_type": "markdown",
   "metadata": {},
   "source": [
    "### 分组聚合"
   ]
  },
  {
   "cell_type": "code",
   "execution_count": 149,
   "metadata": {},
   "outputs": [
    {
     "data": {
      "text/html": [
       "<div>\n",
       "<style>\n",
       "    .dataframe thead tr:only-child th {\n",
       "        text-align: right;\n",
       "    }\n",
       "\n",
       "    .dataframe thead th {\n",
       "        text-align: left;\n",
       "    }\n",
       "\n",
       "    .dataframe tbody tr th {\n",
       "        vertical-align: top;\n",
       "    }\n",
       "</style>\n",
       "<table border=\"1\" class=\"dataframe\">\n",
       "  <thead>\n",
       "    <tr style=\"text-align: right;\">\n",
       "      <th></th>\n",
       "      <th></th>\n",
       "      <th>loan_amnt</th>\n",
       "    </tr>\n",
       "    <tr>\n",
       "      <th>grade</th>\n",
       "      <th>sub_grade</th>\n",
       "      <th></th>\n",
       "    </tr>\n",
       "  </thead>\n",
       "  <tbody>\n",
       "    <tr>\n",
       "      <th rowspan=\"5\" valign=\"top\">A</th>\n",
       "      <th>A1</th>\n",
       "      <td>2000.0</td>\n",
       "    </tr>\n",
       "    <tr>\n",
       "      <th>A2</th>\n",
       "      <td>2000.0</td>\n",
       "    </tr>\n",
       "    <tr>\n",
       "      <th>A3</th>\n",
       "      <td>26800.0</td>\n",
       "    </tr>\n",
       "    <tr>\n",
       "      <th>A4</th>\n",
       "      <td>27000.0</td>\n",
       "    </tr>\n",
       "    <tr>\n",
       "      <th>A5</th>\n",
       "      <td>89700.0</td>\n",
       "    </tr>\n",
       "    <tr>\n",
       "      <th rowspan=\"5\" valign=\"top\">B</th>\n",
       "      <th>B1</th>\n",
       "      <td>9000.0</td>\n",
       "    </tr>\n",
       "    <tr>\n",
       "      <th>B2</th>\n",
       "      <td>30000.0</td>\n",
       "    </tr>\n",
       "    <tr>\n",
       "      <th>B3</th>\n",
       "      <td>14000.0</td>\n",
       "    </tr>\n",
       "    <tr>\n",
       "      <th>B4</th>\n",
       "      <td>33000.0</td>\n",
       "    </tr>\n",
       "    <tr>\n",
       "      <th>B5</th>\n",
       "      <td>86050.0</td>\n",
       "    </tr>\n",
       "    <tr>\n",
       "      <th rowspan=\"5\" valign=\"top\">C</th>\n",
       "      <th>C1</th>\n",
       "      <td>24000.0</td>\n",
       "    </tr>\n",
       "    <tr>\n",
       "      <th>C2</th>\n",
       "      <td>50400.0</td>\n",
       "    </tr>\n",
       "    <tr>\n",
       "      <th>C3</th>\n",
       "      <td>15600.0</td>\n",
       "    </tr>\n",
       "    <tr>\n",
       "      <th>C4</th>\n",
       "      <td>27500.0</td>\n",
       "    </tr>\n",
       "    <tr>\n",
       "      <th>C5</th>\n",
       "      <td>32200.0</td>\n",
       "    </tr>\n",
       "    <tr>\n",
       "      <th rowspan=\"4\" valign=\"top\">D</th>\n",
       "      <th>D2</th>\n",
       "      <td>26000.0</td>\n",
       "    </tr>\n",
       "    <tr>\n",
       "      <th>D3</th>\n",
       "      <td>12000.0</td>\n",
       "    </tr>\n",
       "    <tr>\n",
       "      <th>D4</th>\n",
       "      <td>64700.0</td>\n",
       "    </tr>\n",
       "    <tr>\n",
       "      <th>D5</th>\n",
       "      <td>35000.0</td>\n",
       "    </tr>\n",
       "    <tr>\n",
       "      <th>E</th>\n",
       "      <th>E1</th>\n",
       "      <td>655000.0</td>\n",
       "    </tr>\n",
       "    <tr>\n",
       "      <th rowspan=\"2\" valign=\"top\">F</th>\n",
       "      <th>F2</th>\n",
       "      <td>17325.0</td>\n",
       "    </tr>\n",
       "    <tr>\n",
       "      <th>F5</th>\n",
       "      <td>35000.0</td>\n",
       "    </tr>\n",
       "  </tbody>\n",
       "</table>\n",
       "</div>"
      ],
      "text/plain": [
       "                 loan_amnt\n",
       "grade sub_grade           \n",
       "A     A1            2000.0\n",
       "      A2            2000.0\n",
       "      A3           26800.0\n",
       "      A4           27000.0\n",
       "      A5           89700.0\n",
       "B     B1            9000.0\n",
       "      B2           30000.0\n",
       "      B3           14000.0\n",
       "      B4           33000.0\n",
       "      B5           86050.0\n",
       "C     C1           24000.0\n",
       "      C2           50400.0\n",
       "      C3           15600.0\n",
       "      C4           27500.0\n",
       "      C5           32200.0\n",
       "D     D2           26000.0\n",
       "      D3           12000.0\n",
       "      D4           64700.0\n",
       "      D5           35000.0\n",
       "E     E1          655000.0\n",
       "F     F2           17325.0\n",
       "      F5           35000.0"
      ]
     },
     "execution_count": 149,
     "metadata": {},
     "output_type": "execute_result"
    }
   ],
   "source": [
    "#按照‘grade’，‘sub_grade’两个特征进行分组，然后计算每组的贷款总量\n",
    "loan_data.groupby(['grade','sub_grade']).agg({'loan_amnt':'sum'})"
   ]
  },
  {
   "cell_type": "code",
   "execution_count": 150,
   "metadata": {},
   "outputs": [
    {
     "data": {
      "text/html": [
       "<div>\n",
       "<style>\n",
       "    .dataframe thead tr:only-child th {\n",
       "        text-align: right;\n",
       "    }\n",
       "\n",
       "    .dataframe thead th {\n",
       "        text-align: left;\n",
       "    }\n",
       "\n",
       "    .dataframe tbody tr th {\n",
       "        vertical-align: top;\n",
       "    }\n",
       "</style>\n",
       "<table border=\"1\" class=\"dataframe\">\n",
       "  <thead>\n",
       "    <tr style=\"text-align: right;\">\n",
       "      <th></th>\n",
       "      <th>home_ownership</th>\n",
       "      <th>MORTGAGE</th>\n",
       "      <th>OWN</th>\n",
       "      <th>RENT</th>\n",
       "    </tr>\n",
       "    <tr>\n",
       "      <th>grade</th>\n",
       "      <th>sub_grade</th>\n",
       "      <th></th>\n",
       "      <th></th>\n",
       "      <th></th>\n",
       "    </tr>\n",
       "  </thead>\n",
       "  <tbody>\n",
       "    <tr>\n",
       "      <th rowspan=\"5\" valign=\"top\">A</th>\n",
       "      <th>A1</th>\n",
       "      <td>NaN</td>\n",
       "      <td>1.0</td>\n",
       "      <td>NaN</td>\n",
       "    </tr>\n",
       "    <tr>\n",
       "      <th>A2</th>\n",
       "      <td>1.0</td>\n",
       "      <td>NaN</td>\n",
       "      <td>NaN</td>\n",
       "    </tr>\n",
       "    <tr>\n",
       "      <th>A3</th>\n",
       "      <td>1.0</td>\n",
       "      <td>1.0</td>\n",
       "      <td>NaN</td>\n",
       "    </tr>\n",
       "    <tr>\n",
       "      <th>A4</th>\n",
       "      <td>1.0</td>\n",
       "      <td>1.0</td>\n",
       "      <td>1.0</td>\n",
       "    </tr>\n",
       "    <tr>\n",
       "      <th>A5</th>\n",
       "      <td>6.0</td>\n",
       "      <td>NaN</td>\n",
       "      <td>3.0</td>\n",
       "    </tr>\n",
       "    <tr>\n",
       "      <th rowspan=\"5\" valign=\"top\">B</th>\n",
       "      <th>B1</th>\n",
       "      <td>1.0</td>\n",
       "      <td>NaN</td>\n",
       "      <td>NaN</td>\n",
       "    </tr>\n",
       "    <tr>\n",
       "      <th>B2</th>\n",
       "      <td>1.0</td>\n",
       "      <td>NaN</td>\n",
       "      <td>5.0</td>\n",
       "    </tr>\n",
       "    <tr>\n",
       "      <th>B3</th>\n",
       "      <td>2.0</td>\n",
       "      <td>NaN</td>\n",
       "      <td>NaN</td>\n",
       "    </tr>\n",
       "    <tr>\n",
       "      <th>B4</th>\n",
       "      <td>NaN</td>\n",
       "      <td>NaN</td>\n",
       "      <td>2.0</td>\n",
       "    </tr>\n",
       "    <tr>\n",
       "      <th>B5</th>\n",
       "      <td>2.0</td>\n",
       "      <td>1.0</td>\n",
       "      <td>3.0</td>\n",
       "    </tr>\n",
       "    <tr>\n",
       "      <th rowspan=\"5\" valign=\"top\">C</th>\n",
       "      <th>C1</th>\n",
       "      <td>NaN</td>\n",
       "      <td>NaN</td>\n",
       "      <td>2.0</td>\n",
       "    </tr>\n",
       "    <tr>\n",
       "      <th>C2</th>\n",
       "      <td>2.0</td>\n",
       "      <td>1.0</td>\n",
       "      <td>1.0</td>\n",
       "    </tr>\n",
       "    <tr>\n",
       "      <th>C3</th>\n",
       "      <td>1.0</td>\n",
       "      <td>2.0</td>\n",
       "      <td>NaN</td>\n",
       "    </tr>\n",
       "    <tr>\n",
       "      <th>C4</th>\n",
       "      <td>NaN</td>\n",
       "      <td>NaN</td>\n",
       "      <td>2.0</td>\n",
       "    </tr>\n",
       "    <tr>\n",
       "      <th>C5</th>\n",
       "      <td>2.0</td>\n",
       "      <td>NaN</td>\n",
       "      <td>1.0</td>\n",
       "    </tr>\n",
       "    <tr>\n",
       "      <th rowspan=\"4\" valign=\"top\">D</th>\n",
       "      <th>D2</th>\n",
       "      <td>NaN</td>\n",
       "      <td>NaN</td>\n",
       "      <td>2.0</td>\n",
       "    </tr>\n",
       "    <tr>\n",
       "      <th>D3</th>\n",
       "      <td>2.0</td>\n",
       "      <td>NaN</td>\n",
       "      <td>NaN</td>\n",
       "    </tr>\n",
       "    <tr>\n",
       "      <th>D4</th>\n",
       "      <td>2.0</td>\n",
       "      <td>NaN</td>\n",
       "      <td>3.0</td>\n",
       "    </tr>\n",
       "    <tr>\n",
       "      <th>D5</th>\n",
       "      <td>1.0</td>\n",
       "      <td>NaN</td>\n",
       "      <td>1.0</td>\n",
       "    </tr>\n",
       "    <tr>\n",
       "      <th>E</th>\n",
       "      <th>E1</th>\n",
       "      <td>2.0</td>\n",
       "      <td>NaN</td>\n",
       "      <td>4.0</td>\n",
       "    </tr>\n",
       "    <tr>\n",
       "      <th rowspan=\"2\" valign=\"top\">F</th>\n",
       "      <th>F2</th>\n",
       "      <td>NaN</td>\n",
       "      <td>NaN</td>\n",
       "      <td>1.0</td>\n",
       "    </tr>\n",
       "    <tr>\n",
       "      <th>F5</th>\n",
       "      <td>1.0</td>\n",
       "      <td>NaN</td>\n",
       "      <td>NaN</td>\n",
       "    </tr>\n",
       "  </tbody>\n",
       "</table>\n",
       "</div>"
      ],
      "text/plain": [
       "home_ownership   MORTGAGE  OWN  RENT\n",
       "grade sub_grade                     \n",
       "A     A1              NaN  1.0   NaN\n",
       "      A2              1.0  NaN   NaN\n",
       "      A3              1.0  1.0   NaN\n",
       "      A4              1.0  1.0   1.0\n",
       "      A5              6.0  NaN   3.0\n",
       "B     B1              1.0  NaN   NaN\n",
       "      B2              1.0  NaN   5.0\n",
       "      B3              2.0  NaN   NaN\n",
       "      B4              NaN  NaN   2.0\n",
       "      B5              2.0  1.0   3.0\n",
       "C     C1              NaN  NaN   2.0\n",
       "      C2              2.0  1.0   1.0\n",
       "      C3              1.0  2.0   NaN\n",
       "      C4              NaN  NaN   2.0\n",
       "      C5              2.0  NaN   1.0\n",
       "D     D2              NaN  NaN   2.0\n",
       "      D3              2.0  NaN   NaN\n",
       "      D4              2.0  NaN   3.0\n",
       "      D5              1.0  NaN   1.0\n",
       "E     E1              2.0  NaN   4.0\n",
       "F     F2              NaN  NaN   1.0\n",
       "      F5              1.0  NaN   NaN"
      ]
     },
     "execution_count": 150,
     "metadata": {},
     "output_type": "execute_result"
    }
   ],
   "source": [
    "#另外，也可以用pivot_table进行分组统计分析\n",
    "loan_data.pivot_table(values = 'loan_amnt',\n",
    "                     index = ['grade','sub_grade'],\n",
    "                     columns = ['home_ownership'],\n",
    "                     aggfunc = 'count')"
   ]
  },
  {
   "cell_type": "markdown",
   "metadata": {},
   "source": [
    "### 缺失值处理 "
   ]
  },
  {
   "cell_type": "code",
   "execution_count": 151,
   "metadata": {},
   "outputs": [
    {
     "data": {
      "text/plain": [
       "loan_amnt         2\n",
       "grade             0\n",
       "sub_grade         0\n",
       "emp_length        0\n",
       "home_ownership    0\n",
       "annual_inc        3\n",
       "issue_d           0\n",
       "loan_status       0\n",
       "open_acc          0\n",
       "total_pymnt       0\n",
       "total_rec_int     0\n",
       "dtype: int64"
      ]
     },
     "execution_count": 151,
     "metadata": {},
     "output_type": "execute_result"
    }
   ],
   "source": [
    "#统计缺失值的情况\n",
    "loan_data.isnull().sum()"
   ]
  },
  {
   "cell_type": "code",
   "execution_count": 152,
   "metadata": {},
   "outputs": [
    {
     "name": "stdout",
     "output_type": "stream",
     "text": [
      "loan_amnt         0\n",
      "grade             0\n",
      "sub_grade         0\n",
      "emp_length        0\n",
      "home_ownership    0\n",
      "annual_inc        0\n",
      "issue_d           0\n",
      "loan_status       0\n",
      "open_acc          0\n",
      "total_pymnt       0\n",
      "total_rec_int     0\n",
      "dtype: int64\n"
     ]
    }
   ],
   "source": [
    "#使用平均值进行填充\n",
    "loan_data.fillna(value = loan_data.mean(),inplace=True)\n",
    "print(loan_data.isnull().sum())"
   ]
  },
  {
   "cell_type": "code",
   "execution_count": null,
   "metadata": {
    "collapsed": true
   },
   "outputs": [],
   "source": []
  },
  {
   "cell_type": "markdown",
   "metadata": {
    "collapsed": true
   },
   "source": [
    "## 时间序列分析"
   ]
  },
  {
   "cell_type": "code",
   "execution_count": 153,
   "metadata": {},
   "outputs": [
    {
     "data": {
      "text/html": [
       "<div>\n",
       "<style>\n",
       "    .dataframe thead tr:only-child th {\n",
       "        text-align: right;\n",
       "    }\n",
       "\n",
       "    .dataframe thead th {\n",
       "        text-align: left;\n",
       "    }\n",
       "\n",
       "    .dataframe tbody tr th {\n",
       "        vertical-align: top;\n",
       "    }\n",
       "</style>\n",
       "<table border=\"1\" class=\"dataframe\">\n",
       "  <thead>\n",
       "    <tr style=\"text-align: right;\">\n",
       "      <th></th>\n",
       "      <th>loan_amnt</th>\n",
       "      <th>grade</th>\n",
       "      <th>sub_grade</th>\n",
       "      <th>emp_length</th>\n",
       "      <th>home_ownership</th>\n",
       "      <th>annual_inc</th>\n",
       "      <th>loan_status</th>\n",
       "      <th>open_acc</th>\n",
       "      <th>total_pymnt</th>\n",
       "      <th>total_rec_int</th>\n",
       "    </tr>\n",
       "    <tr>\n",
       "      <th>issue_d</th>\n",
       "      <th></th>\n",
       "      <th></th>\n",
       "      <th></th>\n",
       "      <th></th>\n",
       "      <th></th>\n",
       "      <th></th>\n",
       "      <th></th>\n",
       "      <th></th>\n",
       "      <th></th>\n",
       "      <th></th>\n",
       "    </tr>\n",
       "  </thead>\n",
       "  <tbody>\n",
       "    <tr>\n",
       "      <th>2017-12-11</th>\n",
       "      <td>5000.0</td>\n",
       "      <td>B</td>\n",
       "      <td>B2</td>\n",
       "      <td>10+ years</td>\n",
       "      <td>RENT</td>\n",
       "      <td>24000.0</td>\n",
       "      <td>Fully Paid</td>\n",
       "      <td>3</td>\n",
       "      <td>5863.155187</td>\n",
       "      <td>863.16</td>\n",
       "    </tr>\n",
       "    <tr>\n",
       "      <th>2017-12-11</th>\n",
       "      <td>2500.0</td>\n",
       "      <td>C</td>\n",
       "      <td>C4</td>\n",
       "      <td>&lt; 1 year</td>\n",
       "      <td>RENT</td>\n",
       "      <td>30000.0</td>\n",
       "      <td>Charged Off</td>\n",
       "      <td>3</td>\n",
       "      <td>1014.530000</td>\n",
       "      <td>435.17</td>\n",
       "    </tr>\n",
       "    <tr>\n",
       "      <th>2017-11-11</th>\n",
       "      <td>12500.0</td>\n",
       "      <td>D</td>\n",
       "      <td>D4</td>\n",
       "      <td>10+ years</td>\n",
       "      <td>RENT</td>\n",
       "      <td>74400.0</td>\n",
       "      <td>Fully Paid</td>\n",
       "      <td>8</td>\n",
       "      <td>14722.411910</td>\n",
       "      <td>2222.41</td>\n",
       "    </tr>\n",
       "    <tr>\n",
       "      <th>2017-11-11</th>\n",
       "      <td>14000.0</td>\n",
       "      <td>A</td>\n",
       "      <td>A4</td>\n",
       "      <td>10+ years</td>\n",
       "      <td>RENT</td>\n",
       "      <td>72000.0</td>\n",
       "      <td>fully Paid</td>\n",
       "      <td>6</td>\n",
       "      <td>15099.982530</td>\n",
       "      <td>1099.98</td>\n",
       "    </tr>\n",
       "    <tr>\n",
       "      <th>2017-10-11</th>\n",
       "      <td>35000.0</td>\n",
       "      <td>F</td>\n",
       "      <td>F5</td>\n",
       "      <td>4 years</td>\n",
       "      <td>MORTGAGE</td>\n",
       "      <td>100000.0</td>\n",
       "      <td>Fully Paid</td>\n",
       "      <td>9</td>\n",
       "      <td>48743.119270</td>\n",
       "      <td>13743.12</td>\n",
       "    </tr>\n",
       "  </tbody>\n",
       "</table>\n",
       "</div>"
      ],
      "text/plain": [
       "            loan_amnt grade sub_grade emp_length home_ownership  annual_inc  \\\n",
       "issue_d                                                                       \n",
       "2017-12-11     5000.0     B        B2  10+ years           RENT     24000.0   \n",
       "2017-12-11     2500.0     C        C4   < 1 year           RENT     30000.0   \n",
       "2017-11-11    12500.0     D        D4  10+ years           RENT     74400.0   \n",
       "2017-11-11    14000.0     A        A4  10+ years           RENT     72000.0   \n",
       "2017-10-11    35000.0     F        F5    4 years       MORTGAGE    100000.0   \n",
       "\n",
       "            loan_status  open_acc   total_pymnt  total_rec_int  \n",
       "issue_d                                                         \n",
       "2017-12-11   Fully Paid         3   5863.155187         863.16  \n",
       "2017-12-11  Charged Off         3   1014.530000         435.17  \n",
       "2017-11-11   Fully Paid         8  14722.411910        2222.41  \n",
       "2017-11-11   fully Paid         6  15099.982530        1099.98  \n",
       "2017-10-11   Fully Paid         9  48743.119270       13743.12  "
      ]
     },
     "execution_count": 153,
     "metadata": {},
     "output_type": "execute_result"
    }
   ],
   "source": [
    "#将贷款发生时间列：issue_d 转变为datetime类型，并且设置为dataframe的index\n",
    "loan_data['issue_d'] = pd.to_datetime(loan_data.issue_d)\n",
    "loan_data.set_index(keys ='issue_d',drop =True,inplace=True)\n",
    "loan_data.head()"
   ]
  },
  {
   "cell_type": "code",
   "execution_count": 154,
   "metadata": {},
   "outputs": [
    {
     "data": {
      "text/plain": [
       "issue_d\n",
       "2017-01-31     76913.257576\n",
       "2017-02-28              NaN\n",
       "2017-03-31     99175.000000\n",
       "2017-04-30    159225.000000\n",
       "2017-05-31    671200.000000\n",
       "2017-06-30     39000.000000\n",
       "2017-07-31     33600.000000\n",
       "2017-08-31     19913.257576\n",
       "2017-09-30     55700.000000\n",
       "2017-10-31    106125.000000\n",
       "2017-11-30     45500.000000\n",
       "2017-12-31     47750.000000\n",
       "Freq: M, Name: loan_amnt, dtype: float64"
      ]
     },
     "execution_count": 154,
     "metadata": {},
     "output_type": "execute_result"
    }
   ],
   "source": [
    "### 按照月份重采样 resample，得到每月贷款额度\n",
    "monthly_count= loan_data['loan_amnt'].resample('m',closed = 'left',label = 'right').sum()\n",
    "monthly_count"
   ]
  },
  {
   "cell_type": "code",
   "execution_count": 155,
   "metadata": {},
   "outputs": [
    {
     "data": {
      "text/plain": [
       "<matplotlib.axes._subplots.AxesSubplot at 0x13ec6f98>"
      ]
     },
     "execution_count": 155,
     "metadata": {},
     "output_type": "execute_result"
    },
    {
     "data": {
      "image/png": "[encoded data removed]",
      "text/plain": [
       "<matplotlib.figure.Figure at 0x13c9c2e8>"
      ]
     },
     "metadata": {},
     "output_type": "display_data"
    }
   ],
   "source": [
    "#生成每月贷款额度的时间序列，查看贷款额度的走势\n",
    "monthly_count.plot(c='r',marker = 'o',\n",
    "                  title ='The Trend of Loaners')"
   ]
  }
 ],
 "metadata": {
  "kernelspec": {
   "display_name": "Python 3",
   "language": "python",
   "name": "python3"
  },
  "language_info": {
   "codemirror_mode": {
    "name": "ipython",
    "version": 3
   },
   "file_extension": ".py",
   "mimetype": "text/x-python",
   "name": "python",
   "nbconvert_exporter": "python",
   "pygments_lexer": "ipython3",
   "version": "3.6.4"
  }
 },
 "nbformat": 4,
 "nbformat_minor": 2
}
