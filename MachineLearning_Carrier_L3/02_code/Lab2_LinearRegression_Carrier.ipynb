{
 "cells": [
  {
   "cell_type": "markdown",
   "metadata": {},
   "source": [
    "## 业务场景"
   ]
  },
  {
   "cell_type": "markdown",
   "metadata": {},
   "source": [
    "通过用户过去三个月的消费信息（流量，上网时长，通话时长，缴费金额等），预测用户下月流量，从而实现相应流量业务的精准推荐。\n"
   ]
  },
  {
   "cell_type": "markdown",
   "metadata": {},
   "source": [
    "## 字段信息：\n",
    "名称       | 说明   | 类型  |\n",
    "--------------|---------|--------|-----\n",
    "USER_ID     |用户标识 | INT   |\n",
    "SERVICESET_FLUX| 套餐内流量（M)\t| DOUBEL\n",
    "ONLINE_FLUX_THISMONTH|当月流量|\n",
    "ONLINE_FLUX_LASTMONTH|上个月流量|   \n",
    "ONLINE_FLUX_TWOMONTHSAGO|上上个月前流量|\n",
    "ONLINE_DURATION_THISMONTH|当月上网时长|\n",
    "ONLINE_DURATION_LASTMONTH|上个月上网时长（分）|\n",
    "ONLINE_DURATION_TWOMONTHSAGO|上个月上网时长（分）|\n",
    "CALL_DURATION_THISMONTH|当月通话时长（分）|\n",
    "CALL_DURATION_LASTMONTH|上个月通话时长（分）|\n",
    "CALL_DURATION_TWOMONTHSAGO|上个月通话时长（分）|\n",
    "NET_DURATION |入网时长（天） |LONG\n",
    "LAST_RECHARGE_VALUE|最近一次缴费金额（元）\n",
    "TOTAL_RECHARGE_VALUE|近三个月缴费金额(元)|\n",
    "TOTAL_RECHARGE_COUNT|近三个月缴费次数|\n",
    "TOTAL_OWE_COUNT|近三个月欠费次数（次）\t|INT\n",
    "BALANCED |余额| double\n",
    "ONLINE_FLUX_NEXTMONTH|下个月流量|\n",
    "\n",
    "\n"
   ]
  },
  {
   "cell_type": "code",
   "execution_count": 3,
   "metadata": {},
   "outputs": [],
   "source": [
    "#导入常用的库\n",
    "# numpy: python中常用的多维数值计算库，常用简称 np\n",
    "# pandas:python中的数据分析库，常用简称 pd\n",
    "# matplotlib :python中的图形库，常用简称plt\n",
    "# %matplotlib inline：IPython魔法函数（Magic Functions），可以内嵌绘图，并且可以省略掉plt.show()这一步\n",
    "\n",
    "#约4行代码\n",
    "import numpy as np\n",
    "import pandas as pd\n",
    "import matplotlib.pyplot as plt\n",
    "%matplotlib inline"
   ]
  },
  {
   "cell_type": "markdown",
   "metadata": {},
   "source": [
    "### 读取数据"
   ]
  },
  {
   "cell_type": "code",
   "execution_count": 5,
   "metadata": {},
   "outputs": [
    {
     "name": "stdout",
     "output_type": "stream",
     "text": [
      "We wiil read the data fromC:\\Users\\wwx559045.CHINA\\Cou_code\\Carrier_ML\\data\\carrier_linearRegeression.csv\n"
     ]
    },
    {
     "data": {
      "text/html": [
       "<div>\n",
       "<style scoped>\n",
       "    .dataframe tbody tr th:only-of-type {\n",
       "        vertical-align: middle;\n",
       "    }\n",
       "\n",
       "    .dataframe tbody tr th {\n",
       "        vertical-align: top;\n",
       "    }\n",
       "\n",
       "    .dataframe thead th {\n",
       "        text-align: right;\n",
       "    }\n",
       "</style>\n",
       "<table border=\"1\" class=\"dataframe\">\n",
       "  <thead>\n",
       "    <tr style=\"text-align: right;\">\n",
       "      <th></th>\n",
       "      <th>USER_ID</th>\n",
       "      <th>SERVICE</th>\n",
       "      <th>SERVICESET_FLUX</th>\n",
       "      <th>ONLINE_FLUX_THISMONTH</th>\n",
       "      <th>ONLINE_FLUX_LASTMONTH</th>\n",
       "      <th>ONLINE_FLUX_TWOMONTHSAGO</th>\n",
       "      <th>ONLINE_DURATION_THISMONTH</th>\n",
       "      <th>ONLINE_DURATION_LASTMONTH</th>\n",
       "      <th>ONLINE_DURATION_TWOMONTHSAGO</th>\n",
       "      <th>CALL_DURATION_THISMONTH</th>\n",
       "      <th>CALL_DURATION_LASTMONTH</th>\n",
       "      <th>CALL_DURATION_TWOMONTHSAGO</th>\n",
       "      <th>NET_DURATION</th>\n",
       "      <th>LAST_RECHARGE_VALUE</th>\n",
       "      <th>TOTAL_RECHARGE_VALUE</th>\n",
       "      <th>TOTAL_RECHARGE_COUNT</th>\n",
       "      <th>TOTAL_OWE_COUNT</th>\n",
       "      <th>BALANCED</th>\n",
       "      <th>ONLINE_FLUX_NEXTMONTH</th>\n",
       "    </tr>\n",
       "  </thead>\n",
       "  <tbody>\n",
       "    <tr>\n",
       "      <th>0</th>\n",
       "      <td>78002</td>\n",
       "      <td>2G</td>\n",
       "      <td>700</td>\n",
       "      <td>298.0</td>\n",
       "      <td>441.0</td>\n",
       "      <td>485.0</td>\n",
       "      <td>151.0</td>\n",
       "      <td>74.0</td>\n",
       "      <td>151.0</td>\n",
       "      <td>102.0</td>\n",
       "      <td>100.0</td>\n",
       "      <td>127.0</td>\n",
       "      <td>206.0</td>\n",
       "      <td>58.0</td>\n",
       "      <td>383.0</td>\n",
       "      <td>4.0</td>\n",
       "      <td>1.240987</td>\n",
       "      <td>55.0</td>\n",
       "      <td>1254.0</td>\n",
       "    </tr>\n",
       "    <tr>\n",
       "      <th>1</th>\n",
       "      <td>67208</td>\n",
       "      <td>2G</td>\n",
       "      <td>500</td>\n",
       "      <td>521.0</td>\n",
       "      <td>382.0</td>\n",
       "      <td>386.0</td>\n",
       "      <td>128.0</td>\n",
       "      <td>122.0</td>\n",
       "      <td>122.0</td>\n",
       "      <td>68.0</td>\n",
       "      <td>91.0</td>\n",
       "      <td>91.0</td>\n",
       "      <td>189.0</td>\n",
       "      <td>1.0</td>\n",
       "      <td>488.0</td>\n",
       "      <td>12.0</td>\n",
       "      <td>-0.826767</td>\n",
       "      <td>71.0</td>\n",
       "      <td>1121.0</td>\n",
       "    </tr>\n",
       "    <tr>\n",
       "      <th>2</th>\n",
       "      <td>54739</td>\n",
       "      <td>3G</td>\n",
       "      <td>400</td>\n",
       "      <td>504.0</td>\n",
       "      <td>721.0</td>\n",
       "      <td>427.0</td>\n",
       "      <td>64.0</td>\n",
       "      <td>147.0</td>\n",
       "      <td>104.0</td>\n",
       "      <td>88.0</td>\n",
       "      <td>75.0</td>\n",
       "      <td>115.0</td>\n",
       "      <td>195.0</td>\n",
       "      <td>67.0</td>\n",
       "      <td>474.0</td>\n",
       "      <td>6.0</td>\n",
       "      <td>0.086672</td>\n",
       "      <td>55.0</td>\n",
       "      <td>1132.0</td>\n",
       "    </tr>\n",
       "    <tr>\n",
       "      <th>3</th>\n",
       "      <td>60265</td>\n",
       "      <td>4G</td>\n",
       "      <td>400</td>\n",
       "      <td>368.0</td>\n",
       "      <td>404.0</td>\n",
       "      <td>354.0</td>\n",
       "      <td>106.0</td>\n",
       "      <td>129.0</td>\n",
       "      <td>118.0</td>\n",
       "      <td>81.0</td>\n",
       "      <td>129.0</td>\n",
       "      <td>70.0</td>\n",
       "      <td>166.0</td>\n",
       "      <td>83.0</td>\n",
       "      <td>575.0</td>\n",
       "      <td>12.0</td>\n",
       "      <td>1.643440</td>\n",
       "      <td>41.0</td>\n",
       "      <td>971.0</td>\n",
       "    </tr>\n",
       "    <tr>\n",
       "      <th>4</th>\n",
       "      <td>33085</td>\n",
       "      <td>3G</td>\n",
       "      <td>500</td>\n",
       "      <td>471.0</td>\n",
       "      <td>645.0</td>\n",
       "      <td>521.0</td>\n",
       "      <td>143.0</td>\n",
       "      <td>124.0</td>\n",
       "      <td>94.0</td>\n",
       "      <td>105.0</td>\n",
       "      <td>71.0</td>\n",
       "      <td>113.0</td>\n",
       "      <td>191.0</td>\n",
       "      <td>69.0</td>\n",
       "      <td>585.0</td>\n",
       "      <td>10.0</td>\n",
       "      <td>-2.131418</td>\n",
       "      <td>0.0</td>\n",
       "      <td>1262.0</td>\n",
       "    </tr>\n",
       "  </tbody>\n",
       "</table>\n",
       "</div>"
      ],
      "text/plain": [
       "   USER_ID SERVICE  SERVICESET_FLUX  ONLINE_FLUX_THISMONTH  \\\n",
       "0    78002      2G              700                  298.0   \n",
       "1    67208      2G              500                  521.0   \n",
       "2    54739      3G              400                  504.0   \n",
       "3    60265      4G              400                  368.0   \n",
       "4    33085      3G              500                  471.0   \n",
       "\n",
       "   ONLINE_FLUX_LASTMONTH  ONLINE_FLUX_TWOMONTHSAGO  ONLINE_DURATION_THISMONTH  \\\n",
       "0                  441.0                     485.0                      151.0   \n",
       "1                  382.0                     386.0                      128.0   \n",
       "2                  721.0                     427.0                       64.0   \n",
       "3                  404.0                     354.0                      106.0   \n",
       "4                  645.0                     521.0                      143.0   \n",
       "\n",
       "   ONLINE_DURATION_LASTMONTH  ONLINE_DURATION_TWOMONTHSAGO  \\\n",
       "0                       74.0                         151.0   \n",
       "1                      122.0                         122.0   \n",
       "2                      147.0                         104.0   \n",
       "3                      129.0                         118.0   \n",
       "4                      124.0                          94.0   \n",
       "\n",
       "   CALL_DURATION_THISMONTH  CALL_DURATION_LASTMONTH  \\\n",
       "0                    102.0                    100.0   \n",
       "1                     68.0                     91.0   \n",
       "2                     88.0                     75.0   \n",
       "3                     81.0                    129.0   \n",
       "4                    105.0                     71.0   \n",
       "\n",
       "   CALL_DURATION_TWOMONTHSAGO  NET_DURATION  LAST_RECHARGE_VALUE  \\\n",
       "0                       127.0         206.0                 58.0   \n",
       "1                        91.0         189.0                  1.0   \n",
       "2                       115.0         195.0                 67.0   \n",
       "3                        70.0         166.0                 83.0   \n",
       "4                       113.0         191.0                 69.0   \n",
       "\n",
       "   TOTAL_RECHARGE_VALUE  TOTAL_RECHARGE_COUNT  TOTAL_OWE_COUNT  BALANCED  \\\n",
       "0                 383.0                   4.0         1.240987      55.0   \n",
       "1                 488.0                  12.0        -0.826767      71.0   \n",
       "2                 474.0                   6.0         0.086672      55.0   \n",
       "3                 575.0                  12.0         1.643440      41.0   \n",
       "4                 585.0                  10.0        -2.131418       0.0   \n",
       "\n",
       "   ONLINE_FLUX_NEXTMONTH  \n",
       "0                 1254.0  \n",
       "1                 1121.0  \n",
       "2                 1132.0  \n",
       "3                  971.0  \n",
       "4                 1262.0  "
      ]
     },
     "execution_count": 5,
     "metadata": {},
     "output_type": "execute_result"
    }
   ],
   "source": [
    "#使用pandas的读取csv文件的函数 pd.read_csv(),生成数据的dataframe\n",
    "#数据文件名：carrier_linearRegeression.csv\n",
    "#编码格式：utf8\n",
    "#分隔符： 逗号\n",
    "#约1行代码\n",
    "data = pd.read_csv('/data/carrier_linearRegeression.csv',encoding='utf8')\n",
    "\n",
    "#显示前5行\n",
    "#约1行代码\n",
    "data.head()"
   ]
  },
  {
   "cell_type": "markdown",
   "metadata": {},
   "source": [
    "### 数据探索"
   ]
  },
  {
   "cell_type": "code",
   "execution_count": 30,
   "metadata": {},
   "outputs": [
    {
     "data": {
      "text/plain": [
       "(array([  13.,  143.,  695., 1891., 2838., 2622., 1350.,  385.,   58.,\n",
       "           5.]),\n",
       " array([ 40. , 135.5, 231. , 326.5, 422. , 517.5, 613. , 708.5, 804. ,\n",
       "        899.5, 995. ]),\n",
       " <a list of 10 Patch objects>)"
      ]
     },
     "execution_count": 30,
     "metadata": {},
     "output_type": "execute_result"
    },
    {
     "data": {
      "image/png": "[encoded data removed]",
      "text/plain": [
       "<Figure size 432x288 with 1 Axes>"
      ]
     },
     "metadata": {},
     "output_type": "display_data"
    }
   ],
   "source": [
    "#当月数据使用量的分布情况\n",
    "\n",
    "#使用plt.hist()方法\n",
    "#约1-2行代码\n",
    "plt.hist(data.iloc[:,3])"
   ]
  },
  {
   "cell_type": "code",
   "execution_count": 31,
   "metadata": {},
   "outputs": [
    {
     "data": {
      "text/plain": [
       "<matplotlib.collections.PathCollection at 0xc5261d0>"
      ]
     },
     "execution_count": 31,
     "metadata": {},
     "output_type": "execute_result"
    },
    {
     "data": {
      "image/png": "[encoded data removed]",
      "text/plain": [
       "<Figure size 432x288 with 1 Axes>"
      ]
     },
     "metadata": {},
     "output_type": "display_data"
    }
   ],
   "source": [
    "#当月数据流量和下月数据流量的关系\n",
    "\n",
    "#使用plt.scatter()方法\n",
    "#横轴：套餐流量（标准化），纵轴:下个月使用流量\n",
    "#约1-2行代码\n",
    "\n",
    "plt.scatter(data.iloc[:,3],data.iloc[:,-1])"
   ]
  },
  {
   "cell_type": "markdown",
   "metadata": {},
   "source": [
    "## 数据预处理"
   ]
  },
  {
   "cell_type": "code",
   "execution_count": 32,
   "metadata": {},
   "outputs": [
    {
     "name": "stdout",
     "output_type": "stream",
     "text": [
      "The shape of X is (10000, 17)\n",
      "The shape of y is (10000,)\n"
     ]
    }
   ],
   "source": [
    "#分离特征数据为X 和目标数据为y\n",
    "\n",
    "#使用dataframe的i.lloc或者.loc方法选取不同字段（列）\n",
    "X = data.iloc[:,1:-1]\n",
    "y= data.iloc[:,-1]\n",
    "\n",
    "#打印特征数据为X 和目标数据y的形状：\n",
    "print('The shape of X is {0}'.format(X.shape))\n",
    "print('The shape of y is {0}'.format(y.shape))"
   ]
  },
  {
   "cell_type": "markdown",
   "metadata": {},
   "source": [
    "### 类别特征编码\n",
    "将SERVICE类型变量转化为0-1编码的格式，从而可以进行数值计算"
   ]
  },
  {
   "cell_type": "code",
   "execution_count": 33,
   "metadata": {},
   "outputs": [
    {
     "data": {
      "text/html": [
       "<div>\n",
       "<style scoped>\n",
       "    .dataframe tbody tr th:only-of-type {\n",
       "        vertical-align: middle;\n",
       "    }\n",
       "\n",
       "    .dataframe tbody tr th {\n",
       "        vertical-align: top;\n",
       "    }\n",
       "\n",
       "    .dataframe thead th {\n",
       "        text-align: right;\n",
       "    }\n",
       "</style>\n",
       "<table border=\"1\" class=\"dataframe\">\n",
       "  <thead>\n",
       "    <tr style=\"text-align: right;\">\n",
       "      <th></th>\n",
       "      <th>SERVICESET_FLUX</th>\n",
       "      <th>ONLINE_FLUX_THISMONTH</th>\n",
       "      <th>ONLINE_FLUX_LASTMONTH</th>\n",
       "      <th>ONLINE_FLUX_TWOMONTHSAGO</th>\n",
       "      <th>ONLINE_DURATION_THISMONTH</th>\n",
       "      <th>ONLINE_DURATION_LASTMONTH</th>\n",
       "      <th>ONLINE_DURATION_TWOMONTHSAGO</th>\n",
       "      <th>CALL_DURATION_THISMONTH</th>\n",
       "      <th>CALL_DURATION_LASTMONTH</th>\n",
       "      <th>CALL_DURATION_TWOMONTHSAGO</th>\n",
       "      <th>NET_DURATION</th>\n",
       "      <th>LAST_RECHARGE_VALUE</th>\n",
       "      <th>TOTAL_RECHARGE_VALUE</th>\n",
       "      <th>TOTAL_RECHARGE_COUNT</th>\n",
       "      <th>TOTAL_OWE_COUNT</th>\n",
       "      <th>BALANCED</th>\n",
       "      <th>2G</th>\n",
       "      <th>3G</th>\n",
       "      <th>4G</th>\n",
       "    </tr>\n",
       "  </thead>\n",
       "  <tbody>\n",
       "    <tr>\n",
       "      <th>0</th>\n",
       "      <td>700</td>\n",
       "      <td>298.0</td>\n",
       "      <td>441.0</td>\n",
       "      <td>485.0</td>\n",
       "      <td>151.0</td>\n",
       "      <td>74.0</td>\n",
       "      <td>151.0</td>\n",
       "      <td>102.0</td>\n",
       "      <td>100.0</td>\n",
       "      <td>127.0</td>\n",
       "      <td>206.0</td>\n",
       "      <td>58.0</td>\n",
       "      <td>383.0</td>\n",
       "      <td>4.0</td>\n",
       "      <td>1.240987</td>\n",
       "      <td>55.0</td>\n",
       "      <td>1.0</td>\n",
       "      <td>0.0</td>\n",
       "      <td>0.0</td>\n",
       "    </tr>\n",
       "    <tr>\n",
       "      <th>1</th>\n",
       "      <td>500</td>\n",
       "      <td>521.0</td>\n",
       "      <td>382.0</td>\n",
       "      <td>386.0</td>\n",
       "      <td>128.0</td>\n",
       "      <td>122.0</td>\n",
       "      <td>122.0</td>\n",
       "      <td>68.0</td>\n",
       "      <td>91.0</td>\n",
       "      <td>91.0</td>\n",
       "      <td>189.0</td>\n",
       "      <td>1.0</td>\n",
       "      <td>488.0</td>\n",
       "      <td>12.0</td>\n",
       "      <td>-0.826767</td>\n",
       "      <td>71.0</td>\n",
       "      <td>1.0</td>\n",
       "      <td>0.0</td>\n",
       "      <td>0.0</td>\n",
       "    </tr>\n",
       "    <tr>\n",
       "      <th>2</th>\n",
       "      <td>400</td>\n",
       "      <td>504.0</td>\n",
       "      <td>721.0</td>\n",
       "      <td>427.0</td>\n",
       "      <td>64.0</td>\n",
       "      <td>147.0</td>\n",
       "      <td>104.0</td>\n",
       "      <td>88.0</td>\n",
       "      <td>75.0</td>\n",
       "      <td>115.0</td>\n",
       "      <td>195.0</td>\n",
       "      <td>67.0</td>\n",
       "      <td>474.0</td>\n",
       "      <td>6.0</td>\n",
       "      <td>0.086672</td>\n",
       "      <td>55.0</td>\n",
       "      <td>0.0</td>\n",
       "      <td>1.0</td>\n",
       "      <td>0.0</td>\n",
       "    </tr>\n",
       "    <tr>\n",
       "      <th>3</th>\n",
       "      <td>400</td>\n",
       "      <td>368.0</td>\n",
       "      <td>404.0</td>\n",
       "      <td>354.0</td>\n",
       "      <td>106.0</td>\n",
       "      <td>129.0</td>\n",
       "      <td>118.0</td>\n",
       "      <td>81.0</td>\n",
       "      <td>129.0</td>\n",
       "      <td>70.0</td>\n",
       "      <td>166.0</td>\n",
       "      <td>83.0</td>\n",
       "      <td>575.0</td>\n",
       "      <td>12.0</td>\n",
       "      <td>1.643440</td>\n",
       "      <td>41.0</td>\n",
       "      <td>0.0</td>\n",
       "      <td>0.0</td>\n",
       "      <td>1.0</td>\n",
       "    </tr>\n",
       "    <tr>\n",
       "      <th>4</th>\n",
       "      <td>500</td>\n",
       "      <td>471.0</td>\n",
       "      <td>645.0</td>\n",
       "      <td>521.0</td>\n",
       "      <td>143.0</td>\n",
       "      <td>124.0</td>\n",
       "      <td>94.0</td>\n",
       "      <td>105.0</td>\n",
       "      <td>71.0</td>\n",
       "      <td>113.0</td>\n",
       "      <td>191.0</td>\n",
       "      <td>69.0</td>\n",
       "      <td>585.0</td>\n",
       "      <td>10.0</td>\n",
       "      <td>-2.131418</td>\n",
       "      <td>0.0</td>\n",
       "      <td>0.0</td>\n",
       "      <td>1.0</td>\n",
       "      <td>0.0</td>\n",
       "    </tr>\n",
       "  </tbody>\n",
       "</table>\n",
       "</div>"
      ],
      "text/plain": [
       "   SERVICESET_FLUX  ONLINE_FLUX_THISMONTH  ONLINE_FLUX_LASTMONTH  \\\n",
       "0              700                  298.0                  441.0   \n",
       "1              500                  521.0                  382.0   \n",
       "2              400                  504.0                  721.0   \n",
       "3              400                  368.0                  404.0   \n",
       "4              500                  471.0                  645.0   \n",
       "\n",
       "   ONLINE_FLUX_TWOMONTHSAGO  ONLINE_DURATION_THISMONTH  \\\n",
       "0                     485.0                      151.0   \n",
       "1                     386.0                      128.0   \n",
       "2                     427.0                       64.0   \n",
       "3                     354.0                      106.0   \n",
       "4                     521.0                      143.0   \n",
       "\n",
       "   ONLINE_DURATION_LASTMONTH  ONLINE_DURATION_TWOMONTHSAGO  \\\n",
       "0                       74.0                         151.0   \n",
       "1                      122.0                         122.0   \n",
       "2                      147.0                         104.0   \n",
       "3                      129.0                         118.0   \n",
       "4                      124.0                          94.0   \n",
       "\n",
       "   CALL_DURATION_THISMONTH  CALL_DURATION_LASTMONTH  \\\n",
       "0                    102.0                    100.0   \n",
       "1                     68.0                     91.0   \n",
       "2                     88.0                     75.0   \n",
       "3                     81.0                    129.0   \n",
       "4                    105.0                     71.0   \n",
       "\n",
       "   CALL_DURATION_TWOMONTHSAGO  NET_DURATION  LAST_RECHARGE_VALUE  \\\n",
       "0                       127.0         206.0                 58.0   \n",
       "1                        91.0         189.0                  1.0   \n",
       "2                       115.0         195.0                 67.0   \n",
       "3                        70.0         166.0                 83.0   \n",
       "4                       113.0         191.0                 69.0   \n",
       "\n",
       "   TOTAL_RECHARGE_VALUE  TOTAL_RECHARGE_COUNT  TOTAL_OWE_COUNT  BALANCED   2G  \\\n",
       "0                 383.0                   4.0         1.240987      55.0  1.0   \n",
       "1                 488.0                  12.0        -0.826767      71.0  1.0   \n",
       "2                 474.0                   6.0         0.086672      55.0  0.0   \n",
       "3                 575.0                  12.0         1.643440      41.0  0.0   \n",
       "4                 585.0                  10.0        -2.131418       0.0  0.0   \n",
       "\n",
       "    3G   4G  \n",
       "0  0.0  0.0  \n",
       "1  0.0  0.0  \n",
       "2  1.0  0.0  \n",
       "3  0.0  1.0  \n",
       "4  1.0  0.0  "
      ]
     },
     "execution_count": 33,
     "metadata": {},
     "output_type": "execute_result"
    }
   ],
   "source": [
    "# 引入  sklearn.preprocessing类中的OneHotEncoder算法库\n",
    "from sklearn.preprocessing import OneHotEncoder\n",
    "\n",
    "#设计map函数\n",
    "def service_mapping(cell):\n",
    "    if cell=='2G':\n",
    "        return 2\n",
    "    elif cell=='3G':\n",
    "        return 3\n",
    "    elif cell=='4G':\n",
    "        return 4\n",
    "\n",
    "#将业务类型的string型值映射为整数型\n",
    "service_map = X['SERVICE'].map(service_mapping)\n",
    "\n",
    "#转换为dataframe\n",
    "service = pd.DataFrame(service_map)\n",
    "\n",
    "#生成用OncHotEncoder实例\n",
    "enc = OneHotEncoder()\n",
    "\n",
    "#使用OncHotEncoder转化类型特征为0/1编码的多维特征\n",
    "service_enc = enc.fit_transform(service).toarray()\n",
    "\n",
    "#提取0/1编码的多维特征的名称\n",
    "service_names = enc.active_features_.tolist()\n",
    "service_newname=[str(x)+'G' for x in service_names]\n",
    "\n",
    "#生成0-1编码的dataframe\n",
    "service_df = pd.DataFrame(service_enc,columns=service_newname)\n",
    "\n",
    "#将生成0-1编码的dataframe加入原有特征数据，生成新的特征数据矩阵X_enc \n",
    "X_enc = pd.concat([X,service_df],axis = 1).drop('SERVICE',axis=1)\n",
    "\n",
    "#显示前5行\n",
    "X_enc.head()"
   ]
  },
  {
   "cell_type": "markdown",
   "metadata": {},
   "source": [
    "### 数据标准化"
   ]
  },
  {
   "cell_type": "code",
   "execution_count": 34,
   "metadata": {},
   "outputs": [
    {
     "name": "stdout",
     "output_type": "stream",
     "text": [
      "[ 1.26476607e-16  1.58095759e-16 -8.38440428e-17  8.88178420e-17\n",
      " -2.41584530e-16 -2.70716782e-16  1.88293825e-16 -3.54205554e-16\n",
      " -2.43716158e-16 -3.24007488e-16 -7.81597009e-17 -8.17124146e-18\n",
      " -9.69890834e-17 -5.40012479e-17 -2.34479103e-17  6.28830321e-17\n",
      " -4.93827201e-17 -1.60760294e-17 -1.03028697e-17]\n",
      "[1. 1. 1. 1. 1. 1. 1. 1. 1. 1. 1. 1. 1. 1. 1. 1. 1. 1. 1.]\n"
     ]
    }
   ],
   "source": [
    "#引入 sklearn.preprocessing类的scale方法\n",
    "from sklearn.preprocessing import scale\n",
    "\n",
    "#对新的特征数据矩阵X_enc ，沿着行axis=0对数据做标准化处理,生成X_scaled\n",
    "X_scaled = scale(X_enc,axis =0)\n",
    "\n",
    "#打印标准化后的数据\n",
    "print(X_scaled.mean(axis=0))\n",
    "print(X_scaled.std(axis=0))"
   ]
  },
  {
   "cell_type": "markdown",
   "metadata": {},
   "source": [
    "### 分割数据集"
   ]
  },
  {
   "cell_type": "code",
   "execution_count": 35,
   "metadata": {},
   "outputs": [
    {
     "name": "stdout",
     "output_type": "stream",
     "text": [
      "The shape of X_train is (8000, 19)\n",
      "The shape of X_test is (2000, 19)\n"
     ]
    }
   ],
   "source": [
    "# 引入sklearn.model_selection的方法train_test_split\n",
    "from sklearn.model_selection import train_test_split\n",
    "\n",
    "#按照0.8:0.2的比例，分割训练集和测试集：X_train,X_test,y_train,y_test\n",
    "X_train,X_test,y_train,y_test = train_test_split(X_scaled,y,test_size = 0.2, \n",
    "                                                 random_state=112)\n",
    "\n",
    "#打印分割后的训练集和测试集：X_train,X_test的形状\n",
    "print('The shape of X_train is {0}'.format(X_train.shape))\n",
    "print('The shape of X_test is {0}'.format(X_test.shape))"
   ]
  },
  {
   "cell_type": "markdown",
   "metadata": {},
   "source": [
    "### 训练简单模型: 线性回归模型"
   ]
  },
  {
   "cell_type": "code",
   "execution_count": 36,
   "metadata": {},
   "outputs": [],
   "source": [
    "# 引入sklearn的线性回归算法库：linear_model\n",
    "from sklearn import linear_model\n",
    "\n",
    "# 使用LinearRegression()模型，进行实例化\n",
    "linear_reg =linear_model.LinearRegression()\n",
    "\n",
    "#该实例在训练集上训练模型\n",
    "#使用.fit()方法\n",
    "linear_reg.fit(X_train,y_train)\n",
    "\n",
    "#训练好的模型在测试集上预测\n",
    "#使用.predict()方法\n",
    "y_pred_01 = linear_reg.predict(X_test)"
   ]
  },
  {
   "cell_type": "markdown",
   "metadata": {},
   "source": [
    "### 线性回归模型评估模型"
   ]
  },
  {
   "cell_type": "code",
   "execution_count": 37,
   "metadata": {},
   "outputs": [
    {
     "name": "stdout",
     "output_type": "stream",
     "text": [
      "Model Evaluating as follows:\n",
      "Coefficients: \n",
      " [ 7.67236795e+01  7.91049909e+01  6.02976658e+01  5.76022193e+01\n",
      "  3.93120315e+01  3.56950577e+01  3.42793723e+01  1.81484424e+01\n",
      "  5.13677453e+00  1.07864431e+00 -1.18651579e+00  1.18647723e-01\n",
      "  4.07897044e-01 -3.54118403e-02 -2.18652816e-01  3.23239055e-01\n",
      "  1.97678099e+14  1.97257940e+14  1.96163158e+14]\n",
      "Mean squared error: 3115.70\n",
      "Variance score: 0.88\n"
     ]
    },
    {
     "data": {
      "image/png": "[encoded data removed]",
      "text/plain": [
       "<Figure size 432x288 with 1 Axes>"
      ]
     },
     "metadata": {},
     "output_type": "display_data"
    }
   ],
   "source": [
    "#引入sklearn类中的 metrics测度类\n",
    "from sklearn import metrics\n",
    "\n",
    "#设计评估模型函数\n",
    "def evaluate_model(model,test,pred):\n",
    "    print('Model Evaluating as follows:')\n",
    "    # 打印线性模型的系数：The coefficients\n",
    "    print('Coefficients: \\n', model.coef_)\n",
    "    # 打印线性模型预测的均方差：The mean squared error\n",
    "    print(\"Mean squared error: %.2f\"%metrics.mean_squared_error(test,pred))\n",
    "    \n",
    "    #打印线性模型预测的R2：\n",
    "    # Explained variance score: 1 is perfect prediction\n",
    "    print('Variance score: %.2f' % metrics.r2_score(test,pred))\n",
    "    \n",
    "    #输出预测值和实际值的散点图\n",
    "    plt.scatter(pred,test)\n",
    "    plt.xlabel('y_pred')\n",
    "    plt.ylabel('y_test')\n",
    "    plt.show()\n",
    "\n",
    "evaluate_model(linear_reg,y_test,y_pred_01)"
   ]
  },
  {
   "cell_type": "markdown",
   "metadata": {},
   "source": [
    "然而，对于普通最小二乘的系数估计问题，其依赖于模型各项的相互独立性。当各项是相关的，且设计矩阵 X 的各列近似线性相关，那么，设计矩阵会趋向于奇异矩阵，这会导致最小二乘估计对于随机误差非常敏感，产生很大的方差。  \n",
    "例如，在没有实验设计的情况下收集到的数据，这种多重共线性（multicollinearity）的情况可能真的会出现。"
   ]
  },
  {
   "cell_type": "markdown",
   "metadata": {},
   "source": [
    "## 岭回归\n",
    "Ridge 回归通过对系数的大小施加惩罚来解决 普通最小二乘法 的一些问题。 岭系数最小化的是带罚项的残差平方和 \n",
    "\n",
    "  $min\\{||y-X\\beta||_2+\\alpha ||w||_2^2\\}$"
   ]
  },
  {
   "cell_type": "markdown",
   "metadata": {},
   "source": [
    "### 训练简单ridge模型"
   ]
  },
  {
   "cell_type": "code",
   "execution_count": 38,
   "metadata": {},
   "outputs": [
    {
     "name": "stdout",
     "output_type": "stream",
     "text": [
      "Model Evaluating as follows:\n",
      "Coefficients: \n",
      " [ 7.67306611e+01  7.90642784e+01  6.03399843e+01  5.76017493e+01\n",
      "  3.93143049e+01  3.56872055e+01  3.42854553e+01  1.81786342e+01\n",
      "  5.12712087e+00  1.08571893e+00 -1.18710615e+00  1.08628447e-01\n",
      "  4.16923844e-01 -5.23501120e-02 -2.23808696e-01  3.28385709e-01\n",
      "  4.17460964e-01 -7.34610009e-02 -3.46813972e-01]\n",
      "Mean squared error: 3115.60\n",
      "Variance score: 0.88\n"
     ]
    },
    {
     "data": {
      "image/png": "[encoded data removed]",
      "text/plain": [
       "<Figure size 432x288 with 1 Axes>"
      ]
     },
     "metadata": {},
     "output_type": "display_data"
    }
   ],
   "source": [
    "#使用linear_model.Ridge()方法，生成设置 alpha= 0.1 的ridge regression的实例：\n",
    "ridge = linear_model.Ridge(alpha =0.1)\n",
    "\n",
    "#在训练集上训练\n",
    "ridge.fit(X_train,y_train)\n",
    "\n",
    "#在测试集上预测\n",
    "y_pred02 = ridge.predict(X_test)\n",
    "\n",
    "#模型评估\n",
    "evaluate_model(ridge,y_test,y_pred02)"
   ]
  },
  {
   "cell_type": "markdown",
   "metadata": {},
   "source": [
    "### 交叉验证：选择Ridge回归超参数α\n",
    "RidgeCV 通过内置的 Alpha 参数的交叉验证来实现岭回归。 该对象与 GridSearchCV 的使用方法相同，只是它默认为 Generalized Cross-Validation(广义交叉验证 GCV)，这是一种有效的留一验证方法（LOO-CV）:\n"
   ]
  },
  {
   "cell_type": "code",
   "execution_count": 39,
   "metadata": {},
   "outputs": [
    {
     "name": "stdout",
     "output_type": "stream",
     "text": [
      "0.5623413251903491\n",
      "Model Evaluating as follows:\n",
      "Coefficients: \n",
      " [ 7.67263086e+01  7.90596516e+01  6.03363621e+01  5.75985286e+01\n",
      "  3.93121447e+01  3.56850439e+01  3.42833040e+01  1.81774269e+01\n",
      "  5.12685111e+00  1.08546986e+00 -1.18690657e+00  1.08778654e-01\n",
      "  4.16795528e-01 -5.22649486e-02 -2.23786953e-01  3.28402706e-01\n",
      "  4.17426872e-01 -7.33871619e-02 -3.46853868e-01]\n",
      "Mean squared error: 3115.61\n",
      "Variance score: 0.88\n"
     ]
    },
    {
     "data": {
      "image/png": "[encoded data removed]",
      "text/plain": [
       "<Figure size 432x288 with 1 Axes>"
      ]
     },
     "metadata": {},
     "output_type": "display_data"
    }
   ],
   "source": [
    "#设置alpha范围：10^-10 - 10^3 (该范围需要根据实际数据情况不断调整)\n",
    "# 使用np.logspace()方法\n",
    "alphas= np.logspace(-10,3,13)\n",
    "\n",
    "#创建RidgeCV实例\n",
    "#参数可以设置为cv=10,scoring='neg_mean_squared_error'\n",
    "\n",
    "ridgeCV = linear_model.RidgeCV(alphas=alphas,cv=10,\n",
    "                               scoring='neg_mean_squared_error')\n",
    "\n",
    "#在训练样本上训练模型\n",
    "ridgeCV.fit(X_train,y_train)\n",
    "\n",
    "#得到最优的超参appha\n",
    "#使用ridgeCV实例的.alpha属性\n",
    "print(ridgeCV.alpha_)\n",
    "\n",
    "#评估模型\n",
    "evaluate_model(ridgeCV,y_test,ridgeCV.predict(X_test))"
   ]
  },
  {
   "cell_type": "markdown",
   "metadata": {},
   "source": [
    "## Lasso\n",
    "The Lasso 是估计稀疏系数的线性模型。 它在一些情况下是有用的，因为它倾向于使用具有较少参数值的情况，有效地减少给定解决方案所依赖变量的数量。 因此，Lasso 及其变体是压缩感知领域的基础。 在一定条件下，它可以恢复一组非零权重的精确集（见 Compressive sensing: tomography reconstruction with L1 prior (Lasso) ）"
   ]
  },
  {
   "cell_type": "markdown",
   "metadata": {},
   "source": [
    "### 生成简单Lasso模型"
   ]
  },
  {
   "cell_type": "code",
   "execution_count": 40,
   "metadata": {},
   "outputs": [
    {
     "name": "stdout",
     "output_type": "stream",
     "text": [
      "Model Evaluating as follows:\n",
      "Coefficients: \n",
      " [66.62629387 68.79163586 49.87689187 47.91839048 29.63603084 25.46432564\n",
      " 23.91314098  7.94697561  0.          0.         -0.          0.\n",
      "  0.          0.         -0.          0.          0.          0.\n",
      " -0.        ]\n",
      "Mean squared error: 4021.86\n",
      "Variance score: 0.85\n"
     ]
    },
    {
     "data": {
      "image/png": "[encoded data removed]",
      "text/plain": [
       "<Figure size 432x288 with 1 Axes>"
      ]
     },
     "metadata": {},
     "output_type": "display_data"
    }
   ],
   "source": [
    "#使用linear_model.Lasso（）方法，生成设置 alpha= 10 的lasso regression的实例：\n",
    "lasso = linear_model.Lasso(alpha =10)\n",
    "\n",
    "#在训练集上训练\n",
    "lasso.fit(X_train,y_train)\n",
    "\n",
    "#在测试集上预测\n",
    "y_pred03 = lasso.predict(X_test)\n",
    "\n",
    "#模型评估\n",
    "evaluate_model(lasso,y_test,y_pred03)"
   ]
  },
  {
   "cell_type": "markdown",
   "metadata": {},
   "source": [
    "### 交叉验证：选择Lasso回归超参数α"
   ]
  },
  {
   "cell_type": "code",
   "execution_count": 41,
   "metadata": {
    "scrolled": true
   },
   "outputs": [
    {
     "name": "stdout",
     "output_type": "stream",
     "text": [
      "0.18329807108324336\n",
      "Model Evaluating as follows:\n",
      "Coefficients: \n",
      " [ 7.65448873e+01  7.88800330e+01  6.01460594e+01  5.74181239e+01\n",
      "  3.91407073e+01  3.54964108e+01  3.40881430e+01  1.79863268e+01\n",
      "  4.95142405e+00  8.80947564e-01 -9.82455233e-01  0.00000000e+00\n",
      "  2.27396412e-01 -0.00000000e+00 -3.55252644e-02  1.39471805e-01\n",
      "  3.53451965e-01 -0.00000000e+00 -1.68581012e-01]\n",
      "Mean squared error: 3115.71\n",
      "Variance score: 0.88\n"
     ]
    },
    {
     "data": {
      "image/png": "[encoded data removed]",
      "text/plain": [
       "<Figure size 432x288 with 1 Axes>"
      ]
     },
     "metadata": {},
     "output_type": "display_data"
    }
   ],
   "source": [
    "#设置alpha范围：10^-5 - 10^4 (该范围需要根据实际数据情况不断调整)\n",
    "alphas = np.logspace(-5,4,20)\n",
    "\n",
    "#创建 LassoCV 实例\n",
    "#使用linear_model.LassoCV()方法，由于alpha值很小的时候，保证算法收敛，需要增大迭代次数：max_iter=10000\n",
    "lassoCV = linear_model.LassoCV(alphas = alphas,max_iter=10000)\n",
    "\n",
    "#在训练样本上做CV\n",
    "lassoCV.fit(X_train,y_train)\n",
    "\n",
    "#得到最优的超参appha\n",
    "#使用lassoCV的.alpha属性\n",
    "print(lassoCV.alpha_)\n",
    "\n",
    "#模型评估\n",
    "evaluate_model(lassoCV,y_test,lassoCV.predict(X_test))"
   ]
  },
  {
   "cell_type": "markdown",
   "metadata": {},
   "source": [
    "### α 和θ的关系\n",
    "超参$\\alpha$与回归系数θ的关系：α越大，那么正则项惩罚的就越厉害，得到回归系数θ就越小，最终趋近与0。而如果α越小，即正则化项越小，那么回归系数θ就越来越接近于普通的线性回归系数。"
   ]
  },
  {
   "cell_type": "code",
   "execution_count": 42,
   "metadata": {},
   "outputs": [
    {
     "data": {
      "image/png": "[encoded data removed]",
      "text/plain": [
       "<Figure size 432x288 with 1 Axes>"
      ]
     },
     "metadata": {},
     "output_type": "display_data"
    }
   ],
   "source": [
    "#设置alpha取值的个数\n",
    "n_alphas = 200\n",
    "# alphas count is 200, 都在10的-10次方和10的-2次方之间\n",
    "alphas = np.logspace(-2, 4, n_alphas)\n",
    "\n",
    "# 有了这200个超参数α，我们做200次循环，分别求出各个超参数对应的θ(10个维度)，存起来后面画图用\n",
    "Lasso = linear_model.Lasso(fit_intercept=False,max_iter=100000)\n",
    "coefs = []\n",
    "# 循环200次\n",
    "for a in alphas:\n",
    "    #设置本次循环的超参数\n",
    "    Lasso.set_params(alpha=a)\n",
    "    #针对每个alpha做 Lasso或者 ridge回归\n",
    "    Lasso.fit(X_train, y_train)\n",
    "    # 把每一个超参数alpha对应的theta存下来\n",
    "    coefs.append(Lasso.coef_)\n",
    "\n",
    "# 有了200个超参数α，以及对应的θ，我们可以画图了。\n",
    "ax = plt.gca()\n",
    "# 我们的图是以alphas为x轴，20个维度为y轴画的。\n",
    "ax.plot(alphas, coefs)\n",
    "#将alpha的值取对数便于画图\n",
    "ax.set_xscale('log')\n",
    "#翻转x轴的大小方向，让alpha从大到小显示\n",
    "ax.set_xlim(ax.get_xlim()[::-1]) \n",
    "\n",
    "plt.xlabel('alpha')\n",
    "plt.ylabel('weights')\n",
    "plt.title('Lasso coefficients as a function of the regularization')\n",
    "plt.axis('tight')\n",
    "plt.show()"
   ]
  }
 ],
 "metadata": {
  "kernelspec": {
   "display_name": "Python 3",
   "language": "python",
   "name": "python3"
  },
  "language_info": {
   "codemirror_mode": {
    "name": "ipython",
    "version": 3
   },
   "file_extension": ".py",
   "mimetype": "text/x-python",
   "name": "python",
   "nbconvert_exporter": "python",
   "pygments_lexer": "ipython3",
   "version": "3.6.4"
  }
 },
 "nbformat": 4,
 "nbformat_minor": 2
}
