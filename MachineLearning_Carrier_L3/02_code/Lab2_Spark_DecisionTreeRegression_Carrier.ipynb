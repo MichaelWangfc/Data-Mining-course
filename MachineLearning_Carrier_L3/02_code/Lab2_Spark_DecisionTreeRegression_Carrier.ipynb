{
 "cells": [
  {
   "cell_type": "markdown",
   "metadata": {},
   "source": [
    "## 业务场景"
   ]
  },
  {
   "cell_type": "markdown",
   "metadata": {},
   "source": [
    "通过用户过去三个月的消费信息（流量，上网时长，通话时长，缴费金额等），预测用户下月流量，从而实现相应流量业务的精准推荐。\n"
   ]
  },
  {
   "cell_type": "markdown",
   "metadata": {},
   "source": [
    "## 字段信息：\n",
    "名称       | 说明   | 类型  |\n",
    "--------------|---------|--------|-----\n",
    "USER_ID     |用户标识 | INT   |\n",
    "SERVICESET_FLUX| 套餐内流量（M)\t| DOUBEL\n",
    "ONLINE_FLUX_THISMONTH|当月流量|\n",
    "ONLINE_FLUX_LASTMONTH|上个月流量|   \n",
    "ONLINE_FLUX_TWOMONTHSAGO|上上个月前流量|\n",
    "ONLINE_DURATION_THISMONTH|当月上网时长|\n",
    "ONLINE_DURATION_LASTMONTH|上个月上网时长（分）|\n",
    "ONLINE_DURATION_TWOMONTHSAGO|上个月上网时长（分）|\n",
    "CALL_DURATION_THISMONTH|当月通话时长（分）|\n",
    "CALL_DURATION_LASTMONTH|上个月通话时长（分）|\n",
    "CALL_DURATION_TWOMONTHSAGO|上个月通话时长（分）|\n",
    "NET_DURATION |入网时长（天） |LONG\n",
    "LAST_RECHARGE_VALUE|最近一次缴费金额（元）\n",
    "TOTAL_RECHARGE_VALUE|近三个月缴费金额(元)|\n",
    "TOTAL_RECHARGE_COUNT|近三个月缴费次数|\n",
    "TOTAL_OWE_COUNT|近三个月欠费次数（次）\t|INT\n",
    "BALANCED |余额| double\n",
    "ONLINE_FLUX_NEXTMONTH|下个月流量|\n",
    "\n",
    "\n"
   ]
  },
  {
   "cell_type": "code",
   "execution_count": 1,
   "metadata": {},
   "outputs": [],
   "source": [
    "#导入常用的库\n",
    "# numpy: python中常用的多维数值计算库，常用简称 np\n",
    "# pandas:python中的数据分析库，常用简称 pd\n",
    "# matplotlib :python中的图形库，常用简称plt\n",
    "# %matplotlib inline：IPython魔法函数（Magic Functions），可以内嵌绘图，并且可以省略掉plt.show()这一步\n",
    "\n",
    "#约4行代码\n",
    "import numpy as np\n",
    "import pandas as pd\n",
    "import matplotlib.pyplot as plt\n",
    "%matplotlib inline"
   ]
  },
  {
   "cell_type": "markdown",
   "metadata": {},
   "source": [
    "### 读取数据"
   ]
  },
  {
   "cell_type": "code",
   "execution_count": 2,
   "metadata": {},
   "outputs": [
    {
     "data": {
      "text/html": [
       "<div>\n",
       "<style scoped>\n",
       "    .dataframe tbody tr th:only-of-type {\n",
       "        vertical-align: middle;\n",
       "    }\n",
       "\n",
       "    .dataframe tbody tr th {\n",
       "        vertical-align: top;\n",
       "    }\n",
       "\n",
       "    .dataframe thead th {\n",
       "        text-align: right;\n",
       "    }\n",
       "</style>\n",
       "<table border=\"1\" class=\"dataframe\">\n",
       "  <thead>\n",
       "    <tr style=\"text-align: right;\">\n",
       "      <th></th>\n",
       "      <th>USER_ID</th>\n",
       "      <th>SERVICE</th>\n",
       "      <th>SERVICESET_FLUX</th>\n",
       "      <th>ONLINE_FLUX_THISMONTH</th>\n",
       "      <th>ONLINE_FLUX_LASTMONTH</th>\n",
       "      <th>ONLINE_FLUX_TWOMONTHSAGO</th>\n",
       "      <th>ONLINE_DURATION_THISMONTH</th>\n",
       "      <th>ONLINE_DURATION_LASTMONTH</th>\n",
       "      <th>ONLINE_DURATION_TWOMONTHSAGO</th>\n",
       "      <th>CALL_DURATION_THISMONTH</th>\n",
       "      <th>CALL_DURATION_LASTMONTH</th>\n",
       "      <th>CALL_DURATION_TWOMONTHSAGO</th>\n",
       "      <th>NET_DURATION</th>\n",
       "      <th>LAST_RECHARGE_VALUE</th>\n",
       "      <th>TOTAL_RECHARGE_VALUE</th>\n",
       "      <th>TOTAL_RECHARGE_COUNT</th>\n",
       "      <th>TOTAL_OWE_COUNT</th>\n",
       "      <th>BALANCED</th>\n",
       "      <th>ONLINE_FLUX_NEXTMONTH</th>\n",
       "    </tr>\n",
       "  </thead>\n",
       "  <tbody>\n",
       "    <tr>\n",
       "      <th>0</th>\n",
       "      <td>78002</td>\n",
       "      <td>2G</td>\n",
       "      <td>700</td>\n",
       "      <td>298.0</td>\n",
       "      <td>441.0</td>\n",
       "      <td>485.0</td>\n",
       "      <td>151.0</td>\n",
       "      <td>74.0</td>\n",
       "      <td>151.0</td>\n",
       "      <td>102.0</td>\n",
       "      <td>100.0</td>\n",
       "      <td>127.0</td>\n",
       "      <td>206.0</td>\n",
       "      <td>58.0</td>\n",
       "      <td>383.0</td>\n",
       "      <td>4.0</td>\n",
       "      <td>1.240987</td>\n",
       "      <td>55.0</td>\n",
       "      <td>1254.0</td>\n",
       "    </tr>\n",
       "    <tr>\n",
       "      <th>1</th>\n",
       "      <td>67208</td>\n",
       "      <td>2G</td>\n",
       "      <td>500</td>\n",
       "      <td>521.0</td>\n",
       "      <td>382.0</td>\n",
       "      <td>386.0</td>\n",
       "      <td>128.0</td>\n",
       "      <td>122.0</td>\n",
       "      <td>122.0</td>\n",
       "      <td>68.0</td>\n",
       "      <td>91.0</td>\n",
       "      <td>91.0</td>\n",
       "      <td>189.0</td>\n",
       "      <td>1.0</td>\n",
       "      <td>488.0</td>\n",
       "      <td>12.0</td>\n",
       "      <td>-0.826767</td>\n",
       "      <td>71.0</td>\n",
       "      <td>1121.0</td>\n",
       "    </tr>\n",
       "    <tr>\n",
       "      <th>2</th>\n",
       "      <td>54739</td>\n",
       "      <td>3G</td>\n",
       "      <td>400</td>\n",
       "      <td>504.0</td>\n",
       "      <td>721.0</td>\n",
       "      <td>427.0</td>\n",
       "      <td>64.0</td>\n",
       "      <td>147.0</td>\n",
       "      <td>104.0</td>\n",
       "      <td>88.0</td>\n",
       "      <td>75.0</td>\n",
       "      <td>115.0</td>\n",
       "      <td>195.0</td>\n",
       "      <td>67.0</td>\n",
       "      <td>474.0</td>\n",
       "      <td>6.0</td>\n",
       "      <td>0.086672</td>\n",
       "      <td>55.0</td>\n",
       "      <td>1132.0</td>\n",
       "    </tr>\n",
       "    <tr>\n",
       "      <th>3</th>\n",
       "      <td>60265</td>\n",
       "      <td>4G</td>\n",
       "      <td>400</td>\n",
       "      <td>368.0</td>\n",
       "      <td>404.0</td>\n",
       "      <td>354.0</td>\n",
       "      <td>106.0</td>\n",
       "      <td>129.0</td>\n",
       "      <td>118.0</td>\n",
       "      <td>81.0</td>\n",
       "      <td>129.0</td>\n",
       "      <td>70.0</td>\n",
       "      <td>166.0</td>\n",
       "      <td>83.0</td>\n",
       "      <td>575.0</td>\n",
       "      <td>12.0</td>\n",
       "      <td>1.643440</td>\n",
       "      <td>41.0</td>\n",
       "      <td>971.0</td>\n",
       "    </tr>\n",
       "    <tr>\n",
       "      <th>4</th>\n",
       "      <td>33085</td>\n",
       "      <td>3G</td>\n",
       "      <td>500</td>\n",
       "      <td>471.0</td>\n",
       "      <td>645.0</td>\n",
       "      <td>521.0</td>\n",
       "      <td>143.0</td>\n",
       "      <td>124.0</td>\n",
       "      <td>94.0</td>\n",
       "      <td>105.0</td>\n",
       "      <td>71.0</td>\n",
       "      <td>113.0</td>\n",
       "      <td>191.0</td>\n",
       "      <td>69.0</td>\n",
       "      <td>585.0</td>\n",
       "      <td>10.0</td>\n",
       "      <td>-2.131418</td>\n",
       "      <td>0.0</td>\n",
       "      <td>1262.0</td>\n",
       "    </tr>\n",
       "  </tbody>\n",
       "</table>\n",
       "</div>"
      ],
      "text/plain": [
       "   USER_ID SERVICE  SERVICESET_FLUX  ONLINE_FLUX_THISMONTH  \\\n",
       "0    78002      2G              700                  298.0   \n",
       "1    67208      2G              500                  521.0   \n",
       "2    54739      3G              400                  504.0   \n",
       "3    60265      4G              400                  368.0   \n",
       "4    33085      3G              500                  471.0   \n",
       "\n",
       "   ONLINE_FLUX_LASTMONTH  ONLINE_FLUX_TWOMONTHSAGO  ONLINE_DURATION_THISMONTH  \\\n",
       "0                  441.0                     485.0                      151.0   \n",
       "1                  382.0                     386.0                      128.0   \n",
       "2                  721.0                     427.0                       64.0   \n",
       "3                  404.0                     354.0                      106.0   \n",
       "4                  645.0                     521.0                      143.0   \n",
       "\n",
       "   ONLINE_DURATION_LASTMONTH  ONLINE_DURATION_TWOMONTHSAGO  \\\n",
       "0                       74.0                         151.0   \n",
       "1                      122.0                         122.0   \n",
       "2                      147.0                         104.0   \n",
       "3                      129.0                         118.0   \n",
       "4                      124.0                          94.0   \n",
       "\n",
       "   CALL_DURATION_THISMONTH  CALL_DURATION_LASTMONTH  \\\n",
       "0                    102.0                    100.0   \n",
       "1                     68.0                     91.0   \n",
       "2                     88.0                     75.0   \n",
       "3                     81.0                    129.0   \n",
       "4                    105.0                     71.0   \n",
       "\n",
       "   CALL_DURATION_TWOMONTHSAGO  NET_DURATION  LAST_RECHARGE_VALUE  \\\n",
       "0                       127.0         206.0                 58.0   \n",
       "1                        91.0         189.0                  1.0   \n",
       "2                       115.0         195.0                 67.0   \n",
       "3                        70.0         166.0                 83.0   \n",
       "4                       113.0         191.0                 69.0   \n",
       "\n",
       "   TOTAL_RECHARGE_VALUE  TOTAL_RECHARGE_COUNT  TOTAL_OWE_COUNT  BALANCED  \\\n",
       "0                 383.0                   4.0         1.240987      55.0   \n",
       "1                 488.0                  12.0        -0.826767      71.0   \n",
       "2                 474.0                   6.0         0.086672      55.0   \n",
       "3                 575.0                  12.0         1.643440      41.0   \n",
       "4                 585.0                  10.0        -2.131418       0.0   \n",
       "\n",
       "   ONLINE_FLUX_NEXTMONTH  \n",
       "0                 1254.0  \n",
       "1                 1121.0  \n",
       "2                 1132.0  \n",
       "3                  971.0  \n",
       "4                 1262.0  "
      ]
     },
     "execution_count": 2,
     "metadata": {},
     "output_type": "execute_result"
    }
   ],
   "source": [
    "#使用pandas的读取csv文件的函数 pd.read_csv(),生成数据的dataframe\n",
    "#数据文件名：carrier_linearRegeression.csv\n",
    "#编码格式：utf8\n",
    "#分隔符： 逗号\n",
    "#约1行代码\n",
    "data_pd = pd.read_csv('carrier_linearRegeression.csv',encoding='utf8')\n",
    "\n",
    "#显示前5行\n",
    "#约1行代码\n",
    "data_pd.head()"
   ]
  },
  {
   "cell_type": "code",
   "execution_count": 3,
   "metadata": {},
   "outputs": [],
   "source": [
    "# 引入Python中pyspark工作模块\n",
    "import pyspark\n",
    "from pyspark import SparkContext, SparkConf\n",
    "\n",
    "#创建SparkSession对象，spark API的起始点\n",
    "from pyspark.sql import SparkSession"
   ]
  },
  {
   "cell_type": "code",
   "execution_count": 4,
   "metadata": {},
   "outputs": [],
   "source": [
    "conf=SparkConf().setAppName(\"Lab2_Spark_DecisionTreeRegression_Carrier\").setMaster(\"local[*]\")\n",
    "\n",
    "sc=SparkContext.getOrCreate(conf)\n",
    "\n",
    "#创建SparkSession\n",
    "spark = SparkSession\\\n",
    "    .builder.getOrCreate()\\"
   ]
  },
  {
   "cell_type": "code",
   "execution_count": 5,
   "metadata": {},
   "outputs": [
    {
     "name": "stdout",
     "output_type": "stream",
     "text": [
      "DataFrame[USER_ID: bigint, SERVICE: string, SERVICESET_FLUX: bigint, ONLINE_FLUX_THISMONTH: double, ONLINE_FLUX_LASTMONTH: double, ONLINE_FLUX_TWOMONTHSAGO: double, ONLINE_DURATION_THISMONTH: double, ONLINE_DURATION_LASTMONTH: double, ONLINE_DURATION_TWOMONTHSAGO: double, CALL_DURATION_THISMONTH: double, CALL_DURATION_LASTMONTH: double, CALL_DURATION_TWOMONTHSAGO: double, NET_DURATION: double, LAST_RECHARGE_VALUE: double, TOTAL_RECHARGE_VALUE: double, TOTAL_RECHARGE_COUNT: double, TOTAL_OWE_COUNT: double, BALANCED: double, ONLINE_FLUX_NEXTMONTH: double]\n",
      "+-------+-------+---------------+---------------------+---------------------+------------------------+-------------------------+-------------------------+----------------------------+-----------------------+-----------------------+--------------------------+------------+-------------------+--------------------+--------------------+-------------------+--------+---------------------+\n",
      "|USER_ID|SERVICE|SERVICESET_FLUX|ONLINE_FLUX_THISMONTH|ONLINE_FLUX_LASTMONTH|ONLINE_FLUX_TWOMONTHSAGO|ONLINE_DURATION_THISMONTH|ONLINE_DURATION_LASTMONTH|ONLINE_DURATION_TWOMONTHSAGO|CALL_DURATION_THISMONTH|CALL_DURATION_LASTMONTH|CALL_DURATION_TWOMONTHSAGO|NET_DURATION|LAST_RECHARGE_VALUE|TOTAL_RECHARGE_VALUE|TOTAL_RECHARGE_COUNT|    TOTAL_OWE_COUNT|BALANCED|ONLINE_FLUX_NEXTMONTH|\n",
      "+-------+-------+---------------+---------------------+---------------------+------------------------+-------------------------+-------------------------+----------------------------+-----------------------+-----------------------+--------------------------+------------+-------------------+--------------------+--------------------+-------------------+--------+---------------------+\n",
      "|  78002|     2G|            700|                298.0|                441.0|                   485.0|                    151.0|                     74.0|                       151.0|                  102.0|                  100.0|                     127.0|       206.0|               58.0|               383.0|                 4.0| 1.2409866131639042|    55.0|               1254.0|\n",
      "|  67208|     2G|            500|                521.0|                382.0|                   386.0|                    128.0|                    122.0|                       122.0|                   68.0|                   91.0|                      91.0|       189.0|                1.0|               488.0|                12.0|-0.8267668961226358|    71.0|               1121.0|\n",
      "+-------+-------+---------------+---------------------+---------------------+------------------------+-------------------------+-------------------------+----------------------------+-----------------------+-----------------------+--------------------------+------------+-------------------+--------------------+--------------------+-------------------+--------+---------------------+\n",
      "only showing top 2 rows\n",
      "\n"
     ]
    }
   ],
   "source": [
    "data_df = spark.createDataFrame(data_pd)\n",
    "print(data_df)\n",
    "data_df.show(2)"
   ]
  },
  {
   "cell_type": "code",
   "execution_count": null,
   "metadata": {},
   "outputs": [],
   "source": []
  },
  {
   "cell_type": "markdown",
   "metadata": {},
   "source": [
    "### 数据探索"
   ]
  },
  {
   "cell_type": "code",
   "execution_count": 6,
   "metadata": {},
   "outputs": [
    {
     "name": "stdout",
     "output_type": "stream",
     "text": [
      "10000\n",
      "['USER_ID', 'SERVICE', 'SERVICESET_FLUX', 'ONLINE_FLUX_THISMONTH', 'ONLINE_FLUX_LASTMONTH', 'ONLINE_FLUX_TWOMONTHSAGO', 'ONLINE_DURATION_THISMONTH', 'ONLINE_DURATION_LASTMONTH', 'ONLINE_DURATION_TWOMONTHSAGO', 'CALL_DURATION_THISMONTH', 'CALL_DURATION_LASTMONTH', 'CALL_DURATION_TWOMONTHSAGO', 'NET_DURATION', 'LAST_RECHARGE_VALUE', 'TOTAL_RECHARGE_VALUE', 'TOTAL_RECHARGE_COUNT', 'TOTAL_OWE_COUNT', 'BALANCED', 'ONLINE_FLUX_NEXTMONTH']\n"
     ]
    }
   ],
   "source": [
    "print(data_df.count())\n",
    "print(data_df.columns)"
   ]
  },
  {
   "cell_type": "code",
   "execution_count": 7,
   "metadata": {},
   "outputs": [],
   "source": [
    "from pyspark.ml import Pipeline\n",
    "from pyspark.ml.regression import DecisionTreeRegressor\n",
    "from pyspark.ml.feature import VectorIndexer\n",
    "from pyspark.ml.evaluation import RegressionEvaluator"
   ]
  },
  {
   "cell_type": "markdown",
   "metadata": {},
   "source": [
    "### 类别特征编码\n",
    "将SERVICE类型变量转化为0-1编码的格式，从而可以进行数值计算"
   ]
  },
  {
   "cell_type": "code",
   "execution_count": 34,
   "metadata": {},
   "outputs": [
    {
     "name": "stdout",
     "output_type": "stream",
     "text": [
      "+-------+-------+---------------+---------------------+---------------------+------------------------+-------------------------+-------------------------+----------------------------+-----------------------+-----------------------+--------------------------+------------+-------------------+--------------------+--------------------+-------------------+--------+---------------------+-------------+-------------------+\n",
      "|USER_ID|SERVICE|SERVICESET_FLUX|ONLINE_FLUX_THISMONTH|ONLINE_FLUX_LASTMONTH|ONLINE_FLUX_TWOMONTHSAGO|ONLINE_DURATION_THISMONTH|ONLINE_DURATION_LASTMONTH|ONLINE_DURATION_TWOMONTHSAGO|CALL_DURATION_THISMONTH|CALL_DURATION_LASTMONTH|CALL_DURATION_TWOMONTHSAGO|NET_DURATION|LAST_RECHARGE_VALUE|TOTAL_RECHARGE_VALUE|TOTAL_RECHARGE_COUNT|    TOTAL_OWE_COUNT|BALANCED|ONLINE_FLUX_NEXTMONTH|categoryIndex|SERVICE_categoryVec|\n",
      "+-------+-------+---------------+---------------------+---------------------+------------------------+-------------------------+-------------------------+----------------------------+-----------------------+-----------------------+--------------------------+------------+-------------------+--------------------+--------------------+-------------------+--------+---------------------+-------------+-------------------+\n",
      "|  78002|     2G|            700|                298.0|                441.0|                   485.0|                    151.0|                     74.0|                       151.0|                  102.0|                  100.0|                     127.0|       206.0|               58.0|               383.0|                 4.0| 1.2409866131639042|    55.0|               1254.0|          0.0|      (2,[0],[1.0])|\n",
      "|  67208|     2G|            500|                521.0|                382.0|                   386.0|                    128.0|                    122.0|                       122.0|                   68.0|                   91.0|                      91.0|       189.0|                1.0|               488.0|                12.0|-0.8267668961226358|    71.0|               1121.0|          0.0|      (2,[0],[1.0])|\n",
      "+-------+-------+---------------+---------------------+---------------------+------------------------+-------------------------+-------------------------+----------------------------+-----------------------+-----------------------+--------------------------+------------+-------------------+--------------------+--------------------+-------------------+--------+---------------------+-------------+-------------------+\n",
      "only showing top 2 rows\n",
      "\n"
     ]
    }
   ],
   "source": [
    "from pyspark.ml.feature import OneHotEncoder, StringIndexer\n",
    "stringIndexer = StringIndexer(inputCol=\"SERVICE\", outputCol=\"categoryIndex\")\n",
    "model = stringIndexer.fit(data_df)\n",
    "indexed = model.transform(data_df)\n",
    "\n",
    "encoder = OneHotEncoder(inputCol=\"categoryIndex\", outputCol=\"SERVICE_categoryVec\")\n",
    "encoded_df = encoder.transform(indexed)\n",
    "encoded_df.show(2)"
   ]
  },
  {
   "cell_type": "markdown",
   "metadata": {},
   "source": [
    "### 选取训练所需特征字段"
   ]
  },
  {
   "cell_type": "code",
   "execution_count": 44,
   "metadata": {},
   "outputs": [
    {
     "name": "stdout",
     "output_type": "stream",
     "text": [
      "['USER_ID', 'SERVICE', 'SERVICESET_FLUX', 'ONLINE_FLUX_THISMONTH', 'ONLINE_FLUX_LASTMONTH', 'ONLINE_FLUX_TWOMONTHSAGO', 'ONLINE_DURATION_THISMONTH', 'ONLINE_DURATION_LASTMONTH', 'ONLINE_DURATION_TWOMONTHSAGO', 'CALL_DURATION_THISMONTH', 'CALL_DURATION_LASTMONTH', 'CALL_DURATION_TWOMONTHSAGO', 'NET_DURATION', 'LAST_RECHARGE_VALUE', 'TOTAL_RECHARGE_VALUE', 'TOTAL_RECHARGE_COUNT', 'TOTAL_OWE_COUNT', 'BALANCED', 'ONLINE_FLUX_NEXTMONTH', 'categoryIndex', 'SERVICE_categoryVec']\n",
      "['SERVICESET_FLUX', 'ONLINE_FLUX_THISMONTH', 'ONLINE_FLUX_LASTMONTH', 'ONLINE_FLUX_TWOMONTHSAGO', 'ONLINE_DURATION_THISMONTH', 'ONLINE_DURATION_LASTMONTH', 'ONLINE_DURATION_TWOMONTHSAGO', 'CALL_DURATION_THISMONTH', 'CALL_DURATION_LASTMONTH', 'CALL_DURATION_TWOMONTHSAGO', 'NET_DURATION', 'LAST_RECHARGE_VALUE', 'TOTAL_RECHARGE_VALUE', 'TOTAL_RECHARGE_COUNT', 'TOTAL_OWE_COUNT', 'BALANCED', 'ONLINE_FLUX_NEXTMONTH', 'SERVICE_categoryVec']\n"
     ]
    }
   ],
   "source": [
    "columns = encoded_df.columns\n",
    "print(columns)\n",
    "train_columns = columns[2:-2]\n",
    "train_columns.append(columns[-1])\n",
    "print(feature_columns)\n",
    "encoded_selected_df  = encoded_df.select(train_columns)"
   ]
  },
  {
   "cell_type": "markdown",
   "metadata": {},
   "source": [
    "### 转换训练矩阵"
   ]
  },
  {
   "cell_type": "code",
   "execution_count": 49,
   "metadata": {},
   "outputs": [],
   "source": [
    "from pyspark.ml.feature import RFormula\n",
    "rf = RFormula(formula=\"ONLINE_FLUX_NEXTMONTH ~.\")\n",
    "model = rf.fit(encoded_selected_df)\n",
    "transformed_df = model.transform(encoded_selected_df)"
   ]
  },
  {
   "cell_type": "markdown",
   "metadata": {},
   "source": [
    "### 训练模型"
   ]
  },
  {
   "cell_type": "code",
   "execution_count": 50,
   "metadata": {},
   "outputs": [],
   "source": [
    "# Split the data into training and test sets (30% held out for testing)\n",
    "(training_Data, test_Data) = transformed_df.randomSplit([0.8, 0.2])\n",
    "\n",
    "# Train a DecisionTree model.\n",
    "dt = DecisionTreeRegressor(featuresCol='features',labelCol= 'ONLINE_FLUX_NEXTMONTH')"
   ]
  },
  {
   "cell_type": "code",
   "execution_count": 51,
   "metadata": {},
   "outputs": [],
   "source": [
    "# # Chain indexer and tree in a Pipeline\n",
    "# pipeline = Pipeline(stages=[featureIndexer, dt])\n",
    "\n",
    "# Train model.  This also runs the indexer.\n",
    "model = dt.fit(training_Data)\n",
    "\n",
    "# Make predictions.\n",
    "predictions = model.transform(test_Data)\n"
   ]
  },
  {
   "cell_type": "code",
   "execution_count": 52,
   "metadata": {},
   "outputs": [
    {
     "name": "stdout",
     "output_type": "stream",
     "text": [
      "+------------------+------+--------------------+\n",
      "|        prediction| label|            features|\n",
      "+------------------+------+--------------------+\n",
      "|1159.7012987012988|1139.0|[200.0,550.0,305....|\n",
      "|1062.0442477876106| 795.0|[300.0,166.0,585....|\n",
      "|1062.0442477876106| 847.0|[300.0,290.0,555....|\n",
      "| 981.1578947368421| 970.0|[300.0,384.0,298....|\n",
      "|1000.1137931034483|1058.0|[300.0,398.0,533....|\n",
      "+------------------+------+--------------------+\n",
      "only showing top 5 rows\n",
      "\n"
     ]
    }
   ],
   "source": [
    "# Select example rows to display.\n",
    "predictions.select(\"prediction\", \"label\", \"features\").show(5)\n"
   ]
  },
  {
   "cell_type": "markdown",
   "metadata": {},
   "source": [
    "## 模型评估"
   ]
  },
  {
   "cell_type": "code",
   "execution_count": 53,
   "metadata": {},
   "outputs": [
    {
     "name": "stdout",
     "output_type": "stream",
     "text": [
      "Root Mean Squared Error (RMSE) on test data = 108.003\n"
     ]
    }
   ],
   "source": [
    "# Select (prediction, true label) and compute test error\n",
    "evaluator = RegressionEvaluator(\n",
    "    labelCol=\"label\", predictionCol=\"prediction\", metricName=\"rmse\")\n",
    "rmse = evaluator.evaluate(predictions)\n",
    "print(\"Root Mean Squared Error (RMSE) on test data = %g\" % rmse)"
   ]
  },
  {
   "cell_type": "code",
   "execution_count": 56,
   "metadata": {},
   "outputs": [
    {
     "data": {
      "text/plain": [
       "DecisionTreeRegressionModel (uid=DecisionTreeRegressor_41f08d732d69ec0c9113) of depth 5 with 63 nodes"
      ]
     },
     "execution_count": 56,
     "metadata": {},
     "output_type": "execute_result"
    }
   ],
   "source": [
    "model"
   ]
  },
  {
   "cell_type": "code",
   "execution_count": null,
   "metadata": {},
   "outputs": [],
   "source": []
  },
  {
   "cell_type": "code",
   "execution_count": null,
   "metadata": {},
   "outputs": [],
   "source": []
  }
 ],
 "metadata": {
  "kernelspec": {
   "display_name": "Python 3",
   "language": "python",
   "name": "python3"
  },
  "language_info": {
   "codemirror_mode": {
    "name": "ipython",
    "version": 3
   },
   "file_extension": ".py",
   "mimetype": "text/x-python",
   "name": "python",
   "nbconvert_exporter": "python",
   "pygments_lexer": "ipython3",
   "version": "3.6.4"
  }
 },
 "nbformat": 4,
 "nbformat_minor": 2
}
