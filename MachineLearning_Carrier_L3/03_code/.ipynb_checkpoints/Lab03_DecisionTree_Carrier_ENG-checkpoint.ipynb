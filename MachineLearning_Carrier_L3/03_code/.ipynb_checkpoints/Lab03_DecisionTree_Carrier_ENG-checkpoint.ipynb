{
 "cells": [
  {
   "cell_type": "markdown",
   "metadata": {},
   "source": [
    "# Modeling:\n",
    "    We want to use the historical data of users last year,such the user ID, users' serives, calling duration,called duration ..etc, to predict whether the user will be potential contract user or not."
   ]
  },
  {
   "cell_type": "markdown",
   "metadata": {},
   "source": [
    "### Data Description:\n",
    "- Data Set Characteristics: Multivariate\n",
    "- Number of Instances:10000\n",
    "- Area: Telecom\n",
    "- Attribute Characteristics:Categorical, Integer\n",
    "- Number of Attributes:13\n",
    "- Date Created:2018-06-30\n",
    "- Missing Values? No"
   ]
  },
  {
   "cell_type": "markdown",
   "metadata": {},
   "source": [
    "### Data Description:\n",
    "column name       | Description   | Type  | Others\n",
    "--------------|---------|--------|-----\n",
    "USER_ID     |a identifier for users | int   |\n",
    "SERVICE_KIND  |the service for telecom user | string | 2G\\3G\\4G\n",
    "CALL_DURATION|the duration of user who call others| double\n",
    "CALLED_DURATION|the duration of user who is called by others|double\n",
    "IN_PACKAGE_FLUX|the used flux of user in the their flux package | double\n",
    "OUT_PACKAGE_FLUX|the used flux of user out of the their flux package | double\n",
    "MONTHLY_ONLINE_DURATION|the average online duration for user monthly last year| double\n",
    "NET_DURATION |the number of days of user who is online last year |long\n",
    "LAST_RECHARGE_VALUE| the last recharge value of last year | double\n",
    "TOTAL_RECHARGE_VALUE|the total recharge value of user last year|double\n",
    "TOTAL_RECHARGE_COUNT|the total counts of user last year| int\n",
    "BALANCED| the balanced of user|double"
   ]
  },
  {
   "cell_type": "code",
   "execution_count": 57,
   "metadata": {},
   "outputs": [],
   "source": [
    "#导入常用的库\n",
    "# numpy: python中常用的多维数值计算库，常用简称 np\n",
    "# pandas:python中的数据分析库，常用简称 pd\n",
    "# matplotlib :python中的图形库，常用简称plt\n",
    "# %matplotlib inline：IPython魔法函数（Magic Functions），可以内嵌绘图，并且可以省略掉plt.show()这一步\n",
    "#约4行代码：\n",
    "import numpy as np\n",
    "import pandas as pd\n",
    "import matplotlib.pyplot as plt\n",
    "%matplotlib inline\n",
    "\n",
    "#设定绘图时的中文字体的设置\n",
    "from pylab import mpl\n",
    "mpl.rcParams['font.sans-serif'] = ['FangSong'] # 指定默认字体\n",
    "mpl.rcParams['axes.unicode_minus'] = False     # 解决保存图像是负号'-'显示为方块的问题"
   ]
  },
  {
   "cell_type": "code",
   "execution_count": 58,
   "metadata": {},
   "outputs": [
    {
     "name": "stdout",
     "output_type": "stream",
     "text": [
      "We will read the data from C:\\Users\\wwx559045.CHINA\\Cou_code\\Carrier_ML_L3_GTC\\data\\carrier_contractuser.csv\n"
     ]
    }
   ],
   "source": [
    "#自动化读取数据文件\n",
    "import os\n",
    "cwd = os.getcwd()\n",
    "# os.path.abspath(os.path.dirname(__file__))\n",
    "previous_dir = os.path.abspath('..')\n",
    "data_filename = 'carrier_contractuser.csv'\n",
    "data_path = '\\\\'.join([previous_dir,'data',data_filename])\n",
    "data_path\n",
    "print('We will read the data from {}'.format(data_path))"
   ]
  },
  {
   "cell_type": "code",
   "execution_count": 59,
   "metadata": {},
   "outputs": [
    {
     "data": {
      "text/html": [
       "<div>\n",
       "<style scoped>\n",
       "    .dataframe tbody tr th:only-of-type {\n",
       "        vertical-align: middle;\n",
       "    }\n",
       "\n",
       "    .dataframe tbody tr th {\n",
       "        vertical-align: top;\n",
       "    }\n",
       "\n",
       "    .dataframe thead th {\n",
       "        text-align: right;\n",
       "    }\n",
       "</style>\n",
       "<table border=\"1\" class=\"dataframe\">\n",
       "  <thead>\n",
       "    <tr style=\"text-align: right;\">\n",
       "      <th></th>\n",
       "      <th>USER_ID</th>\n",
       "      <th>SERVICE_KIND</th>\n",
       "      <th>CALL_DURATION</th>\n",
       "      <th>CALLED_DURATION</th>\n",
       "      <th>IN_PACKAGE_FLUX</th>\n",
       "      <th>OUT_PACKAGE_FLUX</th>\n",
       "      <th>MONTHLY_ONLINE_DURATION</th>\n",
       "      <th>NET_DURATION</th>\n",
       "      <th>LAST_RECHARGE_VALUE</th>\n",
       "      <th>TOTAL_RECHARGE_VALUE</th>\n",
       "      <th>TOTAL_RECHARGE_COUNT</th>\n",
       "      <th>BALANCED</th>\n",
       "      <th>CONTRACTUSER_FLAG</th>\n",
       "    </tr>\n",
       "  </thead>\n",
       "  <tbody>\n",
       "    <tr>\n",
       "      <th>0</th>\n",
       "      <td>66069</td>\n",
       "      <td>3G</td>\n",
       "      <td>70.0</td>\n",
       "      <td>97.0</td>\n",
       "      <td>395.0</td>\n",
       "      <td>13.0</td>\n",
       "      <td>64.0</td>\n",
       "      <td>168.0</td>\n",
       "      <td>59.0</td>\n",
       "      <td>465.0</td>\n",
       "      <td>7.0</td>\n",
       "      <td>36.0</td>\n",
       "      <td>0</td>\n",
       "    </tr>\n",
       "    <tr>\n",
       "      <th>1</th>\n",
       "      <td>64410</td>\n",
       "      <td>3G</td>\n",
       "      <td>94.0</td>\n",
       "      <td>79.0</td>\n",
       "      <td>366.0</td>\n",
       "      <td>35.0</td>\n",
       "      <td>59.0</td>\n",
       "      <td>182.0</td>\n",
       "      <td>70.0</td>\n",
       "      <td>542.0</td>\n",
       "      <td>13.0</td>\n",
       "      <td>66.0</td>\n",
       "      <td>0</td>\n",
       "    </tr>\n",
       "    <tr>\n",
       "      <th>2</th>\n",
       "      <td>60110</td>\n",
       "      <td>3G</td>\n",
       "      <td>92.0</td>\n",
       "      <td>99.0</td>\n",
       "      <td>390.0</td>\n",
       "      <td>44.0</td>\n",
       "      <td>134.0</td>\n",
       "      <td>219.0</td>\n",
       "      <td>8.0</td>\n",
       "      <td>548.0</td>\n",
       "      <td>8.0</td>\n",
       "      <td>110.0</td>\n",
       "      <td>1</td>\n",
       "    </tr>\n",
       "    <tr>\n",
       "      <th>3</th>\n",
       "      <td>69600</td>\n",
       "      <td>4G</td>\n",
       "      <td>131.0</td>\n",
       "      <td>87.0</td>\n",
       "      <td>391.0</td>\n",
       "      <td>0.0</td>\n",
       "      <td>128.0</td>\n",
       "      <td>180.0</td>\n",
       "      <td>63.0</td>\n",
       "      <td>498.0</td>\n",
       "      <td>4.0</td>\n",
       "      <td>30.0</td>\n",
       "      <td>1</td>\n",
       "    </tr>\n",
       "    <tr>\n",
       "      <th>4</th>\n",
       "      <td>64683</td>\n",
       "      <td>4G</td>\n",
       "      <td>74.0</td>\n",
       "      <td>104.0</td>\n",
       "      <td>397.0</td>\n",
       "      <td>35.0</td>\n",
       "      <td>112.0</td>\n",
       "      <td>258.0</td>\n",
       "      <td>68.0</td>\n",
       "      <td>614.0</td>\n",
       "      <td>15.0</td>\n",
       "      <td>18.0</td>\n",
       "      <td>1</td>\n",
       "    </tr>\n",
       "  </tbody>\n",
       "</table>\n",
       "</div>"
      ],
      "text/plain": [
       "   USER_ID SERVICE_KIND  CALL_DURATION  CALLED_DURATION  IN_PACKAGE_FLUX  \\\n",
       "0    66069           3G           70.0             97.0            395.0   \n",
       "1    64410           3G           94.0             79.0            366.0   \n",
       "2    60110           3G           92.0             99.0            390.0   \n",
       "3    69600           4G          131.0             87.0            391.0   \n",
       "4    64683           4G           74.0            104.0            397.0   \n",
       "\n",
       "   OUT_PACKAGE_FLUX  MONTHLY_ONLINE_DURATION  NET_DURATION  \\\n",
       "0              13.0                     64.0         168.0   \n",
       "1              35.0                     59.0         182.0   \n",
       "2              44.0                    134.0         219.0   \n",
       "3               0.0                    128.0         180.0   \n",
       "4              35.0                    112.0         258.0   \n",
       "\n",
       "   LAST_RECHARGE_VALUE  TOTAL_RECHARGE_VALUE  TOTAL_RECHARGE_COUNT  BALANCED  \\\n",
       "0                 59.0                 465.0                   7.0      36.0   \n",
       "1                 70.0                 542.0                  13.0      66.0   \n",
       "2                  8.0                 548.0                   8.0     110.0   \n",
       "3                 63.0                 498.0                   4.0      30.0   \n",
       "4                 68.0                 614.0                  15.0      18.0   \n",
       "\n",
       "   CONTRACTUSER_FLAG  \n",
       "0                  0  \n",
       "1                  0  \n",
       "2                  1  \n",
       "3                  1  \n",
       "4                  1  "
      ]
     },
     "execution_count": 59,
     "metadata": {},
     "output_type": "execute_result"
    }
   ],
   "source": [
    "#使用pandas的读取csv文件的函数 pd.read_csv(),生成数据的dataframe\n",
    "#数据文件名：carrier_contractuser.csv\n",
    "#编码格式：utf8\n",
    "#分隔符： |\n",
    "#约1行代码:\n",
    "data= pd.read_csv(data_path,encoding ='utf8',sep ='|')\n",
    "\n",
    "#显示前5行:\n",
    "#约1行代码\n",
    "data.head()"
   ]
  },
  {
   "cell_type": "markdown",
   "metadata": {},
   "source": [
    "## Data exploring"
   ]
  },
  {
   "cell_type": "code",
   "execution_count": 60,
   "metadata": {},
   "outputs": [
    {
     "name": "stdout",
     "output_type": "stream",
     "text": [
      "(10000, 13)\n",
      "<class 'pandas.core.frame.DataFrame'>\n",
      "RangeIndex: 10000 entries, 0 to 9999\n",
      "Data columns (total 13 columns):\n",
      "USER_ID                    10000 non-null int64\n",
      "SERVICE_KIND               10000 non-null object\n",
      "CALL_DURATION              10000 non-null float64\n",
      "CALLED_DURATION            10000 non-null float64\n",
      "IN_PACKAGE_FLUX            10000 non-null float64\n",
      "OUT_PACKAGE_FLUX           10000 non-null float64\n",
      "MONTHLY_ONLINE_DURATION    10000 non-null float64\n",
      "NET_DURATION               10000 non-null float64\n",
      "LAST_RECHARGE_VALUE        10000 non-null float64\n",
      "TOTAL_RECHARGE_VALUE       10000 non-null float64\n",
      "TOTAL_RECHARGE_COUNT       10000 non-null float64\n",
      "BALANCED                   10000 non-null float64\n",
      "CONTRACTUSER_FLAG          10000 non-null int64\n",
      "dtypes: float64(10), int64(2), object(1)\n",
      "memory usage: 1015.7+ KB\n",
      "None\n"
     ]
    }
   ],
   "source": [
    "#显示数据尺寸\n",
    "#约1行代码：\n",
    "print(data.shape)\n",
    "\n",
    "#显示数据统计信息\n",
    "#提示：使用.info()方法\n",
    "#约1行代码：\n",
    "print(data.info())"
   ]
  },
  {
   "cell_type": "code",
   "execution_count": 61,
   "metadata": {},
   "outputs": [
    {
     "data": {
      "text/plain": [
       "<matplotlib.legend.Legend at 0xf4992e8>"
      ]
     },
     "execution_count": 61,
     "metadata": {},
     "output_type": "execute_result"
    },
    {
     "data": {
      "image/png": "[encoded data removed]",
      "text/plain": [
       "<Figure size 432x288 with 1 Axes>"
      ]
     },
     "metadata": {},
     "output_type": "display_data"
    }
   ],
   "source": [
    "#不同用户的主叫时长分布情况对比\n",
    "\n",
    "#设置dataframe的索引筛选条件\n",
    "#提示：data[column_name] == value\n",
    "#约1行代码：\n",
    "cond = data['CONTRACTUSER_FLAG']==1\n",
    "\n",
    "#潜在合约用户的主叫时长（分）分布情况\n",
    "#提示：使用 dataframe.hist()方法\n",
    "#约1行代码：\n",
    "data[cond]['CALL_DURATION'].hist(alpha =0.5,label='CONTRACT_USER')\n",
    "\n",
    "#非潜在合约用户的主叫时长（分）分布情况：\n",
    "#提示：使用 dataframe.hist()方法\n",
    "#约1行代码：\n",
    "data[~cond]['CALL_DURATION'].hist(color='r',alpha = 0.5,\n",
    "                            label='NONE_CONTRACT_USER')\n",
    "\n",
    "# 显示图形的标签\n",
    "#提示：使用 plt.legend()方法\n",
    "#约1行代码：\n",
    "plt.legend()"
   ]
  },
  {
   "cell_type": "code",
   "execution_count": 62,
   "metadata": {},
   "outputs": [
    {
     "data": {
      "text/plain": [
       "<matplotlib.legend.Legend at 0xf4cad68>"
      ]
     },
     "execution_count": 62,
     "metadata": {},
     "output_type": "execute_result"
    },
    {
     "data": {
      "image/png": "[encoded data removed]",
      "text/plain": [
       "<Figure size 432x288 with 1 Axes>"
      ]
     },
     "metadata": {},
     "output_type": "display_data"
    }
   ],
   "source": [
    "#不同用户的被叫时长分布情况对比\n",
    "\n",
    "#设置dataframe的索引筛选条件\n",
    "#提示：data[column_name] == value\n",
    "#约1行代码：\n",
    "cond = data['CONTRACTUSER_FLAG']==1\n",
    "\n",
    "#潜在合约用户的被叫时长（分）分布情况\n",
    "#提示：使用 dataframe.hist()方法\n",
    "#约1行代码：\n",
    "data[cond]['CALLED_DURATION'].hist(alpha =0.5,label='CONTRACT_USER')\n",
    "\n",
    "#非潜在合约用户的被叫时长（分）分布情况：\n",
    "#提示：使用 dataframe.hist()方法\n",
    "#约1行代码：\n",
    "data[~cond]['CALLED_DURATION'].hist(color='r',alpha = 0.5,\n",
    "                            label='NONE_CONTRACT_USER')\n",
    "\n",
    "# 显示图形的标签\n",
    "#提示：使用 plt.legend()方法\n",
    "#约1行代码：\n",
    "plt.legend()"
   ]
  },
  {
   "cell_type": "code",
   "execution_count": 63,
   "metadata": {},
   "outputs": [
    {
     "data": {
      "text/plain": [
       "<matplotlib.axes._subplots.AxesSubplot at 0xf51b2e8>"
      ]
     },
     "execution_count": 63,
     "metadata": {},
     "output_type": "execute_result"
    },
    {
     "data": {
      "image/png": "[encoded data removed]",
      "text/plain": [
       "<Figure size 432x288 with 1 Axes>"
      ]
     },
     "metadata": {},
     "output_type": "display_data"
    }
   ],
   "source": [
    "#不同用户的业务类型情况对比\n",
    "\n",
    "# 对 '是否潜在合约用户','业务类型'两个字段分组统计\n",
    "#提示：使用 dataframe.groupby()方法，进行分组统计。并且使用unstack()方法，将数据的行“旋转”为列。\n",
    "#约1行代码：\n",
    "grouped =data.groupby(['CONTRACTUSER_FLAG','SERVICE_KIND'])['USER_ID'].count().unstack()\n",
    "\n",
    "#绘制并列的柱状图\n",
    "#提示：使用dataframe.plot(kind='bar')方法\n",
    "#约1行代码：\n",
    "grouped.plot(kind= 'bar',alpha =1.0,rot = 0)"
   ]
  },
  {
   "cell_type": "code",
   "execution_count": 64,
   "metadata": {},
   "outputs": [
    {
     "data": {
      "text/plain": [
       "1    5003\n",
       "0    4997\n",
       "Name: CONTRACTUSER_FLAG, dtype: int64"
      ]
     },
     "execution_count": 64,
     "metadata": {},
     "output_type": "execute_result"
    }
   ],
   "source": [
    "#对目标数据统计，查看是否平衡\n",
    "#提示：使用dataframe.value_counts()方法\n",
    "#约1行代码：\n",
    "data['CONTRACTUSER_FLAG'].value_counts()"
   ]
  },
  {
   "cell_type": "code",
   "execution_count": 65,
   "metadata": {},
   "outputs": [
    {
     "data": {
      "text/plain": [
       "<matplotlib.collections.PathCollection at 0xd7895c0>"
      ]
     },
     "execution_count": 65,
     "metadata": {},
     "output_type": "execute_result"
    },
    {
     "data": {
      "image/png": "[encoded data removed]",
      "text/plain": [
       "<Figure size 432x288 with 1 Axes>"
      ]
     },
     "metadata": {},
     "output_type": "display_data"
    }
   ],
   "source": [
    "#主叫时长（分）&免费流量 与 是否潜在合约用户的关系\n",
    "\n",
    "y = data.loc[:,'CONTRACTUSER_FLAG']\n",
    "plt.scatter(data.loc[:,'CALL_DURATION'],data.loc[:,'IN_PACKAGE_FLUX'],c=y,alpha=0.5)"
   ]
  },
  {
   "cell_type": "markdown",
   "metadata": {},
   "source": [
    "### Data Preprocessing"
   ]
  },
  {
   "cell_type": "code",
   "execution_count": 66,
   "metadata": {},
   "outputs": [
    {
     "name": "stdout",
     "output_type": "stream",
     "text": [
      "The shape of X is (10000, 11)\n",
      "The shape of y is (10000,)\n"
     ]
    }
   ],
   "source": [
    "#分割特征数据集和标签数据集\n",
    "#提示：使用dataframe的i.lloc或者.loc方法选取不同字段（列）\n",
    "#约2行代码\n",
    "X = data.loc[:,'SERVICE_KIND':'BALANCED']\n",
    "y= data.loc[:,'CONTRACTUSER_FLAG']\n",
    "\n",
    "#打印特征数据为X 和目标数据y的形状：\n",
    "#约2行代码\n",
    "print('The shape of X is {0}'.format(X.shape))\n",
    "print('The shape of y is {0}'.format(y.shape))"
   ]
  },
  {
   "cell_type": "markdown",
   "metadata": {},
   "source": [
    "### One-hot-encoding\n",
    "将SERVICE类型变量转化为0-1编码的格式，从而可以进行数值计算"
   ]
  },
  {
   "cell_type": "code",
   "execution_count": 67,
   "metadata": {},
   "outputs": [
    {
     "name": "stdout",
     "output_type": "stream",
     "text": [
      "['2G' '3G' '4G']\n",
      "['3G', '3G', '3G', '4G', '4G']\n",
      "[1 1 1 2 2]\n"
     ]
    }
   ],
   "source": [
    "# 引入  sklearn.preprocessing类中的OneHotEncoder算法库\n",
    "from sklearn.preprocessing import LabelEncoder\n",
    "from sklearn.preprocessing import OneHotEncoder\n",
    "\n",
    "# create a instance of LabelEncoder\n",
    "labelEncoder = LabelEncoder()\n",
    "\n",
    "# train the labelEncoder on the whole data set\n",
    "labelEncoder.fit(X.SERVICE_KIND)\n",
    "\n",
    "# print the classes from  the valuse in SERVICE_KIND feature\n",
    "print(labelEncoder.classes_)\n",
    "\n",
    "#transfom the SERVICE_KIND feature into intergers\n",
    "SERVICE_LABELCODER= labelEncoder.transform(X.SERVICE_KIND)\n",
    "\n",
    "#show the first 5 item from SERVICE_KIND and SERVICE_LABELCODER\n",
    "print(X.SERVICE_KIND[0:5].tolist())\n",
    "\n",
    "print(SERVICE_LABELCODER[0:5])"
   ]
  },
  {
   "cell_type": "code",
   "execution_count": 68,
   "metadata": {},
   "outputs": [
    {
     "data": {
      "text/plain": [
       "2"
      ]
     },
     "execution_count": 68,
     "metadata": {},
     "output_type": "execute_result"
    }
   ],
   "source": [
    "SERVICE_LABELCODER.reshape((-1,1)).ndim"
   ]
  },
  {
   "cell_type": "code",
   "execution_count": 69,
   "metadata": {},
   "outputs": [
    {
     "name": "stdout",
     "output_type": "stream",
     "text": [
      "[0 1 2]\n",
      "[[0. 1. 0.]\n",
      " [0. 1. 0.]\n",
      " [0. 1. 0.]\n",
      " [0. 0. 1.]\n",
      " [0. 0. 1.]]\n"
     ]
    }
   ],
   "source": [
    "#生成用OncHotEncoder实例\n",
    "enc = OneHotEncoder()\n",
    "\n",
    "#使用OncHotEncoder转化类型特征为0/1编码的多维特征\n",
    "#Hint: OneHotEncoder.fit() method need the input array be 2 dimesions,\n",
    "# so we can use ndarray.reshape((-1,1)) method to transofrom a 1 dimesion array of size= (n,) to 2 dimesions array of size = (n,1)\n",
    "enc.fit(SERVICE_LABELCODER.reshape((-1,1)))\n",
    "\n",
    "SERVICE_ENC = enc.transform(SERVICE_LABELCODER.reshape((-1,1)))\n",
    "\n",
    "#print the features from SERVICE_LABELCODER\n",
    "print(enc.active_features_)\n",
    "\n",
    "#print the one-hot-encodeded values of the first 5 one-hot-encodeded items of the SERVIEC_KING column\n",
    "#Hint: use to array() method to transform a sparse matrix into a dense matrix\n",
    "print(SERVICE_ENC.toarray()[0:5])"
   ]
  },
  {
   "cell_type": "code",
   "execution_count": 70,
   "metadata": {},
   "outputs": [
    {
     "data": {
      "text/html": [
       "<div>\n",
       "<style scoped>\n",
       "    .dataframe tbody tr th:only-of-type {\n",
       "        vertical-align: middle;\n",
       "    }\n",
       "\n",
       "    .dataframe tbody tr th {\n",
       "        vertical-align: top;\n",
       "    }\n",
       "\n",
       "    .dataframe thead th {\n",
       "        text-align: right;\n",
       "    }\n",
       "</style>\n",
       "<table border=\"1\" class=\"dataframe\">\n",
       "  <thead>\n",
       "    <tr style=\"text-align: right;\">\n",
       "      <th></th>\n",
       "      <th>2G</th>\n",
       "      <th>3G</th>\n",
       "      <th>4G</th>\n",
       "    </tr>\n",
       "  </thead>\n",
       "  <tbody>\n",
       "    <tr>\n",
       "      <th>0</th>\n",
       "      <td>0.0</td>\n",
       "      <td>1.0</td>\n",
       "      <td>0.0</td>\n",
       "    </tr>\n",
       "    <tr>\n",
       "      <th>1</th>\n",
       "      <td>0.0</td>\n",
       "      <td>1.0</td>\n",
       "      <td>0.0</td>\n",
       "    </tr>\n",
       "    <tr>\n",
       "      <th>2</th>\n",
       "      <td>0.0</td>\n",
       "      <td>1.0</td>\n",
       "      <td>0.0</td>\n",
       "    </tr>\n",
       "    <tr>\n",
       "      <th>3</th>\n",
       "      <td>0.0</td>\n",
       "      <td>0.0</td>\n",
       "      <td>1.0</td>\n",
       "    </tr>\n",
       "    <tr>\n",
       "      <th>4</th>\n",
       "      <td>0.0</td>\n",
       "      <td>0.0</td>\n",
       "      <td>1.0</td>\n",
       "    </tr>\n",
       "  </tbody>\n",
       "</table>\n",
       "</div>"
      ],
      "text/plain": [
       "    2G   3G   4G\n",
       "0  0.0  1.0  0.0\n",
       "1  0.0  1.0  0.0\n",
       "2  0.0  1.0  0.0\n",
       "3  0.0  0.0  1.0\n",
       "4  0.0  0.0  1.0"
      ]
     },
     "execution_count": 70,
     "metadata": {},
     "output_type": "execute_result"
    }
   ],
   "source": [
    "#create the the columns for this one-hot-encodeded array\n",
    "column_ENC = labelEncoder.classes_\n",
    "\n",
    "# create a dataframe for this one-hot-encodeded array\n",
    "SERVICE_ENC_df = pd.DataFrame(SERVICE_ENC.toarray(),columns=column_ENC)\n",
    "\n",
    "#show the first 5 rows of the dataframe\n",
    "SERVICE_ENC_df.head()"
   ]
  },
  {
   "cell_type": "code",
   "execution_count": 71,
   "metadata": {},
   "outputs": [
    {
     "data": {
      "text/html": [
       "<div>\n",
       "<style scoped>\n",
       "    .dataframe tbody tr th:only-of-type {\n",
       "        vertical-align: middle;\n",
       "    }\n",
       "\n",
       "    .dataframe tbody tr th {\n",
       "        vertical-align: top;\n",
       "    }\n",
       "\n",
       "    .dataframe thead th {\n",
       "        text-align: right;\n",
       "    }\n",
       "</style>\n",
       "<table border=\"1\" class=\"dataframe\">\n",
       "  <thead>\n",
       "    <tr style=\"text-align: right;\">\n",
       "      <th></th>\n",
       "      <th>CALL_DURATION</th>\n",
       "      <th>CALLED_DURATION</th>\n",
       "      <th>IN_PACKAGE_FLUX</th>\n",
       "      <th>OUT_PACKAGE_FLUX</th>\n",
       "      <th>MONTHLY_ONLINE_DURATION</th>\n",
       "      <th>NET_DURATION</th>\n",
       "      <th>LAST_RECHARGE_VALUE</th>\n",
       "      <th>TOTAL_RECHARGE_VALUE</th>\n",
       "      <th>TOTAL_RECHARGE_COUNT</th>\n",
       "      <th>BALANCED</th>\n",
       "      <th>2G</th>\n",
       "      <th>3G</th>\n",
       "      <th>4G</th>\n",
       "    </tr>\n",
       "  </thead>\n",
       "  <tbody>\n",
       "    <tr>\n",
       "      <th>0</th>\n",
       "      <td>70.0</td>\n",
       "      <td>97.0</td>\n",
       "      <td>395.0</td>\n",
       "      <td>13.0</td>\n",
       "      <td>64.0</td>\n",
       "      <td>168.0</td>\n",
       "      <td>59.0</td>\n",
       "      <td>465.0</td>\n",
       "      <td>7.0</td>\n",
       "      <td>36.0</td>\n",
       "      <td>0.0</td>\n",
       "      <td>1.0</td>\n",
       "      <td>0.0</td>\n",
       "    </tr>\n",
       "    <tr>\n",
       "      <th>1</th>\n",
       "      <td>94.0</td>\n",
       "      <td>79.0</td>\n",
       "      <td>366.0</td>\n",
       "      <td>35.0</td>\n",
       "      <td>59.0</td>\n",
       "      <td>182.0</td>\n",
       "      <td>70.0</td>\n",
       "      <td>542.0</td>\n",
       "      <td>13.0</td>\n",
       "      <td>66.0</td>\n",
       "      <td>0.0</td>\n",
       "      <td>1.0</td>\n",
       "      <td>0.0</td>\n",
       "    </tr>\n",
       "    <tr>\n",
       "      <th>2</th>\n",
       "      <td>92.0</td>\n",
       "      <td>99.0</td>\n",
       "      <td>390.0</td>\n",
       "      <td>44.0</td>\n",
       "      <td>134.0</td>\n",
       "      <td>219.0</td>\n",
       "      <td>8.0</td>\n",
       "      <td>548.0</td>\n",
       "      <td>8.0</td>\n",
       "      <td>110.0</td>\n",
       "      <td>0.0</td>\n",
       "      <td>1.0</td>\n",
       "      <td>0.0</td>\n",
       "    </tr>\n",
       "    <tr>\n",
       "      <th>3</th>\n",
       "      <td>131.0</td>\n",
       "      <td>87.0</td>\n",
       "      <td>391.0</td>\n",
       "      <td>0.0</td>\n",
       "      <td>128.0</td>\n",
       "      <td>180.0</td>\n",
       "      <td>63.0</td>\n",
       "      <td>498.0</td>\n",
       "      <td>4.0</td>\n",
       "      <td>30.0</td>\n",
       "      <td>0.0</td>\n",
       "      <td>0.0</td>\n",
       "      <td>1.0</td>\n",
       "    </tr>\n",
       "    <tr>\n",
       "      <th>4</th>\n",
       "      <td>74.0</td>\n",
       "      <td>104.0</td>\n",
       "      <td>397.0</td>\n",
       "      <td>35.0</td>\n",
       "      <td>112.0</td>\n",
       "      <td>258.0</td>\n",
       "      <td>68.0</td>\n",
       "      <td>614.0</td>\n",
       "      <td>15.0</td>\n",
       "      <td>18.0</td>\n",
       "      <td>0.0</td>\n",
       "      <td>0.0</td>\n",
       "      <td>1.0</td>\n",
       "    </tr>\n",
       "  </tbody>\n",
       "</table>\n",
       "</div>"
      ],
      "text/plain": [
       "   CALL_DURATION  CALLED_DURATION  IN_PACKAGE_FLUX  OUT_PACKAGE_FLUX  \\\n",
       "0           70.0             97.0            395.0              13.0   \n",
       "1           94.0             79.0            366.0              35.0   \n",
       "2           92.0             99.0            390.0              44.0   \n",
       "3          131.0             87.0            391.0               0.0   \n",
       "4           74.0            104.0            397.0              35.0   \n",
       "\n",
       "   MONTHLY_ONLINE_DURATION  NET_DURATION  LAST_RECHARGE_VALUE  \\\n",
       "0                     64.0         168.0                 59.0   \n",
       "1                     59.0         182.0                 70.0   \n",
       "2                    134.0         219.0                  8.0   \n",
       "3                    128.0         180.0                 63.0   \n",
       "4                    112.0         258.0                 68.0   \n",
       "\n",
       "   TOTAL_RECHARGE_VALUE  TOTAL_RECHARGE_COUNT  BALANCED   2G   3G   4G  \n",
       "0                 465.0                   7.0      36.0  0.0  1.0  0.0  \n",
       "1                 542.0                  13.0      66.0  0.0  1.0  0.0  \n",
       "2                 548.0                   8.0     110.0  0.0  1.0  0.0  \n",
       "3                 498.0                   4.0      30.0  0.0  0.0  1.0  \n",
       "4                 614.0                  15.0      18.0  0.0  0.0  1.0  "
      ]
     },
     "execution_count": 71,
     "metadata": {},
     "output_type": "execute_result"
    }
   ],
   "source": [
    "# Concate the new dataframe from one-hot-encodering into the original dataset and drop the SERVICE_KIND feature\n",
    "#Hint:\n",
    "# using the pd.concat() method to concate two dataframe along axis =1, then using .drop() method to drop a column.\n",
    "X_enc = pd.concat([X,SERVICE_ENC_df],axis = 1).drop('SERVICE_KIND',axis=1)\n",
    "\n",
    "# show the first 5 rows of this new dataframe\n",
    "X_enc.head()"
   ]
  },
  {
   "cell_type": "markdown",
   "metadata": {},
   "source": [
    "### Train-test-split:\n",
    "Split the dataset into two parts: trainning(0.8) and testing datasets(0.2).\n",
    "Hint:  \n",
    "1. using  train_test_split() method  from sklearn.model_selection import\n",
    "2. For reproduction, using random state = 112 "
   ]
  },
  {
   "cell_type": "code",
   "execution_count": 72,
   "metadata": {},
   "outputs": [
    {
     "name": "stdout",
     "output_type": "stream",
     "text": [
      "(8000, 13)\n",
      "(2000, 13)\n"
     ]
    }
   ],
   "source": [
    "# 引入sklearn.model_selection的方法train_test_split\n",
    "from sklearn.model_selection import train_test_split\n",
    "\n",
    "#按照0.8:0.2的比例，分割训练集和测试集：X_train,X_test,y_train,y_test， random_state=112\n",
    "#约1行代码：\n",
    "X_train,X_test,y_train,y_test = train_test_split(X_enc,y,test_size =0.2,random_state=112)\n",
    "\n",
    "\n",
    "#打印分割后的训练集和测试集：X_train,X_test的形状\n",
    "#约2行代码:\n",
    "print(X_train.shape)\n",
    "print(X_test.shape)"
   ]
  },
  {
   "cell_type": "code",
   "execution_count": null,
   "metadata": {},
   "outputs": [],
   "source": []
  },
  {
   "cell_type": "markdown",
   "metadata": {},
   "source": [
    "## Trainning a simple Decision Tree model "
   ]
  },
  {
   "cell_type": "code",
   "execution_count": 73,
   "metadata": {},
   "outputs": [],
   "source": [
    "# 引入sklearn的决策树算法库：sklearn.tree.DecisionTreeClassifier\n",
    "#约1行代码：\n",
    "from sklearn.tree import DecisionTreeClassifier\n",
    "\n",
    "# 建立实例\n",
    "#约1行代码：\n",
    "dt_clf =  DecisionTreeClassifier()\n",
    "\n",
    "# 在训练集上训练\n",
    "#约1行代码：\n",
    "dt_clf.fit(X_train,y_train)\n",
    "\n",
    "# 在测试集上预测\n",
    "#约1行代码：\n",
    "y_pred = dt_clf.predict(X_test)"
   ]
  },
  {
   "cell_type": "markdown",
   "metadata": {},
   "source": [
    "### 模型评估"
   ]
  },
  {
   "cell_type": "code",
   "execution_count": 74,
   "metadata": {},
   "outputs": [
    {
     "name": "stdout",
     "output_type": "stream",
     "text": [
      "0.959\n",
      "[[1002   36]\n",
      " [  46  916]]\n"
     ]
    }
   ],
   "source": [
    "#引入sklearn类中的 metrics测度类\n",
    "#约1行代码：\n",
    "from sklearn import metrics\n",
    "\n",
    "\n",
    "#计算并打印模型准确率\n",
    "#提示：使用 metrics.accuracy_score()方法\n",
    "#约2行代码：\n",
    "accuracy = metrics.accuracy_score(y_test,y_pred)\n",
    "print(accuracy)\n",
    "\n",
    "\n",
    "#计算并打印模型混淆矩阵\n",
    "#提示：使用 metrics.confusion_matrix()方法\n",
    "#约2行代码：\n",
    "confusion_matrix= metrics.confusion_matrix(y_test,y_pred)\n",
    "print(confusion_matrix)"
   ]
  },
  {
   "cell_type": "markdown",
   "metadata": {},
   "source": [
    "### 决策树模型调叄\n",
    "主要调整参数：  \n",
    "- 内部节点再划分所需最小样本数:min_samples_split  \n",
    "如果样本量不大，不需要管这个值。如果样本量数量级非常大，则推荐增大这个值。\n",
    "\n",
    "- 叶子节点最少样本数min_samples_leaf  \n",
    "如果样本量不大，不需要管这个值。\n",
    "如果样本量数量级非常大，则推荐增大这个值。之前的10万样本项目使用min_samples_leaf的值为5，仅供参考。"
   ]
  },
  {
   "cell_type": "code",
   "execution_count": 75,
   "metadata": {},
   "outputs": [
    {
     "data": {
      "text/plain": [
       "GridSearchCV(cv=5, error_score='raise',\n",
       "       estimator=DecisionTreeClassifier(class_weight=None, criterion='gini', max_depth=None,\n",
       "            max_features=None, max_leaf_nodes=None,\n",
       "            min_impurity_decrease=0.0, min_impurity_split=None,\n",
       "            min_samples_leaf=1, min_samples_split=2,\n",
       "            min_weight_fraction_leaf=0.0, presort=False, random_state=111,\n",
       "            splitter='best'),\n",
       "       fit_params=None, iid=True, n_jobs=1,\n",
       "       param_grid={'min_samples_split': [5, 6, 7, 8, 9, 10, 11, 12, 13, 14, 15, 16, 17, 18, 19], 'min_samples_leaf': [1, 2, 3, 4, 5, 6, 7, 8, 9]},\n",
       "       pre_dispatch='2*n_jobs', refit=True, return_train_score='warn',\n",
       "       scoring='accuracy', verbose=0)"
      ]
     },
     "execution_count": 75,
     "metadata": {},
     "output_type": "execute_result"
    }
   ],
   "source": [
    "\n",
    "# 引入网格检索方法sklearn.model_selection.GridSearchCV()\n",
    "from sklearn.model_selection import GridSearchCV\n",
    "\n",
    "#设计检索的网格：\n",
    "# 提示：建立一个dict{'min_samples_split':range,\n",
    "#              'min_samples_leaf':range}\n",
    "\n",
    "#约1行代码：\n",
    "param_grid = {'min_samples_split':list(range(5,20,1)),\n",
    "              'min_samples_leaf':list(range(1,10,1))}\n",
    "\n",
    "#建立决策树示例\n",
    "#约1行代码：\n",
    "estimator = DecisionTreeClassifier(random_state=111)\n",
    "\n",
    "#建立网格检索实例\n",
    "#提示：使用方法GridSearchCV(estimator,param_grid,scoring='accuracy',cv=5)\n",
    "#约1行代码：\n",
    "gsearch = GridSearchCV(estimator,param_grid = param_grid, scoring='accuracy',cv=5)\n",
    "\n",
    "#在训练集上训练网格检索实例\n",
    "gsearch.fit(X_train,y_train)"
   ]
  },
  {
   "cell_type": "code",
   "execution_count": 76,
   "metadata": {},
   "outputs": [
    {
     "name": "stdout",
     "output_type": "stream",
     "text": [
      "0.957375\n",
      "{'min_samples_leaf': 1, 'min_samples_split': 15}\n",
      "DecisionTreeClassifier(class_weight=None, criterion='gini', max_depth=None,\n",
      "            max_features=None, max_leaf_nodes=None,\n",
      "            min_impurity_decrease=0.0, min_impurity_split=None,\n",
      "            min_samples_leaf=1, min_samples_split=15,\n",
      "            min_weight_fraction_leaf=0.0, presort=False, random_state=111,\n",
      "            splitter='best')\n"
     ]
    }
   ],
   "source": [
    "#显示网格检索的最优分数，最优参数，最优模型\n",
    "# 提示：使用 GridSearchCV.best_score_\n",
    "# 提示：GridSearchCV.best_params_\n",
    "# 提示：GridSearchCV.best_estimator_\n",
    "#约3行代码：\n",
    "print(gsearch.best_score_)\n",
    "print(gsearch.best_params_)\n",
    "print(gsearch.best_estimator_)"
   ]
  },
  {
   "cell_type": "markdown",
   "metadata": {},
   "source": [
    "### 使用最优参数重新训练模型"
   ]
  },
  {
   "cell_type": "code",
   "execution_count": 78,
   "metadata": {},
   "outputs": [
    {
     "ename": "NameError",
     "evalue": "name 'en_col' is not defined",
     "output_type": "error",
     "traceback": [
      "\u001b[1;31m---------------------------------------------------------------------------\u001b[0m",
      "\u001b[1;31mNameError\u001b[0m                                 Traceback (most recent call last)",
      "\u001b[1;32m<ipython-input-78-654f1c0b056c>\u001b[0m in \u001b[0;36m<module>\u001b[1;34m()\u001b[0m\n\u001b[0;32m      1\u001b[0m \u001b[1;31m#因为后面绘制决策树图形的时候由于中文会产生乱码，因此重新替换数据矩阵的字段名称为英文名称\u001b[0m\u001b[1;33m\u001b[0m\u001b[1;33m\u001b[0m\u001b[0m\n\u001b[1;32m----> 2\u001b[1;33m \u001b[0men_col\u001b[0m\u001b[1;33m.\u001b[0m\u001b[0mremove\u001b[0m\u001b[1;33m(\u001b[0m\u001b[1;34m'USER_ID'\u001b[0m\u001b[1;33m)\u001b[0m\u001b[1;33m\u001b[0m\u001b[0m\n\u001b[0m\u001b[0;32m      3\u001b[0m \u001b[0men_col\u001b[0m\u001b[1;33m.\u001b[0m\u001b[0mremove\u001b[0m\u001b[1;33m(\u001b[0m\u001b[1;34m'CONTRACTUSER_FLAG'\u001b[0m\u001b[1;33m)\u001b[0m\u001b[1;33m\u001b[0m\u001b[0m\n\u001b[0;32m      4\u001b[0m \u001b[0men_col\u001b[0m\u001b[1;33m.\u001b[0m\u001b[0mremove\u001b[0m\u001b[1;33m(\u001b[0m\u001b[1;34m'SERVICE_KIND'\u001b[0m\u001b[1;33m)\u001b[0m\u001b[1;33m\u001b[0m\u001b[0m\n\u001b[0;32m      5\u001b[0m \u001b[0men_col\u001b[0m\u001b[1;33m.\u001b[0m\u001b[0mextend\u001b[0m\u001b[1;33m(\u001b[0m\u001b[1;33m[\u001b[0m\u001b[1;34m'2G'\u001b[0m\u001b[1;33m,\u001b[0m\u001b[1;34m'3G'\u001b[0m\u001b[1;33m,\u001b[0m\u001b[1;34m'4G'\u001b[0m\u001b[1;33m]\u001b[0m\u001b[1;33m)\u001b[0m\u001b[1;33m\u001b[0m\u001b[0m\n",
      "\u001b[1;31mNameError\u001b[0m: name 'en_col' is not defined"
     ]
    }
   ],
   "source": [
    "# #因为后面绘制决策树图形的时候由于中文会产生乱码，因此重新替换数据矩阵的字段名称为英文名称\n",
    "# en_col.remove('USER_ID')\n",
    "# en_col.remove('CONTRACTUSER_FLAG')\n",
    "# en_col.remove('SERVICE_KIND')\n",
    "# en_col.extend(['2G','3G','4G'])\n",
    "# print(en_col)\n",
    "# X_train.columns = en_col"
   ]
  },
  {
   "cell_type": "code",
   "execution_count": 79,
   "metadata": {},
   "outputs": [
    {
     "name": "stdout",
     "output_type": "stream",
     "text": [
      "The accuracy score of the model for test data is: 0.964\n",
      "[[1002   36]\n",
      " [  36  926]]\n",
      "             precision    recall  f1-score   support\n",
      "\n",
      "          0       0.97      0.97      0.97      1038\n",
      "          1       0.96      0.96      0.96       962\n",
      "\n",
      "avg / total       0.96      0.96      0.96      2000\n",
      "\n"
     ]
    }
   ],
   "source": [
    "# 建立决策树实例\n",
    "#使用使用字典型参数传入：**gsearch.best_params_\n",
    "#约1行代码：\n",
    "best_clf =  DecisionTreeClassifier(**gsearch.best_params_)\n",
    "\n",
    "# 在训练集上训练\n",
    "#约1行代码：\n",
    "best_clf.fit(X_train,y_train)\n",
    "\n",
    "# 在测试集上预测\n",
    "#约1行代码：\n",
    "y_pred_best = best_clf.predict(X_test)\n",
    "\n",
    "#计算并打印模型准确率\n",
    "#提示：使用 metrics.accuracy_score()方法\n",
    "#约2行代码：\n",
    "accuracy = metrics.accuracy_score(y_test,y_pred_best)\n",
    "print('The accuracy score of the model for test data is: {0}'.format(accuracy))\n",
    "\n",
    "#计算并打印模型混淆矩阵\n",
    "#提示：使用 metrics.confusion_matrix()方法\n",
    "#约2行代码：\n",
    "confusion_matrix = metrics.confusion_matrix(y_test,y_pred_best)\n",
    "print(confusion_matrix)\n",
    "\n",
    "#计算并打印模型 precision    recall  f1-score   support的值\n",
    "#提示：使用 metrics.classification_report()方法\n",
    "#约2行代码：\n",
    "from sklearn.metrics import classification_report\n",
    "print(classification_report(y_test,y_pred_best))"
   ]
  },
  {
   "cell_type": "markdown",
   "metadata": {},
   "source": [
    "### 决策树可视化\n",
    "需要提前安装 graphviz"
   ]
  },
  {
   "cell_type": "code",
   "execution_count": 81,
   "metadata": {
    "scrolled": false
   },
   "outputs": [],
   "source": [
    "# 引入绘制决策树所需算法包\n",
    "from sklearn.tree import export_graphviz\n",
    "import graphviz\n",
    "import pydotplus \n",
    "from IPython.display import Image\n",
    "\n",
    "# 增加graphviz到环境变量\n",
    "import os\n",
    "os.environ[\"PATH\"] += os.pathsep + 'c:/Program Files (x86)/Graphviz2.38/bin/'\n",
    "\n",
    "#设置特征字段名称\n",
    "feature_names=X_enc.columns.tolist()\n",
    "\n",
    "\n",
    "#设置类别名称\n",
    "class_names=['No_ContractUser','ContractUser']\n",
    "\n",
    "#将模型存入dot文件iris.dot\n",
    "dot_data = export_graphviz(best_clf, out_file=None, \n",
    "                         feature_names=feature_names,  \n",
    "                         class_names=class_names,  \n",
    "                         filled=True, rounded=True,  \n",
    "                         special_characters=True)\n",
    "\n",
    "\n",
    "# 方法1：保存到pdf\n",
    "graph = pydotplus.graph_from_dot_data(dot_data) \n",
    "graph.write_pdf(\"carrier_decision_tree.pdf\") \n",
    "\n",
    "#方法2：保存为图片\n",
    "image = graph.create_png()\n",
    "with open('carrier_decision_tree.png','wb') as png:\n",
    "    png.write(image)\n",
    "\n",
    "\n",
    "\n",
    "# 方法3：显示在Jupyter notebook中\n",
    "# graphviz.Source(dot_data)\n",
    "\n",
    "# 方法34显示在Jupyter notebook中打印图片\n",
    "# graph = pydotplus.graph_from_dot_data(dot_data) \n",
    "# Image(graph.create_png())"
   ]
  },
  {
   "cell_type": "markdown",
   "metadata": {},
   "source": [
    "## 保存训练好的模型"
   ]
  },
  {
   "cell_type": "code",
   "execution_count": 82,
   "metadata": {},
   "outputs": [
    {
     "data": {
      "text/plain": [
       "['DT_carrier.pkl']"
      ]
     },
     "execution_count": 82,
     "metadata": {},
     "output_type": "execute_result"
    }
   ],
   "source": [
    "# 引入算法包sklearn.externals.joblib\n",
    "from sklearn.externals import joblib #pip install joblib\n",
    "\n",
    "# 保存训练好的模型为pkl文件\n",
    "joblib.dump(best_clf, 'DT_carrier.pkl')  #保存为pkl文件"
   ]
  },
  {
   "cell_type": "code",
   "execution_count": 83,
   "metadata": {},
   "outputs": [
    {
     "name": "stdout",
     "output_type": "stream",
     "text": [
      "0\n"
     ]
    }
   ],
   "source": [
    "#使用load()方法读取模型文件\n",
    "best_clf_02 = joblib.load('DT_carrier.pkl') \n",
    "\n",
    "#使用读取模型文件进行预测\n",
    "y_pred_best_02=best_clf.predict(X_test)#进行预测，预测数据仍需重新导入。\n",
    "\n",
    "print(np.sum(np.abs(y_pred_best-y_pred_best_02)))"
   ]
  }
 ],
 "metadata": {
  "kernelspec": {
   "display_name": "Python 3",
   "language": "python",
   "name": "python3"
  },
  "language_info": {
   "codemirror_mode": {
    "name": "ipython",
    "version": 3
   },
   "file_extension": ".py",
   "mimetype": "text/x-python",
   "name": "python",
   "nbconvert_exporter": "python",
   "pygments_lexer": "ipython3",
   "version": "3.6.4"
  }
 },
 "nbformat": 4,
 "nbformat_minor": 2
}
