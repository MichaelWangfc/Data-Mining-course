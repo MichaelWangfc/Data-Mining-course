{
 "cells": [
  {
   "cell_type": "markdown",
   "metadata": {},
   "source": [
    "$w^T x +b=0$"
   ]
  },
  {
   "cell_type": "markdown",
   "metadata": {},
   "source": [
    "拉格朗日乘子法(Lagrange multipliers)  \n",
    "$min_w f(w) \\\\\n",
    "s.t.  h_i(w)=0,i=1,2,....,l $\n",
    "\n",
    "$L(w,\\beta) = f(w)+\\sum_i^{l}\\beta_i h_i(w)$   \n",
    "其中：$\\beta_i $为拉格朗日乘子(Lagrange multipliers)\n",
    "\n",
    "$\\frac{\\partial L}{\\partial w_i} =0;\\frac{\\partial L}{\\partial \\beta_i} =0;$  \n",
    "然后求解$w和\\beta$\n"
   ]
  },
  {
   "cell_type": "markdown",
   "metadata": {},
   "source": [
    "\n",
    "    \n",
    "$min_w f(w)$  \n",
    "s.t.$g_i(w) \\leq0,i=1,2,....,k $   \n",
    "$   h_i(w) =0,i=1,2,....,l $\n",
    "\n",
    "一般的拉格朗日乘子法：  \n",
    "$L(w,\\alpha,\\beta) = f(w)+\\sum_i^{l}\\alpha_i g_i(w)+\\sum_i^{l}\\beta_i h_i(w)$    \n",
    "其中：$\\alpha_i,\\beta_i $为Lagrange multipliers.\n",
    "\n"
   ]
  },
  {
   "cell_type": "markdown",
   "metadata": {},
   "source": [
    "### 原始优化问题The primal optimization problem:"
   ]
  },
  {
   "cell_type": "markdown",
   "metadata": {},
   "source": [
    "设$\\theta_p(w) = max_{\\alpha,\\beta:\\alpha_i\\geq0}  L(w,\\alpha,\\beta)$\n",
    "\n",
    "\n",
    "如果给定的$w$不满足原始约束条件(the primal contstrais), 比如$g_i(w)>0$ or $h_i(w)\\neq 0$\n",
    "\\begin{align}\n",
    "\\theta_p(w) =& max_{\\alpha,\\beta:\\alpha_i\\geq0}  f(w)+\\sum_i^{l}\\alpha_i g_i(w)+\\sum_i^{l}\\beta_i h_i(w)\\\\\n",
    "=& \\infty\n",
    "\\end{align}\n",
    "\n",
    "\n"
   ]
  },
  {
   "cell_type": "markdown",
   "metadata": {},
   "source": [
    "原始问题：  \n",
    "$$min_w \\theta_p(w) = min_w max_{\\alpha,\\beta:\\alpha_i\\geq0}  L(w,\\alpha,\\beta)$$  \n",
    "其和我们原始的主问题的解是一样的。  \n",
    "$p^{*} = min_w \\theta_p(w)$ 称为原始问题的最优值\n",
    "\n",
    "(the optimal value of the primal problem)"
   ]
  },
  {
   "attachments": {},
   "cell_type": "markdown",
   "metadata": {},
   "source": [
    "对偶优化问题The dual optimization problem:  \n",
    "\n",
    "设$\\theta_D(\\alpha,\\beta) = min_{w}  L(w,\\alpha,\\beta)$\n",
    "\n",
    "$$max_{\\alpha,\\beta:\\alpha_i\\geq0} \\theta_D(\\alpha,\\beta) = max_{\\alpha,\\beta:\\alpha_i\\geq0} min_{w}  L(w,\\alpha,\\beta)$$ \n",
    "\n",
    "$d^{*} = max_{\\alpha,\\beta:\\alpha_i\\geq0} \\theta_D(\\alpha,\\beta)$ 称为对偶问题的最优值\n",
    "\n",
    "The optimal value of the dual problem\n",
    "\n"
   ]
  },
  {
   "cell_type": "markdown",
   "metadata": {},
   "source": [
    "当满足以下条件时：\n",
    "1. $f和g_i都是凸函数，h_i是仿射变化，即h_i(w)=\\alpha^{T}w+b_i$\n",
    "2. 约束条件$g_i$时严格可行的，即存在某个w，对所有i都有$g_i(w)<0$  \n",
    "则存在原始问题的解$w^*$和对偶问题的解$\\alpha^*,\\beta^*$,使得 \n",
    "\n",
    "$$p^* =d^* = L(w^*,\\alpha^*,\\beta^*)$$"
   ]
  },
  {
   "cell_type": "markdown",
   "metadata": {},
   "source": [
    "Karush-Kuhn-Tucker(KKT)条件\n",
    "\n",
    "\\begin{align}\n",
    "\\frac{\\partial}{\\partial w_i} L(w^{*},\\alpha^*,\\beta^*)=&0,i=1,2,......,n,\\tag{1}\\\\\n",
    "\\frac{\\partial}{\\partial \\beta_i} L(w^*,\\alpha^*,\\beta^*)=& 0,i=1,2,.....,l,\\tag{2}\\\\\n",
    "\\alpha_i^{*}g_i(w^{*})=&0 ,i=1,2,....k,\\tag{3}\\\\\n",
    "g_i(w^{*})\\leq&0,i=1,2,.....,k,\\tag{4}\\\\\n",
    "\\alpha_i^{*}\\geq&0,i=1,2,.....,k,\\tag{5}\n",
    "\\end{align}\n"
   ]
  },
  {
   "cell_type": "markdown",
   "metadata": {},
   "source": [
    "由于$g_i(w) < 0 \\Longrightarrow \\alpha_i=0$，\n",
    "只有在$g_i(w) = 0$时，即函数间隔为1时，也即正好  \n",
    "在决策边界上的那些点，其对应的$\\alpha_i>0$.这些点被称为支持向量(support vectors)"
   ]
  },
  {
   "cell_type": "code",
   "execution_count": null,
   "metadata": {},
   "outputs": [],
   "source": []
  },
  {
   "cell_type": "code",
   "execution_count": null,
   "metadata": {},
   "outputs": [],
   "source": []
  },
  {
   "attachments": {},
   "cell_type": "markdown",
   "metadata": {},
   "source": [
    "$w^* = \\sum \\alpha^*y_i x_i$\n",
    "\n",
    "$y_s(\\sum_i^m\\alpha_i y_i x_i^T x_s+b)=1$\n",
    "\n",
    "$b^∗_s=y_s−\\sum_i^m\\alpha_i y_i x^T_i x_s$\n",
    "\n",
    "$b^∗=\\frac{1}{s}\\sum_i^s b^*_s$"
   ]
  },
  {
   "attachments": {},
   "cell_type": "markdown",
   "metadata": {},
   "source": [
    "$w^∗∙x+b^∗=0$\n",
    "\n",
    "$f(x)=sign(w^∗∙x+b^∗)$"
   ]
  }
 ],
 "metadata": {
  "kernelspec": {
   "display_name": "Python 3",
   "language": "python",
   "name": "python3"
  },
  "language_info": {
   "codemirror_mode": {
    "name": "ipython",
    "version": 3
   },
   "file_extension": ".py",
   "mimetype": "text/x-python",
   "name": "python",
   "nbconvert_exporter": "python",
   "pygments_lexer": "ipython3",
   "version": "3.6.4"
  }
 },
 "nbformat": 4,
 "nbformat_minor": 2
}
