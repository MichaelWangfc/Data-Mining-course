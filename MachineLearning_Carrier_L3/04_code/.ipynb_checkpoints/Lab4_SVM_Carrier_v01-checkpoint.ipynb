{
 "cells": [
  {
   "cell_type": "markdown",
   "metadata": {},
   "source": [
    "### 背景：\n",
    "合约用户稳定性明显优于单卡用户，在网时长更长、单卡用户贡献更高，引导单卡用户向合约用户转化，能够减低用户整体离网率，是维系用户的重要手段。\n",
    "\n",
    "单卡用户数量庞大，采用“撒网法”引导用户办理合约不仅会耗费大量营销资源，而且效果并不理想。\n",
    "\n",
    "筛选有转合约潜力的用户，采取有针对性的营销，将有效节约营销资源、提高营销成功率。"
   ]
  },
  {
   "cell_type": "markdown",
   "metadata": {},
   "source": [
    "### 场景描述：\n",
    "通过对已经从单卡转合约的客户数据的分析，提取相关特性来训练模型，使用SVM算法预测在网具有单卡转合约倾向的客户。假设使用过往1年的数据"
   ]
  },
  {
   "cell_type": "markdown",
   "metadata": {},
   "source": [
    "### 字段\n",
    "\n",
    "字段（单位）  |备注\n",
    "------------- |-----------------\n",
    "唯一标识    | user_id\tint\t索引\n",
    "业务类型\t |service_kind\tstring\t离散值（设0为2G/1为3G/2为4G)\n",
    "入网时长（月）|net_age \tstring\t\n",
    "付费类型\t|pay_type\tint\t离散值（0为预付费，1为后付费)\n",
    "是否为三无用户|\tsilent_serv_flag\tstring\t离散值（0为否，1为是)无月租费、无最低消费、无来电显示\n",
    "主叫通话分钟（分）|\tclaa_dura \tlong\t建议做一个小case，将主被叫合并作为总“通话分钟”作为特征值（仅供参考）\n",
    "被叫通话分钟（分）|\tclalled_dura \tlong\t\n",
    "免费流量(M)\t|in_package_flux\tdoubel\t\n",
    "计费流量（M)|\tout_package_flux \tdoubel\t\n",
    "是否VIP|\tVIP\tstring\t离散（0为否，1为是）\n",
    "最近一次缴费金额(元)\t|last_recharge_value \tdoubel\t\n",
    "近一年月均缴费金额(元）|\ttotal_recharge_value\tdoubel\t\n",
    "上一年均缴费次数|\ttotal_recharge_count\tint\t\n",
    "是否潜在合约用户|\tcontractuser_flag（label)\tint\tlabel（0为否，1为是）\n"
   ]
  },
  {
   "cell_type": "code",
   "execution_count": 1,
   "metadata": {},
   "outputs": [
    {
     "name": "stderr",
     "output_type": "stream",
     "text": [
      "C:\\ProgramData\\Anaconda3\\lib\\site-packages\\sklearn\\cross_validation.py:41: DeprecationWarning: This module was deprecated in version 0.18 in favor of the model_selection module into which all the refactored classes and functions are moved. Also note that the interface of the new CV iterators are different from that of this module. This module will be removed in 0.20.\n",
      "  \"This module will be removed in 0.20.\", DeprecationWarning)\n",
      "C:\\ProgramData\\Anaconda3\\lib\\site-packages\\sklearn\\grid_search.py:42: DeprecationWarning: This module was deprecated in version 0.18 in favor of the model_selection module into which all the refactored classes and functions are moved. This module will be removed in 0.20.\n",
      "  DeprecationWarning)\n"
     ]
    }
   ],
   "source": [
    "# Author: Wang Feicheng <at Zhejiang Huawei>\n",
    "\n",
    "# Standard scientific Python imports\n",
    "import pandas as pd\n",
    "import numpy as np\n",
    "import matplotlib.pyplot as plt\n",
    "# Import datasets, classifiers and performance metrics\n",
    "\n",
    "from sklearn import datasets\n",
    "from sklearn import datasets, svm, metrics\n",
    "from sklearn.model_selection import train_test_split\n",
    "from sklearn.grid_search import GridSearchCV\n",
    "\n",
    "%matplotlib inline"
   ]
  },
  {
   "cell_type": "code",
   "execution_count": 2,
   "metadata": {},
   "outputs": [
    {
     "data": {
      "text/html": [
       "<div>\n",
       "<style scoped>\n",
       "    .dataframe tbody tr th:only-of-type {\n",
       "        vertical-align: middle;\n",
       "    }\n",
       "\n",
       "    .dataframe tbody tr th {\n",
       "        vertical-align: top;\n",
       "    }\n",
       "\n",
       "    .dataframe thead th {\n",
       "        text-align: right;\n",
       "    }\n",
       "</style>\n",
       "<table border=\"1\" class=\"dataframe\">\n",
       "  <thead>\n",
       "    <tr style=\"text-align: right;\">\n",
       "      <th></th>\n",
       "      <th>user_id</th>\n",
       "      <th>service_kind</th>\n",
       "      <th>net_age</th>\n",
       "      <th>pay_type</th>\n",
       "      <th>silent_serv_flag</th>\n",
       "      <th>call_dura</th>\n",
       "      <th>called_dura</th>\n",
       "      <th>in_package_flux</th>\n",
       "      <th>out_package_flux</th>\n",
       "      <th>vip</th>\n",
       "      <th>last_recharge_value</th>\n",
       "      <th>total_recharge_value</th>\n",
       "      <th>total_recharge_count</th>\n",
       "      <th>contractuser_flag</th>\n",
       "    </tr>\n",
       "  </thead>\n",
       "  <tbody>\n",
       "    <tr>\n",
       "      <th>0</th>\n",
       "      <td>8286355704</td>\n",
       "      <td>1</td>\n",
       "      <td>48</td>\n",
       "      <td>1</td>\n",
       "      <td>0</td>\n",
       "      <td>21</td>\n",
       "      <td>41</td>\n",
       "      <td>5120</td>\n",
       "      <td>0</td>\n",
       "      <td>0</td>\n",
       "      <td>200</td>\n",
       "      <td>147</td>\n",
       "      <td>6</td>\n",
       "      <td>0</td>\n",
       "    </tr>\n",
       "    <tr>\n",
       "      <th>1</th>\n",
       "      <td>8066938760</td>\n",
       "      <td>1</td>\n",
       "      <td>17</td>\n",
       "      <td>1</td>\n",
       "      <td>0</td>\n",
       "      <td>32</td>\n",
       "      <td>69</td>\n",
       "      <td>10240</td>\n",
       "      <td>0</td>\n",
       "      <td>0</td>\n",
       "      <td>20</td>\n",
       "      <td>7</td>\n",
       "      <td>6</td>\n",
       "      <td>1</td>\n",
       "    </tr>\n",
       "    <tr>\n",
       "      <th>2</th>\n",
       "      <td>8260613312</td>\n",
       "      <td>1</td>\n",
       "      <td>55</td>\n",
       "      <td>0</td>\n",
       "      <td>0</td>\n",
       "      <td>32</td>\n",
       "      <td>8</td>\n",
       "      <td>1024</td>\n",
       "      <td>27</td>\n",
       "      <td>0</td>\n",
       "      <td>9</td>\n",
       "      <td>3</td>\n",
       "      <td>10</td>\n",
       "      <td>1</td>\n",
       "    </tr>\n",
       "    <tr>\n",
       "      <th>3</th>\n",
       "      <td>8915484677</td>\n",
       "      <td>1</td>\n",
       "      <td>26</td>\n",
       "      <td>1</td>\n",
       "      <td>0</td>\n",
       "      <td>40</td>\n",
       "      <td>60</td>\n",
       "      <td>200</td>\n",
       "      <td>0</td>\n",
       "      <td>0</td>\n",
       "      <td>29</td>\n",
       "      <td>9</td>\n",
       "      <td>12</td>\n",
       "      <td>1</td>\n",
       "    </tr>\n",
       "    <tr>\n",
       "      <th>4</th>\n",
       "      <td>8800595482</td>\n",
       "      <td>1</td>\n",
       "      <td>8</td>\n",
       "      <td>1</td>\n",
       "      <td>0</td>\n",
       "      <td>28</td>\n",
       "      <td>24</td>\n",
       "      <td>300</td>\n",
       "      <td>0</td>\n",
       "      <td>0</td>\n",
       "      <td>100</td>\n",
       "      <td>75</td>\n",
       "      <td>11</td>\n",
       "      <td>1</td>\n",
       "    </tr>\n",
       "  </tbody>\n",
       "</table>\n",
       "</div>"
      ],
      "text/plain": [
       "      user_id  service_kind  net_age  pay_type  silent_serv_flag  call_dura  \\\n",
       "0  8286355704             1       48         1                 0         21   \n",
       "1  8066938760             1       17         1                 0         32   \n",
       "2  8260613312             1       55         0                 0         32   \n",
       "3  8915484677             1       26         1                 0         40   \n",
       "4  8800595482             1        8         1                 0         28   \n",
       "\n",
       "   called_dura  in_package_flux  out_package_flux  vip  last_recharge_value  \\\n",
       "0           41             5120                 0    0                  200   \n",
       "1           69            10240                 0    0                   20   \n",
       "2            8             1024                27    0                    9   \n",
       "3           60              200                 0    0                   29   \n",
       "4           24              300                 0    0                  100   \n",
       "\n",
       "   total_recharge_value  total_recharge_count  contractuser_flag  \n",
       "0                   147                     6                  0  \n",
       "1                     7                     6                  1  \n",
       "2                     3                    10                  1  \n",
       "3                     9                    12                  1  \n",
       "4                    75                    11                  1  "
      ]
     },
     "execution_count": 2,
     "metadata": {},
     "output_type": "execute_result"
    }
   ],
   "source": [
    "data = pd.read_csv('svm_newcolumns2.csv',sep =',',index_col= 0)\n",
    "data.head()"
   ]
  },
  {
   "cell_type": "code",
   "execution_count": 3,
   "metadata": {},
   "outputs": [],
   "source": [
    "# old_columns =data.columns.tolist()\n",
    "# old_columns.index('silent_serv_flag')\n",
    "# old_columns.insert(5,'out_package_flux')\n",
    "# old_columns\n",
    "# new_data = data.reset_index()\n",
    "# new_columns =['user_id',\n",
    "#  'service_kind',\n",
    "#  'net_age',\n",
    "#  'pay_type',\n",
    "#  'silent_serv_flag',\n",
    "#  'call_dura',\n",
    "#  'called_dura',\n",
    "#  'in_package_flux',\n",
    "# 'out_package_flux',\n",
    "#  'vip',\n",
    "#  'last_recharge_value',\n",
    "#  'total_recharge_value',\n",
    "#  'total_recharge_count',\n",
    "#  'contractuser_flag']\n",
    "# new_data.columns = new_columns\n",
    "# new_data.to_csv('svm_newcolumns.csv')"
   ]
  },
  {
   "cell_type": "code",
   "execution_count": 3,
   "metadata": {},
   "outputs": [
    {
     "name": "stdout",
     "output_type": "stream",
     "text": [
      "the shape of the data is :(1000000, 14)\n"
     ]
    }
   ],
   "source": [
    "#显示数据集的基本信息\n",
    "print(\"the shape of the data is :{0}\".format(data.shape))"
   ]
  },
  {
   "cell_type": "code",
   "execution_count": 5,
   "metadata": {},
   "outputs": [
    {
     "name": "stdout",
     "output_type": "stream",
     "text": [
      "<class 'pandas.core.frame.DataFrame'>\n",
      "Int64Index: 1000000 entries, 0 to 999999\n",
      "Data columns (total 14 columns):\n",
      "user_id                 1000000 non-null int64\n",
      "service_kind            1000000 non-null int64\n",
      "net_age                 1000000 non-null int64\n",
      "pay_type                1000000 non-null int64\n",
      "silent_serv_flag        1000000 non-null int64\n",
      "call_dura               1000000 non-null int64\n",
      "called_dura             1000000 non-null int64\n",
      "in_package_flux         1000000 non-null int64\n",
      "out_package_flux        1000000 non-null int64\n",
      "vip                     1000000 non-null int64\n",
      "last_recharge_value     1000000 non-null int64\n",
      "total_recharge_value    1000000 non-null int64\n",
      "total_recharge_count    1000000 non-null int64\n",
      "contractuser_flag       1000000 non-null int64\n",
      "dtypes: int64(14)\n",
      "memory usage: 114.4 MB\n"
     ]
    }
   ],
   "source": [
    "data.info()"
   ]
  },
  {
   "cell_type": "code",
   "execution_count": 4,
   "metadata": {},
   "outputs": [
    {
     "data": {
      "text/html": [
       "<div>\n",
       "<style scoped>\n",
       "    .dataframe tbody tr th:only-of-type {\n",
       "        vertical-align: middle;\n",
       "    }\n",
       "\n",
       "    .dataframe tbody tr th {\n",
       "        vertical-align: top;\n",
       "    }\n",
       "\n",
       "    .dataframe thead th {\n",
       "        text-align: right;\n",
       "    }\n",
       "</style>\n",
       "<table border=\"1\" class=\"dataframe\">\n",
       "  <thead>\n",
       "    <tr style=\"text-align: right;\">\n",
       "      <th></th>\n",
       "      <th>user_id</th>\n",
       "      <th>service_kind</th>\n",
       "      <th>net_age</th>\n",
       "      <th>pay_type</th>\n",
       "      <th>silent_serv_flag</th>\n",
       "      <th>call_dura</th>\n",
       "      <th>called_dura</th>\n",
       "      <th>in_package_flux</th>\n",
       "      <th>out_package_flux</th>\n",
       "      <th>vip</th>\n",
       "      <th>last_recharge_value</th>\n",
       "      <th>total_recharge_value</th>\n",
       "      <th>total_recharge_count</th>\n",
       "      <th>contractuser_flag</th>\n",
       "    </tr>\n",
       "  </thead>\n",
       "  <tbody>\n",
       "    <tr>\n",
       "      <th>count</th>\n",
       "      <td>1.000000e+06</td>\n",
       "      <td>1000000.000000</td>\n",
       "      <td>1000000.000000</td>\n",
       "      <td>1000000.000000</td>\n",
       "      <td>1000000.000000</td>\n",
       "      <td>1000000.000000</td>\n",
       "      <td>1000000.000000</td>\n",
       "      <td>1000000.000000</td>\n",
       "      <td>1000000.000000</td>\n",
       "      <td>1000000.000000</td>\n",
       "      <td>1000000.000000</td>\n",
       "      <td>1000000.000000</td>\n",
       "      <td>1000000.000000</td>\n",
       "      <td>1000000.000000</td>\n",
       "    </tr>\n",
       "    <tr>\n",
       "      <th>mean</th>\n",
       "      <td>8.499889e+09</td>\n",
       "      <td>1.222282</td>\n",
       "      <td>30.320124</td>\n",
       "      <td>0.499244</td>\n",
       "      <td>0.019061</td>\n",
       "      <td>29.550506</td>\n",
       "      <td>40.604006</td>\n",
       "      <td>2780.558732</td>\n",
       "      <td>8.875218</td>\n",
       "      <td>0.018831</td>\n",
       "      <td>98.823879</td>\n",
       "      <td>68.815505</td>\n",
       "      <td>8.101667</td>\n",
       "      <td>0.517816</td>\n",
       "    </tr>\n",
       "    <tr>\n",
       "      <th>std</th>\n",
       "      <td>2.886936e+08</td>\n",
       "      <td>0.628610</td>\n",
       "      <td>14.133466</td>\n",
       "      <td>0.500000</td>\n",
       "      <td>0.136740</td>\n",
       "      <td>9.946614</td>\n",
       "      <td>18.862642</td>\n",
       "      <td>3088.529538</td>\n",
       "      <td>14.605440</td>\n",
       "      <td>0.135928</td>\n",
       "      <td>102.080822</td>\n",
       "      <td>62.267861</td>\n",
       "      <td>4.929610</td>\n",
       "      <td>0.499683</td>\n",
       "    </tr>\n",
       "    <tr>\n",
       "      <th>min</th>\n",
       "      <td>8.000003e+09</td>\n",
       "      <td>0.000000</td>\n",
       "      <td>0.000000</td>\n",
       "      <td>0.000000</td>\n",
       "      <td>0.000000</td>\n",
       "      <td>0.000000</td>\n",
       "      <td>0.000000</td>\n",
       "      <td>200.000000</td>\n",
       "      <td>0.000000</td>\n",
       "      <td>0.000000</td>\n",
       "      <td>0.000000</td>\n",
       "      <td>-70.000000</td>\n",
       "      <td>1.000000</td>\n",
       "      <td>0.000000</td>\n",
       "    </tr>\n",
       "    <tr>\n",
       "      <th>25%</th>\n",
       "      <td>8.250025e+09</td>\n",
       "      <td>1.000000</td>\n",
       "      <td>20.000000</td>\n",
       "      <td>0.000000</td>\n",
       "      <td>0.000000</td>\n",
       "      <td>23.000000</td>\n",
       "      <td>27.000000</td>\n",
       "      <td>500.000000</td>\n",
       "      <td>0.000000</td>\n",
       "      <td>0.000000</td>\n",
       "      <td>33.000000</td>\n",
       "      <td>26.000000</td>\n",
       "      <td>4.000000</td>\n",
       "      <td>0.000000</td>\n",
       "    </tr>\n",
       "    <tr>\n",
       "      <th>50%</th>\n",
       "      <td>8.499823e+09</td>\n",
       "      <td>1.000000</td>\n",
       "      <td>30.000000</td>\n",
       "      <td>0.000000</td>\n",
       "      <td>0.000000</td>\n",
       "      <td>30.000000</td>\n",
       "      <td>40.000000</td>\n",
       "      <td>1536.000000</td>\n",
       "      <td>0.000000</td>\n",
       "      <td>0.000000</td>\n",
       "      <td>50.000000</td>\n",
       "      <td>53.000000</td>\n",
       "      <td>8.000000</td>\n",
       "      <td>1.000000</td>\n",
       "    </tr>\n",
       "    <tr>\n",
       "      <th>75%</th>\n",
       "      <td>8.750222e+09</td>\n",
       "      <td>2.000000</td>\n",
       "      <td>40.000000</td>\n",
       "      <td>1.000000</td>\n",
       "      <td>0.000000</td>\n",
       "      <td>36.000000</td>\n",
       "      <td>53.000000</td>\n",
       "      <td>4096.000000</td>\n",
       "      <td>20.000000</td>\n",
       "      <td>0.000000</td>\n",
       "      <td>100.000000</td>\n",
       "      <td>95.000000</td>\n",
       "      <td>11.000000</td>\n",
       "      <td>1.000000</td>\n",
       "    </tr>\n",
       "    <tr>\n",
       "      <th>max</th>\n",
       "      <td>9.000000e+09</td>\n",
       "      <td>2.000000</td>\n",
       "      <td>101.000000</td>\n",
       "      <td>1.000000</td>\n",
       "      <td>1.000000</td>\n",
       "      <td>79.000000</td>\n",
       "      <td>133.000000</td>\n",
       "      <td>10240.000000</td>\n",
       "      <td>74.000000</td>\n",
       "      <td>1.000000</td>\n",
       "      <td>500.000000</td>\n",
       "      <td>510.000000</td>\n",
       "      <td>20.000000</td>\n",
       "      <td>1.000000</td>\n",
       "    </tr>\n",
       "  </tbody>\n",
       "</table>\n",
       "</div>"
      ],
      "text/plain": [
       "            user_id    service_kind         net_age        pay_type  \\\n",
       "count  1.000000e+06  1000000.000000  1000000.000000  1000000.000000   \n",
       "mean   8.499889e+09        1.222282       30.320124        0.499244   \n",
       "std    2.886936e+08        0.628610       14.133466        0.500000   \n",
       "min    8.000003e+09        0.000000        0.000000        0.000000   \n",
       "25%    8.250025e+09        1.000000       20.000000        0.000000   \n",
       "50%    8.499823e+09        1.000000       30.000000        0.000000   \n",
       "75%    8.750222e+09        2.000000       40.000000        1.000000   \n",
       "max    9.000000e+09        2.000000      101.000000        1.000000   \n",
       "\n",
       "       silent_serv_flag       call_dura     called_dura  in_package_flux  \\\n",
       "count    1000000.000000  1000000.000000  1000000.000000   1000000.000000   \n",
       "mean           0.019061       29.550506       40.604006      2780.558732   \n",
       "std            0.136740        9.946614       18.862642      3088.529538   \n",
       "min            0.000000        0.000000        0.000000       200.000000   \n",
       "25%            0.000000       23.000000       27.000000       500.000000   \n",
       "50%            0.000000       30.000000       40.000000      1536.000000   \n",
       "75%            0.000000       36.000000       53.000000      4096.000000   \n",
       "max            1.000000       79.000000      133.000000     10240.000000   \n",
       "\n",
       "       out_package_flux             vip  last_recharge_value  \\\n",
       "count    1000000.000000  1000000.000000       1000000.000000   \n",
       "mean           8.875218        0.018831            98.823879   \n",
       "std           14.605440        0.135928           102.080822   \n",
       "min            0.000000        0.000000             0.000000   \n",
       "25%            0.000000        0.000000            33.000000   \n",
       "50%            0.000000        0.000000            50.000000   \n",
       "75%           20.000000        0.000000           100.000000   \n",
       "max           74.000000        1.000000           500.000000   \n",
       "\n",
       "       total_recharge_value  total_recharge_count  contractuser_flag  \n",
       "count        1000000.000000        1000000.000000     1000000.000000  \n",
       "mean              68.815505              8.101667           0.517816  \n",
       "std               62.267861              4.929610           0.499683  \n",
       "min              -70.000000              1.000000           0.000000  \n",
       "25%               26.000000              4.000000           0.000000  \n",
       "50%               53.000000              8.000000           1.000000  \n",
       "75%               95.000000             11.000000           1.000000  \n",
       "max              510.000000             20.000000           1.000000  "
      ]
     },
     "execution_count": 4,
     "metadata": {},
     "output_type": "execute_result"
    }
   ],
   "source": [
    "#描述性统计\n",
    "data.describe()"
   ]
  },
  {
   "cell_type": "markdown",
   "metadata": {},
   "source": [
    "# Exploring the data"
   ]
  },
  {
   "cell_type": "code",
   "execution_count": 5,
   "metadata": {},
   "outputs": [
    {
     "name": "stdout",
     "output_type": "stream",
     "text": [
      "1    517816\n",
      "0    482184\n",
      "Name: contractuser_flag, dtype: int64\n"
     ]
    },
    {
     "data": {
      "text/plain": [
       "<matplotlib.axes._subplots.AxesSubplot at 0x1dd5b198>"
      ]
     },
     "execution_count": 5,
     "metadata": {},
     "output_type": "execute_result"
    },
    {
     "data": {
      "image/png": "[encoded data removed]",
      "text/plain": [
       "<Figure size 432x288 with 1 Axes>"
      ]
     },
     "metadata": {},
     "output_type": "display_data"
    }
   ],
   "source": [
    "# 显示是否潜在合约用户的情况\n",
    "value_counts = data.contractuser_flag.value_counts()\n",
    "print(value_counts)\n",
    "value_counts.plot('bar',rot = 0,grid =True)"
   ]
  },
  {
   "cell_type": "code",
   "execution_count": 6,
   "metadata": {},
   "outputs": [
    {
     "data": {
      "text/plain": [
       "<matplotlib.axes._subplots.AxesSubplot at 0xb5f88d0>"
      ]
     },
     "execution_count": 6,
     "metadata": {},
     "output_type": "execute_result"
    },
    {
     "data": {
      "image/png": "[encoded data removed]",
      "text/plain": [
       "<Figure size 432x288 with 1 Axes>"
      ]
     },
     "metadata": {},
     "output_type": "display_data"
    }
   ],
   "source": [
    "#显示业务类型和是否潜在合约用户的关系\n",
    "grouped_data = data.groupby(['contractuser_flag','service_kind']).count()['user_id']\n",
    "# grouped_data.\n",
    "unstack_group = grouped_data.unstack()\n",
    "unstack_group.plot(kind= 'bar',rot =0)\n",
    "# plt.plot()"
   ]
  },
  {
   "cell_type": "code",
   "execution_count": 7,
   "metadata": {},
   "outputs": [
    {
     "data": {
      "text/plain": [
       "<matplotlib.axes._subplots.AxesSubplot at 0xbaa4470>"
      ]
     },
     "execution_count": 7,
     "metadata": {},
     "output_type": "execute_result"
    },
    {
     "data": {
      "image/png": "[encoded data removed]",
      "text/plain": [
       "<Figure size 864x432 with 2 Axes>"
      ]
     },
     "metadata": {},
     "output_type": "display_data"
    }
   ],
   "source": [
    "#显示net_age 入网时长（月）和是否潜在合约用户的关系\n",
    "plt.figure(figsize = (12,6))\n",
    "plt.subplot(121,title = 'contractuser_flag=1')\n",
    "data[data.contractuser_flag==1]['net_age'].hist()\n",
    "plt.subplot(122,title ='contractuser_flag=0')\n",
    "data[data.contractuser_flag==0]['net_age'].hist(color='r',alpha = 0.5)"
   ]
  },
  {
   "cell_type": "code",
   "execution_count": 8,
   "metadata": {},
   "outputs": [
    {
     "data": {
      "text/plain": [
       "<matplotlib.axes._subplots.AxesSubplot at 0xbf26d68>"
      ]
     },
     "execution_count": 8,
     "metadata": {},
     "output_type": "execute_result"
    },
    {
     "data": {
      "image/png": "[encoded data removed]",
      "text/plain": [
       "<Figure size 864x432 with 2 Axes>"
      ]
     },
     "metadata": {},
     "output_type": "display_data"
    }
   ],
   "source": [
    "plt.figure(figsize = (12,6))\n",
    "plt.subplot(121,title = 'contractuser_flag=1')\n",
    "data[data.contractuser_flag ==1]['total_recharge_value'].hist()\n",
    "plt.subplot(122,title = 'contractuser_flag=1')\n",
    "\n",
    "data[data.contractuser_flag ==1]['total_recharge_value'].hist(color = 'r')"
   ]
  },
  {
   "cell_type": "markdown",
   "metadata": {},
   "source": [
    "# Train the model"
   ]
  },
  {
   "cell_type": "markdown",
   "metadata": {},
   "source": [
    "## Split the data into train/test datasets\n"
   ]
  },
  {
   "cell_type": "code",
   "execution_count": 27,
   "metadata": {},
   "outputs": [
    {
     "data": {
      "text/plain": [
       "(1000000, 14)"
      ]
     },
     "execution_count": 27,
     "metadata": {},
     "output_type": "execute_result"
    }
   ],
   "source": [
    "sample = data.sample(frac =1)\n",
    "sample.shape"
   ]
  },
  {
   "cell_type": "code",
   "execution_count": 28,
   "metadata": {},
   "outputs": [
    {
     "name": "stdout",
     "output_type": "stream",
     "text": [
      "(1000000, 14) (800000, 13) (200000, 13)\n"
     ]
    }
   ],
   "source": [
    "X = sample.iloc[:,:-1]\n",
    "y = sample.iloc[:,-1]\n",
    "X_train,X_test,y_train,y_test = train_test_split(X,y,\n",
    "                                        test_size = 0.2,\n",
    "                                        random_state = 111)\n",
    "print(data.shape,X_train.shape,X_test.shape)"
   ]
  },
  {
   "cell_type": "code",
   "execution_count": null,
   "metadata": {},
   "outputs": [],
   "source": [
    "clf  = svm.SVC(C= 0.01)\n",
    "clf.fit(X_train,y_train)\n"
   ]
  },
  {
   "cell_type": "code",
   "execution_count": 23,
   "metadata": {},
   "outputs": [
    {
     "name": "stdout",
     "output_type": "stream",
     "text": [
      "             precision    recall  f1-score   support\n",
      "\n",
      "          0       0.00      0.00      0.00        93\n",
      "          1       0.54      1.00      0.70       107\n",
      "\n",
      "avg / total       0.29      0.54      0.37       200\n",
      "\n"
     ]
    },
    {
     "name": "stderr",
     "output_type": "stream",
     "text": [
      "C:\\ProgramData\\Anaconda3\\lib\\site-packages\\sklearn\\metrics\\classification.py:1135: UndefinedMetricWarning: Precision and F-score are ill-defined and being set to 0.0 in labels with no predicted samples.\n",
      "  'precision', 'predicted', average, warn_for)\n"
     ]
    }
   ],
   "source": [
    "y_pred = clf.predict(X_test)\n",
    "print(metrics.classification_report(y_test, y_pred))"
   ]
  },
  {
   "cell_type": "markdown",
   "metadata": {},
   "source": [
    "### Train the parameter and regulation parameter C on the train set with gridsearch\n",
    "When training an SVM with the Radial Basis Function (RBF) kernel, two parameters must be considered: C and gamma. \n",
    "- The parameter C, common to all SVM kernels, trades off misclassification of training examples against simplicity of the decision surface. A low C makes the decision surface smooth, while a high C aims at classifying all training examples correctly. \n",
    "- gamma defines how much influence a single training example has. The larger gamma is, the closer other examples must be to be affected."
   ]
  },
  {
   "cell_type": "code",
   "execution_count": 25,
   "metadata": {},
   "outputs": [
    {
     "data": {
      "text/plain": [
       "{'C': array([1.e-04, 1.e-02, 1.e+00, 1.e+02, 1.e+04]),\n",
       " 'gamma': array([1.00000000e-05, 3.16227766e-03, 1.00000000e+00, 3.16227766e+02,\n",
       "        1.00000000e+05])}"
      ]
     },
     "execution_count": 25,
     "metadata": {},
     "output_type": "execute_result"
    }
   ],
   "source": [
    "# define the param_grid to tuning\n",
    "import numpy as np\n",
    "C_range = np.logspace(-4, 4, 5,base = 10)\n",
    "gamma_range = np.logspace(-5, 5, 5)\n",
    "param_grid = {\"C\":C_range,\n",
    "                 \"gamma\":gamma_range}\n",
    "param_grid"
   ]
  },
  {
   "cell_type": "code",
   "execution_count": 26,
   "metadata": {},
   "outputs": [
    {
     "data": {
      "text/plain": [
       "GridSearchCV(cv=10, error_score='raise',\n",
       "       estimator=SVC(C=1.0, cache_size=5000, class_weight=None, coef0=0.0,\n",
       "  decision_function_shape='ovr', degree=3, gamma='auto', kernel='rbf',\n",
       "  max_iter=-1, probability=False, random_state=None, shrinking=True,\n",
       "  tol=0.001, verbose=False),\n",
       "       fit_params={}, iid=True, n_jobs=4,\n",
       "       param_grid={'C': array([1.e-04, 1.e-02, 1.e+00, 1.e+02, 1.e+04]), 'gamma': array([1.00000e-05, 3.16228e-03, 1.00000e+00, 3.16228e+02, 1.00000e+05])},\n",
       "       pre_dispatch='2*n_jobs', refit=True, scoring=None, verbose=0)"
      ]
     },
     "execution_count": 26,
     "metadata": {},
     "output_type": "execute_result"
    }
   ],
   "source": [
    "#gridsearch for the best paramters for C and gramma\n",
    "classifier = svm.SVC(kernel=\"rbf\",cache_size=5000)\n",
    "grid = GridSearchCV(classifier,param_grid,n_jobs=4,cv = 10)\n",
    "grid.fit(X_train,y_train)"
   ]
  },
  {
   "cell_type": "code",
   "execution_count": 10,
   "metadata": {},
   "outputs": [
    {
     "name": "stdout",
     "output_type": "stream",
     "text": [
      "The best parameters are {'C': 4.6415888336127775, 'gamma': 0.00021544346900318823} with a score of 0.99\n"
     ]
    }
   ],
   "source": [
    "#show the best paramters \n",
    "print(\"The best parameters are %s with a score of %0.2f\"\n",
    "      % (grid.best_params_, grid.best_score_))"
   ]
  },
  {
   "cell_type": "code",
   "execution_count": 11,
   "metadata": {},
   "outputs": [],
   "source": [
    "# grid.grid_scores_"
   ]
  },
  {
   "cell_type": "markdown",
   "metadata": {},
   "source": [
    "## train the decision boundary on the train set with optimal paramter"
   ]
  },
  {
   "cell_type": "code",
   "execution_count": 12,
   "metadata": {},
   "outputs": [
    {
     "data": {
      "text/plain": [
       "SVC(C=4.6415888336127775, cache_size=1000, class_weight=None, coef0=0.0,\n",
       "  decision_function_shape='ovr', degree=3, gamma=0.00021544346900318823,\n",
       "  kernel='rbf', max_iter=-1, probability=False, random_state=113,\n",
       "  shrinking=True, tol=0.001, verbose=False)"
      ]
     },
     "execution_count": 12,
     "metadata": {},
     "output_type": "execute_result"
    }
   ],
   "source": [
    "best_classifier = svm.SVC(kernel =\"rbf\",cache_size=1000,\n",
    "                         C= grid.best_params_['C'],\n",
    "                         gamma =grid.best_params_['gamma'],\n",
    "                         random_state=113)\n",
    "best_classifier.fit(X_train,y_train)"
   ]
  },
  {
   "cell_type": "code",
   "execution_count": 13,
   "metadata": {},
   "outputs": [
    {
     "name": "stdout",
     "output_type": "stream",
     "text": [
      "Classification report for classifier SVC(C=4.6415888336127775, cache_size=1000, class_weight=None, coef0=0.0,\n",
      "  decision_function_shape='ovr', degree=3, gamma=0.00021544346900318823,\n",
      "  kernel='rbf', max_iter=-1, probability=False, random_state=113,\n",
      "  shrinking=True, tol=0.001, verbose=False):\n",
      "             precision    recall  f1-score   support\n",
      "\n",
      "          0       1.00      1.00      1.00        36\n",
      "          1       1.00      1.00      1.00        39\n",
      "          2       1.00      1.00      1.00        32\n",
      "          3       1.00      0.97      0.99        35\n",
      "          4       1.00      0.95      0.97        38\n",
      "          5       1.00      0.97      0.99        35\n",
      "          6       1.00      1.00      1.00        38\n",
      "          7       0.97      1.00      0.99        38\n",
      "          8       0.97      1.00      0.99        36\n",
      "          9       0.94      1.00      0.97        33\n",
      "\n",
      "avg / total       0.99      0.99      0.99       360\n",
      "\n",
      "\n"
     ]
    }
   ],
   "source": [
    "y_pred = best_classifier.predict(X_test)\n",
    "print(\"Classification report for classifier %s:\\n%s\\n\"\n",
    "      % (best_classifier, metrics.classification_report(y_test, y_pred)))"
   ]
  },
  {
   "cell_type": "code",
   "execution_count": 14,
   "metadata": {},
   "outputs": [
    {
     "name": "stdout",
     "output_type": "stream",
     "text": [
      "Confusion matrix:\n",
      "[[36  0  0  0  0  0  0  0  0  0]\n",
      " [ 0 39  0  0  0  0  0  0  0  0]\n",
      " [ 0  0 32  0  0  0  0  0  0  0]\n",
      " [ 0  0  0 34  0  0  0  1  0  0]\n",
      " [ 0  0  0  0 36  0  0  0  1  1]\n",
      " [ 0  0  0  0  0 34  0  0  0  1]\n",
      " [ 0  0  0  0  0  0 38  0  0  0]\n",
      " [ 0  0  0  0  0  0  0 38  0  0]\n",
      " [ 0  0  0  0  0  0  0  0 36  0]\n",
      " [ 0  0  0  0  0  0  0  0  0 33]]\n"
     ]
    }
   ],
   "source": [
    "#show Confusion matrix\n",
    "print(\"Confusion matrix:\\n%s\" % metrics.confusion_matrix(y_test, y_pred))"
   ]
  },
  {
   "cell_type": "code",
   "execution_count": 15,
   "metadata": {},
   "outputs": [
    {
     "data": {
      "image/png": "[encoded data removed]",
      "text/plain": [
       "<Figure size 432x288 with 4 Axes>"
      ]
     },
     "metadata": {},
     "output_type": "display_data"
    }
   ],
   "source": [
    "#show the images and the predictions\n",
    "images_and_predictions = list(zip(X_test.reshape((360,8,-1)), y_pred))\n",
    "for index, (image, prediction) in enumerate(images_and_predictions[:4]):\n",
    "    plt.subplot(2, 4, index + 5)\n",
    "    plt.axis('off')\n",
    "    plt.imshow(image, cmap=plt.cm.gray_r, interpolation='nearest')\n",
    "    plt.title('Prediction: %i' % prediction)\n",
    "\n",
    "plt.show()"
   ]
  }
 ],
 "metadata": {
  "kernelspec": {
   "display_name": "Python 3",
   "language": "python",
   "name": "python3"
  },
  "language_info": {
   "codemirror_mode": {
    "name": "ipython",
    "version": 3
   },
   "file_extension": ".py",
   "mimetype": "text/x-python",
   "name": "python",
   "nbconvert_exporter": "python",
   "pygments_lexer": "ipython3",
   "version": "3.6.4"
  }
 },
 "nbformat": 4,
 "nbformat_minor": 1
}
