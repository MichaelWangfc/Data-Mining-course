{
 "cells": [
  {
   "cell_type": "markdown",
   "metadata": {},
   "source": [
    "## 业务场景"
   ]
  },
  {
   "cell_type": "markdown",
   "metadata": {},
   "source": [
    "利用用户历史行为数据：'用户标识', '业务类型', '主叫时长（分）', '被叫时长（分）', '免费流量', '计费流量',\n",
    "          '月均上网时长（分）', '入网时长（天）', '最近一次缴费金额（元）', '总缴费金额(元)', '缴费次数',\n",
    "          '余额'等信息，\n",
    "判断是否潜在合约客户 vs 单卡客户："
   ]
  },
  {
   "cell_type": "markdown",
   "metadata": {},
   "source": [
    "## 字段信息：\n",
    "名称       | 说明   | 类型  |\n",
    "--------------|---------|--------|-----\n",
    "user_id     |用户标识 | int   |\n",
    "service_kind  |业务类型 | string | 2G\\3G\\4G\n",
    "call_duration|主叫时长（分）|\n",
    "called_duration|被叫时长（分）\n",
    "in_package_flux|免费流量\n",
    "out_package_flux|计费流量\n",
    "monthly_online_duration|月均上网时长（分）|\n",
    "net_duration |入网时长（天） |long\n",
    "last_recharge_value|最近一次缴费金额（元）\n",
    "total_recharge_value|总缴费金额(元)|\n",
    "total_recharge_count|缴费次数\n",
    "balanced|余额（元）|\n",
    "contractuser_flag|是否潜在合约用户\n",
    "\n"
   ]
  },
  {
   "cell_type": "code",
   "execution_count": 1,
   "metadata": {},
   "outputs": [],
   "source": [
    "#导入常用的库\n",
    "# numpy: python中常用的多维数值计算库，常用简称 np\n",
    "# pandas:python中的数据分析库，常用简称 pd\n",
    "# matplotlib :python中的图形库，常用简称plt\n",
    "# %matplotlib inline：IPython魔法函数（Magic Functions），可以内嵌绘图，并且可以省略掉plt.show()这一步\n",
    "#约4行代码：\n",
    "import numpy as np\n",
    "import pandas as pd\n",
    "import matplotlib.pyplot as plt\n",
    "%matplotlib inline"
   ]
  },
  {
   "cell_type": "code",
   "execution_count": 2,
   "metadata": {},
   "outputs": [],
   "source": [
    "#设定绘图时的中文字体的设置\n",
    "from pylab import mpl\n",
    "mpl.rcParams['font.sans-serif'] = ['FangSong'] # 指定默认字体\n",
    "mpl.rcParams['axes.unicode_minus'] = False # 解决保存图像是负号'-'显示为方块的问题"
   ]
  },
  {
   "cell_type": "markdown",
   "metadata": {},
   "source": [
    "## 读取运营商数据"
   ]
  },
  {
   "cell_type": "code",
   "execution_count": null,
   "metadata": {},
   "outputs": [],
   "source": [
    "#使用pandas的读取csv文件的函数 pd.read_csv(),生成数据的dataframe\n",
    "#数据文件名：carrier_contractuser.csv\n",
    "#编码格式：utf8\n",
    "#分隔符： |\n",
    "#约1行代码:\n",
    "\n",
    "\n",
    "\n",
    "#显示前5行:\n",
    "#约1行代码:\n",
    "\n",
    "\n"
   ]
  },
  {
   "cell_type": "code",
   "execution_count": 3,
   "metadata": {},
   "outputs": [
    {
     "data": {
      "text/html": [
       "<div>\n",
       "<style scoped>\n",
       "    .dataframe tbody tr th:only-of-type {\n",
       "        vertical-align: middle;\n",
       "    }\n",
       "\n",
       "    .dataframe tbody tr th {\n",
       "        vertical-align: top;\n",
       "    }\n",
       "\n",
       "    .dataframe thead th {\n",
       "        text-align: right;\n",
       "    }\n",
       "</style>\n",
       "<table border=\"1\" class=\"dataframe\">\n",
       "  <thead>\n",
       "    <tr style=\"text-align: right;\">\n",
       "      <th></th>\n",
       "      <th>USER_ID</th>\n",
       "      <th>SERVICE_KIND</th>\n",
       "      <th>CALL_DURATION</th>\n",
       "      <th>CALLED_DURATION</th>\n",
       "      <th>IN_PACKAGE_FLUX</th>\n",
       "      <th>OUT_PACKAGE_FLUX</th>\n",
       "      <th>MONTHLY_ONLINE_DURATION</th>\n",
       "      <th>NET_DURATION</th>\n",
       "      <th>LAST_RECHARGE_VALUE</th>\n",
       "      <th>TOTAL_RECHARGE_VALUE</th>\n",
       "      <th>TOTAL_RECHARGE_COUNT</th>\n",
       "      <th>BALANCED</th>\n",
       "      <th>CONTRACTUSER_FLAG</th>\n",
       "    </tr>\n",
       "  </thead>\n",
       "  <tbody>\n",
       "    <tr>\n",
       "      <th>0</th>\n",
       "      <td>66069</td>\n",
       "      <td>3G</td>\n",
       "      <td>70.0</td>\n",
       "      <td>97.0</td>\n",
       "      <td>395.0</td>\n",
       "      <td>13.0</td>\n",
       "      <td>64.0</td>\n",
       "      <td>168.0</td>\n",
       "      <td>59.0</td>\n",
       "      <td>465.0</td>\n",
       "      <td>7.0</td>\n",
       "      <td>36.0</td>\n",
       "      <td>0</td>\n",
       "    </tr>\n",
       "    <tr>\n",
       "      <th>1</th>\n",
       "      <td>64410</td>\n",
       "      <td>3G</td>\n",
       "      <td>94.0</td>\n",
       "      <td>79.0</td>\n",
       "      <td>366.0</td>\n",
       "      <td>35.0</td>\n",
       "      <td>59.0</td>\n",
       "      <td>182.0</td>\n",
       "      <td>70.0</td>\n",
       "      <td>542.0</td>\n",
       "      <td>13.0</td>\n",
       "      <td>66.0</td>\n",
       "      <td>0</td>\n",
       "    </tr>\n",
       "    <tr>\n",
       "      <th>2</th>\n",
       "      <td>60110</td>\n",
       "      <td>3G</td>\n",
       "      <td>92.0</td>\n",
       "      <td>99.0</td>\n",
       "      <td>390.0</td>\n",
       "      <td>44.0</td>\n",
       "      <td>134.0</td>\n",
       "      <td>219.0</td>\n",
       "      <td>8.0</td>\n",
       "      <td>548.0</td>\n",
       "      <td>8.0</td>\n",
       "      <td>110.0</td>\n",
       "      <td>1</td>\n",
       "    </tr>\n",
       "    <tr>\n",
       "      <th>3</th>\n",
       "      <td>69600</td>\n",
       "      <td>4G</td>\n",
       "      <td>131.0</td>\n",
       "      <td>87.0</td>\n",
       "      <td>391.0</td>\n",
       "      <td>0.0</td>\n",
       "      <td>128.0</td>\n",
       "      <td>180.0</td>\n",
       "      <td>63.0</td>\n",
       "      <td>498.0</td>\n",
       "      <td>4.0</td>\n",
       "      <td>30.0</td>\n",
       "      <td>1</td>\n",
       "    </tr>\n",
       "    <tr>\n",
       "      <th>4</th>\n",
       "      <td>64683</td>\n",
       "      <td>4G</td>\n",
       "      <td>74.0</td>\n",
       "      <td>104.0</td>\n",
       "      <td>397.0</td>\n",
       "      <td>35.0</td>\n",
       "      <td>112.0</td>\n",
       "      <td>258.0</td>\n",
       "      <td>68.0</td>\n",
       "      <td>614.0</td>\n",
       "      <td>15.0</td>\n",
       "      <td>18.0</td>\n",
       "      <td>1</td>\n",
       "    </tr>\n",
       "  </tbody>\n",
       "</table>\n",
       "</div>"
      ],
      "text/plain": [
       "   USER_ID SERVICE_KIND  CALL_DURATION  CALLED_DURATION  IN_PACKAGE_FLUX  \\\n",
       "0    66069           3G           70.0             97.0            395.0   \n",
       "1    64410           3G           94.0             79.0            366.0   \n",
       "2    60110           3G           92.0             99.0            390.0   \n",
       "3    69600           4G          131.0             87.0            391.0   \n",
       "4    64683           4G           74.0            104.0            397.0   \n",
       "\n",
       "   OUT_PACKAGE_FLUX  MONTHLY_ONLINE_DURATION  NET_DURATION  \\\n",
       "0              13.0                     64.0         168.0   \n",
       "1              35.0                     59.0         182.0   \n",
       "2              44.0                    134.0         219.0   \n",
       "3               0.0                    128.0         180.0   \n",
       "4              35.0                    112.0         258.0   \n",
       "\n",
       "   LAST_RECHARGE_VALUE  TOTAL_RECHARGE_VALUE  TOTAL_RECHARGE_COUNT  BALANCED  \\\n",
       "0                 59.0                 465.0                   7.0      36.0   \n",
       "1                 70.0                 542.0                  13.0      66.0   \n",
       "2                  8.0                 548.0                   8.0     110.0   \n",
       "3                 63.0                 498.0                   4.0      30.0   \n",
       "4                 68.0                 614.0                  15.0      18.0   \n",
       "\n",
       "   CONTRACTUSER_FLAG  \n",
       "0                  0  \n",
       "1                  0  \n",
       "2                  1  \n",
       "3                  1  \n",
       "4                  1  "
      ]
     },
     "execution_count": 3,
     "metadata": {},
     "output_type": "execute_result"
    }
   ],
   "source": [
    "#预期结果如下"
   ]
  },
  {
   "cell_type": "code",
   "execution_count": 4,
   "metadata": {},
   "outputs": [
    {
     "data": {
      "text/html": [
       "<div>\n",
       "<style scoped>\n",
       "    .dataframe tbody tr th:only-of-type {\n",
       "        vertical-align: middle;\n",
       "    }\n",
       "\n",
       "    .dataframe tbody tr th {\n",
       "        vertical-align: top;\n",
       "    }\n",
       "\n",
       "    .dataframe thead th {\n",
       "        text-align: right;\n",
       "    }\n",
       "</style>\n",
       "<table border=\"1\" class=\"dataframe\">\n",
       "  <thead>\n",
       "    <tr style=\"text-align: right;\">\n",
       "      <th></th>\n",
       "      <th>用户标识</th>\n",
       "      <th>业务类型</th>\n",
       "      <th>主叫时长（分）</th>\n",
       "      <th>被叫时长（分）</th>\n",
       "      <th>免费流量</th>\n",
       "      <th>计费流量</th>\n",
       "      <th>月均上网时长（分）</th>\n",
       "      <th>入网时长（天）</th>\n",
       "      <th>最近一次缴费金额（元）</th>\n",
       "      <th>总缴费金额(元)</th>\n",
       "      <th>缴费次数</th>\n",
       "      <th>余额</th>\n",
       "      <th>是否潜在合约用户</th>\n",
       "    </tr>\n",
       "  </thead>\n",
       "  <tbody>\n",
       "    <tr>\n",
       "      <th>0</th>\n",
       "      <td>66069</td>\n",
       "      <td>3G</td>\n",
       "      <td>70.0</td>\n",
       "      <td>97.0</td>\n",
       "      <td>395.0</td>\n",
       "      <td>13.0</td>\n",
       "      <td>64.0</td>\n",
       "      <td>168.0</td>\n",
       "      <td>59.0</td>\n",
       "      <td>465.0</td>\n",
       "      <td>7.0</td>\n",
       "      <td>36.0</td>\n",
       "      <td>0</td>\n",
       "    </tr>\n",
       "    <tr>\n",
       "      <th>1</th>\n",
       "      <td>64410</td>\n",
       "      <td>3G</td>\n",
       "      <td>94.0</td>\n",
       "      <td>79.0</td>\n",
       "      <td>366.0</td>\n",
       "      <td>35.0</td>\n",
       "      <td>59.0</td>\n",
       "      <td>182.0</td>\n",
       "      <td>70.0</td>\n",
       "      <td>542.0</td>\n",
       "      <td>13.0</td>\n",
       "      <td>66.0</td>\n",
       "      <td>0</td>\n",
       "    </tr>\n",
       "    <tr>\n",
       "      <th>2</th>\n",
       "      <td>60110</td>\n",
       "      <td>3G</td>\n",
       "      <td>92.0</td>\n",
       "      <td>99.0</td>\n",
       "      <td>390.0</td>\n",
       "      <td>44.0</td>\n",
       "      <td>134.0</td>\n",
       "      <td>219.0</td>\n",
       "      <td>8.0</td>\n",
       "      <td>548.0</td>\n",
       "      <td>8.0</td>\n",
       "      <td>110.0</td>\n",
       "      <td>1</td>\n",
       "    </tr>\n",
       "    <tr>\n",
       "      <th>3</th>\n",
       "      <td>69600</td>\n",
       "      <td>4G</td>\n",
       "      <td>131.0</td>\n",
       "      <td>87.0</td>\n",
       "      <td>391.0</td>\n",
       "      <td>0.0</td>\n",
       "      <td>128.0</td>\n",
       "      <td>180.0</td>\n",
       "      <td>63.0</td>\n",
       "      <td>498.0</td>\n",
       "      <td>4.0</td>\n",
       "      <td>30.0</td>\n",
       "      <td>1</td>\n",
       "    </tr>\n",
       "    <tr>\n",
       "      <th>4</th>\n",
       "      <td>64683</td>\n",
       "      <td>4G</td>\n",
       "      <td>74.0</td>\n",
       "      <td>104.0</td>\n",
       "      <td>397.0</td>\n",
       "      <td>35.0</td>\n",
       "      <td>112.0</td>\n",
       "      <td>258.0</td>\n",
       "      <td>68.0</td>\n",
       "      <td>614.0</td>\n",
       "      <td>15.0</td>\n",
       "      <td>18.0</td>\n",
       "      <td>1</td>\n",
       "    </tr>\n",
       "  </tbody>\n",
       "</table>\n",
       "</div>"
      ],
      "text/plain": [
       "    用户标识 业务类型  主叫时长（分）  被叫时长（分）   免费流量  计费流量  月均上网时长（分）  入网时长（天）  最近一次缴费金额（元）  \\\n",
       "0  66069   3G     70.0     97.0  395.0  13.0       64.0    168.0         59.0   \n",
       "1  64410   3G     94.0     79.0  366.0  35.0       59.0    182.0         70.0   \n",
       "2  60110   3G     92.0     99.0  390.0  44.0      134.0    219.0          8.0   \n",
       "3  69600   4G    131.0     87.0  391.0   0.0      128.0    180.0         63.0   \n",
       "4  64683   4G     74.0    104.0  397.0  35.0      112.0    258.0         68.0   \n",
       "\n",
       "   总缴费金额(元)  缴费次数     余额  是否潜在合约用户  \n",
       "0     465.0   7.0   36.0         0  \n",
       "1     542.0  13.0   66.0         0  \n",
       "2     548.0   8.0  110.0         1  \n",
       "3     498.0   4.0   30.0         1  \n",
       "4     614.0  15.0   18.0         1  "
      ]
     },
     "execution_count": 4,
     "metadata": {},
     "output_type": "execute_result"
    }
   ],
   "source": [
    "#保存英文字段名称：\n",
    "#提示：使用.columns()方法进行保存\n",
    "#约1行代码：\n",
    "en_col = data.columns.tolist()\n",
    "\n",
    "#中文字段名称\n",
    "ch_col = ['用户标识', '业务类型', '主叫时长（分）', '被叫时长（分）', '免费流量', '计费流量',\n",
    "          '月均上网时长（分）', '入网时长（天）', '最近一次缴费金额（元）', '总缴费金额(元)', '缴费次数',\n",
    "          '余额', '是否潜在合约用户']\n",
    "\n",
    "#转换为中文字段\n",
    "#提示：使用.columns()方法进行替换\n",
    "#约1行代码：\n",
    "data.columns =ch_col\n",
    "\n",
    "#显示前5行:\n",
    "#约1行代码：\n",
    "data.head()"
   ]
  },
  {
   "cell_type": "markdown",
   "metadata": {},
   "source": [
    "## 数据探索"
   ]
  },
  {
   "cell_type": "code",
   "execution_count": 5,
   "metadata": {},
   "outputs": [
    {
     "data": {
      "text/plain": [
       "<matplotlib.legend.Legend at 0x914a9b0>"
      ]
     },
     "execution_count": 5,
     "metadata": {},
     "output_type": "execute_result"
    },
    {
     "data": {
      "image/png": "[encoded data removed]",
      "text/plain": [
       "<Figure size 432x288 with 1 Axes>"
      ]
     },
     "metadata": {},
     "output_type": "display_data"
    }
   ],
   "source": [
    "#不同用户的主叫时长分布情况对比\n",
    "\n",
    "#设置dataframe的索引筛选条件\n",
    "#提示：data[column_name] == value\n",
    "#约1行代码：\n",
    "cond = data['是否潜在合约用户']==1\n",
    "\n",
    "#潜在合约用户的主叫时长（分）分布情况\n",
    "#提示：使用 dataframe.hist()方法\n",
    "#约1行代码：\n",
    "data[cond]['主叫时长（分）'].hist(alpha =0.5,label='潜在合约用户')\n",
    "\n",
    "#非潜在合约用户的主叫时长（分）分布情况：\n",
    "#提示：使用 dataframe.hist()方法\n",
    "#约1行代码：\n",
    "data[~cond]['主叫时长（分）'].hist(color='r',alpha = 0.5,\n",
    "                            label='非潜在合约用户')\n",
    "\n",
    "# 显示图形的标签\n",
    "#提示：使用 plt.legend()方法\n",
    "#约1行代码：\n",
    "plt.legend()"
   ]
  },
  {
   "cell_type": "code",
   "execution_count": 6,
   "metadata": {},
   "outputs": [
    {
     "data": {
      "text/plain": [
       "<matplotlib.legend.Legend at 0x91a0518>"
      ]
     },
     "execution_count": 6,
     "metadata": {},
     "output_type": "execute_result"
    },
    {
     "data": {
      "image/png": "[encoded data removed]",
      "text/plain": [
       "<Figure size 432x288 with 1 Axes>"
      ]
     },
     "metadata": {},
     "output_type": "display_data"
    }
   ],
   "source": [
    "#不同用户的被叫时长分布情况对比\n",
    "\n",
    "#设置dataframe的索引筛选条件\n",
    "#提示：data[column_name] == value\n",
    "#约1行代码：\n",
    "cond = data['是否潜在合约用户']==1\n",
    "\n",
    "#潜在合约用户的被叫时长（分）分布情况\n",
    "#提示：使用 dataframe.hist()方法\n",
    "#约1行代码：\n",
    "data[cond]['被叫时长（分）'].hist(alpha =0.5,label='潜在合约用户')\n",
    "\n",
    "#非潜在合约用户的被叫时长（分）分布情况：\n",
    "#提示：使用 dataframe.hist()方法\n",
    "#约1行代码：\n",
    "data[~cond]['被叫时长（分）'].hist(color='r',alpha = 0.5,\n",
    "                            label='非潜在合约用户')\n",
    "\n",
    "# 显示图形的标签\n",
    "#提示：使用 plt.legend()方法\n",
    "#约1行代码：\n",
    "plt.legend()"
   ]
  },
  {
   "cell_type": "code",
   "execution_count": 7,
   "metadata": {},
   "outputs": [
    {
     "data": {
      "text/plain": [
       "<matplotlib.axes._subplots.AxesSubplot at 0x9505e48>"
      ]
     },
     "execution_count": 7,
     "metadata": {},
     "output_type": "execute_result"
    },
    {
     "data": {
      "image/png": "[encoded data removed]",
      "text/plain": [
       "<Figure size 432x288 with 1 Axes>"
      ]
     },
     "metadata": {},
     "output_type": "display_data"
    }
   ],
   "source": [
    "#不同用户的业务类型情况对比\n",
    "\n",
    "# 对 '是否潜在合约用户','业务类型'两个字段分组统计\n",
    "#提示：使用 dataframe.groupby()方法，进行分组统计。并且使用unstack()方法，将数据的行“旋转”为列。\n",
    "#约1行代码：\n",
    "grouped =data.groupby(['是否潜在合约用户','业务类型'])['用户标识'].count().unstack()\n",
    "\n",
    "#绘制并列的柱状图\n",
    "#提示：使用dataframe.plot(kind='bar')方法\n",
    "#约1行代码：\n",
    "grouped.plot(kind= 'bar',alpha =1.0,rot = 0)"
   ]
  },
  {
   "cell_type": "code",
   "execution_count": 8,
   "metadata": {},
   "outputs": [
    {
     "data": {
      "text/plain": [
       "1    5003\n",
       "0    4997\n",
       "Name: 是否潜在合约用户, dtype: int64"
      ]
     },
     "execution_count": 8,
     "metadata": {},
     "output_type": "execute_result"
    }
   ],
   "source": [
    "#对目标数据统计，查看是否平衡\n",
    "#提示：使用dataframe.value_counts()方法\n",
    "#约1行代码：\n",
    "data['是否潜在合约用户'].value_counts()"
   ]
  },
  {
   "cell_type": "code",
   "execution_count": 9,
   "metadata": {},
   "outputs": [
    {
     "data": {
      "text/plain": [
       "<matplotlib.collections.PathCollection at 0xa66d6d8>"
      ]
     },
     "execution_count": 9,
     "metadata": {},
     "output_type": "execute_result"
    },
    {
     "data": {
      "image/png": "[encoded data removed]",
      "text/plain": [
       "<Figure size 432x288 with 1 Axes>"
      ]
     },
     "metadata": {},
     "output_type": "display_data"
    }
   ],
   "source": [
    "#主叫时长（分）&免费流量 与 是否潜在合约用户的关系\\\n",
    "#约2行代码：\n",
    "y = data.loc[:,'是否潜在合约用户']\n",
    "plt.scatter(data.loc[:,'主叫时长（分）'],data.loc[:,'免费流量'],c=y,alpha=0.5)"
   ]
  },
  {
   "cell_type": "markdown",
   "metadata": {},
   "source": [
    "## 数据预处理"
   ]
  },
  {
   "cell_type": "code",
   "execution_count": 10,
   "metadata": {},
   "outputs": [
    {
     "name": "stdout",
     "output_type": "stream",
     "text": [
      "The shape of X is (10000, 11)\n",
      "The shape of y is (10000,)\n"
     ]
    }
   ],
   "source": [
    "#分割特征数据集和标签数据集\n",
    "#提示：使用dataframe的i.lloc或者.loc方法选取不同字段（列）\n",
    "#约2行代码：\n",
    "X = data.loc[:,'业务类型':'余额']\n",
    "y= data.loc[:,'是否潜在合约用户']\n",
    "\n",
    "#打印特征数据为X 和目标数据y的形状：\n",
    "#约2行代码:\n",
    "print('The shape of X is {0}'.format(X.shape))\n",
    "print('The shape of y is {0}'.format(y.shape))"
   ]
  },
  {
   "cell_type": "markdown",
   "metadata": {},
   "source": [
    "### 类别特征编码"
   ]
  },
  {
   "cell_type": "code",
   "execution_count": null,
   "metadata": {},
   "outputs": [],
   "source": [
    "# 引入  sklearn.preprocessing类中的OneHotEncoder算法库\n",
    "from sklearn.preprocessing import OneHotEncoder\n",
    "\n",
    "\n",
    "#自定义转换函数\n",
    "#提示：将各类型变量转化为数值：‘2G’->2,‘3G’->3,'4G'->4\n",
    "\n",
    "def service_mapping(cell):\n",
    "    #约3行代码：\n",
    "\n",
    "    \n",
    "    \n",
    "\n",
    "#将业务类型的string型值映射为整数型\n",
    "#约2行代码：\n",
    "\n",
    "\n",
    "#生成用OncHotEncoder实例\n",
    "#约1行代码：\n",
    "\n",
    "#使用OncHotEncoder转化类型特征为0/1编码的多维特征\n",
    "#约1行代码：\n",
    "\n",
    "# #0/1编码的多维特征的名称\n",
    "#约2行代码：\n",
    "\n",
    "\n",
    "\n",
    "#生成0-1编码的dataframe\n",
    "#约1行代码：\n",
    "\n",
    "\n",
    "#将生成0-1编码的dataframe加入原有特征数据，生成新的特征数据矩阵X_enc \n",
    "#约1行代码：\n",
    "\n",
    "#显示前5行\n",
    "#约1行代码："
   ]
  },
  {
   "cell_type": "code",
   "execution_count": 11,
   "metadata": {},
   "outputs": [
    {
     "data": {
      "text/html": [
       "<div>\n",
       "<style scoped>\n",
       "    .dataframe tbody tr th:only-of-type {\n",
       "        vertical-align: middle;\n",
       "    }\n",
       "\n",
       "    .dataframe tbody tr th {\n",
       "        vertical-align: top;\n",
       "    }\n",
       "\n",
       "    .dataframe thead th {\n",
       "        text-align: right;\n",
       "    }\n",
       "</style>\n",
       "<table border=\"1\" class=\"dataframe\">\n",
       "  <thead>\n",
       "    <tr style=\"text-align: right;\">\n",
       "      <th></th>\n",
       "      <th>主叫时长（分）</th>\n",
       "      <th>被叫时长（分）</th>\n",
       "      <th>免费流量</th>\n",
       "      <th>计费流量</th>\n",
       "      <th>月均上网时长（分）</th>\n",
       "      <th>入网时长（天）</th>\n",
       "      <th>最近一次缴费金额（元）</th>\n",
       "      <th>总缴费金额(元)</th>\n",
       "      <th>缴费次数</th>\n",
       "      <th>余额</th>\n",
       "      <th>2G</th>\n",
       "      <th>3G</th>\n",
       "      <th>4G</th>\n",
       "    </tr>\n",
       "  </thead>\n",
       "  <tbody>\n",
       "    <tr>\n",
       "      <th>0</th>\n",
       "      <td>70.0</td>\n",
       "      <td>97.0</td>\n",
       "      <td>395.0</td>\n",
       "      <td>13.0</td>\n",
       "      <td>64.0</td>\n",
       "      <td>168.0</td>\n",
       "      <td>59.0</td>\n",
       "      <td>465.0</td>\n",
       "      <td>7.0</td>\n",
       "      <td>36.0</td>\n",
       "      <td>0.0</td>\n",
       "      <td>1.0</td>\n",
       "      <td>0.0</td>\n",
       "    </tr>\n",
       "    <tr>\n",
       "      <th>1</th>\n",
       "      <td>94.0</td>\n",
       "      <td>79.0</td>\n",
       "      <td>366.0</td>\n",
       "      <td>35.0</td>\n",
       "      <td>59.0</td>\n",
       "      <td>182.0</td>\n",
       "      <td>70.0</td>\n",
       "      <td>542.0</td>\n",
       "      <td>13.0</td>\n",
       "      <td>66.0</td>\n",
       "      <td>0.0</td>\n",
       "      <td>1.0</td>\n",
       "      <td>0.0</td>\n",
       "    </tr>\n",
       "    <tr>\n",
       "      <th>2</th>\n",
       "      <td>92.0</td>\n",
       "      <td>99.0</td>\n",
       "      <td>390.0</td>\n",
       "      <td>44.0</td>\n",
       "      <td>134.0</td>\n",
       "      <td>219.0</td>\n",
       "      <td>8.0</td>\n",
       "      <td>548.0</td>\n",
       "      <td>8.0</td>\n",
       "      <td>110.0</td>\n",
       "      <td>0.0</td>\n",
       "      <td>1.0</td>\n",
       "      <td>0.0</td>\n",
       "    </tr>\n",
       "    <tr>\n",
       "      <th>3</th>\n",
       "      <td>131.0</td>\n",
       "      <td>87.0</td>\n",
       "      <td>391.0</td>\n",
       "      <td>0.0</td>\n",
       "      <td>128.0</td>\n",
       "      <td>180.0</td>\n",
       "      <td>63.0</td>\n",
       "      <td>498.0</td>\n",
       "      <td>4.0</td>\n",
       "      <td>30.0</td>\n",
       "      <td>0.0</td>\n",
       "      <td>0.0</td>\n",
       "      <td>1.0</td>\n",
       "    </tr>\n",
       "    <tr>\n",
       "      <th>4</th>\n",
       "      <td>74.0</td>\n",
       "      <td>104.0</td>\n",
       "      <td>397.0</td>\n",
       "      <td>35.0</td>\n",
       "      <td>112.0</td>\n",
       "      <td>258.0</td>\n",
       "      <td>68.0</td>\n",
       "      <td>614.0</td>\n",
       "      <td>15.0</td>\n",
       "      <td>18.0</td>\n",
       "      <td>0.0</td>\n",
       "      <td>0.0</td>\n",
       "      <td>1.0</td>\n",
       "    </tr>\n",
       "  </tbody>\n",
       "</table>\n",
       "</div>"
      ],
      "text/plain": [
       "   主叫时长（分）  被叫时长（分）   免费流量  计费流量  月均上网时长（分）  入网时长（天）  最近一次缴费金额（元）  总缴费金额(元)  \\\n",
       "0     70.0     97.0  395.0  13.0       64.0    168.0         59.0     465.0   \n",
       "1     94.0     79.0  366.0  35.0       59.0    182.0         70.0     542.0   \n",
       "2     92.0     99.0  390.0  44.0      134.0    219.0          8.0     548.0   \n",
       "3    131.0     87.0  391.0   0.0      128.0    180.0         63.0     498.0   \n",
       "4     74.0    104.0  397.0  35.0      112.0    258.0         68.0     614.0   \n",
       "\n",
       "   缴费次数     余额   2G   3G   4G  \n",
       "0   7.0   36.0  0.0  1.0  0.0  \n",
       "1  13.0   66.0  0.0  1.0  0.0  \n",
       "2   8.0  110.0  0.0  1.0  0.0  \n",
       "3   4.0   30.0  0.0  0.0  1.0  \n",
       "4  15.0   18.0  0.0  0.0  1.0  "
      ]
     },
     "execution_count": 11,
     "metadata": {},
     "output_type": "execute_result"
    }
   ],
   "source": [
    "#预期结果如下"
   ]
  },
  {
   "cell_type": "markdown",
   "metadata": {},
   "source": [
    "### 数据归一化\n",
    "svm由于内部做内积运算，为了消除不同特征不同度量尺度对数据的影响，需要对数据做归一化处理"
   ]
  },
  {
   "cell_type": "code",
   "execution_count": null,
   "metadata": {},
   "outputs": [],
   "source": [
    "#提示：引入归一化方法：sklearn.preprocessing.normalize()\n",
    "#约1行代码:\n",
    "\n",
    "\n",
    "#对训练数据进行归一化\n",
    "#约1行代码:\n",
    "\n",
    "\n",
    "#验证归一化\n",
    "#约1行代码:\n",
    "\n",
    "\n"
   ]
  },
  {
   "cell_type": "code",
   "execution_count": 12,
   "metadata": {},
   "outputs": [
    {
     "name": "stdout",
     "output_type": "stream",
     "text": [
      "[1. 1. 1. 1. 1. 1. 1. 1. 1. 1. 1. 1. 1.]\n"
     ]
    }
   ],
   "source": [
    "#预期结果如下"
   ]
  },
  {
   "cell_type": "markdown",
   "metadata": {},
   "source": [
    "### 分割训练集和测试集"
   ]
  },
  {
   "cell_type": "code",
   "execution_count": null,
   "metadata": {},
   "outputs": [],
   "source": [
    "# 引入sklearn.model_selection的方法train_test_split\n",
    "\n",
    "\n",
    "\n",
    "\n",
    "#按照0.8:0.2的比例，分割训练集和测试集：X_train,X_test,y_train,y_test， random_state=112\n",
    "#约1行代码：\n",
    "\n",
    "\n",
    "\n",
    "\n",
    "\n",
    "#打印分割后的训练集和测试集：X_train,X_test的形状\n",
    "#约2行代码:\n",
    "\n",
    "\n"
   ]
  },
  {
   "cell_type": "code",
   "execution_count": 13,
   "metadata": {},
   "outputs": [
    {
     "name": "stdout",
     "output_type": "stream",
     "text": [
      "The shape of X_train is (8000, 13)\n",
      "The shape of X_test is (2000, 13)\n"
     ]
    }
   ],
   "source": []
  },
  {
   "cell_type": "code",
   "execution_count": null,
   "metadata": {},
   "outputs": [],
   "source": [
    "#生成归一化后的数据可视化\n",
    "#主叫时长（分）&被叫时长 与 是否潜在合约用户的关系\n",
    "#约1行代码:\n",
    "\n"
   ]
  },
  {
   "cell_type": "code",
   "execution_count": 14,
   "metadata": {},
   "outputs": [
    {
     "data": {
      "text/plain": [
       "<matplotlib.collections.PathCollection at 0xba40a20>"
      ]
     },
     "execution_count": 14,
     "metadata": {},
     "output_type": "execute_result"
    },
    {
     "data": {
      "image/png": "[encoded data removed]",
      "text/plain": [
       "<Figure size 432x288 with 1 Axes>"
      ]
     },
     "metadata": {},
     "output_type": "display_data"
    }
   ],
   "source": [
    "#预期结果如下"
   ]
  },
  {
   "cell_type": "markdown",
   "metadata": {},
   "source": [
    "### 训练简单模型: 线性超平面模型"
   ]
  },
  {
   "cell_type": "code",
   "execution_count": null,
   "metadata": {},
   "outputs": [],
   "source": [
    "#引入svm的算法库：skelearn.svm\n",
    "\n",
    "\n",
    "#线性核svm模型的实例化\n",
    "#约1行代码:\n",
    "\n",
    "\n",
    "#在训练集上训练模型\n",
    "#约1行代码:\n",
    "\n",
    "\n",
    "\n",
    "#在测试集上预测\n",
    "#约1行代码:\n",
    "\n",
    "\n",
    "\n"
   ]
  },
  {
   "cell_type": "markdown",
   "metadata": {},
   "source": [
    "### 线性超平面模型的模型评估"
   ]
  },
  {
   "cell_type": "code",
   "execution_count": null,
   "metadata": {},
   "outputs": [],
   "source": [
    "#引入sklearn类中的 metrics测度类\n",
    "\n",
    "\n",
    "#计算正确率\n",
    "#约2行代码:\n",
    "\n",
    "\n",
    "\n",
    "#查看混淆举证\n",
    "#约1行代码:\n",
    "\n",
    "\n"
   ]
  },
  {
   "cell_type": "code",
   "execution_count": 16,
   "metadata": {},
   "outputs": [
    {
     "name": "stdout",
     "output_type": "stream",
     "text": [
      "The accuracy score of the model is: 0.8085\n"
     ]
    },
    {
     "data": {
      "text/plain": [
       "array([[784, 254],\n",
       "       [129, 833]], dtype=int64)"
      ]
     },
     "execution_count": 16,
     "metadata": {},
     "output_type": "execute_result"
    }
   ],
   "source": [
    "#预期结果如下"
   ]
  },
  {
   "cell_type": "markdown",
   "metadata": {},
   "source": [
    "### 训练核函数=rbf的SVM算法：调参\n",
    "- 惩罚系数C:\n",
    "- gamma："
   ]
  },
  {
   "cell_type": "code",
   "execution_count": null,
   "metadata": {},
   "outputs": [],
   "source": [
    "# 引入网格检索方法sklearn.model_selection.GridSearchCV()\n",
    "\n",
    "\n",
    "\n",
    "# 设置惩罚系数C的范围\n",
    "#约1行代码:\n",
    "\n",
    "\n",
    "\n",
    "# 设置gamma的范围\n",
    "#约1行代码:\n",
    "\n",
    "\n",
    "\n",
    "#设计检索的网格：\n",
    "# 提示：建立一个dict{'C':range,\n",
    "#              'gamma':range}\n",
    "#约1行代码:\n",
    "\n",
    "\n",
    "\n",
    "\n",
    "#创建rbf核函数的svm实例\n",
    "#提示：可是根据自己电脑配置适当增加cache_size,random_state=117\n",
    "#约1行代码:\n",
    "\n",
    "\n",
    "\n",
    "\n",
    "#创建GridSearchCV实例\n",
    "#约1行代码:\n",
    "\n",
    "\n",
    "\n",
    "\n",
    "# 使用GridSearch()方法在训练集上训练\n",
    "#约1行代码:\n",
    "#svm训练时间较长，大概5-8分钟\n",
    "\n",
    "\n"
   ]
  },
  {
   "cell_type": "code",
   "execution_count": null,
   "metadata": {},
   "outputs": [],
   "source": [
    "#显示网格检索的最优分数，最优参数，最优模型\n",
    "# 提示：使用 GridSearchCV.best_score_\n",
    "# 提示：GridSearchCV.best_params_\n",
    "# 提示：GridSearchCV.best_estimator_\n",
    "#约3行代码：\n",
    "\n",
    "\n",
    "\n",
    "\n"
   ]
  },
  {
   "cell_type": "code",
   "execution_count": 18,
   "metadata": {},
   "outputs": [
    {
     "name": "stdout",
     "output_type": "stream",
     "text": [
      "0.989875\n",
      "{'C': 100000.0, 'gamma': 100.0}\n",
      "SVC(C=100000.0, cache_size=1000, class_weight=None, coef0=0.0,\n",
      "  decision_function_shape='ovr', degree=3, gamma=100.0, kernel='rbf',\n",
      "  max_iter=-1, probability=False, random_state=117, shrinking=True,\n",
      "  tol=0.001, verbose=False)\n"
     ]
    }
   ],
   "source": [
    "#预期结果如下"
   ]
  },
  {
   "cell_type": "markdown",
   "metadata": {},
   "source": [
    "## 使用最优超参再次进行训练"
   ]
  },
  {
   "cell_type": "code",
   "execution_count": 19,
   "metadata": {},
   "outputs": [],
   "source": [
    "# 建立决策树实例\n",
    "#使用使用字典型参数传入：**gsearch.best_params_\n",
    "#约1行代码：\n",
    "\n",
    "\n",
    "# 在训练集上训练\n",
    "#约1行代码：\n",
    "\n",
    "\n",
    "\n",
    "# 在测试集上预测\n",
    "#约1行代码：\n",
    "\n",
    "\n"
   ]
  },
  {
   "cell_type": "markdown",
   "metadata": {},
   "source": [
    "### 模型评估"
   ]
  },
  {
   "cell_type": "code",
   "execution_count": null,
   "metadata": {},
   "outputs": [],
   "source": [
    "#计算并打印模型准确率\n",
    "#提示：使用 metrics.accuracy_score()方法\n",
    "#约2行代码：\n"
   ]
  },
  {
   "cell_type": "code",
   "execution_count": 20,
   "metadata": {},
   "outputs": [
    {
     "name": "stdout",
     "output_type": "stream",
     "text": [
      "The accuracy is 0.991500\n"
     ]
    }
   ],
   "source": [
    "#计算并打印模型准确率\n",
    "#提示：使用 metrics.accuracy_score()方法\n",
    "#约2行代码：\n",
    "\n",
    "\n"
   ]
  },
  {
   "cell_type": "code",
   "execution_count": 21,
   "metadata": {},
   "outputs": [
    {
     "data": {
      "text/plain": [
       "array([[1036,    2],\n",
       "       [  15,  947]], dtype=int64)"
      ]
     },
     "execution_count": 21,
     "metadata": {},
     "output_type": "execute_result"
    }
   ],
   "source": [
    "#预期结果如下"
   ]
  },
  {
   "cell_type": "markdown",
   "metadata": {},
   "source": [
    "### 绘制roc曲线和auc值"
   ]
  },
  {
   "cell_type": "code",
   "execution_count": null,
   "metadata": {},
   "outputs": [],
   "source": [
    "#存储对类别1的预测概率\n",
    "#提示：使用.predict_proba()方法\n",
    "#约1行代码:\n",
    "\n",
    "\n",
    "\n",
    "\n",
    "#计算不同阈值的false positive rate 和 true positive rate\n",
    "#提示：使用metric.roc_curve()方法：第一个参数是真实值，第二个参数是预测值\n",
    "#fpr: false positive rate (=1- specifity), tpr = true postive rate\n",
    "#约1行代码:\n",
    "\n",
    "\n",
    "\n",
    "\n",
    "#绘制曲线图：以false positive rate 为很轴和 true positive rate为纵轴\n",
    "#约1行代码:\n",
    "\n",
    "\n",
    "\n",
    "\n",
    "#设置x，y轴的范围：[0.0, 1.0]\n",
    "#约2行代码:\n",
    "\n",
    "\n",
    "\n",
    "\n",
    "#计算AUC值\n",
    "#约1行代码:\n",
    "\n",
    "\n",
    "\n",
    "\n",
    "#设置图形的标题\n",
    "#约1行代码:\n",
    "\n",
    "\n",
    "\n",
    "\n",
    "#设置图形的x,y轴便签名称\n",
    "#约1行代码:\n",
    "\n",
    "\n",
    "\n",
    "#绘制网格线\n",
    "#约1行代码:\n",
    "\n"
   ]
  },
  {
   "cell_type": "code",
   "execution_count": 22,
   "metadata": {},
   "outputs": [
    {
     "data": {
      "image/png": "[encoded data removed]",
      "text/plain": [
       "<Figure size 432x288 with 1 Axes>"
      ]
     },
     "metadata": {},
     "output_type": "display_data"
    }
   ],
   "source": [
    "#预期结果如下"
   ]
  }
 ],
 "metadata": {
  "kernelspec": {
   "display_name": "Python 3",
   "language": "python",
   "name": "python3"
  },
  "language_info": {
   "codemirror_mode": {
    "name": "ipython",
    "version": 3
   },
   "file_extension": ".py",
   "mimetype": "text/x-python",
   "name": "python",
   "nbconvert_exporter": "python",
   "pygments_lexer": "ipython3",
   "version": "3.6.4"
  }
 },
 "nbformat": 4,
 "nbformat_minor": 2
}
