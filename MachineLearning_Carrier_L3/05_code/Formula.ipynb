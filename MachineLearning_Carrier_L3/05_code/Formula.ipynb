{
 "cells": [
  {
   "cell_type": "markdown",
   "metadata": {},
   "source": [
    "如果用数据表达式表示，假设簇划分为 $(C_1,C_2,...C_k)$,则我们的目标是最小化平方误差E：\n",
    "$$E=\\sum_1^k\\sum_{x\\in C_i}||x_i-\\mu_i||_2^2$$\n",
    "其中，$\\mu_i=\\frac{1}{|C_i|}\\sum_{x\\in C_i}x_i$,称为质心"
   ]
  },
  {
   "cell_type": "markdown",
   "metadata": {},
   "source": [
    "$$D(x_i)=argmin||x_i−μ_r||_2^2,r=1,2,...kselected$$"
   ]
  },
  {
   "attachments": {},
   "cell_type": "markdown",
   "metadata": {},
   "source": [
    "$\\mu_{j_1},\\mu_{j_2}$"
   ]
  },
  {
   "cell_type": "markdown",
   "metadata": {},
   "source": [
    "$$s(k)=\\frac{tr(B_k)}{tr(W_k)}\\frac{m-k}{k-1}$$"
   ]
  }
 ],
 "metadata": {
  "kernelspec": {
   "display_name": "Python 3",
   "language": "python",
   "name": "python3"
  },
  "language_info": {
   "codemirror_mode": {
    "name": "ipython",
    "version": 3
   },
   "file_extension": ".py",
   "mimetype": "text/x-python",
   "name": "python",
   "nbconvert_exporter": "python",
   "pygments_lexer": "ipython3",
   "version": "3.6.4"
  }
 },
 "nbformat": 4,
 "nbformat_minor": 2
}
