{
 "cells": [
  {
   "cell_type": "markdown",
   "metadata": {},
   "source": [
    "https://github.com/lyst/lightfm\n",
    "\n",
    "LightFM is a Python implementation of a number of popular recommendation algorithms for both implicit and explicit feedback, including efficient implementation of BPR and WARP ranking losses. It's easy to use, fast (via multithreaded model estimation), and produces high quality results.\n",
    "\n",
    "It also makes it possible to incorporate both item and user metadata into the traditional matrix factorization algorithms. It represents each user and item as the sum of the latent representations of their features, thus allowing recommendations to generalise to new items (via item features) and to new users (via user features).\n",
    "\n",
    "Recommendation Systems - Learn Python for Data Science\n",
    "https://www.youtube.com/watch?v=9gBC9R-msAk\n",
    "\n",
    "An implicit feedback recommender for the Movielens dataset\n",
    "https://github.com/lyst/lightfm/blob/master/examples/movielens/example.ipynb\n",
    "\n",
    "Learning to Rank Sketchfab Models with LightFM\n",
    "http://blog.ethanrosenthal.com/2016/11/07/implicit-mf-part-2/\n"
   ]
  },
  {
   "cell_type": "code",
   "execution_count": 1,
   "metadata": {},
   "outputs": [
    {
     "name": "stderr",
     "output_type": "stream",
     "text": [
      "C:\\ProgramData\\Anaconda2\\envs\\python36\\lib\\site-packages\\lightfm\\_lightfm_fast.py:9: UserWarning: LightFM was compiled without OpenMP support. Only a single thread will be used.\n",
      "  warnings.warn('LightFM was compiled without OpenMP support. '\n"
     ]
    }
   ],
   "source": [
    "import numpy as np\n",
    "import pandas as pd\n",
    "import matplotlib.pylab as plt\n",
    "\n",
    "from lightfm.datasets import fetch_movielens\n",
    "from lightfm import LightFM\n",
    "%matplotlib inline"
   ]
  },
  {
   "cell_type": "markdown",
   "metadata": {},
   "source": [
    "MovieLens data sets were collected by the GroupLens Research Project\n",
    "at the University of Minnesota.\n",
    " \n",
    "This data set consists of:\n",
    "   * 100,000 ratings (1-5) from 943 users on 1682 movies. \n",
    "   * Each user has rated at least 20 movies. \n",
    "   * Simple demographic info for the users (age, gender, occupation, zip)\n",
    "\n",
    "The data was collected through the MovieLens web site\n",
    "(movielens.umn.edu) during the seven-month period from September 19th, \n",
    "1997 through April 22nd, 1998. This data has been cleaned up - users\n",
    "who had less than 20 ratings or did not have complete demographic\n",
    "information were removed from this data set. Detailed descriptions of\n",
    "the data file can be found at the end of this file."
   ]
  },
  {
   "cell_type": "markdown",
   "metadata": {},
   "source": [
    "Parameters:\t\n",
    "- data_home (path, optional) – Path to the directory in which the downloaded data should be placed. Defaults to ~/lightfm_data/.\n",
    "- indicator_features (bool, optional) – Use an [n_items, n_items] identity matrix for item features. When True with genre_features, indicator and genre features are concatenated into a single feature matrix of shape [n_items, n_items + n_genres].\n",
    "- genre_features (bool, optional) – Use a [n_items, n_genres] matrix for item features. When True with item_indicator_features, indicator and genre features are concatenated into a single feature matrix of shape [n_items, n_items + n_genres].\n",
    "- min_rating (float, optional) – Minimum rating to include in the interaction matrix.\n",
    "- download_if_missing (bool, optional) – Download the data if not present. Raises an IOError if False and data is missing."
   ]
  },
  {
   "cell_type": "markdown",
   "metadata": {},
   "source": [
    "The return value is a dictionary containing the following keys:\n",
    "\n",
    "Returns:\t\n",
    "- train (sp.coo_matrix of shape [n_users, n_items]) – Contains training set interactions.\n",
    "- test (sp.coo_matrix of shape [n_users, n_items]) – Contains testing set interactions.\n",
    "- item_features (sp.csr_matrix of shape [n_items, n_item_features]) – Contains item features.\n",
    "- item_feature_labels (np.array of strings of shape [n_item_features,]) – Labels of item features.\n",
    "- item_labels (np.array of strings of shape [n_items,]) – Items’ titles."
   ]
  },
  {
   "cell_type": "code",
   "execution_count": 2,
   "metadata": {
    "collapsed": true
   },
   "outputs": [],
   "source": [
    "data= fetch_movielens(min_rating=4.0)"
   ]
  },
  {
   "cell_type": "code",
   "execution_count": 3,
   "metadata": {},
   "outputs": [
    {
     "name": "stdout",
     "output_type": "stream",
     "text": [
      "train <class 'scipy.sparse.coo.coo_matrix'> (943, 1682)\n",
      "test <class 'scipy.sparse.coo.coo_matrix'> (943, 1682)\n",
      "item_features <class 'scipy.sparse.csr.csr_matrix'> (1682, 1682)\n",
      "item_feature_labels <class 'numpy.ndarray'> (1682,)\n",
      "item_labels <class 'numpy.ndarray'> (1682,)\n"
     ]
    }
   ],
   "source": [
    "for key, value in data.items():\n",
    "    print(key, type(value), value.shape)"
   ]
  },
  {
   "cell_type": "code",
   "execution_count": 4,
   "metadata": {},
   "outputs": [
    {
     "data": {
      "text/plain": [
       "matrix([[0, 0, 0, 0, 0, 0, 0, 0, 0, 0, 0, 0, 0, 0, 0, 0, 0, 0, 0, 4, 0,\n",
       "         0, 0, 0, 0, 0, 0, 0, 0, 0, 0, 0, 4, 0, 0, 0, 0, 0, 0, 0, 0, 0,\n",
       "         0, 0, 0, 0, 0, 0, 0, 0, 0, 0, 0, 0, 0, 0, 0, 0, 0, 0, 4, 0, 0,\n",
       "         0, 0, 0, 0, 0, 0, 0, 0, 0, 0, 0, 0, 0, 0, 0, 0, 0, 0, 0, 0, 0,\n",
       "         0, 0, 0, 0, 0, 0, 0, 0, 0, 0, 0, 0, 0, 0, 0, 0]])"
      ]
     },
     "execution_count": 4,
     "metadata": {},
     "output_type": "execute_result"
    }
   ],
   "source": [
    "# The train and test elements are the most important: they contain \n",
    "# the raw rating data, split into a train and a test set. \n",
    "# Each row represents a user, and each column an item. \n",
    "# Entries are ratings from 1 to 5.\n",
    "# show the first row and 500 columns of test data\n",
    "data['test'].todense()[:1,:100]"
   ]
  },
  {
   "cell_type": "code",
   "execution_count": 5,
   "metadata": {},
   "outputs": [
    {
     "name": "stdout",
     "output_type": "stream",
     "text": [
      "['Toy Story (1995)' 'GoldenEye (1995)' 'Four Rooms (1995)' ...\n",
      " 'Sliding Doors (1998)' 'You So Crazy (1994)'\n",
      " 'Scream of Stone (Schrei aus Stein) (1991)']\n"
     ]
    }
   ],
   "source": [
    "print(data[\"item_labels\"])\n",
    "# print(data['item_features'])\n",
    "# print(data[\"item_feature_labels\"])"
   ]
  },
  {
   "cell_type": "markdown",
   "metadata": {},
   "source": [
    "# Explore the data"
   ]
  },
  {
   "cell_type": "code",
   "execution_count": 6,
   "metadata": {
    "collapsed": true
   },
   "outputs": [],
   "source": [
    "train_df = pd.DataFrame(data['train'].todense(),\n",
    "                        columns = data['item_labels'])\n",
    "train_df = train_df.transpose()\n",
    "# train_df.groupby(train_df.index).count()\n",
    "# train_df"
   ]
  },
  {
   "cell_type": "code",
   "execution_count": 7,
   "metadata": {},
   "outputs": [
    {
     "data": {
      "text/plain": [
       "<matplotlib.text.Text at 0x13007da0>"
      ]
     },
     "execution_count": 7,
     "metadata": {},
     "output_type": "execute_result"
    },
    {
     "data": {
      "image/png": "[encoded data removed]",
      "text/plain": [
       "<matplotlib.figure.Figure at 0x12520048>"
      ]
     },
     "metadata": {},
     "output_type": "display_data"
    }
   ],
   "source": [
    "def count_label(x):\n",
    "    if x>0:\n",
    "        return True\n",
    "    else:\n",
    "        return False\n",
    "\n",
    "item_count = train_df.applymap(count_label).sum(axis =1)\n",
    "item_count.sort_values(ascending=False)[0:20][::-1].plot.barh()\n",
    "plt.xlabel('count of item')"
   ]
  },
  {
   "cell_type": "markdown",
   "metadata": {},
   "source": [
    "# Training the Hypothesis"
   ]
  },
  {
   "cell_type": "markdown",
   "metadata": {},
   "source": [
    "An implicit feedback recommender for the Movielens dataset\n",
    "Implicit feedback\n",
    "For some time, the recommender system literature focused on explicit feedback: the Netflix prize focused on accurately reproducing the ratings users have given to movies they watched.\n",
    "\n",
    "Focusing on ratings in this way ignored the importance of taking into account which movies the users chose to watch in the first place, and treating the absence of ratings as absence of information.\n",
    "\n",
    "But the things that we don't have ratings for aren't unknowns: we know the user didn't pick them. This reflects a user's conscious choice, and is a good source of information on what she thinks she might like.\n",
    "\n",
    "This sort of phenomenon is described as data which is missing-not-at-random in the literature: the ratings that are missing are more likely to be negative precisely because the user chooses which items to rate. When choosing a restaurant, you only go to places which you think you'll enjoy, and never go to places that you think you'll hate. What this leads to is that you're only going to be submitting ratings for things which, a priori, you expected to like; the things that you expect you will not like you will never rate.\n",
    "\n",
    "This observation has led to the development of models that are suitable for implicit feedback. LightFM implements two that have proven particular successful:\n",
    "\n",
    "- BPR: Bayesian Personalised Ranking [1] pairwise loss. Maximises the prediction difference between a positive example and a randomly chosen negative example. Useful when only positive interactions are present and optimising ROC AUC is desired.\n",
    "- WARP: Weighted Approximate-Rank Pairwise [2] loss. Maximises the rank of positive examples by repeatedly sampling negative examples until rank violating one is found. Useful when only positive interactions are present and optimising the top of the recommendation list (precision@k) is desired.\n",
    "This example shows how to estimate these models on the Movielens dataset.\n",
    "\n",
    "[1] Rendle, Steffen, et al. \"BPR: Bayesian personalized ranking from implicit feedback.\" Proceedings of the Twenty-Fifth Conference on Uncertainty in Artificial Intelligence. AUAI Press, 2009.\n",
    "\n",
    "[2] Weston, Jason, Samy Bengio, and Nicolas Usunier. \"Wsabie: Scaling up to large vocabulary image annotation.\" IJCAI. Vol. 11. 2011."
   ]
  },
  {
   "cell_type": "markdown",
   "metadata": {},
   "source": [
    "Now let's train a BPR model and look at its accuracy.\n",
    "\n",
    "We'll use two metrics of accuracy: precision@k and ROC AUC. Both are ranking metrics: to compute them, we'll be constructing recommendation lists for all of our users, and checking the ranking of known positive movies. \n",
    "- For precision at k we'll be looking at whether they are within the first k results on the list; \n",
    "- for AUC, we'll be calculating the probability that any known positive is higher on the list than a random negative example."
   ]
  },
  {
   "cell_type": "code",
   "execution_count": 8,
   "metadata": {
    "collapsed": true
   },
   "outputs": [],
   "source": [
    "from lightfm.evaluation import precision_at_k\n",
    "from lightfm.evaluation import auc_score"
   ]
  },
  {
   "cell_type": "code",
   "execution_count": 9,
   "metadata": {
    "collapsed": true
   },
   "outputs": [],
   "source": [
    "train = data['train']\n",
    "test = data['test']"
   ]
  },
  {
   "cell_type": "code",
   "execution_count": 10,
   "metadata": {},
   "outputs": [
    {
     "name": "stdout",
     "output_type": "stream",
     "text": [
      "Precision: train 0.49, test 0.07.\n",
      "AUC: train 0.89, test 0.84.\n"
     ]
    }
   ],
   "source": [
    "model = LightFM(learning_rate=0.05, loss='bpr')\n",
    "\n",
    "model.fit(train, epochs=10)\n",
    "\n",
    "train_precision = precision_at_k(model, train, k=10).mean()\n",
    "\n",
    "test_precision = precision_at_k(model, test, k=10).mean()\n",
    "\n",
    "train_auc = auc_score(model, train).mean()\n",
    "test_auc = auc_score(model, test).mean()\n",
    "\n",
    "print('Precision: train %.2f, test %.2f.' % (train_precision, \n",
    "                                             test_precision))\n",
    "print('AUC: train %.2f, test %.2f.' % (train_auc, test_auc))"
   ]
  },
  {
   "cell_type": "code",
   "execution_count": 11,
   "metadata": {},
   "outputs": [
    {
     "name": "stdout",
     "output_type": "stream",
     "text": [
      "Precision: train 0.48, test 0.08.\n",
      "AUC: train 0.94, test 0.91.\n"
     ]
    }
   ],
   "source": [
    "# The WARP model, on the other hand, optimises for precision@k\n",
    "# we should expect its performance to be better on precision.\n",
    "model = LightFM(learning_rate=0.05, loss='warp')\n",
    "model.fit_partial(train, epochs=10)\n",
    "train_precision = precision_at_k(model, train, k=10).mean()\n",
    "test_precision = precision_at_k(model, test, k=10).mean()\n",
    "train_auc = auc_score(model, train).mean()\n",
    "test_auc = auc_score(model, test).mean()\n",
    "print('Precision: train %.2f, test %.2f.' % (train_precision, \n",
    "                                             test_precision))\n",
    "print('AUC: train %.2f, test %.2f.' % (train_auc, test_auc))"
   ]
  },
  {
   "cell_type": "code",
   "execution_count": 12,
   "metadata": {},
   "outputs": [
    {
     "data": {
      "text/plain": [
       "<lightfm.lightfm.LightFM at 0x12c4b5f8>"
      ]
     },
     "execution_count": 12,
     "metadata": {},
     "output_type": "execute_result"
    }
   ],
   "source": [
    "#create a model with loss function of Weighted apporoximate-rank Pairwise\n",
    "model = LightFM(loss = \"warp\")\n",
    "\n",
    "model.fit(data[\"train\"],epochs=30,num_threads=2)"
   ]
  },
  {
   "cell_type": "markdown",
   "metadata": {},
   "source": [
    "# recommend the movies for users "
   ]
  },
  {
   "cell_type": "code",
   "execution_count": 13,
   "metadata": {
    "collapsed": true
   },
   "outputs": [],
   "source": [
    "def sample_recommedation(model,data,user_ids):\n",
    "    n_users,n_movies = data['train'].shape\n",
    "    for user_id in user_ids:\n",
    "        #find the positive rating items for user_id\n",
    "        known_positive = data[\"item_labels\"][data[\"train\"].tocsr()[user_id].indices]\n",
    "        #Compute the recommendation score for user-item pairs.\n",
    "        scores = model.predict(user_id,np.arange(n_movies))\n",
    "        #sort the movie by the scores\n",
    "        top_movies = data[\"item_labels\"][np.argsort(-scores)]\n",
    "        print(\"User %s\" %user_id)\n",
    "        print(\"     Known positives:\")\n",
    "        for x in known_positive[0:3]:\n",
    "            print(\"                %s\" %x)\n",
    "        print(\"     Top movies:\")\n",
    "        for x in top_movies[0:3]:\n",
    "            print(\"                %s\" %x)"
   ]
  },
  {
   "cell_type": "code",
   "execution_count": 14,
   "metadata": {},
   "outputs": [
    {
     "name": "stdout",
     "output_type": "stream",
     "text": [
      "User 0\n",
      "     Known positives:\n",
      "                Toy Story (1995)\n",
      "                Four Rooms (1995)\n",
      "                Shanghai Triad (Yao a yao yao dao waipo qiao) (1995)\n",
      "     Top movies:\n",
      "                Star Wars (1977)\n",
      "                Pulp Fiction (1994)\n",
      "                Princess Bride, The (1987)\n",
      "User 10\n",
      "     Known positives:\n",
      "                Babe (1995)\n",
      "                Dead Man Walking (1995)\n",
      "                Mr. Holland's Opus (1995)\n",
      "     Top movies:\n",
      "                Star Wars (1977)\n",
      "                Raiders of the Lost Ark (1981)\n",
      "                Return of the Jedi (1983)\n",
      "User 450\n",
      "     Known positives:\n",
      "                Contact (1997)\n",
      "                George of the Jungle (1997)\n",
      "                Event Horizon (1997)\n",
      "     Top movies:\n",
      "                Devil's Advocate, The (1997)\n",
      "                Air Force One (1997)\n",
      "                Dante's Peak (1997)\n"
     ]
    }
   ],
   "source": [
    "sample_recommedation(model,data,[0,10,450])"
   ]
  }
 ],
 "metadata": {
  "kernelspec": {
   "display_name": "Python 3",
   "language": "python",
   "name": "python3"
  },
  "language_info": {
   "codemirror_mode": {
    "name": "ipython",
    "version": 3
   },
   "file_extension": ".py",
   "mimetype": "text/x-python",
   "name": "python",
   "nbconvert_exporter": "python",
   "pygments_lexer": "ipython3",
   "version": "3.6.4"
  }
 },
 "nbformat": 4,
 "nbformat_minor": 2
}
