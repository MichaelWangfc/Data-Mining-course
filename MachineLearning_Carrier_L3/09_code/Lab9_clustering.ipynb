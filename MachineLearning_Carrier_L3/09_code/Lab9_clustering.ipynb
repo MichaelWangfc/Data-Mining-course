{
 "cells": [
  {
   "cell_type": "code",
   "execution_count": 3,
   "metadata": {},
   "outputs": [
    {
     "data": {
      "text/plain": [
       "'C:\\\\Users\\\\wwx559045.CHINA\\\\Course\\\\ML_and_AI\\\\09_code'"
      ]
     },
     "execution_count": 3,
     "metadata": {},
     "output_type": "execute_result"
    }
   ],
   "source": [
    "# -*- coding: utf-8 -*-\n",
    "\"\"\"\n",
    "Created on Tue Jun 27 15:00:59 2017\n",
    "\n",
    "@author: Administrator\n",
    "\"\"\"\n",
    "import time\n",
    "import sklearn \n",
    "import os \n",
    "import numpy as np\n",
    "import pandas as pd\n",
    "import matplotlib.pyplot as plt\n",
    "from sklearn import metrics\n",
    "import math\n",
    "import pylab as pl\n",
    "from sklearn.cluster import KMeans, MiniBatchKMeans\n",
    "from sklearn import cluster, datasets\n",
    "from sklearn.neighbors import kneighbors_graph\n",
    "from sklearn.preprocessing import StandardScaler\n",
    "plt.rcParams['font.sans-serif'] = ['SimHei']\n",
    "plt.rcParams['axes.unicode_minus'] = False\n",
    "os.getcwd()\n",
    "#font = FontProperties(fname=r\"c:\\windows\\fonts\\msyh.ttc\", size=10)"
   ]
  },
  {
   "cell_type": "code",
   "execution_count": 8,
   "metadata": {},
   "outputs": [],
   "source": [
    "#1.1 读取数据\n",
    "# os.chdir(\"E:\\\\Work\\\\聚类_华为\")\n",
    "#如果中文文件不识别，可更改为英文名，或者用open函数 \n",
    "# data_path = r'天级KPI_干扰_话务量.csv' \n",
    "df = pd.read_csv('kpi.csv',encoding='utf8')"
   ]
  },
  {
   "cell_type": "code",
   "execution_count": 11,
   "metadata": {},
   "outputs": [
    {
     "data": {
      "text/html": [
       "<div>\n",
       "<style scoped>\n",
       "    .dataframe tbody tr th:only-of-type {\n",
       "        vertical-align: middle;\n",
       "    }\n",
       "\n",
       "    .dataframe tbody tr th {\n",
       "        vertical-align: top;\n",
       "    }\n",
       "\n",
       "    .dataframe thead th {\n",
       "        text-align: right;\n",
       "    }\n",
       "</style>\n",
       "<table border=\"1\" class=\"dataframe\">\n",
       "  <thead>\n",
       "    <tr style=\"text-align: right;\">\n",
       "      <th></th>\n",
       "      <th>date</th>\n",
       "      <th>station</th>\n",
       "      <th>throut_tot</th>\n",
       "      <th>noise_avg</th>\n",
       "    </tr>\n",
       "  </thead>\n",
       "  <tbody>\n",
       "    <tr>\n",
       "      <th>0</th>\n",
       "      <td>2015/1/28</td>\n",
       "      <td>L5GED8</td>\n",
       "      <td>5.3947</td>\n",
       "      <td>-116.8958</td>\n",
       "    </tr>\n",
       "    <tr>\n",
       "      <th>1</th>\n",
       "      <td>2015/1/28</td>\n",
       "      <td>L5GED5</td>\n",
       "      <td>5.1684</td>\n",
       "      <td>-107.6458</td>\n",
       "    </tr>\n",
       "    <tr>\n",
       "      <th>2</th>\n",
       "      <td>2015/1/28</td>\n",
       "      <td>L5GED7</td>\n",
       "      <td>10.5770</td>\n",
       "      <td>-117.2604</td>\n",
       "    </tr>\n",
       "    <tr>\n",
       "      <th>3</th>\n",
       "      <td>2015/1/28</td>\n",
       "      <td>L5GE2B</td>\n",
       "      <td>0.0307</td>\n",
       "      <td>-118.8750</td>\n",
       "    </tr>\n",
       "    <tr>\n",
       "      <th>4</th>\n",
       "      <td>2015/1/28</td>\n",
       "      <td>L5GEA7</td>\n",
       "      <td>0.0561</td>\n",
       "      <td>-118.3854</td>\n",
       "    </tr>\n",
       "  </tbody>\n",
       "</table>\n",
       "</div>"
      ],
      "text/plain": [
       "        date station  throut_tot  noise_avg\n",
       "0  2015/1/28  L5GED8      5.3947  -116.8958\n",
       "1  2015/1/28  L5GED5      5.1684  -107.6458\n",
       "2  2015/1/28  L5GED7     10.5770  -117.2604\n",
       "3  2015/1/28  L5GE2B      0.0307  -118.8750\n",
       "4  2015/1/28  L5GEA7      0.0561  -118.3854"
      ]
     },
     "execution_count": 11,
     "metadata": {},
     "output_type": "execute_result"
    }
   ],
   "source": [
    "#1.2 数据检查\n",
    "#检查数据维度、前/后几行\n",
    "df.head()"
   ]
  },
  {
   "cell_type": "code",
   "execution_count": 12,
   "metadata": {},
   "outputs": [
    {
     "data": {
      "text/plain": [
       "Index(['date', 'station', 'throut_tot', 'noise_avg'], dtype='object')"
      ]
     },
     "execution_count": 12,
     "metadata": {},
     "output_type": "execute_result"
    }
   ],
   "source": [
    "df.columns\n",
    "# type(df)\n",
    "# df.shape \n",
    "# df.head()\n",
    "# df.tail()\n",
    "# df.describe()\n",
    "# df.isnull().any()#该数据集没有缺失值\n",
    "#df.shape()\n",
    "#生成一个groupby对象，实际上还未进行任何计算，可对其调用方法进行计算\n",
    "#grouped=df['MR.LteScRSRP',' MR.LteScRSRQ'].groupby(df['objectId'])\n",
    "#grouped\n",
    "#df_mean=grouped.mean()\n",
    "#df_mean.head()\n",
    "#df_mean=df.groupby(by=['objectId']).agg({'MR.LteScRSRP':'mean','MR.LteScRSRQ':'mean'})\n"
   ]
  },
  {
   "cell_type": "code",
   "execution_count": 14,
   "metadata": {},
   "outputs": [
    {
     "data": {
      "text/html": [
       "<div>\n",
       "<style scoped>\n",
       "    .dataframe tbody tr th:only-of-type {\n",
       "        vertical-align: middle;\n",
       "    }\n",
       "\n",
       "    .dataframe tbody tr th {\n",
       "        vertical-align: top;\n",
       "    }\n",
       "\n",
       "    .dataframe thead th {\n",
       "        text-align: right;\n",
       "    }\n",
       "</style>\n",
       "<table border=\"1\" class=\"dataframe\">\n",
       "  <thead>\n",
       "    <tr style=\"text-align: right;\">\n",
       "      <th></th>\n",
       "      <th>station</th>\n",
       "      <th>throut_tot</th>\n",
       "      <th>noise_avg</th>\n",
       "    </tr>\n",
       "  </thead>\n",
       "  <tbody>\n",
       "    <tr>\n",
       "      <th>0</th>\n",
       "      <td>L57169</td>\n",
       "      <td>6.437147</td>\n",
       "      <td>-110.919803</td>\n",
       "    </tr>\n",
       "    <tr>\n",
       "      <th>1</th>\n",
       "      <td>L57251</td>\n",
       "      <td>2.275780</td>\n",
       "      <td>-113.328477</td>\n",
       "    </tr>\n",
       "    <tr>\n",
       "      <th>2</th>\n",
       "      <td>L57252</td>\n",
       "      <td>3.766103</td>\n",
       "      <td>-113.486807</td>\n",
       "    </tr>\n",
       "    <tr>\n",
       "      <th>3</th>\n",
       "      <td>L57253</td>\n",
       "      <td>6.564697</td>\n",
       "      <td>-113.609737</td>\n",
       "    </tr>\n",
       "    <tr>\n",
       "      <th>4</th>\n",
       "      <td>L57257</td>\n",
       "      <td>3.948630</td>\n",
       "      <td>-112.007310</td>\n",
       "    </tr>\n",
       "  </tbody>\n",
       "</table>\n",
       "</div>"
      ],
      "text/plain": [
       "  station  throut_tot   noise_avg\n",
       "0  L57169    6.437147 -110.919803\n",
       "1  L57251    2.275780 -113.328477\n",
       "2  L57252    3.766103 -113.486807\n",
       "3  L57253    6.564697 -113.609737\n",
       "4  L57257    3.948630 -112.007310"
      ]
     },
     "execution_count": 14,
     "metadata": {},
     "output_type": "execute_result"
    }
   ],
   "source": [
    "#1.3数据汇总及检查\n",
    "df.columns=['date','station','throut_tot','noise_avg']\n",
    "df_mean=df.groupby(by=['station']).agg({'throut_tot':'mean','noise_avg':'mean'}).reset_index()\n",
    "df_mean.head()\n",
    "# df_mean.shape\n",
    "# max(df_mean[\"noise_avg\"])\n",
    "# min(df_mean[\"noise_avg\"])\n",
    "# sorted(df_mean[\"noise_avg\"])\n",
    "# sorted(df_mean[\"throut_tot\"])"
   ]
  },
  {
   "cell_type": "code",
   "execution_count": 15,
   "metadata": {},
   "outputs": [
    {
     "data": {
      "text/plain": [
       "Text(0,0.5,'noise_avg')"
      ]
     },
     "execution_count": 15,
     "metadata": {},
     "output_type": "execute_result"
    },
    {
     "data": {
      "image/png": "[encoded data removed]",
      "text/plain": [
       "<Figure size 432x288 with 1 Axes>"
      ]
     },
     "metadata": {},
     "output_type": "display_data"
    }
   ],
   "source": [
    "#画图\n",
    "ax=plt.subplot(3,2,1)\n",
    "plt.title(u'Sample')\n",
    "plt.scatter(df_mean[\"throut_tot\"],df_mean[\"noise_avg\"] )\n",
    "ax.set_xlabel('throut_tot')\n",
    "ax.set_ylabel('noise_avg')"
   ]
  },
  {
   "cell_type": "code",
   "execution_count": 16,
   "metadata": {},
   "outputs": [
    {
     "data": {
      "text/plain": [
       "Text(0,0.5,'noise_avg')"
      ]
     },
     "execution_count": 16,
     "metadata": {},
     "output_type": "execute_result"
    },
    {
     "data": {
      "image/png": "[encoded data removed]",
      "text/plain": [
       "<Figure size 432x288 with 1 Axes>"
      ]
     },
     "metadata": {},
     "output_type": "display_data"
    }
   ],
   "source": [
    "#删除异常值所在的行\n",
    "indexs= list(df_mean[df_mean['noise_avg'].isin([0])].index)\n",
    "df_mean2 = df_mean.drop(indexs)\n",
    "\n",
    "ax=plt.subplot(3,2,1)\n",
    "plt.title(u'Sample without ouliters')\n",
    "plt.scatter(df_mean2[\"throut_tot\"],df_mean2[\"noise_avg\"] )\n",
    "ax.set_xlabel('throut_tot')\n",
    "ax.set_ylabel('noise_avg')"
   ]
  },
  {
   "cell_type": "code",
   "execution_count": 18,
   "metadata": {},
   "outputs": [],
   "source": [
    "# plt.scatter(df_mean[\"throut_tot\"],df_mean[\"noise_avg\"] )\n",
    "# ax.set_xlabel('throut_tot')\n",
    "# ax.set_ylabel('noise_avg')"
   ]
  },
  {
   "cell_type": "code",
   "execution_count": 21,
   "metadata": {},
   "outputs": [
    {
     "data": {
      "text/plain": [
       "(124, 2)"
      ]
     },
     "execution_count": 21,
     "metadata": {},
     "output_type": "execute_result"
    }
   ],
   "source": [
    "#设置数据标准化函数\n",
    "def MaxMinNormalization(x):  \n",
    "    x = (x - min(x)) / (max(x) - min(x));  \n",
    "    return x;\n",
    " \n",
    "#删除字符型变量，用新的数据框保存\n",
    "df_mean_3=df_mean.drop(['station'],axis=1)\n",
    "df_norm=df_mean_3.apply(MaxMinNormalization, axis=0) \n",
    "df_norm.head()\n",
    "df_norm.shape #124,2\n",
    "\n"
   ]
  },
  {
   "cell_type": "code",
   "execution_count": 22,
   "metadata": {},
   "outputs": [
    {
     "data": {
      "text/plain": [
       "Text(0,0.5,'noise_avg')"
      ]
     },
     "execution_count": 22,
     "metadata": {},
     "output_type": "execute_result"
    },
    {
     "data": {
      "image/png": "[encoded data removed]",
      "text/plain": [
       "<Figure size 432x288 with 1 Axes>"
      ]
     },
     "metadata": {},
     "output_type": "display_data"
    }
   ],
   "source": [
    "ax = plt.subplot(111) #注意:一般都在ax中设置,不再plot中设置  \n",
    "clustering_names = [ 'KMeans', \n",
    "    'SpectralClustering', 'Ward',\n",
    "    'DBSCAN', 'Birch','affinity_propagation','average_linkage']\n",
    "\n",
    "#==============================================================================\n",
    "# plt.figure(figsize=(len(clustering_names) * 3 + 3, 9.5))\n",
    "# plt.subplots_adjust(left=.02, right=.98, bottom=.001, top=.96, wspace=.05,\n",
    "#                     hspace=.01)\n",
    "# plt.figure(figsize=(6,8))\n",
    "# ax=plt.subplot(3,2,1)\n",
    "# plot_num = 1\n",
    "throut_tot=df_norm[\"throut_tot\"]\n",
    "noise_avg=df_norm[\"noise_avg\"]\n",
    "# #Step3：聚类   样本图\n",
    "plt.xlim([0,1])\n",
    "plt.ylim([0,1])\n",
    "plt.title(u'Sample')\n",
    "plt.scatter(df_norm[\"throut_tot\"],df_norm[\"noise_avg\"] )\n",
    "ax.set_xlabel('throut_tot')\n",
    "ax.set_ylabel('noise_avg')"
   ]
  },
  {
   "cell_type": "code",
   "execution_count": 23,
   "metadata": {},
   "outputs": [
    {
     "name": "stderr",
     "output_type": "stream",
     "text": [
      "C:\\ProgramData\\Anaconda3\\lib\\site-packages\\matplotlib\\cbook\\deprecation.py:107: MatplotlibDeprecationWarning: Adding an axes using the same arguments as a previous axes currently reuses the earlier instance.  In a future version, a new instance will always be created and returned.  Meanwhile, this warning can be suppressed, and the future behavior ensured, by passing a unique label to each axes instance.\n",
      "  warnings.warn(message, mplDeprecation, stacklevel=1)\n"
     ]
    },
    {
     "data": {
      "image/png": "[encoded data removed]",
      "text/plain": [
       "<Figure size 432x288 with 2 Axes>"
      ]
     },
     "metadata": {},
     "output_type": "display_data"
    }
   ],
   "source": [
    "#==============================================================================\n",
    "#MiniBatchKMeans\n",
    "colors = ['b', 'g', 'r', 'c', 'm', 'y', 'k', 'b']\n",
    "markers = ['o', 's', 'D', 'v', '^', 'p', '*', '+']\n",
    "tests=[2,3]\n",
    "ax=plt.subplot(2,2,1)\n",
    "subplot_counter=0\n",
    "for t in tests:\n",
    "    subplot_counter+=1\n",
    "    plt.subplot(2,2,subplot_counter)\n",
    "    kmeans_model=cluster.MiniBatchKMeans(n_clusters=t).fit(df_norm)\n",
    "#     print kmeans_model.labels_:每个点对应的标签值\n",
    "    for i,l in enumerate(kmeans_model.labels_):\n",
    "        plt.plot(throut_tot[i],noise_avg[i],color=colors[l],\n",
    "             marker=markers[l],ls='None')\n",
    "        plt.xlim([0,1])\n",
    "        plt.ylim([0,1])\n",
    "        plt.title(u'K = %s, Silhouette = %.03f' % \n",
    "                  (t, metrics.silhouette_score\n",
    "                   (df_norm, kmeans_model.labels_,metric='euclidean'))\n",
    "                  )\n",
    "        ax.set_xlabel('throut_tot')\n",
    "        ax.set_ylabel('noise_avg')       \n"
   ]
  },
  {
   "cell_type": "code",
   "execution_count": 24,
   "metadata": {},
   "outputs": [
    {
     "name": "stderr",
     "output_type": "stream",
     "text": [
      "C:\\ProgramData\\Anaconda3\\lib\\site-packages\\matplotlib\\cbook\\deprecation.py:107: MatplotlibDeprecationWarning: Adding an axes using the same arguments as a previous axes currently reuses the earlier instance.  In a future version, a new instance will always be created and returned.  Meanwhile, this warning can be suppressed, and the future behavior ensured, by passing a unique label to each axes instance.\n",
      "  warnings.warn(message, mplDeprecation, stacklevel=1)\n"
     ]
    },
    {
     "data": {
      "image/png": "[encoded data removed]",
      "text/plain": [
       "<Figure size 432x288 with 2 Axes>"
      ]
     },
     "metadata": {},
     "output_type": "display_data"
    }
   ],
   "source": [
    "#K-means    \n",
    "colors = ['b', 'g', 'r', 'c', 'm', 'y', 'k', 'b']\n",
    "markers = ['o', 's', 'D', 'v', '^', 'p', '*', '+']\n",
    "tests=[2,3]\n",
    "ax=plt.subplot(2,2,1)\n",
    "subplot_counter=0\n",
    "for t in tests:\n",
    "    subplot_counter+=1\n",
    "    plt.subplot(2,2,subplot_counter)\n",
    "    kmeans_model=cluster.KMeans(n_clusters=t).fit(df_norm)\n",
    "    for i,l in enumerate(kmeans_model.labels_):\n",
    "        plt.plot(throut_tot[i],noise_avg[i],color=colors[l],\n",
    "             marker=markers[l],ls='None')\n",
    "        plt.xlim([0,1])\n",
    "        plt.ylim([0,1])\n",
    "        plt.title(u'K = %s, Silhouette = %.03f' % \n",
    "                  (t, metrics.silhouette_score\n",
    "                   (df_norm, kmeans_model.labels_,metric='euclidean'))\n",
    "                  )\n",
    "        ax.set_xlabel('throut_tot')\n",
    "        ax.set_ylabel('noise_avg') "
   ]
  },
  {
   "cell_type": "code",
   "execution_count": 25,
   "metadata": {},
   "outputs": [
    {
     "name": "stderr",
     "output_type": "stream",
     "text": [
      "C:\\ProgramData\\Anaconda3\\lib\\site-packages\\matplotlib\\cbook\\deprecation.py:107: MatplotlibDeprecationWarning: Adding an axes using the same arguments as a previous axes currently reuses the earlier instance.  In a future version, a new instance will always be created and returned.  Meanwhile, this warning can be suppressed, and the future behavior ensured, by passing a unique label to each axes instance.\n",
      "  warnings.warn(message, mplDeprecation, stacklevel=1)\n",
      "C:\\ProgramData\\Anaconda3\\lib\\site-packages\\sklearn\\cluster\\birch.py:629: UserWarning: Number of subclusters found (1) by Birch is less than (2). Decrease the threshold.\n",
      "  % (len(centroids), self.n_clusters))\n",
      "C:\\ProgramData\\Anaconda3\\lib\\site-packages\\sklearn\\cluster\\birch.py:629: UserWarning: Number of subclusters found (1) by Birch is less than (3). Decrease the threshold.\n",
      "  % (len(centroids), self.n_clusters))\n"
     ]
    },
    {
     "data": {
      "image/png": "[encoded data removed]",
      "text/plain": [
       "<Figure size 432x288 with 2 Axes>"
      ]
     },
     "metadata": {},
     "output_type": "display_data"
    }
   ],
   "source": [
    "#BIRCH \n",
    "colors = ['b', 'g', 'r', 'c', 'm', 'y', 'k', 'b']\n",
    "markers = ['o', 's', 'D', 'v', '^', 'p', '*', '+']\n",
    "ax=plt.subplot(2,2,1)\n",
    "tests=[2,3]\n",
    "subplot_counter=0\n",
    "for t in tests:\n",
    "    subplot_counter+=1\n",
    "    plt.subplot(2,2,subplot_counter)\n",
    "    Birch=cluster.Birch(n_clusters=t).fit(df_norm)\n",
    "    for i,l in enumerate(Birch.labels_):\n",
    "        plt.plot(throut_tot[i],noise_avg[i],color=colors[l],\n",
    "             marker=markers[l],ls='None')\n",
    "        plt.xlim([0,1])\n",
    "        plt.ylim([0,1])\n",
    "        plt.title(u'K = %s, BIRCH' % (t))\n",
    "    ax.set_xlabel('throut_tot')\n",
    "    ax.set_ylabel('noise_avg') "
   ]
  },
  {
   "cell_type": "code",
   "execution_count": 26,
   "metadata": {},
   "outputs": [
    {
     "name": "stderr",
     "output_type": "stream",
     "text": [
      "C:\\ProgramData\\Anaconda3\\lib\\site-packages\\matplotlib\\cbook\\deprecation.py:107: MatplotlibDeprecationWarning: Adding an axes using the same arguments as a previous axes currently reuses the earlier instance.  In a future version, a new instance will always be created and returned.  Meanwhile, this warning can be suppressed, and the future behavior ensured, by passing a unique label to each axes instance.\n",
      "  warnings.warn(message, mplDeprecation, stacklevel=1)\n"
     ]
    },
    {
     "data": {
      "image/png": "[encoded data removed]",
      "text/plain": [
       "<Figure size 432x288 with 2 Axes>"
      ]
     },
     "metadata": {},
     "output_type": "display_data"
    }
   ],
   "source": [
    "name='DBSCAN'  \n",
    "ax=plt.subplot(2,2,1)\n",
    "plt.title(name, size=18)\n",
    "dbscan = cluster.DBSCAN(eps=.1).fit(df_norm)\n",
    "#     print kmeans_model.labels_:每个点对应的标签值\n",
    "for i,l in enumerate(dbscan.labels_):\n",
    "    plt.plot(throut_tot[i],noise_avg[i],color=colors[l],\n",
    "             marker=markers[l],ls='None')\n",
    "    plt.xlim([0,1])\n",
    "    plt.ylim([0,1])\n",
    "    ax.set_xlabel('throut_tot')\n",
    "    ax.set_ylabel('noise_avg') \n",
    "\n",
    "#SpectralClustering\n",
    "ax=plt.subplot(2,2,1)\n",
    "colors = ['b', 'g', 'r', 'c', 'm', 'y', 'k', 'b']\n",
    "markers = ['o', 's', 'D', 'v', '^', 'p', '*', '+']\n",
    "tests=[2,3]\n",
    "subplot_counter=0\n",
    "for t in tests:\n",
    "    subplot_counter+=1\n",
    "    plt.subplot(2,2,subplot_counter)\n",
    "    spectral = cluster.SpectralClustering(n_clusters=t,\n",
    "                                   eigen_solver='arpack',\n",
    "                                   affinity=\"nearest_neighbors\").fit(df_norm)\n",
    "    for i,l in enumerate(spectral.labels_):\n",
    "        plt.plot(throut_tot[i],noise_avg[i],color=colors[l],\n",
    "                 marker=markers[l],ls='None')\n",
    "        plt.xlim([0,0.6])\n",
    "        plt.ylim([0,0.15])\n",
    "        plt.title(u'K = %s, SpectralClustering' % (t))\n",
    "    ax.set_xlabel('throut_tot')\n",
    "    ax.set_ylabel('noise_avg') \n",
    "    #ax.legend(spectral.labels_ ,loc='upper left'),"
   ]
  },
  {
   "cell_type": "code",
   "execution_count": 27,
   "metadata": {},
   "outputs": [
    {
     "name": "stderr",
     "output_type": "stream",
     "text": [
      "C:\\ProgramData\\Anaconda3\\lib\\site-packages\\matplotlib\\cbook\\deprecation.py:107: MatplotlibDeprecationWarning: Adding an axes using the same arguments as a previous axes currently reuses the earlier instance.  In a future version, a new instance will always be created and returned.  Meanwhile, this warning can be suppressed, and the future behavior ensured, by passing a unique label to each axes instance.\n",
      "  warnings.warn(message, mplDeprecation, stacklevel=1)\n"
     ]
    },
    {
     "data": {
      "image/png": "[encoded data removed]",
      "text/plain": [
       "<Figure size 432x288 with 2 Axes>"
      ]
     },
     "metadata": {},
     "output_type": "display_data"
    }
   ],
   "source": [
    "#ward\n",
    "# connectivity matrix for structured Ward\n",
    "connectivity = kneighbors_graph(df_norm, n_neighbors=10, include_self=False)\n",
    "# make connectivity symmetric\n",
    "connectivity = 0.5 * (connectivity + connectivity.T)\n",
    "ax=plt.subplot(2,2,1)\n",
    "colors = ['b', 'g', 'r', 'c', 'm', 'y', 'k', 'b']\n",
    "markers = ['o', 's', 'D', 'v', '^', 'p', '*', '+']\n",
    "tests=[2,4]\n",
    "subplot_counter=0\n",
    "for t in tests:\n",
    "    subplot_counter+=1\n",
    "    plt.subplot(2,2,subplot_counter)\n",
    "    ward = cluster.AgglomerativeClustering(n_clusters=t, linkage='ward',\n",
    "                                           connectivity=connectivity).fit(df_norm)\n",
    "    for i,l in enumerate(ward.labels_):\n",
    "        plt.plot(throut_tot[i],noise_avg[i],color=colors[l],\n",
    "                 marker=markers[l],ls='None')\n",
    "        plt.xlim([0,1])\n",
    "        plt.ylim([0,1])\n",
    "        plt.title(u'K = %s, ward' % (t))\n",
    "    ax.set_xlabel('throut_tot')\n",
    "    ax.set_ylabel('noise_avg') "
   ]
  },
  {
   "cell_type": "code",
   "execution_count": 29,
   "metadata": {},
   "outputs": [
    {
     "name": "stderr",
     "output_type": "stream",
     "text": [
      "C:\\ProgramData\\Anaconda3\\lib\\site-packages\\ipykernel_launcher.py:7: SettingWithCopyWarning: \n",
      "A value is trying to be set on a copy of a slice from a DataFrame\n",
      "\n",
      "See the caveats in the documentation: http://pandas.pydata.org/pandas-docs/stable/indexing.html#indexing-view-versus-copy\n",
      "  import sys\n",
      "C:\\ProgramData\\Anaconda3\\lib\\site-packages\\ipykernel_launcher.py:8: SettingWithCopyWarning: \n",
      "A value is trying to be set on a copy of a slice from a DataFrame\n",
      "\n",
      "See the caveats in the documentation: http://pandas.pydata.org/pandas-docs/stable/indexing.html#indexing-view-versus-copy\n",
      "  \n",
      "C:\\ProgramData\\Anaconda3\\lib\\site-packages\\ipykernel_launcher.py:9: SettingWithCopyWarning: \n",
      "A value is trying to be set on a copy of a slice from a DataFrame\n",
      "\n",
      "See the caveats in the documentation: http://pandas.pydata.org/pandas-docs/stable/indexing.html#indexing-view-versus-copy\n",
      "  if __name__ == '__main__':\n"
     ]
    }
   ],
   "source": [
    "# ax.legend(set(spectral.labels_),loc='upper left'),\n",
    "\n",
    "df_mean[\"cluster\"]=spectral.labels_\n",
    "df_mean[\"lable\"]=\"特征\"\n",
    "\n",
    "#对两个分类按图示效果打标签\n",
    "df_mean[\"lable\"][df_mean[\"cluster\"].isin([0])]=\"高话务量小区\"\n",
    "df_mean[\"lable\"][df_mean[\"cluster\"].isin([1])]=\"普通话务量小区\"\n",
    "df_mean[\"lable\"][df_mean[\"cluster\"].isin([2])]=\"低话务量小区\"\n",
    "\n",
    "df_mean.to_csv('cluster_rst_20180725.txt', sep='\\t')\n",
    "  \n",
    " #rst = pd.concat([df_mean_2,spectral.labels_], axis=1)\n",
    "# estimate bandwidth for mean shift\n",
    "#bandwidth = cluster.estimate_bandwidth(df_norm, quantile=0.3)\n",
    "# connectivity matrix for structured Ward"
   ]
  }
 ],
 "metadata": {
  "kernelspec": {
   "display_name": "Python 3",
   "language": "python",
   "name": "python3"
  },
  "language_info": {
   "codemirror_mode": {
    "name": "ipython",
    "version": 3
   },
   "file_extension": ".py",
   "mimetype": "text/x-python",
   "name": "python",
   "nbconvert_exporter": "python",
   "pygments_lexer": "ipython3",
   "version": "3.6.4"
  }
 },
 "nbformat": 4,
 "nbformat_minor": 2
}
