{
 "cells": [
  {
   "cell_type": "markdown",
   "metadata": {},
   "source": [
    "## 业务场景"
   ]
  },
  {
   "cell_type": "markdown",
   "metadata": {},
   "source": [
    "判断是否潜在合约客户 vs 单卡客户：\n"
   ]
  },
  {
   "cell_type": "markdown",
   "metadata": {},
   "source": [
    "## 字段信息：\n",
    "名称       | 说明   | 类型  |\n",
    "--------------|---------|--------|-----\n",
    "user_id     |用户标识 | int   |\n",
    "service_kind  |业务类型 | string | 2G\\3G\\4G\n",
    "call_duration|主叫时长（分）|\n",
    "called_duration|被叫时长（分）\n",
    "in_package_flux|免费流量\n",
    "out_package_flux|计费流量\n",
    "|月均上网时长（分）|\n",
    "net_duration |入网时长（天） |long\n",
    "last_recharge_value|最近一次缴费金额（元）\n",
    "total_recharge_value|总缴费金额(元)|\n",
    "total_recharge_count|缴费次数\n",
    "contractuser_flag|是否潜在合约用户\n",
    "\n",
    "\n",
    "silent_serv_flag|是否三无用户|int|0：否，1：是，三无：无月租费，无最低消费，无来电显示\n",
    "\n",
    "pay_type    | 付费类型 |int   | 0：预付费，1：后付费\n",
    "\n"
   ]
  },
  {
   "cell_type": "code",
   "execution_count": 1,
   "metadata": {
    "collapsed": true
   },
   "outputs": [],
   "source": [
    "import numpy as np\n",
    "import pandas as pd\n",
    "import matplotlib.pyplot as plt\n",
    "%matplotlib inline"
   ]
  },
  {
   "cell_type": "markdown",
   "metadata": {},
   "source": [
    "## 模拟生成运营商数据"
   ]
  },
  {
   "cell_type": "code",
   "execution_count": 2,
   "metadata": {
    "collapsed": true
   },
   "outputs": [],
   "source": [
    "from sklearn import datasets"
   ]
  },
  {
   "cell_type": "code",
   "execution_count": 6,
   "metadata": {},
   "outputs": [
    {
     "data": {
      "text/html": [
       "<div>\n",
       "<style>\n",
       "    .dataframe thead tr:only-child th {\n",
       "        text-align: right;\n",
       "    }\n",
       "\n",
       "    .dataframe thead th {\n",
       "        text-align: left;\n",
       "    }\n",
       "\n",
       "    .dataframe tbody tr th {\n",
       "        vertical-align: top;\n",
       "    }\n",
       "</style>\n",
       "<table border=\"1\" class=\"dataframe\">\n",
       "  <thead>\n",
       "    <tr style=\"text-align: right;\">\n",
       "      <th></th>\n",
       "      <th>用户标识</th>\n",
       "      <th>业务类型</th>\n",
       "      <th>主叫时长（分）</th>\n",
       "      <th>被叫时长（分）</th>\n",
       "      <th>免费流量</th>\n",
       "      <th>计费流量</th>\n",
       "      <th>月均上网时长（分）</th>\n",
       "      <th>入网时长（天）</th>\n",
       "      <th>最近一次缴费金额（元）</th>\n",
       "      <th>总缴费金额(元)</th>\n",
       "      <th>缴费次数</th>\n",
       "      <th>余额</th>\n",
       "      <th>是否潜在合约用户</th>\n",
       "    </tr>\n",
       "  </thead>\n",
       "  <tbody>\n",
       "    <tr>\n",
       "      <th>0</th>\n",
       "      <td>69152</td>\n",
       "      <td>3G</td>\n",
       "      <td>70.0</td>\n",
       "      <td>97.0</td>\n",
       "      <td>395.0</td>\n",
       "      <td>13.0</td>\n",
       "      <td>64.0</td>\n",
       "      <td>168.0</td>\n",
       "      <td>59.0</td>\n",
       "      <td>465.0</td>\n",
       "      <td>7.0</td>\n",
       "      <td>36.0</td>\n",
       "      <td>0</td>\n",
       "    </tr>\n",
       "    <tr>\n",
       "      <th>1</th>\n",
       "      <td>68250</td>\n",
       "      <td>4G</td>\n",
       "      <td>94.0</td>\n",
       "      <td>79.0</td>\n",
       "      <td>366.0</td>\n",
       "      <td>35.0</td>\n",
       "      <td>59.0</td>\n",
       "      <td>182.0</td>\n",
       "      <td>70.0</td>\n",
       "      <td>542.0</td>\n",
       "      <td>13.0</td>\n",
       "      <td>66.0</td>\n",
       "      <td>0</td>\n",
       "    </tr>\n",
       "    <tr>\n",
       "      <th>2</th>\n",
       "      <td>66830</td>\n",
       "      <td>4G</td>\n",
       "      <td>92.0</td>\n",
       "      <td>99.0</td>\n",
       "      <td>390.0</td>\n",
       "      <td>44.0</td>\n",
       "      <td>134.0</td>\n",
       "      <td>219.0</td>\n",
       "      <td>8.0</td>\n",
       "      <td>548.0</td>\n",
       "      <td>8.0</td>\n",
       "      <td>110.0</td>\n",
       "      <td>1</td>\n",
       "    </tr>\n",
       "    <tr>\n",
       "      <th>3</th>\n",
       "      <td>60790</td>\n",
       "      <td>3G</td>\n",
       "      <td>131.0</td>\n",
       "      <td>87.0</td>\n",
       "      <td>391.0</td>\n",
       "      <td>0.0</td>\n",
       "      <td>128.0</td>\n",
       "      <td>180.0</td>\n",
       "      <td>63.0</td>\n",
       "      <td>498.0</td>\n",
       "      <td>4.0</td>\n",
       "      <td>30.0</td>\n",
       "      <td>1</td>\n",
       "    </tr>\n",
       "    <tr>\n",
       "      <th>4</th>\n",
       "      <td>63040</td>\n",
       "      <td>3G</td>\n",
       "      <td>74.0</td>\n",
       "      <td>104.0</td>\n",
       "      <td>397.0</td>\n",
       "      <td>35.0</td>\n",
       "      <td>112.0</td>\n",
       "      <td>258.0</td>\n",
       "      <td>68.0</td>\n",
       "      <td>614.0</td>\n",
       "      <td>15.0</td>\n",
       "      <td>18.0</td>\n",
       "      <td>1</td>\n",
       "    </tr>\n",
       "  </tbody>\n",
       "</table>\n",
       "</div>"
      ],
      "text/plain": [
       "    用户标识 业务类型  主叫时长（分）  被叫时长（分）   免费流量  计费流量  月均上网时长（分）  入网时长（天）  最近一次缴费金额（元）  \\\n",
       "0  69152   3G     70.0     97.0  395.0  13.0       64.0    168.0         59.0   \n",
       "1  68250   4G     94.0     79.0  366.0  35.0       59.0    182.0         70.0   \n",
       "2  66830   4G     92.0     99.0  390.0  44.0      134.0    219.0          8.0   \n",
       "3  60790   3G    131.0     87.0  391.0   0.0      128.0    180.0         63.0   \n",
       "4  63040   3G     74.0    104.0  397.0  35.0      112.0    258.0         68.0   \n",
       "\n",
       "   总缴费金额(元)  缴费次数     余额  是否潜在合约用户  \n",
       "0     465.0   7.0   36.0         0  \n",
       "1     542.0  13.0   66.0         0  \n",
       "2     548.0   8.0  110.0         1  \n",
       "3     498.0   4.0   30.0         1  \n",
       "4     614.0  15.0   18.0         1  "
      ]
     },
     "execution_count": 6,
     "metadata": {},
     "output_type": "execute_result"
    }
   ],
   "source": [
    "data = pd.read_csv(r'data_carrier_svm.csv',encoding='utf8')\n",
    "data.head()"
   ]
  },
  {
   "cell_type": "code",
   "execution_count": 7,
   "metadata": {},
   "outputs": [
    {
     "data": {
      "text/plain": [
       "1    5003\n",
       "0    4997\n",
       "Name: 是否潜在合约用户, dtype: int64"
      ]
     },
     "execution_count": 7,
     "metadata": {},
     "output_type": "execute_result"
    }
   ],
   "source": [
    "data['是否潜在合约用户'].value_counts()"
   ]
  },
  {
   "cell_type": "code",
   "execution_count": 10,
   "metadata": {},
   "outputs": [
    {
     "data": {
      "text/plain": [
       "<matplotlib.collections.PathCollection at 0xf8dc518>"
      ]
     },
     "execution_count": 10,
     "metadata": {},
     "output_type": "execute_result"
    },
    {
     "data": {
      "image/png": "[encoded data removed]",
      "text/plain": [
       "<matplotlib.figure.Figure at 0xf7d1e10>"
      ]
     },
     "metadata": {},
     "output_type": "display_data"
    }
   ],
   "source": [
    "#生成数据可视化\n",
    "y = data.loc[:,'是否潜在合约用户']\n",
    "plt.scatter(data.loc[:,'主叫时长（分）'],data.loc[:,'免费流量'],c=y,alpha=0.5)"
   ]
  },
  {
   "cell_type": "markdown",
   "metadata": {},
   "source": [
    "## 数据预处理"
   ]
  },
  {
   "cell_type": "markdown",
   "metadata": {},
   "source": [
    "### 类别特征编码"
   ]
  },
  {
   "cell_type": "code",
   "execution_count": 12,
   "metadata": {},
   "outputs": [
    {
     "data": {
      "text/html": [
       "<div>\n",
       "<style>\n",
       "    .dataframe thead tr:only-child th {\n",
       "        text-align: right;\n",
       "    }\n",
       "\n",
       "    .dataframe thead th {\n",
       "        text-align: left;\n",
       "    }\n",
       "\n",
       "    .dataframe tbody tr th {\n",
       "        vertical-align: top;\n",
       "    }\n",
       "</style>\n",
       "<table border=\"1\" class=\"dataframe\">\n",
       "  <thead>\n",
       "    <tr style=\"text-align: right;\">\n",
       "      <th></th>\n",
       "      <th>用户标识</th>\n",
       "      <th>业务类型</th>\n",
       "      <th>主叫时长（分）</th>\n",
       "      <th>被叫时长（分）</th>\n",
       "      <th>免费流量</th>\n",
       "      <th>计费流量</th>\n",
       "      <th>月均上网时长（分）</th>\n",
       "      <th>入网时长（天）</th>\n",
       "      <th>最近一次缴费金额（元）</th>\n",
       "      <th>总缴费金额(元)</th>\n",
       "      <th>缴费次数</th>\n",
       "      <th>余额</th>\n",
       "      <th>是否潜在合约用户</th>\n",
       "    </tr>\n",
       "  </thead>\n",
       "  <tbody>\n",
       "    <tr>\n",
       "      <th>0</th>\n",
       "      <td>69152</td>\n",
       "      <td>3G</td>\n",
       "      <td>70.0</td>\n",
       "      <td>97.0</td>\n",
       "      <td>395.0</td>\n",
       "      <td>13.0</td>\n",
       "      <td>64.0</td>\n",
       "      <td>168.0</td>\n",
       "      <td>59.0</td>\n",
       "      <td>465.0</td>\n",
       "      <td>7.0</td>\n",
       "      <td>36.0</td>\n",
       "      <td>0</td>\n",
       "    </tr>\n",
       "    <tr>\n",
       "      <th>1</th>\n",
       "      <td>68250</td>\n",
       "      <td>4G</td>\n",
       "      <td>94.0</td>\n",
       "      <td>79.0</td>\n",
       "      <td>366.0</td>\n",
       "      <td>35.0</td>\n",
       "      <td>59.0</td>\n",
       "      <td>182.0</td>\n",
       "      <td>70.0</td>\n",
       "      <td>542.0</td>\n",
       "      <td>13.0</td>\n",
       "      <td>66.0</td>\n",
       "      <td>0</td>\n",
       "    </tr>\n",
       "    <tr>\n",
       "      <th>2</th>\n",
       "      <td>66830</td>\n",
       "      <td>4G</td>\n",
       "      <td>92.0</td>\n",
       "      <td>99.0</td>\n",
       "      <td>390.0</td>\n",
       "      <td>44.0</td>\n",
       "      <td>134.0</td>\n",
       "      <td>219.0</td>\n",
       "      <td>8.0</td>\n",
       "      <td>548.0</td>\n",
       "      <td>8.0</td>\n",
       "      <td>110.0</td>\n",
       "      <td>1</td>\n",
       "    </tr>\n",
       "    <tr>\n",
       "      <th>3</th>\n",
       "      <td>60790</td>\n",
       "      <td>3G</td>\n",
       "      <td>131.0</td>\n",
       "      <td>87.0</td>\n",
       "      <td>391.0</td>\n",
       "      <td>0.0</td>\n",
       "      <td>128.0</td>\n",
       "      <td>180.0</td>\n",
       "      <td>63.0</td>\n",
       "      <td>498.0</td>\n",
       "      <td>4.0</td>\n",
       "      <td>30.0</td>\n",
       "      <td>1</td>\n",
       "    </tr>\n",
       "    <tr>\n",
       "      <th>4</th>\n",
       "      <td>63040</td>\n",
       "      <td>3G</td>\n",
       "      <td>74.0</td>\n",
       "      <td>104.0</td>\n",
       "      <td>397.0</td>\n",
       "      <td>35.0</td>\n",
       "      <td>112.0</td>\n",
       "      <td>258.0</td>\n",
       "      <td>68.0</td>\n",
       "      <td>614.0</td>\n",
       "      <td>15.0</td>\n",
       "      <td>18.0</td>\n",
       "      <td>1</td>\n",
       "    </tr>\n",
       "  </tbody>\n",
       "</table>\n",
       "</div>"
      ],
      "text/plain": [
       "    用户标识 业务类型  主叫时长（分）  被叫时长（分）   免费流量  计费流量  月均上网时长（分）  入网时长（天）  最近一次缴费金额（元）  \\\n",
       "0  69152   3G     70.0     97.0  395.0  13.0       64.0    168.0         59.0   \n",
       "1  68250   4G     94.0     79.0  366.0  35.0       59.0    182.0         70.0   \n",
       "2  66830   4G     92.0     99.0  390.0  44.0      134.0    219.0          8.0   \n",
       "3  60790   3G    131.0     87.0  391.0   0.0      128.0    180.0         63.0   \n",
       "4  63040   3G     74.0    104.0  397.0  35.0      112.0    258.0         68.0   \n",
       "\n",
       "   总缴费金额(元)  缴费次数     余额  是否潜在合约用户  \n",
       "0     465.0   7.0   36.0         0  \n",
       "1     542.0  13.0   66.0         0  \n",
       "2     548.0   8.0  110.0         1  \n",
       "3     498.0   4.0   30.0         1  \n",
       "4     614.0  15.0   18.0         1  "
      ]
     },
     "execution_count": 12,
     "metadata": {},
     "output_type": "execute_result"
    }
   ],
   "source": [
    "data.head()"
   ]
  },
  {
   "cell_type": "code",
   "execution_count": 13,
   "metadata": {},
   "outputs": [
    {
     "name": "stdout",
     "output_type": "stream",
     "text": [
      "The shape of X is (10000, 11)\n",
      "The shape of y is (10000,)\n"
     ]
    }
   ],
   "source": [
    "X = data.loc[:,'业务类型':'余额']\n",
    "y= data.loc[:,'是否潜在合约用户']\n",
    "print('The shape of X is {0}'.format(X.shape))\n",
    "print('The shape of y is {0}'.format(y.shape))"
   ]
  },
  {
   "cell_type": "code",
   "execution_count": 14,
   "metadata": {},
   "outputs": [
    {
     "data": {
      "text/html": [
       "<div>\n",
       "<style>\n",
       "    .dataframe thead tr:only-child th {\n",
       "        text-align: right;\n",
       "    }\n",
       "\n",
       "    .dataframe thead th {\n",
       "        text-align: left;\n",
       "    }\n",
       "\n",
       "    .dataframe tbody tr th {\n",
       "        vertical-align: top;\n",
       "    }\n",
       "</style>\n",
       "<table border=\"1\" class=\"dataframe\">\n",
       "  <thead>\n",
       "    <tr style=\"text-align: right;\">\n",
       "      <th></th>\n",
       "      <th>业务类型</th>\n",
       "      <th>主叫时长（分）</th>\n",
       "      <th>被叫时长（分）</th>\n",
       "      <th>免费流量</th>\n",
       "      <th>计费流量</th>\n",
       "      <th>月均上网时长（分）</th>\n",
       "      <th>入网时长（天）</th>\n",
       "      <th>最近一次缴费金额（元）</th>\n",
       "      <th>总缴费金额(元)</th>\n",
       "      <th>缴费次数</th>\n",
       "      <th>余额</th>\n",
       "    </tr>\n",
       "  </thead>\n",
       "  <tbody>\n",
       "    <tr>\n",
       "      <th>0</th>\n",
       "      <td>3G</td>\n",
       "      <td>70.0</td>\n",
       "      <td>97.0</td>\n",
       "      <td>395.0</td>\n",
       "      <td>13.0</td>\n",
       "      <td>64.0</td>\n",
       "      <td>168.0</td>\n",
       "      <td>59.0</td>\n",
       "      <td>465.0</td>\n",
       "      <td>7.0</td>\n",
       "      <td>36.0</td>\n",
       "    </tr>\n",
       "    <tr>\n",
       "      <th>1</th>\n",
       "      <td>4G</td>\n",
       "      <td>94.0</td>\n",
       "      <td>79.0</td>\n",
       "      <td>366.0</td>\n",
       "      <td>35.0</td>\n",
       "      <td>59.0</td>\n",
       "      <td>182.0</td>\n",
       "      <td>70.0</td>\n",
       "      <td>542.0</td>\n",
       "      <td>13.0</td>\n",
       "      <td>66.0</td>\n",
       "    </tr>\n",
       "    <tr>\n",
       "      <th>2</th>\n",
       "      <td>4G</td>\n",
       "      <td>92.0</td>\n",
       "      <td>99.0</td>\n",
       "      <td>390.0</td>\n",
       "      <td>44.0</td>\n",
       "      <td>134.0</td>\n",
       "      <td>219.0</td>\n",
       "      <td>8.0</td>\n",
       "      <td>548.0</td>\n",
       "      <td>8.0</td>\n",
       "      <td>110.0</td>\n",
       "    </tr>\n",
       "    <tr>\n",
       "      <th>3</th>\n",
       "      <td>3G</td>\n",
       "      <td>131.0</td>\n",
       "      <td>87.0</td>\n",
       "      <td>391.0</td>\n",
       "      <td>0.0</td>\n",
       "      <td>128.0</td>\n",
       "      <td>180.0</td>\n",
       "      <td>63.0</td>\n",
       "      <td>498.0</td>\n",
       "      <td>4.0</td>\n",
       "      <td>30.0</td>\n",
       "    </tr>\n",
       "    <tr>\n",
       "      <th>4</th>\n",
       "      <td>3G</td>\n",
       "      <td>74.0</td>\n",
       "      <td>104.0</td>\n",
       "      <td>397.0</td>\n",
       "      <td>35.0</td>\n",
       "      <td>112.0</td>\n",
       "      <td>258.0</td>\n",
       "      <td>68.0</td>\n",
       "      <td>614.0</td>\n",
       "      <td>15.0</td>\n",
       "      <td>18.0</td>\n",
       "    </tr>\n",
       "  </tbody>\n",
       "</table>\n",
       "</div>"
      ],
      "text/plain": [
       "  业务类型  主叫时长（分）  被叫时长（分）   免费流量  计费流量  月均上网时长（分）  入网时长（天）  最近一次缴费金额（元）  \\\n",
       "0   3G     70.0     97.0  395.0  13.0       64.0    168.0         59.0   \n",
       "1   4G     94.0     79.0  366.0  35.0       59.0    182.0         70.0   \n",
       "2   4G     92.0     99.0  390.0  44.0      134.0    219.0          8.0   \n",
       "3   3G    131.0     87.0  391.0   0.0      128.0    180.0         63.0   \n",
       "4   3G     74.0    104.0  397.0  35.0      112.0    258.0         68.0   \n",
       "\n",
       "   总缴费金额(元)  缴费次数     余额  \n",
       "0     465.0   7.0   36.0  \n",
       "1     542.0  13.0   66.0  \n",
       "2     548.0   8.0  110.0  \n",
       "3     498.0   4.0   30.0  \n",
       "4     614.0  15.0   18.0  "
      ]
     },
     "execution_count": 14,
     "metadata": {},
     "output_type": "execute_result"
    }
   ],
   "source": [
    "X.head()"
   ]
  },
  {
   "cell_type": "code",
   "execution_count": 15,
   "metadata": {
    "collapsed": true
   },
   "outputs": [],
   "source": [
    "from sklearn.preprocessing import OneHotEncoder"
   ]
  },
  {
   "cell_type": "code",
   "execution_count": 16,
   "metadata": {},
   "outputs": [
    {
     "data": {
      "text/html": [
       "<div>\n",
       "<style>\n",
       "    .dataframe thead tr:only-child th {\n",
       "        text-align: right;\n",
       "    }\n",
       "\n",
       "    .dataframe thead th {\n",
       "        text-align: left;\n",
       "    }\n",
       "\n",
       "    .dataframe tbody tr th {\n",
       "        vertical-align: top;\n",
       "    }\n",
       "</style>\n",
       "<table border=\"1\" class=\"dataframe\">\n",
       "  <thead>\n",
       "    <tr style=\"text-align: right;\">\n",
       "      <th></th>\n",
       "      <th>主叫时长（分）</th>\n",
       "      <th>被叫时长（分）</th>\n",
       "      <th>免费流量</th>\n",
       "      <th>计费流量</th>\n",
       "      <th>月均上网时长（分）</th>\n",
       "      <th>入网时长（天）</th>\n",
       "      <th>最近一次缴费金额（元）</th>\n",
       "      <th>总缴费金额(元)</th>\n",
       "      <th>缴费次数</th>\n",
       "      <th>余额</th>\n",
       "      <th>2G</th>\n",
       "      <th>3G</th>\n",
       "      <th>4G</th>\n",
       "    </tr>\n",
       "  </thead>\n",
       "  <tbody>\n",
       "    <tr>\n",
       "      <th>0</th>\n",
       "      <td>70.0</td>\n",
       "      <td>97.0</td>\n",
       "      <td>395.0</td>\n",
       "      <td>13.0</td>\n",
       "      <td>64.0</td>\n",
       "      <td>168.0</td>\n",
       "      <td>59.0</td>\n",
       "      <td>465.0</td>\n",
       "      <td>7.0</td>\n",
       "      <td>36.0</td>\n",
       "      <td>0.0</td>\n",
       "      <td>1.0</td>\n",
       "      <td>0.0</td>\n",
       "    </tr>\n",
       "    <tr>\n",
       "      <th>1</th>\n",
       "      <td>94.0</td>\n",
       "      <td>79.0</td>\n",
       "      <td>366.0</td>\n",
       "      <td>35.0</td>\n",
       "      <td>59.0</td>\n",
       "      <td>182.0</td>\n",
       "      <td>70.0</td>\n",
       "      <td>542.0</td>\n",
       "      <td>13.0</td>\n",
       "      <td>66.0</td>\n",
       "      <td>0.0</td>\n",
       "      <td>0.0</td>\n",
       "      <td>1.0</td>\n",
       "    </tr>\n",
       "    <tr>\n",
       "      <th>2</th>\n",
       "      <td>92.0</td>\n",
       "      <td>99.0</td>\n",
       "      <td>390.0</td>\n",
       "      <td>44.0</td>\n",
       "      <td>134.0</td>\n",
       "      <td>219.0</td>\n",
       "      <td>8.0</td>\n",
       "      <td>548.0</td>\n",
       "      <td>8.0</td>\n",
       "      <td>110.0</td>\n",
       "      <td>0.0</td>\n",
       "      <td>0.0</td>\n",
       "      <td>1.0</td>\n",
       "    </tr>\n",
       "    <tr>\n",
       "      <th>3</th>\n",
       "      <td>131.0</td>\n",
       "      <td>87.0</td>\n",
       "      <td>391.0</td>\n",
       "      <td>0.0</td>\n",
       "      <td>128.0</td>\n",
       "      <td>180.0</td>\n",
       "      <td>63.0</td>\n",
       "      <td>498.0</td>\n",
       "      <td>4.0</td>\n",
       "      <td>30.0</td>\n",
       "      <td>0.0</td>\n",
       "      <td>1.0</td>\n",
       "      <td>0.0</td>\n",
       "    </tr>\n",
       "    <tr>\n",
       "      <th>4</th>\n",
       "      <td>74.0</td>\n",
       "      <td>104.0</td>\n",
       "      <td>397.0</td>\n",
       "      <td>35.0</td>\n",
       "      <td>112.0</td>\n",
       "      <td>258.0</td>\n",
       "      <td>68.0</td>\n",
       "      <td>614.0</td>\n",
       "      <td>15.0</td>\n",
       "      <td>18.0</td>\n",
       "      <td>0.0</td>\n",
       "      <td>1.0</td>\n",
       "      <td>0.0</td>\n",
       "    </tr>\n",
       "  </tbody>\n",
       "</table>\n",
       "</div>"
      ],
      "text/plain": [
       "   主叫时长（分）  被叫时长（分）   免费流量  计费流量  月均上网时长（分）  入网时长（天）  最近一次缴费金额（元）  总缴费金额(元)  \\\n",
       "0     70.0     97.0  395.0  13.0       64.0    168.0         59.0     465.0   \n",
       "1     94.0     79.0  366.0  35.0       59.0    182.0         70.0     542.0   \n",
       "2     92.0     99.0  390.0  44.0      134.0    219.0          8.0     548.0   \n",
       "3    131.0     87.0  391.0   0.0      128.0    180.0         63.0     498.0   \n",
       "4     74.0    104.0  397.0  35.0      112.0    258.0         68.0     614.0   \n",
       "\n",
       "   缴费次数     余额   2G   3G   4G  \n",
       "0   7.0   36.0  0.0  1.0  0.0  \n",
       "1  13.0   66.0  0.0  0.0  1.0  \n",
       "2   8.0  110.0  0.0  0.0  1.0  \n",
       "3   4.0   30.0  0.0  1.0  0.0  \n",
       "4  15.0   18.0  0.0  1.0  0.0  "
      ]
     },
     "execution_count": 16,
     "metadata": {},
     "output_type": "execute_result"
    }
   ],
   "source": [
    "def service_mapping(cell):\n",
    "    if cell=='2G':\n",
    "        return 2\n",
    "    elif cell=='3G':\n",
    "        return 3\n",
    "    elif cell=='4G':\n",
    "        return 4\n",
    "\n",
    "#将业务类型的string型值映射为整数型\n",
    "service_map = X['业务类型'].map(service_mapping)\n",
    "service = pd.DataFrame(service_map)\n",
    "# service_df\n",
    "#使用OncHotEncoder转化类型特征为0/1编码的多维特征\n",
    "enc = OneHotEncoder()\n",
    "service_enc = enc.fit_transform(service).toarray()\n",
    "service_enc\n",
    "\n",
    "#0/1编码的多维特征的名称\n",
    "service_names = enc.active_features_.tolist()\n",
    "service_newname=[str(x)+'G' for x in service_names]\n",
    "\n",
    "service_df = pd.DataFrame(service_enc,columns=service_newname)\n",
    "service_df.head()\n",
    "X_enc = pd.concat([X,service_df],axis = 1).drop('业务类型',axis=1)\n",
    "X_enc.head()"
   ]
  },
  {
   "cell_type": "markdown",
   "metadata": {},
   "source": [
    "### 数据归一化"
   ]
  },
  {
   "cell_type": "code",
   "execution_count": 220,
   "metadata": {},
   "outputs": [
    {
     "data": {
      "text/plain": [
       "array([[0.1075175 , 0.14898853, 0.60670587, 0.01996753, 0.09830171,\n",
       "        0.25804199, 0.09062189, 0.71422336, 0.01075175, 0.05529471,\n",
       "        0.        , 0.        , 0.00153596],\n",
       "       [0.13427845, 0.11285104, 0.52282887, 0.0499973 , 0.08428116,\n",
       "        0.25998594, 0.09999459, 0.77424384, 0.01857042, 0.09428062,\n",
       "        0.00142849, 0.        , 0.        ]])"
      ]
     },
     "execution_count": 220,
     "metadata": {},
     "output_type": "execute_result"
    }
   ],
   "source": [
    "# from sklearn.preprocessing import normalize\n",
    "# X_normalized = normalize(X_enc)\n",
    "# X_normalized[:2]"
   ]
  },
  {
   "cell_type": "code",
   "execution_count": 38,
   "metadata": {},
   "outputs": [],
   "source": [
    "from sklearn import metrics,cross_validation\n",
    "from sklearn.model_selection import train_test_split,GridSearchCV\n",
    "from sklearn.ensemble import GradientBoostingClassifier"
   ]
  },
  {
   "cell_type": "code",
   "execution_count": 22,
   "metadata": {},
   "outputs": [
    {
     "name": "stdout",
     "output_type": "stream",
     "text": [
      "The shape of X_train is (8000, 13)\n",
      "The shape of X_test is (2000, 13)\n",
      "The shape of y_train is (8000,)\n",
      "The shape of y_test is (2000,)\n"
     ]
    }
   ],
   "source": [
    "#分割训练集和测试集\n",
    "X_train,X_test,y_train,y_test = train_test_split(X_enc,y,test_size = 0.2, random_state=112)\n",
    "print('The shape of X_train is {0}'.format(X_train.shape))\n",
    "print('The shape of X_test is {0}'.format(X_test.shape))\n",
    "print('The shape of y_train is {0}'.format(y_train.shape))\n",
    "print('The shape of y_test is {0}'.format(y_test.shape))"
   ]
  },
  {
   "cell_type": "code",
   "execution_count": 29,
   "metadata": {},
   "outputs": [
    {
     "data": {
      "text/html": [
       "<div>\n",
       "<style>\n",
       "    .dataframe thead tr:only-child th {\n",
       "        text-align: right;\n",
       "    }\n",
       "\n",
       "    .dataframe thead th {\n",
       "        text-align: left;\n",
       "    }\n",
       "\n",
       "    .dataframe tbody tr th {\n",
       "        vertical-align: top;\n",
       "    }\n",
       "</style>\n",
       "<table border=\"1\" class=\"dataframe\">\n",
       "  <thead>\n",
       "    <tr style=\"text-align: right;\">\n",
       "      <th></th>\n",
       "      <th>主叫时长（分）</th>\n",
       "      <th>被叫时长（分）</th>\n",
       "      <th>免费流量</th>\n",
       "      <th>计费流量</th>\n",
       "      <th>月均上网时长（分）</th>\n",
       "      <th>入网时长（天）</th>\n",
       "      <th>最近一次缴费金额（元）</th>\n",
       "      <th>总缴费金额(元)</th>\n",
       "      <th>缴费次数</th>\n",
       "      <th>余额</th>\n",
       "      <th>2G</th>\n",
       "      <th>3G</th>\n",
       "      <th>4G</th>\n",
       "    </tr>\n",
       "  </thead>\n",
       "  <tbody>\n",
       "    <tr>\n",
       "      <th>6475</th>\n",
       "      <td>104.0</td>\n",
       "      <td>103.0</td>\n",
       "      <td>382.0</td>\n",
       "      <td>0.0</td>\n",
       "      <td>70.0</td>\n",
       "      <td>198.0</td>\n",
       "      <td>96.0</td>\n",
       "      <td>606.0</td>\n",
       "      <td>8.0</td>\n",
       "      <td>74.0</td>\n",
       "      <td>0.0</td>\n",
       "      <td>1.0</td>\n",
       "      <td>0.0</td>\n",
       "    </tr>\n",
       "    <tr>\n",
       "      <th>2220</th>\n",
       "      <td>79.0</td>\n",
       "      <td>66.0</td>\n",
       "      <td>391.0</td>\n",
       "      <td>10.0</td>\n",
       "      <td>79.0</td>\n",
       "      <td>130.0</td>\n",
       "      <td>67.0</td>\n",
       "      <td>526.0</td>\n",
       "      <td>7.0</td>\n",
       "      <td>39.0</td>\n",
       "      <td>0.0</td>\n",
       "      <td>0.0</td>\n",
       "      <td>1.0</td>\n",
       "    </tr>\n",
       "    <tr>\n",
       "      <th>2462</th>\n",
       "      <td>104.0</td>\n",
       "      <td>106.0</td>\n",
       "      <td>371.0</td>\n",
       "      <td>14.0</td>\n",
       "      <td>114.0</td>\n",
       "      <td>210.0</td>\n",
       "      <td>47.0</td>\n",
       "      <td>479.0</td>\n",
       "      <td>11.0</td>\n",
       "      <td>53.0</td>\n",
       "      <td>0.0</td>\n",
       "      <td>1.0</td>\n",
       "      <td>0.0</td>\n",
       "    </tr>\n",
       "    <tr>\n",
       "      <th>4551</th>\n",
       "      <td>91.0</td>\n",
       "      <td>77.0</td>\n",
       "      <td>376.0</td>\n",
       "      <td>36.0</td>\n",
       "      <td>92.0</td>\n",
       "      <td>161.0</td>\n",
       "      <td>78.0</td>\n",
       "      <td>605.0</td>\n",
       "      <td>11.0</td>\n",
       "      <td>70.0</td>\n",
       "      <td>0.0</td>\n",
       "      <td>1.0</td>\n",
       "      <td>0.0</td>\n",
       "    </tr>\n",
       "    <tr>\n",
       "      <th>6736</th>\n",
       "      <td>72.0</td>\n",
       "      <td>132.0</td>\n",
       "      <td>406.0</td>\n",
       "      <td>92.0</td>\n",
       "      <td>150.0</td>\n",
       "      <td>179.0</td>\n",
       "      <td>106.0</td>\n",
       "      <td>556.0</td>\n",
       "      <td>11.0</td>\n",
       "      <td>33.0</td>\n",
       "      <td>0.0</td>\n",
       "      <td>1.0</td>\n",
       "      <td>0.0</td>\n",
       "    </tr>\n",
       "  </tbody>\n",
       "</table>\n",
       "</div>"
      ],
      "text/plain": [
       "      主叫时长（分）  被叫时长（分）   免费流量  计费流量  月均上网时长（分）  入网时长（天）  最近一次缴费金额（元）  \\\n",
       "6475    104.0    103.0  382.0   0.0       70.0    198.0         96.0   \n",
       "2220     79.0     66.0  391.0  10.0       79.0    130.0         67.0   \n",
       "2462    104.0    106.0  371.0  14.0      114.0    210.0         47.0   \n",
       "4551     91.0     77.0  376.0  36.0       92.0    161.0         78.0   \n",
       "6736     72.0    132.0  406.0  92.0      150.0    179.0        106.0   \n",
       "\n",
       "      总缴费金额(元)  缴费次数    余额   2G   3G   4G  \n",
       "6475     606.0   8.0  74.0  0.0  1.0  0.0  \n",
       "2220     526.0   7.0  39.0  0.0  0.0  1.0  \n",
       "2462     479.0  11.0  53.0  0.0  1.0  0.0  \n",
       "4551     605.0  11.0  70.0  0.0  1.0  0.0  \n",
       "6736     556.0  11.0  33.0  0.0  1.0  0.0  "
      ]
     },
     "execution_count": 29,
     "metadata": {},
     "output_type": "execute_result"
    }
   ],
   "source": [
    "type(X_train)\n",
    "X_train"
   ]
  },
  {
   "cell_type": "code",
   "execution_count": 35,
   "metadata": {},
   "outputs": [
    {
     "data": {
      "text/plain": [
       "<matplotlib.collections.PathCollection at 0x15b259b0>"
      ]
     },
     "execution_count": 35,
     "metadata": {},
     "output_type": "execute_result"
    },
    {
     "data": {
      "image/png": "[encoded data removed]",
      "text/plain": [
       "<matplotlib.figure.Figure at 0x14add358>"
      ]
     },
     "metadata": {},
     "output_type": "display_data"
    }
   ],
   "source": [
    "#生成数据可视化\n",
    "plt.scatter(X_train.iloc[:,0],X_train.iloc[:,1],c=y_train,alpha =0.5)"
   ]
  },
  {
   "cell_type": "markdown",
   "metadata": {},
   "source": [
    "## Define a function for modeling and cross-validation\n",
    "\n",
    "This function will do the following:\n",
    "1. fit the model\n",
    "2. determine training accuracy\n",
    "3. determine training AUC\n",
    "4. determine testing AUC\n",
    "5. perform CV is performCV is True\n",
    "6. plot Feature Importance if printFeatureImportance is True"
   ]
  },
  {
   "cell_type": "code",
   "execution_count": 81,
   "metadata": {},
   "outputs": [],
   "source": [
    "def modelfit(alg, X_train,y_train, performCV=True, printFeatureImportance=True, cv_folds=5):\n",
    "    #     dtest,\n",
    "    #     Fit the algorithm on the data\n",
    "\n",
    "    alg.fit(X_train, y_train)\n",
    "\n",
    "    #Predict training set:\n",
    "    train_predictions = alg.predict(X_train)\n",
    "    train_predprob = alg.predict_proba(X_train)[:,1]\n",
    "\n",
    "    #     test_predictions = alg.predict(X_test)\n",
    "    #     test_predprob = alg.predict_proba(X_test)[:,1]\n",
    "    #Perform cross-validation:\n",
    "    #here the author calculate cross-validated AUC\n",
    "    if performCV:\n",
    "        cv_score = cross_validation.cross_val_score(alg, X_train, y_train, cv=cv_folds, scoring='roc_auc')\n",
    "\n",
    "    #Print model report:\n",
    "    print(\"\\nModel Report\")\n",
    "    print(\"Accuracy (Train): %3.4f\" %metrics.accuracy_score(y_train.values, train_predictions))\n",
    "    ## IMPORTANT: first argument is true values, second argument is predicted probabilities\n",
    "    print(\"AUC Score (Train): %f\" %metrics.roc_auc_score(y_train,train_predprob))\n",
    "\n",
    "    if performCV:\n",
    "        print(\"CV Score : Mean - %.7g | Std - %.7g | Min - %.7g | Max - %.7g\"\\\n",
    "        % (np.mean(cv_score),np.std(cv_score),np.min(cv_score),np.max(cv_score)))\n",
    "\n",
    "    #Print Feature Importance:\n",
    "    if printFeatureImportance:\n",
    "        feat_imp = pd.Series(alg.feature_importances_,X_train.columns.tolist()).sort_values(ascending=True)\n",
    "        feat_imp.plot(kind='barh', title='Feature Importances')\n",
    "        plt.ylabel('Feature Importance Score')\n",
    "\n",
    "        #crete a horizontal bar graph\n",
    "        # sort importances\n",
    "    #         indices = np.argsort(alg.feature_importances_)\n",
    "    #         # plot as bar chart\n",
    "    #         plt.barh(np.arange(len(predictors)), alg.feature_importances_[indices])\n",
    "    #         plt.yticks(np.arange(len(predictors)) + 0.25, np.array(predictors)[indices])\n",
    "        _ = plt.xlabel('Relative importance')"
   ]
  },
  {
   "cell_type": "markdown",
   "metadata": {},
   "source": [
    "### 训练简单模型 作为baseline model"
   ]
  },
  {
   "cell_type": "code",
   "execution_count": 77,
   "metadata": {
    "collapsed": true
   },
   "outputs": [],
   "source": [
    "from pylab import mpl\n",
    "\n",
    "mpl.rcParams['font.sans-serif'] = ['FangSong'] # 指定默认字体\n",
    "mpl.rcParams['axes.unicode_minus'] = False # 解决保存图像是负号'-'显示为方块的问题"
   ]
  },
  {
   "cell_type": "code",
   "execution_count": 47,
   "metadata": {},
   "outputs": [
    {
     "name": "stdout",
     "output_type": "stream",
     "text": [
      "The accuracy score of the model is: 0.9855\n"
     ]
    },
    {
     "data": {
      "text/plain": [
       "array([[1033,    5],\n",
       "       [  24,  938]], dtype=int64)"
      ]
     },
     "execution_count": 47,
     "metadata": {},
     "output_type": "execute_result"
    }
   ],
   "source": [
    "#模型实例化\n",
    "clf0 = GradientBoostingClassifier(random_state=110)\n",
    "#在训练集上训练模型\n",
    "linear_clf.fit(X_train,y_train)\n",
    "\n",
    "#在测试集上预测\n",
    "y_pred = linear_clf.predict(X_test)\n",
    "\n",
    "#计算准备；率\n",
    "score = metrics.accuracy_score(y_test,y_pred)\n",
    "print('The accuracy score of the model is: {0}'.format(score))\n",
    "\n",
    "#查看混淆举证\n",
    "metrics.confusion_matrix(y_test,y_pred)"
   ]
  },
  {
   "cell_type": "code",
   "execution_count": 82,
   "metadata": {},
   "outputs": [
    {
     "name": "stdout",
     "output_type": "stream",
     "text": [
      "\n",
      "Model Report\n",
      "Accuracy (Train): 0.9855\n",
      "AUC Score (Train): 0.999095\n",
      "CV Score : Mean - 0.9974389 | Std - 0.0005415776 | Min - 0.9965684 | Max - 0.9979514\n"
     ]
    },
    {
     "data": {
      "image/png": "[encoded data removed]",
      "text/plain": [
       "<matplotlib.figure.Figure at 0x15e8a208>"
      ]
     },
     "metadata": {},
     "output_type": "display_data"
    }
   ],
   "source": [
    "#模型实例化\n",
    "clf0 = GradientBoostingClassifier(random_state=110)\n",
    "\n",
    "modelfit(clf0,X_train,y_train)"
   ]
  },
  {
   "cell_type": "markdown",
   "metadata": {},
   "source": [
    "### GBDT调参\n",
    "https://www.analyticsvidhya.com/blog/2016/02/complete-guide-parameter-tuning-gradient-boosting-gbm-python/\n",
    "\n",
    "### GBM Models:\n",
    "\n",
    "There 2 types of parameters here:\n",
    "1. Tree-specific parameters\n",
    "  * min_samples_split\n",
    "  * min_samples_leaf\n",
    "  * max_depth\n",
    "  * min_leaf_nodes\n",
    "  * max_features\n",
    "  * loss function\n",
    "2. Boosting specific paramters\n",
    "  * n_estimators\n",
    "  * learning_rate\n",
    "  * subsample\n"
   ]
  },
  {
   "cell_type": "markdown",
   "metadata": {},
   "source": [
    "### Approach for tackling the problem\n",
    "\n",
    "1. Decide a relatively higher value for learning rate and tune the number of estimators requried for that.\n",
    "2. Tune the tree specific parameters for that learning rate\n",
    "3. Tune subsample\n",
    "4. Lower learning rate as much as possible computationally and increase the number of estimators accordingly."
   ]
  },
  {
   "cell_type": "code",
   "execution_count": 83,
   "metadata": {},
   "outputs": [
    {
     "data": {
      "text/plain": [
       "13"
      ]
     },
     "execution_count": 83,
     "metadata": {},
     "output_type": "execute_result"
    }
   ],
   "source": [
    "len(X_train.columns.tolist())"
   ]
  },
  {
   "cell_type": "markdown",
   "metadata": {},
   "source": [
    "### Step 1- Find the number of estimators for a high learning rate\n",
    "\n",
    "We will use the following benchmarks for parameters:\n",
    "1. min_samples_split = 100 : ~0.5-1% of total values. Since this is NOT an imbalanced class problem, we'll take big value\n",
    "2. min_samples_leaf = 5 : Just using for preventing overfitting. will be tuned later.\n",
    "3. max_depth = 8 : since we have 13 predictors, choose relatively high value\n",
    "4. max_features = 'sqrt' : general thumbrule to start with\n",
    "5. subsample = 0.8 : typically used value (will be tuned later)\n",
    "\n",
    "0.1 is assumed to be a good learning rate to start with. Let's try to find the optimum number of estimators requried for this."
   ]
  },
  {
   "cell_type": "code",
   "execution_count": 102,
   "metadata": {},
   "outputs": [
    {
     "data": {
      "text/plain": [
       "GridSearchCV(cv=5, error_score='raise',\n",
       "       estimator=GradientBoostingClassifier(criterion='friedman_mse', init=None,\n",
       "              learning_rate=0.2, loss='deviance', max_depth=8,\n",
       "              max_features='sqrt', max_leaf_nodes=None,\n",
       "              min_impurity_decrease=0.0, min_impurity_split=None,\n",
       "              min_samples_leaf=5, min_samples_split=50,\n",
       "              min_weight_fraction_leaf=0.0, n_estimators=100,\n",
       "              presort='auto', random_state=10, subsample=0.8, verbose=0,\n",
       "              warm_start=False),\n",
       "       fit_params=None, iid=False, n_jobs=4,\n",
       "       param_grid={'n_estimators': range(20, 81, 10)},\n",
       "       pre_dispatch='2*n_jobs', refit=True, return_train_score=True,\n",
       "       scoring='roc_auc', verbose=0)"
      ]
     },
     "execution_count": 102,
     "metadata": {},
     "output_type": "execute_result"
    }
   ],
   "source": [
    "#设置迭代次数的范围\n",
    "param_test1 = {'n_estimators':range(20,81,10)}\n",
    "estimator = GradientBoostingClassifier(learning_rate=0.2, min_samples_split=50,\n",
    "                                       min_samples_leaf=5,max_depth=8,max_features='sqrt', subsample=0.8,random_state=10)\n",
    "gsearch1 = GridSearchCV(estimator,param_grid = param_test1, scoring='roc_auc',n_jobs=4,iid=False, cv=5)\n",
    "gsearch1.fit(X_train,y_train)"
   ]
  },
  {
   "cell_type": "code",
   "execution_count": 103,
   "metadata": {},
   "outputs": [
    {
     "name": "stdout",
     "output_type": "stream",
     "text": [
      "0.9979665131122031\n",
      "{'n_estimators': 70}\n",
      "GradientBoostingClassifier(criterion='friedman_mse', init=None,\n",
      "              learning_rate=0.2, loss='deviance', max_depth=8,\n",
      "              max_features='sqrt', max_leaf_nodes=None,\n",
      "              min_impurity_decrease=0.0, min_impurity_split=None,\n",
      "              min_samples_leaf=5, min_samples_split=50,\n",
      "              min_weight_fraction_leaf=0.0, n_estimators=70,\n",
      "              presort='auto', random_state=10, subsample=0.8, verbose=0,\n",
      "              warm_start=False)\n"
     ]
    }
   ],
   "source": [
    "# examine the best model\n",
    "# print(gsearch1.grid_scores_)\n",
    "print(gsearch1.best_score_)\n",
    "print(gsearch1.best_params_)\n",
    "print(gsearch1.best_estimator_)"
   ]
  },
  {
   "cell_type": "markdown",
   "metadata": {},
   "source": [
    "### Step 2- Tune tree-specific parameters\n",
    "Now, lets move onto tuning the tree parameters. We will do this in 2 stages:\n",
    "1. Tune max_depth and num_samples_split\n",
    "2. Tune min_samples_leaf\n",
    "3. Tune max_features"
   ]
  },
  {
   "cell_type": "code",
   "execution_count": 106,
   "metadata": {},
   "outputs": [
    {
     "data": {
      "text/plain": [
       "GridSearchCV(cv=5, error_score='raise',\n",
       "       estimator=GradientBoostingClassifier(criterion='friedman_mse', init=None,\n",
       "              learning_rate=0.2, loss='deviance', max_depth=3,\n",
       "              max_features='sqrt', max_leaf_nodes=None,\n",
       "              min_impurity_decrease=0.0, min_impurity_split=None,\n",
       "              min_samples_leaf=1, min_samples_split=2,\n",
       "              min_weight_fraction_leaf=0.0, n_estimators=70,\n",
       "              presort='auto', random_state=10, subsample=0.8, verbose=0,\n",
       "              warm_start=False),\n",
       "       fit_params=None, iid=False, n_jobs=4,\n",
       "       param_grid={'max_depth': range(1, 9), 'min_samples_split': range(10, 101, 10)},\n",
       "       pre_dispatch='2*n_jobs', refit=True, return_train_score=True,\n",
       "       scoring='roc_auc', verbose=0)"
      ]
     },
     "execution_count": 106,
     "metadata": {},
     "output_type": "execute_result"
    }
   ],
   "source": [
    "#Grid seach on subsample and max_features\n",
    "param_test2 = {'max_depth':range(1,9,1), 'min_samples_split':range(10,101,10)}\n",
    "estimator = GradientBoostingClassifier(learning_rate=0.2, n_estimators=70,\n",
    "                                       max_features='sqrt', subsample=0.8, random_state=10)\n",
    "gsearch2 = GridSearchCV(estimator,param_grid = param_test2, scoring='roc_auc',n_jobs=4,iid=False, cv=5)\n",
    "gsearch2.fit(X_train,y_train)"
   ]
  },
  {
   "cell_type": "code",
   "execution_count": 109,
   "metadata": {},
   "outputs": [
    {
     "name": "stdout",
     "output_type": "stream",
     "text": [
      "0.9982828868720782\n",
      "{'max_depth': 5, 'min_samples_split': 100}\n",
      "GradientBoostingClassifier(criterion='friedman_mse', init=None,\n",
      "              learning_rate=0.2, loss='deviance', max_depth=5,\n",
      "              max_features='sqrt', max_leaf_nodes=None,\n",
      "              min_impurity_decrease=0.0, min_impurity_split=None,\n",
      "              min_samples_leaf=1, min_samples_split=100,\n",
      "              min_weight_fraction_leaf=0.0, n_estimators=70,\n",
      "              presort='auto', random_state=10, subsample=0.8, verbose=0,\n",
      "              warm_start=False)\n"
     ]
    }
   ],
   "source": [
    "print(gsearch2.best_score_)\n",
    "print(gsearch2.best_params_)\n",
    "print(gsearch2.best_estimator_)"
   ]
  },
  {
   "cell_type": "code",
   "execution_count": 111,
   "metadata": {},
   "outputs": [
    {
     "data": {
      "text/plain": [
       "GridSearchCV(cv=5, error_score='raise',\n",
       "       estimator=GradientBoostingClassifier(criterion='friedman_mse', init=None,\n",
       "              learning_rate=0.2, loss='deviance', max_depth=5,\n",
       "              max_features='sqrt', max_leaf_nodes=None,\n",
       "              min_impurity_decrease=0.0, min_impurity_split=None,\n",
       "              min_samples_leaf=1, min_samples_split=2,\n",
       "              min_weight_fraction_leaf=0.0, n_estimators=70,\n",
       "              presort='auto', random_state=10, subsample=0.8, verbose=0,\n",
       "              warm_start=False),\n",
       "       fit_params=None, iid=False, n_jobs=4,\n",
       "       param_grid={'min_samples_split': range(90, 201, 20), 'min_samples_leaf': range(5, 51, 5)},\n",
       "       pre_dispatch='2*n_jobs', refit=True, return_train_score=True,\n",
       "       scoring='roc_auc', verbose=0)"
      ]
     },
     "execution_count": 111,
     "metadata": {},
     "output_type": "execute_result"
    }
   ],
   "source": [
    "#Grid seach on min_samples_split and min_samples_leaf\n",
    "param_test3 = {'min_samples_split':range(90,201,20), 'min_samples_leaf':range(5,51,5)}\n",
    "\n",
    "estimator = GradientBoostingClassifier(learning_rate=0.2, n_estimators=70,max_depth=5,\n",
    "                                       max_features='sqrt', subsample=0.8, random_state=10)\n",
    "gsearch3 = GridSearchCV(estimator,param_grid = param_test3, scoring='roc_auc',n_jobs=4,iid=False, cv=5)\n",
    "gsearch3.fit(X_train,y_train)"
   ]
  },
  {
   "cell_type": "code",
   "execution_count": 112,
   "metadata": {},
   "outputs": [
    {
     "name": "stdout",
     "output_type": "stream",
     "text": [
      "0.9984212953891507\n",
      "{'min_samples_leaf': 20, 'min_samples_split': 170}\n",
      "GradientBoostingClassifier(criterion='friedman_mse', init=None,\n",
      "              learning_rate=0.2, loss='deviance', max_depth=5,\n",
      "              max_features='sqrt', max_leaf_nodes=None,\n",
      "              min_impurity_decrease=0.0, min_impurity_split=None,\n",
      "              min_samples_leaf=20, min_samples_split=170,\n",
      "              min_weight_fraction_leaf=0.0, n_estimators=70,\n",
      "              presort='auto', random_state=10, subsample=0.8, verbose=0,\n",
      "              warm_start=False)\n"
     ]
    }
   ],
   "source": [
    "print(gsearch3.best_score_)\n",
    "print(gsearch3.best_params_)\n",
    "print(gsearch3.best_estimator_)"
   ]
  },
  {
   "cell_type": "code",
   "execution_count": 113,
   "metadata": {},
   "outputs": [
    {
     "name": "stdout",
     "output_type": "stream",
     "text": [
      "\n",
      "Model Report\n",
      "Accuracy (Train): 0.9972\n",
      "AUC Score (Train): 0.999889\n",
      "CV Score : Mean - 0.9984213 | Std - 0.0004348064 | Min - 0.9976295 | Max - 0.9988419\n"
     ]
    },
    {
     "data": {
      "image/png": "[encoded data removed]",
      "text/plain": [
       "<matplotlib.figure.Figure at 0x1611c2e8>"
      ]
     },
     "metadata": {},
     "output_type": "display_data"
    }
   ],
   "source": [
    "modelfit(gsearch3.best_estimator_, X_train, y_train)"
   ]
  },
  {
   "cell_type": "code",
   "execution_count": 115,
   "metadata": {},
   "outputs": [
    {
     "data": {
      "text/plain": [
       "GridSearchCV(cv=5, error_score='raise',\n",
       "       estimator=GradientBoostingClassifier(criterion='friedman_mse', init=None,\n",
       "              learning_rate=0.2, loss='deviance', max_depth=5,\n",
       "              max_features=None, max_leaf_nodes=None,\n",
       "              min_impurity_decrease=0.0, min_impurity_split=None,\n",
       "              min_samples_leaf=20, min_samples_split=170,\n",
       "              min_weight_fraction_leaf=0.0, n_estimators=70,\n",
       "              presort='auto', random_state=10, subsample=0.8, verbose=0,\n",
       "              warm_start=False),\n",
       "       fit_params=None, iid=False, n_jobs=4,\n",
       "       param_grid={'max_features': range(1, 8)}, pre_dispatch='2*n_jobs',\n",
       "       refit=True, return_train_score=True, scoring='roc_auc', verbose=0)"
      ]
     },
     "execution_count": 115,
     "metadata": {},
     "output_type": "execute_result"
    }
   ],
   "source": [
    "#Grid seach on  max_features\n",
    "param_test4 = {'max_features':range(1,8,1)}\n",
    "estimator = GradientBoostingClassifier(learning_rate=0.2, n_estimators=70,max_depth=5, \n",
    "                            min_samples_split=170, min_samples_leaf=20, subsample=0.8, random_state=10)\n",
    "gsearch4 = GridSearchCV(estimator,param_grid = param_test4, scoring='roc_auc',n_jobs=4,iid=False, cv=5)\n",
    "gsearch4.fit(X_train,y_train)"
   ]
  },
  {
   "cell_type": "code",
   "execution_count": 117,
   "metadata": {},
   "outputs": [
    {
     "name": "stdout",
     "output_type": "stream",
     "text": [
      "0.9984212953891507\n",
      "{'max_features': 3}\n",
      "GradientBoostingClassifier(criterion='friedman_mse', init=None,\n",
      "              learning_rate=0.2, loss='deviance', max_depth=5,\n",
      "              max_features=3, max_leaf_nodes=None,\n",
      "              min_impurity_decrease=0.0, min_impurity_split=None,\n",
      "              min_samples_leaf=20, min_samples_split=170,\n",
      "              min_weight_fraction_leaf=0.0, n_estimators=70,\n",
      "              presort='auto', random_state=10, subsample=0.8, verbose=0,\n",
      "              warm_start=False)\n"
     ]
    }
   ],
   "source": [
    "print(gsearch4.best_score_)\n",
    "print(gsearch4.best_params_)\n",
    "print(gsearch4.best_estimator_)"
   ]
  },
  {
   "cell_type": "markdown",
   "metadata": {},
   "source": [
    "### Step3- Tune Subsample and Lower Learning Rate"
   ]
  },
  {
   "cell_type": "code",
   "execution_count": 118,
   "metadata": {},
   "outputs": [
    {
     "data": {
      "text/plain": [
       "GridSearchCV(cv=5, error_score='raise',\n",
       "       estimator=GradientBoostingClassifier(criterion='friedman_mse', init=None,\n",
       "              learning_rate=0.2, loss='deviance', max_depth=5,\n",
       "              max_features=3, max_leaf_nodes=None,\n",
       "              min_impurity_decrease=0.0, min_impurity_split=None,\n",
       "              min_samples_leaf=20, min_samples_split=170,\n",
       "              min_weight_fraction_leaf=0.0, n_estimators=70,\n",
       "              presort='auto', random_state=10, subsample=1.0, verbose=0,\n",
       "              warm_start=False),\n",
       "       fit_params=None, iid=False, n_jobs=4,\n",
       "       param_grid={'subsample': [0.6, 0.7, 0.75, 0.8, 0.85, 0.9]},\n",
       "       pre_dispatch='2*n_jobs', refit=True, return_train_score=True,\n",
       "       scoring='roc_auc', verbose=0)"
      ]
     },
     "execution_count": 118,
     "metadata": {},
     "output_type": "execute_result"
    }
   ],
   "source": [
    "#Grid seach on subsample and max_features\n",
    "param_test5 = {'subsample':[0.6,0.7,0.75,0.8,0.85,0.9]}\n",
    "\n",
    "estimator = GradientBoostingClassifier(learning_rate=0.2, n_estimators=70,max_depth=5, \n",
    "                            min_samples_split=170, min_samples_leaf=20, max_features=3, random_state=10)\n",
    "\n",
    "\n",
    "gsearch5 = GridSearchCV(estimator,param_grid = param_test5, scoring='roc_auc',n_jobs=4,iid=False, cv=5)\n",
    "gsearch5.fit(X_train,y_train)"
   ]
  },
  {
   "cell_type": "code",
   "execution_count": 119,
   "metadata": {},
   "outputs": [
    {
     "name": "stdout",
     "output_type": "stream",
     "text": [
      "0.9984212953891507\n",
      "{'subsample': 0.8}\n",
      "GradientBoostingClassifier(criterion='friedman_mse', init=None,\n",
      "              learning_rate=0.2, loss='deviance', max_depth=5,\n",
      "              max_features=3, max_leaf_nodes=None,\n",
      "              min_impurity_decrease=0.0, min_impurity_split=None,\n",
      "              min_samples_leaf=20, min_samples_split=170,\n",
      "              min_weight_fraction_leaf=0.0, n_estimators=70,\n",
      "              presort='auto', random_state=10, subsample=0.8, verbose=0,\n",
      "              warm_start=False)\n"
     ]
    }
   ],
   "source": [
    "print(gsearch5.best_score_)\n",
    "print(gsearch5.best_params_)\n",
    "print(gsearch5.best_estimator_)"
   ]
  },
  {
   "cell_type": "markdown",
   "metadata": {},
   "source": [
    "### Reducing the learning rate\n",
    "With all tuned lets try reducing the learning rate and proportionally increasing the number of estimators to get more robust results:"
   ]
  },
  {
   "cell_type": "code",
   "execution_count": 120,
   "metadata": {},
   "outputs": [
    {
     "name": "stdout",
     "output_type": "stream",
     "text": [
      "\n",
      "Model Report\n",
      "Accuracy (Train): 0.9976\n",
      "AUC Score (Train): 0.999897\n",
      "CV Score : Mean - 0.9983287 | Std - 0.0003928892 | Min - 0.9977232 | Max - 0.9988045\n"
     ]
    },
    {
     "data": {
      "image/png": "[encoded data removed]",
      "text/plain": [
       "<matplotlib.figure.Figure at 0x15f87780>"
      ]
     },
     "metadata": {},
     "output_type": "display_data"
    }
   ],
   "source": [
    "# learning_rate=0.1, n_estimators=140\n",
    "gbm_tuned_1 = GradientBoostingClassifier(learning_rate=0.1, n_estimators=140,max_depth=5,min_samples_split=170, \n",
    "                                         min_samples_leaf=20, max_features=3, subsample=0.85,random_state=10)\n",
    "\n",
    "modelfit(gbm_tuned_1, X_train,y_train)"
   ]
  },
  {
   "cell_type": "code",
   "execution_count": 122,
   "metadata": {},
   "outputs": [
    {
     "name": "stdout",
     "output_type": "stream",
     "text": [
      "\n",
      "Model Report\n",
      "Accuracy (Train): 0.9978\n",
      "AUC Score (Train): 0.999913\n",
      "CV Score : Mean - 0.9983716 | Std - 0.0003831623 | Min - 0.9977154 | Max - 0.9987655\n"
     ]
    },
    {
     "data": {
      "image/png": "[encoded data removed]",
      "text/plain": [
       "<matplotlib.figure.Figure at 0x1612ff98>"
      ]
     },
     "metadata": {},
     "output_type": "display_data"
    }
   ],
   "source": [
    "# learning_rate=0.05, n_estimators=210\n",
    "gbm_tuned_2 = GradientBoostingClassifier(learning_rate=0.05, n_estimators=280,max_depth=5,min_samples_split=170, \n",
    "                                         min_samples_leaf=20, max_features=3, subsample=0.85,random_state=10)\n",
    "\n",
    "modelfit(gbm_tuned_2, X_train,y_train)"
   ]
  },
  {
   "cell_type": "code",
   "execution_count": 125,
   "metadata": {},
   "outputs": [
    {
     "name": "stdout",
     "output_type": "stream",
     "text": [
      "\n",
      "Model Report\n",
      "Accuracy (Train): 0.9978\n",
      "AUC Score (Train): 0.999916\n",
      "CV Score : Mean - 0.998355 | Std - 0.0004214749 | Min - 0.9977185 | Max - 0.9988076\n"
     ]
    },
    {
     "data": {
      "image/png": "[encoded data removed]",
      "text/plain": [
       "<matplotlib.figure.Figure at 0x15fd7d68>"
      ]
     },
     "metadata": {},
     "output_type": "display_data"
    }
   ],
   "source": [
    "# learning_rate=0.01, n_estimators=1400\n",
    "gbm_tuned_3 = GradientBoostingClassifier(learning_rate=0.01, n_estimators=1400,max_depth=5,min_samples_split=170, \n",
    "                                         min_samples_leaf=20, max_features=3, subsample=0.85,random_state=10)\n",
    "\n",
    "modelfit(gbm_tuned_3, X_train,y_train)"
   ]
  },
  {
   "cell_type": "markdown",
   "metadata": {},
   "source": [
    "## 使用最有超参再次进行训练"
   ]
  },
  {
   "cell_type": "code",
   "execution_count": 130,
   "metadata": {},
   "outputs": [
    {
     "name": "stdout",
     "output_type": "stream",
     "text": [
      "The accuracy score of the model for test data is: 0.99\n",
      "The accuracy score of the model for test data is: 0.9980061208384909\n"
     ]
    },
    {
     "data": {
      "text/plain": [
       "array([[1037,    1],\n",
       "       [  19,  943]], dtype=int64)"
      ]
     },
     "execution_count": 130,
     "metadata": {},
     "output_type": "execute_result"
    }
   ],
   "source": [
    "#模型实例化\n",
    "# learning_rate=0.01, n_estimators=1400\n",
    "gbm_tuned_3 = GradientBoostingClassifier(learning_rate=0.01, n_estimators=1400,max_depth=5,min_samples_split=170, \n",
    "                                         min_samples_leaf=20, max_features=3, subsample=0.85,random_state=10)\n",
    "\n",
    "#在训练集上训练模型\n",
    "gbm_tuned_3.fit(X_train,y_train)\n",
    "\n",
    "#在测试集上预测\n",
    "y_pred = gbm_tuned_3.predict(X_test)\n",
    "                                         \n",
    "y_pred_proba = gbm_tuned_3.predict_proba(X_test)[:,1]\n"
   ]
  },
  {
   "cell_type": "markdown",
   "metadata": {},
   "source": [
    "### 模型评估"
   ]
  },
  {
   "cell_type": "code",
   "execution_count": 132,
   "metadata": {},
   "outputs": [
    {
     "name": "stdout",
     "output_type": "stream",
     "text": [
      "The accuracy score of the model for test data is: 0.99\n",
      "The accuracy score of the model for test data is: 0.9980061208384909\n"
     ]
    },
    {
     "data": {
      "image/png": "[encoded data removed]",
      "text/plain": [
       "<matplotlib.figure.Figure at 0x15fd3be0>"
      ]
     },
     "metadata": {},
     "output_type": "display_data"
    }
   ],
   "source": [
    "#计算准备；率\n",
    "score = metrics.accuracy_score(y_test,y_pred)\n",
    "print('The accuracy score of the model for test data is: {0}'.format(score))\n",
    "\n",
    "auc_score = metrics.roc_auc_score(y_test,y_pred_proba)\n",
    "print('The accuracy score of the model for test data is: {0}'.format(auc_score))\n",
    "\n",
    "#查看混淆举证\n",
    "metrics.confusion_matrix(y_test,y_pred)\n",
    "\n",
    "# IMPORTANT: first argument is true values, second argument is predicted probabilities\n",
    "#fpr: false positive rate (=1- specifity), tpr = true postive rate\n",
    "fpr, tpr, thresholds = metrics.roc_curve(y_test, y_pred_proba)\n",
    "plt.plot(fpr, tpr)\n",
    "plt.xlim([0.0, 1.0])\n",
    "plt.ylim([0.0, 1.0])\n",
    "plt.title('ROC curve for diabetes classifier')\n",
    "plt.xlabel('False Positive Rate (1 - Specificity)')\n",
    "plt.ylabel('True Positive Rate (Sensitivity)')\n",
    "plt.grid(True)"
   ]
  }
 ],
 "metadata": {
  "kernelspec": {
   "display_name": "Python [conda env:python36]",
   "language": "python",
   "name": "conda-env-python36-py"
  },
  "language_info": {
   "codemirror_mode": {
    "name": "ipython",
    "version": 3
   },
   "file_extension": ".py",
   "mimetype": "text/x-python",
   "name": "python",
   "nbconvert_exporter": "python",
   "pygments_lexer": "ipython3",
   "version": "3.6.1"
  }
 },
 "nbformat": 4,
 "nbformat_minor": 2
}
