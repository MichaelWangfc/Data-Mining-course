{
 "cells": [
  {
   "cell_type": "markdown",
   "metadata": {},
   "source": [
    "# 第二章：日志文件清洗 Web log clean\n",
    "- **Author**: wangfeicheng\n",
    "- **Mail**:wang_feicheng@163.com or wangfeichengzjhw@huawei.com\n",
    "\n",
    "本案例主要介绍如何从杂乱的web日志文件中进行数据清洗和预处理，从而提取网站的有效信息：如网页访问量、独立IP数、注册用户数等，为下一步进行用户画像和数据分析挖掘做好准备。\n",
    "\n",
    "Tips：相应的方法可以结合自身处理的数据，尝试推广到自己的业务领域。"
   ]
  },
  {
   "cell_type": "code",
   "execution_count": 1,
   "metadata": {},
   "outputs": [],
   "source": [
    "import numpy as np\n",
    "import pandas as pd\n",
    "import matplotlib.pylab as plt\n",
    "%matplotlib inline"
   ]
  },
  {
   "cell_type": "markdown",
   "metadata": {},
   "source": [
    "##  数据介绍"
   ]
  },
  {
   "cell_type": "markdown",
   "metadata": {},
   "source": [
    "本案例使用的是某网站给定时间内的log日志文件，数据记录包括：\n",
    "- 访问的IP地址\n",
    "- 访问时间\n",
    "- 访问协议\n",
    "- 访问状态码\n",
    "- 请求体大小\n",
    "- referer\n",
    "- User Agent"
   ]
  },
  {
   "cell_type": "code",
   "execution_count": 2,
   "metadata": {},
   "outputs": [
    {
     "name": "stdout",
     "output_type": "stream",
     "text": [
      "194.237.142.21 - - [18/Sep/2013:06:49:18 +0000] \"GET /wp-content/uploads/2013/07/rstudio-git3.png HTTP/1.1\" 304 0 \"-\" \"Mozilla/4.0 (compatible;)\"\n",
      "\n",
      "183.49.46.228 - - [18/Sep/2013:06:49:23 +0000] \"-\" 400 0 \"-\" \"-\"\n",
      "\n",
      "163.177.71.12 - - [18/Sep/2013:06:49:33 +0000] \"HEAD / HTTP/1.1\" 200 20 \"-\" \"DNSPod-Monitor/1.0\"\n",
      "\n",
      "163.177.71.12 - - [18/Sep/2013:06:49:36 +0000] \"HEAD / HTTP/1.1\" 200 20 \"-\" \"DNSPod-Monitor/1.0\"\n",
      "\n",
      "101.226.68.137 - - [18/Sep/2013:06:49:42 +0000] \"HEAD / HTTP/1.1\" 200 20 \"-\" \"DNSPod-Monitor/1.0\"\n",
      "\n"
     ]
    }
   ],
   "source": [
    "line_01 = str()\n",
    "with open('Data/access.log.txt') as log_file:\n",
    "    i = 0\n",
    "    for line in log_file.readlines()[0:5]:\n",
    "        if i==1:\n",
    "            line_01 =line\n",
    "        i+=1\n",
    "        print(line)"
   ]
  },
  {
   "cell_type": "markdown",
   "metadata": {},
   "source": [
    "##  数据清洗 \n",
    "通过数据清洗，将原始的log文件转换为规整的、有效的数据集\n"
   ]
  },
  {
   "cell_type": "markdown",
   "metadata": {},
   "source": [
    "#### Step 1：提取访问的IP地址"
   ]
  },
  {
   "cell_type": "code",
   "execution_count": 3,
   "metadata": {},
   "outputs": [],
   "source": [
    "def getIP(line):\n",
    "    #input: line\n",
    "    #output: 访问IP\n",
    "    strs = line.split('- -')\n",
    "    return strs[0].strip()\n",
    "# getIP(line_01)"
   ]
  },
  {
   "cell_type": "markdown",
   "metadata": {},
   "source": [
    "#### Step 2：提取访问时间"
   ]
  },
  {
   "cell_type": "code",
   "execution_count": 4,
   "metadata": {},
   "outputs": [],
   "source": [
    "def getTime(line):\n",
    "    #input: line\n",
    "    #output: 访问时间\n",
    "    import re\n",
    "    import time\n",
    "    pattern =re.compile(r'.*?\\[(.*?)\\].*?')      #使用正则表达式，匹配每行中的 [ ] 中的信息，从而提取时间信息\n",
    "    time_info = re.match(pattern,line).group(1).split() \n",
    "    date_info = time_info[0].strip()             # 得到时间信息,如 '18/Sep/2013:06:49:18'\n",
    "    timezone = time_info[1].strip()              # 得到时区信息\n",
    "    timestamp = time.mktime(time.strptime(date_info,\"%d/%b/%Y:%H:%M:%S\")) # 从时间字符串转换为timestamp\n",
    "    realtime_str = time.strftime(\"%Y/%m/%d %H:%M:%S\",time.localtime(timestamp)) # 从timestamp转换为自己指定格式的时间字符串\n",
    "    return realtime_str,timezone\n",
    "# getTime(line_01)"
   ]
  },
  {
   "cell_type": "markdown",
   "metadata": {},
   "source": [
    "#### Step 3: 提取请求Url和协议"
   ]
  },
  {
   "cell_type": "code",
   "execution_count": 5,
   "metadata": {},
   "outputs": [
    {
     "data": {
      "text/plain": [
       "(None, None, None, '-', '-')"
      ]
     },
     "execution_count": 5,
     "metadata": {},
     "output_type": "execute_result"
    }
   ],
   "source": [
    "def getRequestInfo(line):\n",
    "    #inpout:line\n",
    "    #output:url和协议，referer,user agent\n",
    "    import re\n",
    "    url_protocol,referer,user_agent =  re.findall(r'\"(.*?)\"',line)\n",
    "    try:\n",
    "        [method,url,protocol] = url_protocol.split(' ')\n",
    "    except:\n",
    "        [method,url,protocol] = [None,None,None]\n",
    "    return method,url,protocol,referer,user_agent\n",
    "getRequestInfo(line_01)"
   ]
  },
  {
   "cell_type": "code",
   "execution_count": 6,
   "metadata": {},
   "outputs": [],
   "source": [
    "method,url,procotol,referer,user_agent = getRequestInfo(line_01)"
   ]
  },
  {
   "cell_type": "markdown",
   "metadata": {},
   "source": [
    "#### step 4:提取访问状态码和请求体的大小"
   ]
  },
  {
   "cell_type": "code",
   "execution_count": 7,
   "metadata": {},
   "outputs": [],
   "source": [
    "def getStatus(line):\n",
    "    #input: line\n",
    "    #output: response code and size\n",
    "    import re\n",
    "    status_info  = re.findall(r'.*?(\\d+\\s+\\d+).*?',line)[0].split(' ')\n",
    "    [response_code,size] = [s.strip() for s in status_info]\n",
    "    return response_code,size\n",
    "# getStatus(line_01)"
   ]
  },
  {
   "cell_type": "markdown",
   "metadata": {},
   "source": [
    "### Step 5: 定义visitor类\n",
    "用来封装提取的方法（procedure/method）和提取的信息（attribute）\n",
    "- method:\n",
    " 1. fit()\n",
    " 1. get_ip()\n",
    " 2. get_time()\n",
    " 2. get_timezone()\n",
    " 3. get_method()\n",
    " 3. get_url()\n",
    " 3. get_protocol()\n",
    " 4. get_referer()\n",
    " 4. get_status_code()\n",
    " 4. get_size()\n",
    " 5. show_info(): 打印相应的封装信息\n",
    " \n",
    "\n",
    "- attributes\n",
    " 1. IP\n",
    " 2. Time\n",
    " 3. TimeZoon\n",
    " 4. method,\n",
    " 5. url\n",
    " 6. protocol\n",
    " 7. referer\n",
    " 8. user_agent\n",
    " 9. response_code\n",
    " 10. response_size\n"
   ]
  },
  {
   "cell_type": "code",
   "execution_count": 8,
   "metadata": {},
   "outputs": [
    {
     "data": {
      "text/plain": [
       "'183.49.46.228 - - [18/Sep/2013:06:49:23 +0000] \"-\" 400 0 \"-\" \"-\"\\n'"
      ]
     },
     "execution_count": 8,
     "metadata": {},
     "output_type": "execute_result"
    }
   ],
   "source": [
    "line_01"
   ]
  },
  {
   "cell_type": "code",
   "execution_count": 9,
   "metadata": {},
   "outputs": [],
   "source": [
    "log_dir = 'data/access.log.txt'\n",
    "class visitor():\n",
    "    def __init__(self):\n",
    "        self.log_info = None\n",
    "            #Define the attribute for the class\n",
    "        self.log_info = None\n",
    "        self.IP = None\n",
    "        self.TIME = None\n",
    "        self.TIMEZONE = None\n",
    "        self.METHOD = None\n",
    "        self.URL = None\n",
    "        self.PROCOTOL = None\n",
    "        self.USER_AGENT = None\n",
    "        self.STATUS_CODE = None\n",
    "        self.SIZE = None\n",
    "        \n",
    "    def fit(self,log_dir):\n",
    "        info_list =[]\n",
    "        with open(log_dir) as log_file:\n",
    "            for line in log_file.readlines():\n",
    "                ip = getIP(line)\n",
    "                time,timezone =getTime(line)\n",
    "                method,url,procotol,referer,user_agent= getRequestInfo(line)\n",
    "                status_code,size = getStatus(line)\n",
    "                info = [ip,time,timezone,method,url,procotol,user_agent,status_code,size]\n",
    "                info_list.append(info)\n",
    "        # info_list[0:10]\n",
    "        info_df = pd.DataFrame(info_list,\n",
    "                               columns=['IP','TIME','TIMEZONE','METHOD','URL','PROCOTOL','USER_AGENT','STATUS_CODE','SIZE'])\n",
    "        self.log_info = info_df\n",
    "        self.log_info = info_df\n",
    "        self.IP = info_df.IP\n",
    "        self.TIME = info_df.TIME\n",
    "        self.TIMEZONE = info_df.TIMEZONE\n",
    "        self.METHOD =info_df.METHOD\n",
    "        self.URL = info_df.URL\n",
    "        self.PROCOTOL = info_df.PROCOTOL\n",
    "        self.USER_AGENT = info_df.USER_AGENT\n",
    "        self.STATUS_CODE = info_df.STATUS_CODE\n",
    "        self.SIZE = info_df.SIZE\n",
    "\n",
    "\n",
    "\n",
    "    #define the methods of the class\n",
    "    def show_info(self):\n",
    "        return self.log_info.info()\n",
    "    def get_logInfo(self):\n",
    "        return self.log_info\n",
    "    def get_ip(self):\n",
    "        return self.IP\n",
    "    def get_time(self):\n",
    "        return self.TIME\n",
    "    def get_timezone(self):\n",
    "        return self.TIMEZONE\n",
    "    def get_method(self):\n",
    "        return self.METHOD\n",
    "    def get_url(self):\n",
    "        return self.URL\n",
    "    def get_protocol(self):\n",
    "        return self.PROCOTOL\n",
    "    def get_userAgent(self):\n",
    "        return self.USER_AGENT\n",
    "    def get_statusCode(self):\n",
    "        return self.STATUS_CODE\n",
    "    def get_size(self):\n",
    "        return self.SIZE"
   ]
  },
  {
   "cell_type": "code",
   "execution_count": 10,
   "metadata": {},
   "outputs": [],
   "source": [
    "# create a instance from the class\n",
    "log = visitor()\n",
    "#fit on the dir\n",
    "log.fit(log_dir)"
   ]
  },
  {
   "cell_type": "code",
   "execution_count": 11,
   "metadata": {},
   "outputs": [
    {
     "data": {
      "text/html": [
       "<div>\n",
       "<style scoped>\n",
       "    .dataframe tbody tr th:only-of-type {\n",
       "        vertical-align: middle;\n",
       "    }\n",
       "\n",
       "    .dataframe tbody tr th {\n",
       "        vertical-align: top;\n",
       "    }\n",
       "\n",
       "    .dataframe thead th {\n",
       "        text-align: right;\n",
       "    }\n",
       "</style>\n",
       "<table border=\"1\" class=\"dataframe\">\n",
       "  <thead>\n",
       "    <tr style=\"text-align: right;\">\n",
       "      <th></th>\n",
       "      <th>IP</th>\n",
       "      <th>TIME</th>\n",
       "      <th>TIMEZONE</th>\n",
       "      <th>METHOD</th>\n",
       "      <th>URL</th>\n",
       "      <th>PROCOTOL</th>\n",
       "      <th>USER_AGENT</th>\n",
       "      <th>STATUS_CODE</th>\n",
       "      <th>SIZE</th>\n",
       "    </tr>\n",
       "  </thead>\n",
       "  <tbody>\n",
       "    <tr>\n",
       "      <th>0</th>\n",
       "      <td>194.237.142.21</td>\n",
       "      <td>2013/09/18 06:49:18</td>\n",
       "      <td>+0000</td>\n",
       "      <td>GET</td>\n",
       "      <td>/wp-content/uploads/2013/07/rstudio-git3.png</td>\n",
       "      <td>HTTP/1.1</td>\n",
       "      <td>Mozilla/4.0 (compatible;)</td>\n",
       "      <td>304</td>\n",
       "      <td>0</td>\n",
       "    </tr>\n",
       "    <tr>\n",
       "      <th>1</th>\n",
       "      <td>183.49.46.228</td>\n",
       "      <td>2013/09/18 06:49:23</td>\n",
       "      <td>+0000</td>\n",
       "      <td>None</td>\n",
       "      <td>None</td>\n",
       "      <td>None</td>\n",
       "      <td>-</td>\n",
       "      <td>400</td>\n",
       "      <td>0</td>\n",
       "    </tr>\n",
       "    <tr>\n",
       "      <th>2</th>\n",
       "      <td>163.177.71.12</td>\n",
       "      <td>2013/09/18 06:49:33</td>\n",
       "      <td>+0000</td>\n",
       "      <td>HEAD</td>\n",
       "      <td>/</td>\n",
       "      <td>HTTP/1.1</td>\n",
       "      <td>DNSPod-Monitor/1.0</td>\n",
       "      <td>200</td>\n",
       "      <td>20</td>\n",
       "    </tr>\n",
       "    <tr>\n",
       "      <th>3</th>\n",
       "      <td>163.177.71.12</td>\n",
       "      <td>2013/09/18 06:49:36</td>\n",
       "      <td>+0000</td>\n",
       "      <td>HEAD</td>\n",
       "      <td>/</td>\n",
       "      <td>HTTP/1.1</td>\n",
       "      <td>DNSPod-Monitor/1.0</td>\n",
       "      <td>200</td>\n",
       "      <td>20</td>\n",
       "    </tr>\n",
       "    <tr>\n",
       "      <th>4</th>\n",
       "      <td>101.226.68.137</td>\n",
       "      <td>2013/09/18 06:49:42</td>\n",
       "      <td>+0000</td>\n",
       "      <td>HEAD</td>\n",
       "      <td>/</td>\n",
       "      <td>HTTP/1.1</td>\n",
       "      <td>DNSPod-Monitor/1.0</td>\n",
       "      <td>200</td>\n",
       "      <td>20</td>\n",
       "    </tr>\n",
       "  </tbody>\n",
       "</table>\n",
       "</div>"
      ],
      "text/plain": [
       "               IP                 TIME TIMEZONE METHOD  \\\n",
       "0  194.237.142.21  2013/09/18 06:49:18    +0000    GET   \n",
       "1   183.49.46.228  2013/09/18 06:49:23    +0000   None   \n",
       "2   163.177.71.12  2013/09/18 06:49:33    +0000   HEAD   \n",
       "3   163.177.71.12  2013/09/18 06:49:36    +0000   HEAD   \n",
       "4  101.226.68.137  2013/09/18 06:49:42    +0000   HEAD   \n",
       "\n",
       "                                            URL  PROCOTOL  \\\n",
       "0  /wp-content/uploads/2013/07/rstudio-git3.png  HTTP/1.1   \n",
       "1                                          None      None   \n",
       "2                                             /  HTTP/1.1   \n",
       "3                                             /  HTTP/1.1   \n",
       "4                                             /  HTTP/1.1   \n",
       "\n",
       "                  USER_AGENT STATUS_CODE SIZE  \n",
       "0  Mozilla/4.0 (compatible;)         304    0  \n",
       "1                          -         400    0  \n",
       "2         DNSPod-Monitor/1.0         200   20  \n",
       "3         DNSPod-Monitor/1.0         200   20  \n",
       "4         DNSPod-Monitor/1.0         200   20  "
      ]
     },
     "execution_count": 11,
     "metadata": {},
     "output_type": "execute_result"
    }
   ],
   "source": [
    "log.log_info.head()"
   ]
  },
  {
   "cell_type": "code",
   "execution_count": 12,
   "metadata": {},
   "outputs": [
    {
     "name": "stdout",
     "output_type": "stream",
     "text": [
      "<class 'pandas.core.frame.DataFrame'>\n",
      "RangeIndex: 14619 entries, 0 to 14618\n",
      "Data columns (total 9 columns):\n",
      "IP             14619 non-null object\n",
      "TIME           14619 non-null object\n",
      "TIMEZONE       14619 non-null object\n",
      "METHOD         13770 non-null object\n",
      "URL            13770 non-null object\n",
      "PROCOTOL       13770 non-null object\n",
      "USER_AGENT     14619 non-null object\n",
      "STATUS_CODE    14619 non-null object\n",
      "SIZE           14619 non-null object\n",
      "dtypes: object(9)\n",
      "memory usage: 1.0+ MB\n"
     ]
    }
   ],
   "source": [
    "log.show_info()"
   ]
  },
  {
   "cell_type": "code",
   "execution_count": 13,
   "metadata": {},
   "outputs": [
    {
     "data": {
      "text/plain": [
       "0     194.237.142.21\n",
       "1      183.49.46.228\n",
       "2      163.177.71.12\n",
       "3      163.177.71.12\n",
       "4     101.226.68.137\n",
       "5     101.226.68.137\n",
       "6       60.208.6.156\n",
       "7     222.68.172.190\n",
       "8     222.68.172.190\n",
       "9    183.195.232.138\n",
       "Name: IP, dtype: object"
      ]
     },
     "execution_count": 13,
     "metadata": {},
     "output_type": "execute_result"
    }
   ],
   "source": [
    "log.get_ip()[0:10]"
   ]
  },
  {
   "cell_type": "markdown",
   "metadata": {},
   "source": [
    "# 统计分析 "
   ]
  },
  {
   "cell_type": "markdown",
   "metadata": {},
   "source": [
    "### Step 1： IP地址统计分析"
   ]
  },
  {
   "cell_type": "code",
   "execution_count": 14,
   "metadata": {},
   "outputs": [
    {
     "name": "stdout",
     "output_type": "stream",
     "text": [
      "The lenth of ip is 14619\n",
      "________________________________________________________________________________\n",
      "________________________________________________________________________________\n",
      "________________________________________________________________________________\n",
      "The top 10 most fequent ip are as follows:\n",
      "163.177.71.12      972\n",
      "101.226.68.137     972\n",
      "183.195.232.138    971\n",
      "111.192.165.229    377\n",
      "114.252.89.91      374\n",
      "66.249.66.84       246\n",
      "222.70.152.149     226\n",
      "220.181.89.174     172\n",
      "111.194.118.58     160\n",
      "60.247.77.253      146\n",
      "Name: IP, dtype: int64\n"
     ]
    }
   ],
   "source": [
    "ip = log.get_ip()\n",
    "print('The lenth of ip is {0}'.format(ip.size))\n",
    "print('_'*80)\n",
    "print('_'*80)\n",
    "print('_'*80)\n",
    "print('The top 10 most fequent ip are as follows:\\n{0}'.format(ip.value_counts()[0:10]))"
   ]
  },
  {
   "cell_type": "code",
   "execution_count": 15,
   "metadata": {},
   "outputs": [
    {
     "data": {
      "text/plain": [
       "<matplotlib.axes._subplots.AxesSubplot at 0x94fec50>"
      ]
     },
     "execution_count": 15,
     "metadata": {},
     "output_type": "execute_result"
    },
    {
     "data": {
      "image/png": "[encoded data removed]",
      "text/plain": [
       "<Figure size 432x288 with 1 Axes>"
      ]
     },
     "metadata": {},
     "output_type": "display_data"
    }
   ],
   "source": [
    "top10_ip = ip.value_counts()[0:10]\n",
    "top10_ip[::-1].plot(kind = 'barh')"
   ]
  },
  {
   "cell_type": "markdown",
   "metadata": {},
   "source": [
    "## Step 3: 根据 STATUS_CODE 字段进行过滤\n",
    "因为 STATUS_CODE >=400 ，表示访问失败，是无效数据，因此需要过滤"
   ]
  },
  {
   "cell_type": "code",
   "execution_count": 16,
   "metadata": {},
   "outputs": [
    {
     "name": "stdout",
     "output_type": "stream",
     "text": [
      "<class 'pandas.core.frame.DataFrame'>\n",
      "RangeIndex: 14619 entries, 0 to 14618\n",
      "Data columns (total 9 columns):\n",
      "IP             14619 non-null object\n",
      "TIME           14619 non-null object\n",
      "TIMEZONE       14619 non-null object\n",
      "METHOD         13770 non-null object\n",
      "URL            13770 non-null object\n",
      "PROCOTOL       13770 non-null object\n",
      "USER_AGENT     14619 non-null object\n",
      "STATUS_CODE    14619 non-null object\n",
      "SIZE           14619 non-null object\n",
      "dtypes: object(9)\n",
      "memory usage: 1.0+ MB\n"
     ]
    }
   ],
   "source": [
    "# 因为 STATUS_CODE >=400 ，表示访问失败，是无效数据，因此需要过滤\n",
    "log_df = log.get_logInfo()\n",
    "log_df.info()"
   ]
  },
  {
   "cell_type": "code",
   "execution_count": 17,
   "metadata": {},
   "outputs": [
    {
     "name": "stdout",
     "output_type": "stream",
     "text": [
      "<class 'pandas.core.frame.DataFrame'>\n",
      "Int64Index: 13535 entries, 0 to 14618\n",
      "Data columns (total 9 columns):\n",
      "IP             13535 non-null object\n",
      "TIME           13535 non-null object\n",
      "TIMEZONE       13535 non-null object\n",
      "METHOD         13535 non-null object\n",
      "URL            13535 non-null object\n",
      "PROCOTOL       13535 non-null object\n",
      "USER_AGENT     13535 non-null object\n",
      "STATUS_CODE    13535 non-null int32\n",
      "SIZE           13535 non-null object\n",
      "dtypes: int32(1), object(8)\n",
      "memory usage: 1004.6+ KB\n"
     ]
    }
   ],
   "source": [
    "log_df.STATUS_CODE = log_df.STATUS_CODE.astype('int')\n",
    "useful_log = log_df[log_df.STATUS_CODE <400]\n",
    "useful_log.info()"
   ]
  },
  {
   "cell_type": "code",
   "execution_count": 18,
   "metadata": {},
   "outputs": [
    {
     "data": {
      "text/html": [
       "<div>\n",
       "<style scoped>\n",
       "    .dataframe tbody tr th:only-of-type {\n",
       "        vertical-align: middle;\n",
       "    }\n",
       "\n",
       "    .dataframe tbody tr th {\n",
       "        vertical-align: top;\n",
       "    }\n",
       "\n",
       "    .dataframe thead th {\n",
       "        text-align: right;\n",
       "    }\n",
       "</style>\n",
       "<table border=\"1\" class=\"dataframe\">\n",
       "  <thead>\n",
       "    <tr style=\"text-align: right;\">\n",
       "      <th></th>\n",
       "      <th>IP</th>\n",
       "      <th>TIME</th>\n",
       "      <th>TIMEZONE</th>\n",
       "      <th>METHOD</th>\n",
       "      <th>URL</th>\n",
       "      <th>PROCOTOL</th>\n",
       "      <th>USER_AGENT</th>\n",
       "      <th>STATUS_CODE</th>\n",
       "      <th>SIZE</th>\n",
       "    </tr>\n",
       "  </thead>\n",
       "  <tbody>\n",
       "    <tr>\n",
       "      <th>0</th>\n",
       "      <td>194.237.142.21</td>\n",
       "      <td>2013/09/18 06:49:18</td>\n",
       "      <td>+0000</td>\n",
       "      <td>GET</td>\n",
       "      <td>/wp-content/uploads/2013/07/rstudio-git3.png</td>\n",
       "      <td>HTTP/1.1</td>\n",
       "      <td>Mozilla/4.0 (compatible;)</td>\n",
       "      <td>304</td>\n",
       "      <td>0</td>\n",
       "    </tr>\n",
       "    <tr>\n",
       "      <th>2</th>\n",
       "      <td>163.177.71.12</td>\n",
       "      <td>2013/09/18 06:49:33</td>\n",
       "      <td>+0000</td>\n",
       "      <td>HEAD</td>\n",
       "      <td>/</td>\n",
       "      <td>HTTP/1.1</td>\n",
       "      <td>DNSPod-Monitor/1.0</td>\n",
       "      <td>200</td>\n",
       "      <td>20</td>\n",
       "    </tr>\n",
       "    <tr>\n",
       "      <th>3</th>\n",
       "      <td>163.177.71.12</td>\n",
       "      <td>2013/09/18 06:49:36</td>\n",
       "      <td>+0000</td>\n",
       "      <td>HEAD</td>\n",
       "      <td>/</td>\n",
       "      <td>HTTP/1.1</td>\n",
       "      <td>DNSPod-Monitor/1.0</td>\n",
       "      <td>200</td>\n",
       "      <td>20</td>\n",
       "    </tr>\n",
       "    <tr>\n",
       "      <th>4</th>\n",
       "      <td>101.226.68.137</td>\n",
       "      <td>2013/09/18 06:49:42</td>\n",
       "      <td>+0000</td>\n",
       "      <td>HEAD</td>\n",
       "      <td>/</td>\n",
       "      <td>HTTP/1.1</td>\n",
       "      <td>DNSPod-Monitor/1.0</td>\n",
       "      <td>200</td>\n",
       "      <td>20</td>\n",
       "    </tr>\n",
       "    <tr>\n",
       "      <th>5</th>\n",
       "      <td>101.226.68.137</td>\n",
       "      <td>2013/09/18 06:49:45</td>\n",
       "      <td>+0000</td>\n",
       "      <td>HEAD</td>\n",
       "      <td>/</td>\n",
       "      <td>HTTP/1.1</td>\n",
       "      <td>DNSPod-Monitor/1.0</td>\n",
       "      <td>200</td>\n",
       "      <td>20</td>\n",
       "    </tr>\n",
       "  </tbody>\n",
       "</table>\n",
       "</div>"
      ],
      "text/plain": [
       "               IP                 TIME TIMEZONE METHOD  \\\n",
       "0  194.237.142.21  2013/09/18 06:49:18    +0000    GET   \n",
       "2   163.177.71.12  2013/09/18 06:49:33    +0000   HEAD   \n",
       "3   163.177.71.12  2013/09/18 06:49:36    +0000   HEAD   \n",
       "4  101.226.68.137  2013/09/18 06:49:42    +0000   HEAD   \n",
       "5  101.226.68.137  2013/09/18 06:49:45    +0000   HEAD   \n",
       "\n",
       "                                            URL  PROCOTOL  \\\n",
       "0  /wp-content/uploads/2013/07/rstudio-git3.png  HTTP/1.1   \n",
       "2                                             /  HTTP/1.1   \n",
       "3                                             /  HTTP/1.1   \n",
       "4                                             /  HTTP/1.1   \n",
       "5                                             /  HTTP/1.1   \n",
       "\n",
       "                  USER_AGENT  STATUS_CODE SIZE  \n",
       "0  Mozilla/4.0 (compatible;)          304    0  \n",
       "2         DNSPod-Monitor/1.0          200   20  \n",
       "3         DNSPod-Monitor/1.0          200   20  \n",
       "4         DNSPod-Monitor/1.0          200   20  \n",
       "5         DNSPod-Monitor/1.0          200   20  "
      ]
     },
     "execution_count": 18,
     "metadata": {},
     "output_type": "execute_result"
    }
   ],
   "source": [
    "useful_log.head()"
   ]
  },
  {
   "cell_type": "markdown",
   "metadata": {},
   "source": [
    "### Step 4：显示有效的IP\n"
   ]
  },
  {
   "cell_type": "code",
   "execution_count": 19,
   "metadata": {
    "scrolled": true
   },
   "outputs": [
    {
     "name": "stdout",
     "output_type": "stream",
     "text": [
      "163.177.71.12      972\n",
      "101.226.68.137     972\n",
      "183.195.232.138    971\n",
      "111.192.165.229    334\n",
      "114.252.89.91      294\n",
      "66.249.66.84       246\n",
      "220.181.89.174     169\n",
      "222.70.152.149     160\n",
      "111.194.118.58     159\n",
      "219.142.118.249    123\n",
      "Name: IP, dtype: int64\n"
     ]
    },
    {
     "data": {
      "text/plain": [
       "<matplotlib.axes._subplots.AxesSubplot at 0x92c8048>"
      ]
     },
     "execution_count": 19,
     "metadata": {},
     "output_type": "execute_result"
    },
    {
     "data": {
      "image/png": "[encoded data removed]",
      "text/plain": [
       "<Figure size 432x288 with 1 Axes>"
      ]
     },
     "metadata": {},
     "output_type": "display_data"
    }
   ],
   "source": [
    "top10_usefulIP = useful_log.IP.value_counts()[0:10]\n",
    "print(top10_usefulIP)\n",
    "top10_usefulIP[::-1].plot(kind='barh')"
   ]
  },
  {
   "cell_type": "markdown",
   "metadata": {},
   "source": [
    "### Step 5： 显示有效的url 访问量"
   ]
  },
  {
   "cell_type": "code",
   "execution_count": 20,
   "metadata": {},
   "outputs": [
    {
     "name": "stdout",
     "output_type": "stream",
     "text": [
      "/wp-includes/js/jquery/jquery-migrate.min.js?ver=1.2.1    361\n",
      "/wp-includes/js/jquery/jquery.js?ver=1.10.2               358\n",
      "/js/baidu.js                                              318\n",
      "/wp-admin/admin-ajax.php                                  308\n",
      "/js/google.js                                             308\n",
      "/wp-content/themes/silesia/js/jquery.cycle.all.min.js     293\n",
      "/wp-content/themes/silesia/functions/js/shortcode.js      290\n",
      "/wp-content/themes/silesia/js/load.js                     290\n",
      "/wp-includes/js/comment-reply.min.js?ver=3.6              285\n",
      "/feed/                                                    263\n",
      "Name: URL, dtype: int64\n"
     ]
    },
    {
     "data": {
      "text/plain": [
       "<matplotlib.axes._subplots.AxesSubplot at 0x939c898>"
      ]
     },
     "execution_count": 20,
     "metadata": {},
     "output_type": "execute_result"
    },
    {
     "data": {
      "image/png": "[encoded data removed]",
      "text/plain": [
       "<Figure size 432x288 with 1 Axes>"
      ]
     },
     "metadata": {},
     "output_type": "display_data"
    }
   ],
   "source": [
    "top10_url = useful_log.URL.value_counts()[1:11]\n",
    "print(top10_url)\n",
    "top10_url[::-1].plot(kind='barh')"
   ]
  },
  {
   "cell_type": "markdown",
   "metadata": {},
   "source": [
    "#### 显示user agent的使用情况"
   ]
  },
  {
   "cell_type": "code",
   "execution_count": 21,
   "metadata": {},
   "outputs": [
    {
     "name": "stdout",
     "output_type": "stream",
     "text": [
      "DNSPod-Monitor/1.0                                                                                                         2915\n",
      "Mozilla/5.0 (Windows NT 6.1; WOW64) AppleWebKit/537.36 (KHTML, like Gecko) Chrome/29.0.1547.66 Safari/537.36                764\n",
      "Mozilla/5.0 (Windows NT 6.1; WOW64) AppleWebKit/537.36 (KHTML, like Gecko) Chrome/28.0.1500.95 Safari/537.36                676\n",
      "Mozilla/5.0 (Windows NT 6.1) AppleWebKit/537.36 (KHTML, like Gecko) Chrome/29.0.1547.66 Safari/537.36                       611\n",
      "Mozilla/4.0                                                                                                                 321\n",
      "Mozilla/5.0 (Windows NT 6.2; WOW64) AppleWebKit/537.36 (KHTML, like Gecko) Chrome/29.0.1547.66 Safari/537.36                287\n",
      "Mozilla/5.0 (Windows NT 6.1; WOW64; rv:23.0) Gecko/20100101 Firefox/23.0                                                    251\n",
      "Mozilla/5.0 (compatible; Googlebot/2.1; +http://www.google.com/bot.html)                                                    232\n",
      "Mozilla/5.0 (Macintosh; Intel Mac OS X 10_8_4) AppleWebKit/537.36 (KHTML, like Gecko) Chrome/29.0.1547.65 Safari/537.36     217\n",
      "Mozilla/5.0 (Windows NT 6.2; WOW64; rv:23.0) Gecko/20100101 Firefox/23.0                                                    216\n",
      "Name: USER_AGENT, dtype: int64\n"
     ]
    },
    {
     "data": {
      "text/plain": [
       "<matplotlib.axes._subplots.AxesSubplot at 0x93eb9e8>"
      ]
     },
     "execution_count": 21,
     "metadata": {},
     "output_type": "execute_result"
    },
    {
     "data": {
      "image/png": "[encoded data removed]",
      "text/plain": [
       "<Figure size 432x288 with 1 Axes>"
      ]
     },
     "metadata": {},
     "output_type": "display_data"
    }
   ],
   "source": [
    "top10_userAgent = useful_log.USER_AGENT.value_counts()[0:10]\n",
    "print(top10_userAgent)\n",
    "top10_userAgent[::-1].plot(kind = 'barh')"
   ]
  },
  {
   "cell_type": "markdown",
   "metadata": {},
   "source": [
    "### Step 6: 时间维度分析"
   ]
  },
  {
   "cell_type": "code",
   "execution_count": 22,
   "metadata": {},
   "outputs": [],
   "source": [
    "from datetime import datetime"
   ]
  },
  {
   "cell_type": "code",
   "execution_count": 23,
   "metadata": {},
   "outputs": [
    {
     "data": {
      "text/html": [
       "<div>\n",
       "<style scoped>\n",
       "    .dataframe tbody tr th:only-of-type {\n",
       "        vertical-align: middle;\n",
       "    }\n",
       "\n",
       "    .dataframe tbody tr th {\n",
       "        vertical-align: top;\n",
       "    }\n",
       "\n",
       "    .dataframe thead th {\n",
       "        text-align: right;\n",
       "    }\n",
       "</style>\n",
       "<table border=\"1\" class=\"dataframe\">\n",
       "  <thead>\n",
       "    <tr style=\"text-align: right;\">\n",
       "      <th></th>\n",
       "      <th>IP</th>\n",
       "      <th>TIME</th>\n",
       "      <th>TIMEZONE</th>\n",
       "      <th>METHOD</th>\n",
       "      <th>URL</th>\n",
       "      <th>PROCOTOL</th>\n",
       "      <th>USER_AGENT</th>\n",
       "      <th>STATUS_CODE</th>\n",
       "      <th>SIZE</th>\n",
       "    </tr>\n",
       "  </thead>\n",
       "  <tbody>\n",
       "    <tr>\n",
       "      <th>0</th>\n",
       "      <td>194.237.142.21</td>\n",
       "      <td>2013/09/18 06:49:18</td>\n",
       "      <td>+0000</td>\n",
       "      <td>GET</td>\n",
       "      <td>/wp-content/uploads/2013/07/rstudio-git3.png</td>\n",
       "      <td>HTTP/1.1</td>\n",
       "      <td>Mozilla/4.0 (compatible;)</td>\n",
       "      <td>304</td>\n",
       "      <td>0</td>\n",
       "    </tr>\n",
       "    <tr>\n",
       "      <th>2</th>\n",
       "      <td>163.177.71.12</td>\n",
       "      <td>2013/09/18 06:49:33</td>\n",
       "      <td>+0000</td>\n",
       "      <td>HEAD</td>\n",
       "      <td>/</td>\n",
       "      <td>HTTP/1.1</td>\n",
       "      <td>DNSPod-Monitor/1.0</td>\n",
       "      <td>200</td>\n",
       "      <td>20</td>\n",
       "    </tr>\n",
       "    <tr>\n",
       "      <th>3</th>\n",
       "      <td>163.177.71.12</td>\n",
       "      <td>2013/09/18 06:49:36</td>\n",
       "      <td>+0000</td>\n",
       "      <td>HEAD</td>\n",
       "      <td>/</td>\n",
       "      <td>HTTP/1.1</td>\n",
       "      <td>DNSPod-Monitor/1.0</td>\n",
       "      <td>200</td>\n",
       "      <td>20</td>\n",
       "    </tr>\n",
       "    <tr>\n",
       "      <th>4</th>\n",
       "      <td>101.226.68.137</td>\n",
       "      <td>2013/09/18 06:49:42</td>\n",
       "      <td>+0000</td>\n",
       "      <td>HEAD</td>\n",
       "      <td>/</td>\n",
       "      <td>HTTP/1.1</td>\n",
       "      <td>DNSPod-Monitor/1.0</td>\n",
       "      <td>200</td>\n",
       "      <td>20</td>\n",
       "    </tr>\n",
       "    <tr>\n",
       "      <th>5</th>\n",
       "      <td>101.226.68.137</td>\n",
       "      <td>2013/09/18 06:49:45</td>\n",
       "      <td>+0000</td>\n",
       "      <td>HEAD</td>\n",
       "      <td>/</td>\n",
       "      <td>HTTP/1.1</td>\n",
       "      <td>DNSPod-Monitor/1.0</td>\n",
       "      <td>200</td>\n",
       "      <td>20</td>\n",
       "    </tr>\n",
       "  </tbody>\n",
       "</table>\n",
       "</div>"
      ],
      "text/plain": [
       "               IP                 TIME TIMEZONE METHOD  \\\n",
       "0  194.237.142.21  2013/09/18 06:49:18    +0000    GET   \n",
       "2   163.177.71.12  2013/09/18 06:49:33    +0000   HEAD   \n",
       "3   163.177.71.12  2013/09/18 06:49:36    +0000   HEAD   \n",
       "4  101.226.68.137  2013/09/18 06:49:42    +0000   HEAD   \n",
       "5  101.226.68.137  2013/09/18 06:49:45    +0000   HEAD   \n",
       "\n",
       "                                            URL  PROCOTOL  \\\n",
       "0  /wp-content/uploads/2013/07/rstudio-git3.png  HTTP/1.1   \n",
       "2                                             /  HTTP/1.1   \n",
       "3                                             /  HTTP/1.1   \n",
       "4                                             /  HTTP/1.1   \n",
       "5                                             /  HTTP/1.1   \n",
       "\n",
       "                  USER_AGENT  STATUS_CODE SIZE  \n",
       "0  Mozilla/4.0 (compatible;)          304    0  \n",
       "2         DNSPod-Monitor/1.0          200   20  \n",
       "3         DNSPod-Monitor/1.0          200   20  \n",
       "4         DNSPod-Monitor/1.0          200   20  \n",
       "5         DNSPod-Monitor/1.0          200   20  "
      ]
     },
     "execution_count": 23,
     "metadata": {},
     "output_type": "execute_result"
    }
   ],
   "source": [
    "useful_log.head()"
   ]
  },
  {
   "cell_type": "code",
   "execution_count": 24,
   "metadata": {},
   "outputs": [],
   "source": [
    "useful_log.index = pd.to_datetime(useful_log.TIME)"
   ]
  },
  {
   "cell_type": "code",
   "execution_count": 25,
   "metadata": {},
   "outputs": [
    {
     "data": {
      "text/plain": [
       "<matplotlib.axes._subplots.AxesSubplot at 0x944f940>"
      ]
     },
     "execution_count": 25,
     "metadata": {},
     "output_type": "execute_result"
    },
    {
     "data": {
      "image/png": "[encoded data removed]",
      "text/plain": [
       "<Figure size 864x576 with 1 Axes>"
      ]
     },
     "metadata": {},
     "output_type": "display_data"
    }
   ],
   "source": [
    "counts_hourly = useful_log['IP'].resample('h',closed ='left',label='right').count()\n",
    "counts_hourly.plot(c ='r',marker = 'o',figsize = (12,8),title = 'The Trend of Log')"
   ]
  }
 ],
 "metadata": {
  "kernelspec": {
   "display_name": "Python 3",
   "language": "python",
   "name": "python3"
  },
  "language_info": {
   "codemirror_mode": {
    "name": "ipython",
    "version": 3
   },
   "file_extension": ".py",
   "mimetype": "text/x-python",
   "name": "python",
   "nbconvert_exporter": "python",
   "pygments_lexer": "ipython3",
   "version": "3.6.4"
  }
 },
 "nbformat": 4,
 "nbformat_minor": 2
}
